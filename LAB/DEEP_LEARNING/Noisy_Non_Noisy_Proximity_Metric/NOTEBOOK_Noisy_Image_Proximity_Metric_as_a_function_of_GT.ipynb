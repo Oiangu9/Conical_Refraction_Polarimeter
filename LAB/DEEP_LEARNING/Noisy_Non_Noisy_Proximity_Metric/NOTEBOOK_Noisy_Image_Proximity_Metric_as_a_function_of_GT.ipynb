{
 "cells": [
  {
   "cell_type": "markdown",
   "metadata": {},
   "source": [
    "# Proximity Metric for Images Belonging to a same phi_{CR} \n",
    "# in their Noisy and Non-Noisy Version\n",
    "---\n",
    "\n",
    "---\n",
    "\n",
    "Perhaps in the future it could be interesting to force this in a strictly $phi_{CR}$ basis (with mixed $R_0$ and $w_0$-s)."
   ]
  },
  {
   "cell_type": "code",
   "execution_count": 1,
   "metadata": {},
   "outputs": [
    {
     "data": {
      "text/html": [
       "\n",
       "        <script>\n",
       "            function code_toggle_13843639099549988494() {\n",
       "                $('div.cell.code_cell.rendered.selected').find('div.input').toggle();\n",
       "            }\n",
       "\n",
       "            \n",
       "        </script>\n",
       "\n",
       "        <a href=\"javascript:code_toggle_13843639099549988494()\">Toggle show/hide</a>\n",
       "    "
      ],
      "text/plain": [
       "<IPython.core.display.HTML object>"
      ]
     },
     "execution_count": 1,
     "metadata": {},
     "output_type": "execute_result"
    }
   ],
   "source": [
    "# This is just a function to allow toggleing code cells that are too long for good\n",
    "from IPython.display import HTML\n",
    "import random\n",
    "\n",
    "def hide_toggle(for_next=False):\n",
    "    this_cell = \"\"\"$('div.cell.code_cell.rendered.selected')\"\"\"\n",
    "    next_cell = this_cell + '.next()'\n",
    "\n",
    "    toggle_text = 'Toggle show/hide'  # text shown on toggle link\n",
    "    target_cell = this_cell  # target cell to control with toggle\n",
    "    js_hide_current = ''  # bit of JS to permanently hide code in current cell (only when toggling next cell)\n",
    "\n",
    "    if for_next:\n",
    "        target_cell = next_cell\n",
    "        toggle_text += ' next cell'\n",
    "        js_hide_current = this_cell + '.find(\"div.input\").hide();'\n",
    "\n",
    "    js_f_name = 'code_toggle_{}'.format(str(random.randint(1,2**64)))\n",
    "\n",
    "    html = \"\"\"\n",
    "        <script>\n",
    "            function {f_name}() {{\n",
    "                {cell_selector}.find('div.input').toggle();\n",
    "            }}\n",
    "\n",
    "            {js_hide_current}\n",
    "        </script>\n",
    "\n",
    "        <a href=\"javascript:{f_name}()\">{toggle_text}</a>\n",
    "    \"\"\".format(\n",
    "        f_name=js_f_name,\n",
    "        cell_selector=target_cell,\n",
    "        js_hide_current=js_hide_current, \n",
    "        toggle_text=toggle_text\n",
    "    )\n",
    "\n",
    "    return HTML(html)\n",
    "\n",
    "hide_toggle()"
   ]
  },
  {
   "cell_type": "code",
   "execution_count": 2,
   "metadata": {},
   "outputs": [
    {
     "name": "stdout",
     "output_type": "stream",
     "text": [
      "cuda:0\n"
     ]
    }
   ],
   "source": [
    "import torch #should be installed by default in any colab notebook\n",
    "import torch.nn as nn\n",
    "import numpy as np\n",
    "import matplotlib.pyplot as plt\n",
    "import matplotlib.pyplot as plt\n",
    "import json\n",
    "import os\n",
    "import pandas as pd\n",
    "import h5py\n",
    "from time import time\n",
    "from datetime import datetime\n",
    "from IPython import display as display_IPython\n",
    "\n",
    "assert torch.cuda.is_available(), \"GPU is not enabled\"\n",
    "\n",
    "# use gpu if available\n",
    "device = torch.device(\"cuda:0\" if torch.cuda.is_available() else \"cpu\")\n",
    "print(device)"
   ]
  },
  {
   "cell_type": "markdown",
   "metadata": {},
   "source": [
    "# Define the functions and routines for the DL\n",
    "### Define the model and its constructor"
   ]
  },
  {
   "cell_type": "code",
   "execution_count": 3,
   "metadata": {},
   "outputs": [],
   "source": [
    "class Proximity_Metric_Based_On_Simple_Encoder(nn.Module):\n",
    "    def __init__(self, X=302, feats_1=15, feats_2=20, feats_3=20, feats_4=20,\n",
    "                 prop1=3, prop2=2, prop3=1, av_pool1_div=4, conv4_feat_size=15, av_pool2_div=10, \n",
    "                 out_fc_1=10, out_fc_2=10,\n",
    "                 dropout_p1=0.2, dropout_p2=0.1\n",
    "                ): \n",
    "        # propj is such that the_ image getting out from stage j is propj/prop_{j-1}-ths of the previous (with j=0 being 5)\n",
    "        # clearly, prop_{j-1}>prop_{j}>...\n",
    "        # 2X+1 will be assumed to be divisible by 5\n",
    "        assert((2*X+1)%5==0)\n",
    "        assert(prop1>prop2)\n",
    "        assert(prop2>prop3)\n",
    "        assert((int((prop3*(2*X+1)/5)/av_pool1_div)-conv4_feat_size)>0)\n",
    "        \n",
    "        \n",
    "        super(Proximity_Metric_Based_On_Simple_Encoder, self).__init__()\n",
    "        # in is [epoch_size, 1, 2X+1, 2X+1]\n",
    "        self.conv1 = nn.Conv2d(in_channels=1, out_channels=feats_1, \n",
    "                               kernel_size = int((2*X+1)/5*(5-prop1)+1), bias=True) \n",
    "        # out conv1 [epoch_size, feats_1, prop1*(2X+1)/5, prop1*(2X+1)/5]\n",
    "        self.conv2 = nn.Conv2d(in_channels=feats_1, out_channels=feats_2, \n",
    "                               kernel_size = int((2*X+1)/5*(prop1-prop2)+1), bias=True) \n",
    "        # out conv1 [epoch_size, feats_2, prop2*(prop1*(2X+1)/5)/prop1, prop2*(prop1*(2X+1)/5)/prop1]\n",
    "        # that is [epoch_size, feats_2, prop2*(2X+1)/5), prop2*(2X+1)/5)]\n",
    "        self.conv3 = nn.Conv2d(in_channels=feats_2, out_channels=feats_3, \n",
    "                               kernel_size = int((2*X+1)/5*(prop2-prop3)+1), bias=True)\n",
    "        # out conv3 is [epoch_size, feats_3, prop3*(2X+1)/5), prop3*(2X+1)/5)]\n",
    "\n",
    "        self.avPool1 = nn.AvgPool2d(kernel_size= int((prop3*(2*X+1)/5)*(1-1/av_pool1_div)) +1, stride=1)\n",
    "        # out avpool1 is [epoch_size, feats_3, prop3*(2X+1)/5)/av_pool1_div, prop3*(2X+1)/5)/av_pool1_div]\n",
    "        \n",
    "        self.conv4 = nn.Conv2d(in_channels=feats_3, out_channels=feats_4, \n",
    "                              kernel_size= int((prop3*(2*X+1)/5)/av_pool1_div+1)-conv4_feat_size+1, bias=True)\n",
    "        # [epoch_size, feats_4, conv4_feat_size, conv4_feat_size]\n",
    "        \n",
    "        self.avPool2 = nn.AvgPool2d(kernel_size= int(conv4_feat_size*(1-1/av_pool2_div)) +1, stride=1)\n",
    "        # out avpool1 is [epoch_size, feats_4, conv4_feat_size/av_pool2_div+1, conv4_feat_size/av_pool2_div+1]\n",
    "        \n",
    "        #self.in_fc = int(feats_4*(conv4_feat_size/av_pool2_div+1)**2)\n",
    "        self.in_fc = feats_4*((((((2*X+1-int((2*X+1)/5*(5-prop1)+1)+1)\n",
    "                                  -int((2*X+1)/5*(prop1-prop2)+1)+1)\n",
    "                                 -int((2*X+1)/5*(prop2-prop3)+1)+1)\n",
    "                                -int((prop3*(2*X+1)/5)*(1-1/av_pool1_div)) -1+1)\n",
    "                               -int((prop3*(2*X+1)/5)/av_pool1_div+1)+conv4_feat_size-1+1)\n",
    "                              -int(conv4_feat_size*(1-1/av_pool2_div)) -1+1)**2\n",
    "        \n",
    "        self.fc1 = nn.Linear(in_features=self.in_fc, out_features=out_fc_1, bias=True)\n",
    "        self.fc2 = nn.Linear(in_features=out_fc_1, out_features=out_fc_2, bias=True)\n",
    "        \n",
    "        self.dropout1 = nn.Dropout(p=dropout_p1, inplace=False)\n",
    "        self.dropout2 = nn.Dropout(p=dropout_p2, inplace=False)\n",
    "        self.relu = torch.nn.functional.leaky_relu\n",
    "\n",
    "        self.batchNorm2 = nn.BatchNorm2d(num_features=feats_2)\n",
    "        self.batchNorm4 = nn.BatchNorm2d(num_features=feats_4)\n",
    "\n",
    "    def forward(self, x): # [batch_size, 2X+1, 2X+1] or [batch_size, 1, 2X+1, 2X+1]\n",
    "        x = x.view(x.shape[0], 1, x.shape[-2], x.shape[-1]).float() # [batch_size, 1, 2X+1, 2X+1]\n",
    "        # Normalize to unity the float image\n",
    "        x = x/x.amax(dim=(2,3), keepdim=True)[0] # [batch_size, 1, 2X+1, 2X+1]\n",
    "        \n",
    "        x = self.relu( self.conv1(x) ) # [batch_size, feats_1, prop1*(2X+1)/5, prop1*(2X+1)/5]\n",
    "        \n",
    "        x = self.batchNorm2( self.relu( self.conv2(self.dropout1(x)) )) # [batch_size, feats_2, prop2*(2X+1)/5, prop2*(2X+1)/5]\n",
    "\n",
    "        \n",
    "        x = self.relu( self.conv3(self.dropout2(x)) ) # [batch_size, feats_3, prop3*(2X+1)/5, prop3*(2X+1)/5]\n",
    "\n",
    "        \n",
    "        x = self.avPool1(x) # [batch_size, feats_3, prop3*(2X+1)/5)/av_pool1_div, prop3*(2X+1)/5)/av_pool1_div]\n",
    "\n",
    "        \n",
    "        x = self.batchNorm4(self.conv4(self.dropout2(x))) # [batch_size, feats_4, conv4_feat_size, conv4_feat_size]\n",
    "\n",
    "        \n",
    "        x = self.relu( self.avPool2(x) ) # [batch_size, feats_4, conv4_feat_size/av_pool2_div, conv4_feat_size/av_pool2_div]\n",
    "\n",
    "        \n",
    "        x = x.view(x.shape[0], self.in_fc) #[batch_size, feats_4*int(conv4_feat_size/av_pool2_div)**2]\n",
    "\n",
    "        \n",
    "        x = self.fc2( self.relu( self.fc1(x) ) ) #[batch_size, out_fc_2]\n",
    "        \n",
    "        return x\n",
    "    \n",
    "    def print_shapes(self, batch_size=10, X=302):\n",
    "        x = torch.ones((batch_size, 1, 2*X+1, 2*X+1)).to(device)\n",
    "        print(f\"Initial shape {x.shape}\")\n",
    "        x = self.relu( self.conv1(x) ) # [batch_size, feats_1, prop1*(2X+1)/5, prop1*(2X+1)/5]\n",
    "        print(f\"Post Conv1+relu shape {x.shape}\")\n",
    "        x = self.batchNorm2( self.relu( self.conv2(self.dropout1(x)) )) # [batch_size, feats_2, prop2*(2X+1)/5, prop2*(2X+1)/5]\n",
    "        print(f\"Post drop1+Conv2+relu+batchnorm shape {x.shape}\")\n",
    "        \n",
    "        x = self.relu( self.conv3(self.dropout2(x)) ) # [batch_size, feats_3, prop3*(2X+1)/5, prop3*(2X+1)/5]\n",
    "        print(f\"Post drop2+Conv3+relu shape {x.shape}\")\n",
    "        \n",
    "        x = self.avPool1(x) # [batch_size, feats_3, prop3*(2X+1)/5)/av_pool1_div, prop3*(2X+1)/5)/av_pool1_div]\n",
    "        print(f\"Post Av Pool1 shape {x.shape}\")\n",
    "        \n",
    "        x = self.batchNorm4(self.conv4(self.dropout2(x))) # [batch_size, feats_4, conv4_feat_size, conv4_feat_size]\n",
    "        print(f\"Post drop2+Conv4+batchnorm shape {x.shape}\")\n",
    "        \n",
    "        x = self.relu( self.avPool2(x) ) # [batch_size, feats_4, conv4_feat_size/av_pool2_div, conv4_feat_size/av_pool2_div]\n",
    "        print(f\"Post Av. Pool2 shape {x.shape}\")\n",
    "        \n",
    "        x = x.view(x.shape[0], self.in_fc) #[batch_size, feats_4*int(conv4_feat_size/av_pool2_div)**2]\n",
    "        print(f\"Post Pre-fc shape {x.shape}\")\n",
    "        \n",
    "        x = self.fc2( self.relu( self.fc1(x) ) ) #[batch_size, out_fc2]\n",
    "        print(f\"Post fc1+relu+fc2 shape {x.shape}\")\n",
    "\n",
    "    def load_my_state_dict(self, state_dict):\n",
    "        own_state = self.state_dict()\n",
    "        for name, param in state_dict.items():\n",
    "            if name not in own_state:\n",
    "                print(f\"Params NOT in own state: {name}\")\n",
    "                continue\n",
    "            if isinstance(param, nn.Parameter):\n",
    "                # backwards compatibility for serialized parameters\n",
    "                param = param.data\n",
    "            print(f\"Params YES in own state: {name} shape on external {param.shape} shape on own {own_state[name].shape}\")\n",
    "            if param.shape==own_state[name].shape:\n",
    "                own_state[name].copy_(param)\n",
    "\n",
    "\n",
    "\n",
    "\n",
    "class Proximity_Metric_Based_On_Corrector(nn.Module):\n",
    "    def __init__(self, S0=2*302+1, S1=2*290+1, S2=2*250+1, S3=2*200+1, S4 = 2*10+1,\n",
    "                 S5 = 2*1+1, S6 =2,\n",
    "                 feats_S1=10, feats_S2=10, feats_S3=20, feats_S4=20, feats_S5 = 20,\n",
    "                 out_fc1=100, out_fc2=10,\n",
    "                 feats_S6 = 25,\n",
    "                 dropout_p=0.1\n",
    "                ): \n",
    "       \n",
    "        super(Proximity_Metric_Based_On_Corrector, self).__init__()\n",
    "        self.Ss = [S0, S1, S2, S3, S4, S5, S6]\n",
    "        self.feats = [1, feats_S1, feats_S2, feats_S3, feats_S4, feats_S5, feats_S6]\n",
    "        self.out_fc1 = out_fc1\n",
    "        self.out_fc2 = out_fc2\n",
    "        # in is [batch_size, 1, S0, S0]\n",
    "        self.conv_S01 = nn.Conv2d(in_channels=1, out_channels=feats_S1, \n",
    "                               kernel_size = S0-S1+1, bias=True) \n",
    "        # out conv_S01 [batch_size, feats_S1, S1, S1]\n",
    "        self.conv_S12 = nn.Conv2d(in_channels=feats_S1, out_channels=feats_S2, \n",
    "                               kernel_size = S1-S2+1, bias=True) \n",
    "        # out conv_S12 [batch_size, feats_S2, S2, S2]\n",
    "        self.conv_S23 = nn.Conv2d(in_channels=feats_S2, out_channels=feats_S3, \n",
    "                               kernel_size = S2-S3+1, bias=True) \n",
    "        # out conv_S23 [batch_size, feats_S3, S3, S3]\n",
    "        \n",
    "        self.conv_S33 = nn.Conv2d(in_channels=feats_S3, out_channels=feats_S3, \n",
    "                               kernel_size = 1, bias=True) \n",
    "        # out conv_S33 [batch_size, feats_S3, S3, S3]\n",
    "        \n",
    "        self.conv_S34 = nn.Conv2d(in_channels=feats_S3, out_channels=feats_S4, \n",
    "                               kernel_size = S3-S4+1, bias=True) \n",
    "        # out conv_S34 [batch_size, feats_S4, S4, S4]\n",
    "        \n",
    "        self.conv_S45 = nn.Conv2d(in_channels=feats_S4, out_channels=feats_S5, \n",
    "                               kernel_size = S4-S5+1, bias=True) \n",
    "        # out conv_S45 [batch_size, feats_S5, S5, S5]\n",
    "        self.conv_S56 = nn.Conv2d(in_channels=feats_S5, out_channels=feats_S6, \n",
    "                               kernel_size = S5-S6+1, bias=True) \n",
    "        # out conv_S56 [batch_size, feats_S6, S6, S6]\n",
    "        \n",
    "        self.in_fc1 = S6*S6*feats_S6\n",
    "        self.fc1 = nn.Linear(in_features=self.in_fc1, out_features=out_fc1, bias=True)\n",
    "        self.fc2 = nn.Linear(in_features=out_fc1, out_features=out_fc2, bias=True)\n",
    "        \n",
    "        self.dropout = nn.Dropout(p=dropout_p, inplace=False)\n",
    "        self.relu = torch.nn.functional.leaky_relu\n",
    "\n",
    "        self.batchNorm1 = nn.BatchNorm2d(num_features=feats_S3)\n",
    "        self.batchNorm2 = nn.BatchNorm1d(num_features=out_fc1)\n",
    "        \n",
    "\n",
    "    def forward(self, x): # [batch_size, 2X+1, 2X+1] or [batch_size, 1, 2X+1, 2X+1]\n",
    "        x = x.view(x.shape[0], 1, x.shape[-2], x.shape[-1]).float() # [batch_size, 1, 2X+1, 2X+1]\n",
    "        # Normalize to unity the float image\n",
    "        x = x/x.amax(dim=(2,3), keepdim=True)[0] # [batch_size, 1, 2X+1, 2X+1]\n",
    "        \n",
    "        # Conv layers\n",
    "        x = self.relu(self.conv_S01(x)) # [batch_size, feats_S1, S1, S1]\n",
    "        x = self.dropout( self.relu(self.conv_S12(x)) ) # [batch_size, feats_S2, S2, S2]\n",
    "        x = self.relu(self.conv_S23(x)) # [batch_size, feats_S3, S3, S3]\n",
    "        x = self.batchNorm1(self.relu(self.conv_S33(x)))\n",
    "        x = self.relu(self.conv_S34(x))\n",
    "        x = self.relu(self.conv_S45(x))\n",
    "        x = self.relu(self.conv_S56(x))\n",
    "        \n",
    "        x = x.view(x.shape[0], self.in_fc1)\n",
    "        x = self.dropout( self.relu(self.batchNorm2(self.fc1(self.dropout(x)))) )\n",
    "        return self.fc2(x)\n",
    "\n",
    "        \n",
    "    def print_shapes(self, batch_size=10):\n",
    "        x = torch.ones((batch_size, 1, self.Ss[0], self.Ss[0])).to(device)\n",
    "        print(f\"Initial shape {x.shape}\")\n",
    "        x = self.relu(self.conv_S01(x)) # [batch_size, feats_S1, S1, S1]\n",
    "        print(f\"Conv01 shape {x.shape} should be [{batch_size},{self.feats[1]},{self.Ss[1]}, {self.Ss[1]}]\")\n",
    "        x = self.dropout( self.relu(self.conv_S12(x)) ) # [batch_size, feats_S2, S2, S2]\n",
    "        print(f\"Conv12 shape {x.shape} should be [{batch_size},{self.feats[2]},{self.Ss[2]}, {self.Ss[2]}]\")\n",
    "        x = self.batchNorm1( self.relu(self.conv_S23(x)) ) # [batch_size, feats_S3, S3, S3]\n",
    "        print(f\"Conv23 shape {x.shape} should be [{batch_size},{self.feats[3]},{self.Ss[3]}, {self.Ss[3]}]\")\n",
    "        x = self.relu(self.conv_S34(x))  # [batch_size, feats_S3, S3, S3]\n",
    "        print(f\"Conv34 shape {x.shape} should be [{batch_size},{self.feats[4]},{self.Ss[4]}, {self.Ss[4]}]\")\n",
    "        x = self.relu(self.conv_S45(x))  # [batch_size, feats_S3, S3, S3]\n",
    "        print(f\"Conv45 shape {x.shape} should be [{batch_size},{self.feats[5]},{self.Ss[5]}, {self.Ss[5]}]\")\n",
    "        x = self.relu(self.conv_S56(x))  # [batch_size, feats_S3, S3, S3]\n",
    "        print(f\"Conv56 shape {x.shape} should be [{batch_size},{self.feats[6]},{self.Ss[6]}, {self.Ss[6]}]\")\n",
    "        x = x.view(x.shape[0], self.in_fc1)\n",
    "        print(f\"Input to fc1 is {x.shape} should be [{batch_size}, {self.in_fc1}]\")\n",
    "        x = self.dropout( self.relu(self.batchNorm2(self.fc1(self.dropout(x)))) )\n",
    "        print(f\"Output of fc1 is {x.shape} should be [{batch_size}, {self.out_fc1}]\")\n",
    "        x= self.fc2(x)\n",
    "        print(f\"Output of fc2 is {x.shape} should be [{batch_size}, {self.out_fc2}]\")\n",
    "    \n",
    "    def load_my_state_dict(self, state_dict):\n",
    "        own_state = self.state_dict()\n",
    "        for name, param in state_dict.items():\n",
    "            if name not in own_state:\n",
    "                print(f\"Params NOT in own state: {name}\")\n",
    "                continue\n",
    "            if isinstance(param, nn.Parameter):\n",
    "                # backwards compatibility for serialized parameters\n",
    "                param = param.data\n",
    "            print(f\"Params YES in own state: {name} shape on external {param.shape} shape on own {own_state[name].shape}\")\n",
    "            if param.shape==own_state[name].shape:\n",
    "                own_state[name].copy_(param)"
   ]
  },
  {
   "cell_type": "code",
   "execution_count": 4,
   "metadata": {},
   "outputs": [
    {
     "data": {
      "text/html": [
       "\n",
       "        <script>\n",
       "            function code_toggle_10768998459708083893() {\n",
       "                $('div.cell.code_cell.rendered.selected').next().find('div.input').toggle();\n",
       "            }\n",
       "\n",
       "            $('div.cell.code_cell.rendered.selected').find(\"div.input\").hide();\n",
       "        </script>\n",
       "\n",
       "        <a href=\"javascript:code_toggle_10768998459708083893()\">Toggle show/hide next cell</a>\n",
       "    "
      ],
      "text/plain": [
       "<IPython.core.display.HTML object>"
      ]
     },
     "execution_count": 4,
     "metadata": {},
     "output_type": "execute_result"
    }
   ],
   "source": [
    "hide_toggle(for_next=True)\n"
   ]
  },
  {
   "cell_type": "code",
   "execution_count": 5,
   "metadata": {},
   "outputs": [],
   "source": [
    "# subroutine to count number of parameters in the model\n",
    "def get_n_params(model):\n",
    "    np=0\n",
    "    for p in list(model.parameters()):\n",
    "        np += p.numel()\n",
    "    return np"
   ]
  },
  {
   "cell_type": "markdown",
   "metadata": {},
   "source": [
    "### The routines to validate and train"
   ]
  },
  {
   "cell_type": "code",
   "execution_count": 6,
   "metadata": {},
   "outputs": [
    {
     "data": {
      "text/html": [
       "\n",
       "        <script>\n",
       "            function code_toggle_3760409679650608044() {\n",
       "                $('div.cell.code_cell.rendered.selected').next().find('div.input').toggle();\n",
       "            }\n",
       "\n",
       "            $('div.cell.code_cell.rendered.selected').find(\"div.input\").hide();\n",
       "        </script>\n",
       "\n",
       "        <a href=\"javascript:code_toggle_3760409679650608044()\">Toggle show/hide next cell</a>\n",
       "    "
      ],
      "text/plain": [
       "<IPython.core.display.HTML object>"
      ]
     },
     "execution_count": 6,
     "metadata": {},
     "output_type": "execute_result"
    }
   ],
   "source": [
    "hide_toggle(for_next=True)\n"
   ]
  },
  {
   "cell_type": "code",
   "execution_count": 7,
   "metadata": {},
   "outputs": [],
   "source": [
    "def train_epoch(epoch, triplet_losses, model, optimizer, dataloader, print_loss_every_batches=20,\n",
    "                optimizer_step_every_batches=1, per_epoch_use_max_batches=None):\n",
    "    if per_epoch_use_max_batches is None:\n",
    "        per_epoch_use_max_batches = len(dataloader)\n",
    "        \n",
    "    total_loss = 0.0\n",
    "\n",
    "    model.train()\n",
    "\n",
    "    optimizer.zero_grad()\n",
    "\n",
    "    for batch_id in range(per_epoch_use_max_batches):  \n",
    "        data = dataloader[batch_id] # [PK, 2X+1, 2X+1] dataloader sends them to device already\n",
    "        embeddings = model(data) # embeddings is [PK, embedding_dim]\n",
    "        loss = torch.sum( triplet_losses.forward(embeddings) )\n",
    "        loss.backward()\n",
    "        \n",
    "        if batch_id % optimizer_step_every_batches==optimizer_step_every_batches-1:\n",
    "            optimizer.step()\n",
    "            optimizer.zero_grad()\n",
    "        # print loss every N batches\n",
    "        if batch_id % print_loss_every_batches == print_loss_every_batches-1:\n",
    "            print('Train Epoch: {} [{}/{} ({:.0f}%)]\\tLoss: {:.6f}'.format(\n",
    "                epoch, (batch_id+1) * len(data), len(data)*per_epoch_use_max_batches,\n",
    "                100*(batch_id+1)*len(data) / (len(data)*per_epoch_use_max_batches), loss.item()))\n",
    "\n",
    "        #if batch_id % per_epoch_use_max_batches == per_epoch_use_max_batches-1:\n",
    "        #    break\n",
    "\n",
    "        total_loss += loss.item()  #.item() is very important here\n",
    "\n",
    "    return total_loss / min(len(dataloader), per_epoch_use_max_batches)\n",
    "\n",
    "\n",
    "def train_epoch_monitor_everything(epoch, triplet_losses, model, optimizer, dataloader,\n",
    "                print_loss_every_batches, optimizer_step_every_batches,\n",
    "                epoch_av_loss, epoch_av_non_zero_loss,\n",
    "                epoch_q_loss, epoch_q_dist_embs, epoch_q_norm_embs,\n",
    "                percentiles,\n",
    "                tolerance_zero_loss = 0, per_epoch_use_max_batches=None):\n",
    "    if per_epoch_use_max_batches is None:\n",
    "        per_epoch_use_max_batches = len(dataloader)\n",
    "    \n",
    "    # initialize batch metrics\n",
    "    epoch_av_loss.append(  0.0  )\n",
    "    epoch_av_non_zero_loss.append( 0.0 )\n",
    "    epoch_q_loss.append(  np.zeros((len(percentiles)))  )\n",
    "    epoch_q_dist_embs.append(  np.zeros((len(percentiles)))  )\n",
    "    epoch_q_norm_embs.append(  np.zeros((len(percentiles)))  )\n",
    "\n",
    "        \n",
    "    model.train()\n",
    "\n",
    "    optimizer.zero_grad()\n",
    "\n",
    "    for batch_id in range(per_epoch_use_max_batches):  \n",
    "        data = dataloader[batch_id] # [PK, 2X+1, 2X+1] dataloader sends them to device already\n",
    "        embeddings = model(data) # embeddings is [PK, embedding_dim]\n",
    "        losses = triplet_losses.forward(embeddings) \n",
    "        loss = torch.sum(losses)\n",
    "        loss.backward()\n",
    "        \n",
    "        epoch_av_loss[-1] += loss.item()/per_epoch_use_max_batches # we divide it here to avoid overflowing it\n",
    "        epoch_q_loss[-1] += torch.quantile(losses, percentiles, dim=0).detach().to('cpu').numpy()\n",
    "        epoch_q_dist_embs[-1] += torch.quantile( triplet_losses.D[triplet_losses.triu_indices[0], \n",
    "                                                               triplet_losses.triu_indices[1]],\n",
    "                                            percentiles, dim=0).detach().to('cpu').numpy()\n",
    "        epoch_q_norm_embs[-1] += torch.quantile(torch.norm(embeddings, dim=1), percentiles, dim=0).detach().to('cpu').numpy()\n",
    "        epoch_av_non_zero_loss[-1] += torch.sum(losses>tolerance_zero_loss).item()/losses.shape[0]\n",
    "        \n",
    "        if batch_id % optimizer_step_every_batches==optimizer_step_every_batches-1:\n",
    "            optimizer.step()\n",
    "            optimizer.zero_grad()\n",
    "        # print loss every N batches\n",
    "        if batch_id % print_loss_every_batches == print_loss_every_batches-1:\n",
    "            print('Train Epoch: {} [{}/{} ({:.0f}%)]\\tLoss: {:.6f}'.format(\n",
    "                epoch, (batch_id+1) * len(data), len(data)*per_epoch_use_max_batches,\n",
    "                100*(batch_id+1)*len(data) / (len(data)*per_epoch_use_max_batches), loss.item()))\n",
    "            \n",
    "        # Detach the matrix we are reusing\n",
    "        #print(triplet_losses.D.grad, triplet_losses.D.requires_grad)\n",
    "\n",
    "\n",
    "    # make them average values among the batches\n",
    "    epoch_q_loss[-1] /= per_epoch_use_max_batches\n",
    "    epoch_q_dist_embs[-1] /= per_epoch_use_max_batches\n",
    "    epoch_q_norm_embs[-1] /= per_epoch_use_max_batches\n",
    "    epoch_av_non_zero_loss[-1] /= per_epoch_use_max_batches"
   ]
  },
  {
   "cell_type": "markdown",
   "metadata": {},
   "source": [
    "### The full training loop"
   ]
  },
  {
   "cell_type": "code",
   "execution_count": 8,
   "metadata": {},
   "outputs": [
    {
     "data": {
      "text/html": [
       "\n",
       "        <script>\n",
       "            function code_toggle_11813696299599479750() {\n",
       "                $('div.cell.code_cell.rendered.selected').next().find('div.input').toggle();\n",
       "            }\n",
       "\n",
       "            $('div.cell.code_cell.rendered.selected').find(\"div.input\").hide();\n",
       "        </script>\n",
       "\n",
       "        <a href=\"javascript:code_toggle_11813696299599479750()\">Toggle show/hide next cell</a>\n",
       "    "
      ],
      "text/plain": [
       "<IPython.core.display.HTML object>"
      ]
     },
     "execution_count": 8,
     "metadata": {},
     "output_type": "execute_result"
    }
   ],
   "source": [
    "hide_toggle(for_next=True)\n"
   ]
  },
  {
   "cell_type": "code",
   "execution_count": 9,
   "metadata": {},
   "outputs": [],
   "source": [
    "def full_training_loop(model, criterion, optimizer, train_loader, epochs=10,\n",
    "                       print_loss_every_batches=20, optimizer_step_every_batches=1,\n",
    "                      per_epoch_use_max_train_batches=None,\n",
    "                      image_path=None, save_model_every_epochs=1, model_path=None, best_model_path=None):\n",
    "    losses = {\"train\": []}\n",
    "    %matplotlib inline\n",
    "    for epoch in range(epochs):\n",
    "\n",
    "        train_loss = train_epoch(epoch, criterion, model, optimizer, train_loader,\n",
    "                                 print_loss_every_batches=print_loss_every_batches,\n",
    "                                optimizer_step_every_batches=optimizer_step_every_batches,\n",
    "                                per_epoch_use_max_batches=per_epoch_use_max_train_batches)\n",
    "        \n",
    "        if epoch and train_loss<=min(losses[\"train\"]) and best_model_path:\n",
    "            torch.save({\n",
    "            'model': model.state_dict(),\n",
    "            'optimizer': optimizer.state_dict(),\n",
    "            }, best_model_path)\n",
    "        \n",
    "        losses[\"train\"].append(train_loss)\n",
    "        plt.plot(losses[\"train\"], label=\"training loss\")\n",
    "        #plt.yscale('log')\n",
    "        plt.legend()\n",
    "        if image_path is not None:\n",
    "            plt.savefig(image_path)\n",
    "            plt.clf()\n",
    "        else:\n",
    "            display_IPython.clear_output(wait=True)\n",
    "            plt.pause(0.001)\n",
    "            plt.show()\n",
    "        if epoch % save_model_every_epochs==save_model_every_epochs-1 and model_path:\n",
    "            torch.save({\n",
    "            'model': model.state_dict(),\n",
    "            'optimizer': optimizer.state_dict(),\n",
    "            }, model_path)\n",
    "\n",
    "    return losses\n",
    "\n",
    "\n",
    "from cycler import cycler\n",
    "def full_training_loop_monitor_everything(model, criterion, optimizer, train_loader, epochs=10,\n",
    "                       print_loss_every_batches=20, plot_metrics_every_epochs=1, optimizer_step_every_batches=1,\n",
    "                      per_epoch_use_max_train_batches=None,\n",
    "                      image_path=None, save_model_every_epochs=1, model_path=None, best_model_path=None,\n",
    "                                         percentiles=[0.1, 0.5, 0.9]):\n",
    "\n",
    "    # prepare the metric monitorers\n",
    "    epoch_av_loss=[]\n",
    "    epoch_av_non_zero_loss=[]\n",
    "    epoch_q_loss=[]\n",
    "    epoch_q_dist_embs=[]\n",
    "    epoch_q_norm_embs=[]\n",
    "    min_loss = float('inf')\n",
    "    \n",
    "    # prepare the metric plot figure\n",
    "    %matplotlib inline\n",
    "    fig, ax_array = plt.subplots(2, 2, figsize=(10,10))\n",
    "    for i in range(2):\n",
    "        for j in range(2):\n",
    "            ax_array[i,j].set_xlabel(\"Epoch\")\n",
    "    ax_array[0,0].set_title(\"Triplet Loss Percentiles averaged\\n over batches in epoch\")\n",
    "    ax_array[0,0].set_ylabel(\"Loss\")\n",
    "    ax_array[0,1].set_title(\"Average non-zero loss in Batch (over epoch)\")\n",
    "    ax_array[0,1].set_ylabel(\"Ratio of non-zero losses\")\n",
    "    ax_array[1,0].set_title(\"Distance Between Embedding Percentiles\\n averaged over batches in epoch\")\n",
    "    ax_array[1,0].set_ylabel(\"Distance\")\n",
    "    ax_array[1,1].set_title(\"Magnitude of Embeddings Percentiles\\n averaged over batches in epoch\")\n",
    "    ax_array[1,1].set_title(\"Norm\")\n",
    "    artists=[]\n",
    "    ps = np.array(percentiles.to('cpu'))\n",
    "    met_epochs=np.arange( 0, epoch, 1)\n",
    "    fig.subplots_adjust(hspace=0.6)\n",
    "\n",
    "    for epoch in range(epochs):\n",
    "\n",
    "        train_epoch_monitor_everything(epoch, criterion, model, optimizer, train_loader,\n",
    "                                print_loss_every_batches=print_loss_every_batches,\n",
    "                                optimizer_step_every_batches=optimizer_step_every_batches,\n",
    "                                epoch_av_loss=epoch_av_loss, \n",
    "                                epoch_av_non_zero_loss=epoch_av_non_zero_loss,\n",
    "                                epoch_q_loss=epoch_q_loss,\n",
    "                                epoch_q_dist_embs=epoch_q_dist_embs,\n",
    "                                epoch_q_norm_embs=epoch_q_norm_embs,\n",
    "                                percentiles=percentiles,\n",
    "                                per_epoch_use_max_batches=per_epoch_use_max_train_batches)\n",
    "        \n",
    "        \n",
    "        if epoch and epoch_av_loss[-1] <= min_loss and best_model_path:\n",
    "            min_loss = epoch_av_loss[-1]\n",
    "            torch.save({\n",
    "                'model': model.state_dict(),\n",
    "                'optimizer': optimizer.state_dict(),\n",
    "                }, best_model_path)\n",
    "        \n",
    "        if epoch % plot_metrics_every_epochs==plot_metrics_every_epochs-1:\n",
    "\n",
    "            artists += ax_array[0,0].plot(met_epochs[:epoch+1], np.array(epoch_q_loss), label=ps)\n",
    "            artists += ax_array[0,0].plot(met_epochs[:epoch+1], epoch_av_loss, label=\"Average\", color=\"r\")\n",
    "            artists += ax_array[0,1].plot(met_epochs[:epoch+1], epoch_av_non_zero_loss, label=\"Average\"  )\n",
    "            artists += ax_array[1,0].plot(met_epochs[:epoch+1], np.array(epoch_q_dist_embs), label=ps)\n",
    "            artists += ax_array[1,1].plot(met_epochs[:epoch+1], np.array(epoch_q_norm_embs), label=ps)\n",
    "\n",
    "            for ax in ax_array.flatten():\n",
    "                ax.set_prop_cycle(cycler('color', [\"#1f77b4\", \"#ff7f0e\", \"#2ca02c\"]))\n",
    "                ax.legend()\n",
    "\n",
    "            if image_path is not None:\n",
    "                plt.savefig(image_path)\n",
    "                for artist in artists:\n",
    "                    artist.remove()\n",
    "                artists=[]\n",
    "            else:\n",
    "                display_IPython.clear_output(wait=True)\n",
    "                plt.pause(0.001)\n",
    "                plt.show()\n",
    "                artists=[]\n",
    "                \n",
    "        if epoch % save_model_every_epochs==save_model_every_epochs-1 and model_path:\n",
    "            torch.save({\n",
    "            'model': model.state_dict(),\n",
    "            'optimizer': optimizer.state_dict(),\n",
    "            }, model_path)\n",
    "\n",
    "    return losses\n",
    "\n",
    "def full_training_loop_monitor_partially(model, criterion, optimizer, train_loader, epochs=10,\n",
    "                       print_loss_every_batches=20, compute_metrics_every_epochs=2, plot_metrics_every_epochs=5, \n",
    "                    optimizer_step_every_batches=1,\n",
    "                      per_epoch_use_max_train_batches=None,\n",
    "                      image_path=None, save_model_every_epochs=1, model_path=None, best_model_path=None,\n",
    "                                         percentiles=[0.1, 0.5, 0.9]):\n",
    "    assert plot_metrics_every_epochs>=compute_metrics_every_epochs, \"Do not need to plot so frequently!\"\n",
    "    # prepare the metric monitorers\n",
    "    epoch_av_loss=[]\n",
    "    epoch_av_non_zero_loss=[]\n",
    "    epoch_q_loss=[]\n",
    "    epoch_q_dist_embs=[]\n",
    "    epoch_q_norm_embs=[]\n",
    "    min_loss = float('inf')\n",
    "    ps = np.array(percentiles.to('cpu'))\n",
    "    \n",
    "    # prepare the metric plot figure\n",
    "    %matplotlib inline\n",
    "    fig, ax_array = plt.subplots(2, 2, figsize=(10,10))\n",
    "    for i in range(2):\n",
    "        for j in range(2):\n",
    "            ax_array[i,j].set_xlabel(\"Epoch\")\n",
    "    ax_array[0,0].set_title(\"Triplet Loss Percentiles averaged\\n over batches in epoch\")\n",
    "    ax_array[0,0].set_ylabel(\"Loss\")\n",
    "    ax_array[0,1].set_title(\"Average non-zero loss in Batch (over epoch)\")\n",
    "    ax_array[0,1].set_ylabel(\"Ratio of non-zero losses\")\n",
    "    ax_array[1,0].set_title(\"Distance Between Embedding Percentiles\\n averaged over batches in epoch\")\n",
    "    ax_array[1,0].set_ylabel(\"Distance\")\n",
    "    ax_array[1,1].set_title(\"Magnitude of Embeddings Percentiles\\n averaged over batches in epoch\")\n",
    "    ax_array[1,1].set_title(\"Norm\")\n",
    "    artists=[]\n",
    "    fig.subplots_adjust(hspace=0.6)\n",
    "    met_epochs=np.arange(compute_metrics_every_epochs-1, epochs, compute_metrics_every_epochs)\n",
    "\n",
    "    \n",
    "    for epoch in range(epochs):\n",
    "        if epoch % compute_metrics_every_epochs==compute_metrics_every_epochs-1:\n",
    "            \n",
    "            train_epoch_monitor_everything(epoch, criterion, model, optimizer, train_loader,\n",
    "                                print_loss_every_batches=print_loss_every_batches,\n",
    "                                optimizer_step_every_batches=optimizer_step_every_batches,\n",
    "                                epoch_av_loss=epoch_av_loss, \n",
    "                                epoch_av_non_zero_loss=epoch_av_non_zero_loss,\n",
    "                                epoch_q_loss=epoch_q_loss,\n",
    "                                epoch_q_dist_embs=epoch_q_dist_embs,\n",
    "                                epoch_q_norm_embs=epoch_q_norm_embs,\n",
    "                                percentiles=percentiles,\n",
    "                                per_epoch_use_max_batches=per_epoch_use_max_train_batches)\n",
    "           \n",
    "            if epoch % plot_metrics_every_epochs==plot_metrics_every_epochs-1:\n",
    "\n",
    "                artists += ax_array[0,0].plot(met_epochs[:epoch+1], np.array(epoch_q_loss), label=ps)\n",
    "                artists += ax_array[0,0].plot(met_epochs[:epoch+1], epoch_av_loss, label=\"Average\", color=\"r\")\n",
    "                artists += ax_array[0,1].plot(met_epochs[:epoch+1], epoch_av_non_zero_loss, label=\"Average\" )\n",
    "                artists += ax_array[1,0].plot(met_epochs[:epoch+1], np.array(epoch_q_dist_embs), label=ps)\n",
    "                artists += ax_array[1,1].plot(met_epochs[:epoch+1], np.array(epoch_q_norm_embs), label=ps)\n",
    "\n",
    "                for ax in ax_array.flatten():\n",
    "                    ax.set_prop_cycle(cycler('color', [\"#1f77b4\", \"#ff7f0e\", \"#2ca02c\"]))\n",
    "                    ax.legend()\n",
    "\n",
    "                if image_path is not None:\n",
    "                    plt.savefig(image_path)\n",
    "                    for artist in artists:\n",
    "                        artist.remove()\n",
    "                    artists=[]\n",
    "                else:\n",
    "                    display_IPython.clear_output(wait=True)\n",
    "                    plt.pause(0.001)\n",
    "                    plt.show()\n",
    "                    artists=[]\n",
    "        else:\n",
    "            train_epoch(epoch, criterion, model, optimizer, train_loader, print_loss_every_batches,\n",
    "                optimizer_step_every_batches, per_epoch_use_max_batches)\n",
    "        \n",
    "        \n",
    "        if epoch and epoch_av_loss[-1] <= min_loss and best_model_path:\n",
    "            min_loss = epoch_av_loss[-1]\n",
    "            torch.save({\n",
    "                'model': model.state_dict(),\n",
    "                'optimizer': optimizer.state_dict(),\n",
    "                }, best_model_path)\n",
    "        \n",
    "                \n",
    "        if epoch % save_model_every_epochs==save_model_every_epochs-1 and model_path:\n",
    "            torch.save({\n",
    "            'model': model.state_dict(),\n",
    "            'optimizer': optimizer.state_dict(),\n",
    "            }, model_path)\n",
    "\n",
    "    return epoch_av_loss, epoch_av_non_zero_loss, epoch_q_loss, epoch_q_dist_embs, epoch_q_norm_embs, min_loss"
   ]
  },
  {
   "cell_type": "markdown",
   "metadata": {},
   "source": [
    "### The Dataset class and Data Sampler"
   ]
  },
  {
   "cell_type": "code",
   "execution_count": 10,
   "metadata": {},
   "outputs": [
    {
     "data": {
      "text/html": [
       "\n",
       "        <script>\n",
       "            function code_toggle_3702438991835918744() {\n",
       "                $('div.cell.code_cell.rendered.selected').next().find('div.input').toggle();\n",
       "            }\n",
       "\n",
       "            $('div.cell.code_cell.rendered.selected').find(\"div.input\").hide();\n",
       "        </script>\n",
       "\n",
       "        <a href=\"javascript:code_toggle_3702438991835918744()\">Toggle show/hide next cell</a>\n",
       "    "
      ],
      "text/plain": [
       "<IPython.core.display.HTML object>"
      ]
     },
     "execution_count": 10,
     "metadata": {},
     "output_type": "execute_result"
    }
   ],
   "source": [
    "hide_toggle(for_next=True)"
   ]
  },
  {
   "cell_type": "code",
   "execution_count": 11,
   "metadata": {},
   "outputs": [],
   "source": [
    "from torch.utils.data import Dataset\n",
    "from torchvision.io import read_image\n",
    "from torch.utils.data import DataLoader\n",
    "\n",
    "class ImageDataloader(Dataset):\n",
    "    def __init__(self, GT_file_path, h5f_full_path, P, K, produce_batches_per_epoch):\n",
    "        self.df_GTs = pd.DataFrame.from_dict(json.load(open(GT_file_path))) \n",
    "        # Que te linkee el nombre de la entrada del h5f (un index del batch) con los ground truth phis\n",
    "\n",
    "        self.h5f = h5py.File(f\"{h5f_full_path}\", 'r')\n",
    "        self.num_diff_perfs = len(self.h5f)\n",
    "        shape = self.h5f[ str(self.df_GTs.iloc[0]['ID']) ].shape\n",
    "        self.max_K = shape[0]\n",
    "        self.image_size = shape[1:]\n",
    "        print(f\"There are {self.num_diff_perfs} total different classes (w0,R0,phiCR) triplets.\")\n",
    "        print(f\"For each of them, there are the denoised and {self.max_K-1} noisy versions\")\n",
    "        print(f\"Each image is of shape {self.image_size}\")\n",
    "        print(f\"A total of {self.num_diff_perfs*self.max_K} different images in the dataset, with their GT phiCRs\")\n",
    "        self.K = min(K, self.max_K) # number of versions of each class to employ per batch\n",
    "        self.P = P # number of different \"classes\" to employ per batch\n",
    "        self.PK = self.K*self.P\n",
    "        self.produce_batches_per_epoch = produce_batches_per_epoch\n",
    "        \n",
    "    def __len__(self):\n",
    "        return self.produce_batches_per_epoch\n",
    "\n",
    "    def __getitem__(self, idx):\n",
    "        # sudar olimplicamente del idx y simplemente devolver una combinación que tenga que ser aleatoria\n",
    "        random_indices = np.random.choice(range(self.num_diff_perfs), self.P, replace=False)\n",
    "        data = torch.zeros((self.P, self.K, self.image_size[0], self.image_size[1]), \n",
    "                          device=device, dtype=torch.float32) # [P,K,2X+1,2X+1]\n",
    "        #gt_phiCR = torch.zeros((self.P, 1), device=device, dtype=torch.float32) #[P,1]\n",
    "        for i,ind in enumerate(random_indices):\n",
    "             data[i,:,:,:] = torch.tensor( np.array(self.h5f[str(ind)]), device=device, dtype=torch.float32 ) \n",
    "            #gt_phiCR[i] = self.df_GTs['ID'==str(i)]['phiCR']\n",
    "        return data.reshape((self.PK, self.image_size[0], self.image_size[1])) #, gt_phiCR\n",
    "    # we return the data as [PK, 2X+1, 2X+1] where the first K in axis 0 belong to a same anchor P, next\n",
    "    # K to a different same anchor etc.\n",
    "    # solo devuelve las imagenes ya subidas a la gpu, luego fuera hay que hacer el cómputo de la métrica\n",
    "    # y hacer el pairwise todo!\n",
    "    \n",
    "    def get_im_and_label(self):\n",
    "        random_indices = np.random.choice(range(self.num_diff_perfs), self.P, replace=False)\n",
    "        data = torch.zeros((self.P, self.K, self.image_size[0], self.image_size[1]), \n",
    "                          device=device, dtype=torch.float32) # [P,K,2X+1,2X+1]\n",
    "        gt_phiCR = torch.zeros((self.P, 1), device=device, dtype=torch.float32) #[P,1]\n",
    "        for i,ind in enumerate(random_indices):\n",
    "            data[i,:,:,:] = torch.tensor( np.array(self.h5f[str(ind)]), device=device, dtype=torch.float32 ) \n",
    "            gt_phiCR[i] = float(self.df_GTs[self.df_GTs['ID']==i]['phiCR'].item())\n",
    "        return data.reshape((self.PK, self.image_size[0], self.image_size[1])), gt_phiCR\n"
   ]
  },
  {
   "cell_type": "markdown",
   "metadata": {},
   "source": [
    "## The Triplet Losses"
   ]
  },
  {
   "cell_type": "code",
   "execution_count": 12,
   "metadata": {},
   "outputs": [],
   "source": [
    "class batch_hard_losses_hard_margin():#torch.autograd.Function):\n",
    "    def __init__(self, m, P, K):\n",
    "        #super(batch_hard_losses_hard_margin, self).__init__()\n",
    "        self.margin = m\n",
    "        self.P=P\n",
    "        self.K=K\n",
    "        self.PK=P*K\n",
    "        self.relu = nn.ReLU()\n",
    "        \n",
    "        # we will NOT reuse the table of distances matrix, for the gradient to be computed correctly\n",
    "        #self.D = torch.zeros((self.PK, self.PK), device=device) #[PK, PK]\n",
    "        \n",
    "        # also the indices for upper triangular access\n",
    "        self.triu_indices = torch.triu_indices(row=self.PK, col=self.PK, offset=1) # indices for upper triangular\n",
    "\n",
    "        # Let us now build the indices for negative and positive selection\n",
    "        ones_block=torch.ones((K,K), dtype=torch.bool, device=device)\n",
    "        self.diagonal_KxK_blocks_are_one = torch.kron(torch.eye(P, dtype=torch.bool, device=device), ones_block)\n",
    "        #diagonal_KxK_blocks_are_zero = torch.logical_not(diagonal_KxK_blocks_are_one)\n",
    "\n",
    "    #@staticmethod\n",
    "    def forward(self, embeddings):\n",
    "        # Embeddings are expected to be in the format [PK,embedding_dim]\n",
    "        # where the K first belong to a same P, the next K to a different P etc.\n",
    "        # we can achieve this by reshaping [P,K,embedding_dim] to [PK, embedding_dim]\n",
    "        # We first need to get the [0.5*PK*(PK-1)] relative distances Only strictly necessary distances computed\n",
    "        distances = torch.pdist(embeddings, p=2)\n",
    "        \n",
    "        self.D = torch.zeros((self.PK, self.PK), device=device) #[PK, PK]\n",
    "        # We will build here the relative distances table\n",
    "        self.D[self.triu_indices[0], self.triu_indices[1]] = distances\n",
    "        self.D.T[self.triu_indices[0], self.triu_indices[1]] = distances\n",
    "        # Now D is the relative distances matrix (with zeros in diagonal)\n",
    "\n",
    "        \n",
    "        positives = torch.where(self.diagonal_KxK_blocks_are_one, \n",
    "                                self.D, torch.tensor([0.0], device=device))\n",
    "        negatives = torch.where(self.diagonal_KxK_blocks_are_one, \n",
    "                                torch.tensor([torch.inf], device=device), self.D)\n",
    "\n",
    "        hard_positives = torch.max(positives, axis=0)[0]\n",
    "        hard_negatives = torch.min(negatives, axis=0)[0]\n",
    "\n",
    "        return self.relu(self.margin+hard_positives-hard_negatives) #[PK] losses returned. Overall loss will be the sum\n",
    "\n",
    "    \n",
    "class batch_hard_losses_soft_margin():#torch.autograd.Function):\n",
    "    def __init__(self, P, K):\n",
    "        #super(batch_hard_losses_soft_margin, self).__init__()\n",
    "        self.P=P\n",
    "        self.K=K\n",
    "        self.PK=P*K\n",
    "        self.softplus = nn.Softplus()\n",
    "        \n",
    "        # we will NOT reuse the table of distances matrix for the gradients to be computed correctly\n",
    "        #self.D = torch.zeros((self.PK, self.PK), device=device) #[PK, PK]\n",
    "        \n",
    "        # also the indices for upper triangular access\n",
    "        self.triu_indices = torch.triu_indices(row=self.PK, col=self.PK, offset=1) # indices for upper triangular\n",
    "\n",
    "        # Let us now build the indices for negative and positive selection\n",
    "        ones_block=torch.ones((K,K), dtype=torch.bool, device=device)\n",
    "        self.diagonal_KxK_blocks_are_one = torch.kron(torch.eye(P, dtype=torch.bool, device=device), ones_block)\n",
    "        #diagonal_KxK_blocks_are_zero = torch.logical_not(diagonal_KxK_blocks_are_one)\n",
    "\n",
    "    #@staticmethod\n",
    "    def forward(self, embeddings):\n",
    "        # Embeddings are expected to be in the format [PK,embedding_dim]\n",
    "        # where the K first belong to a same P, the next K to a different P etc.\n",
    "        # we can achieve this by reshaping [P,K,embedding_dim] to [PK, embedding_dim]\n",
    "        # We first need to get the [0.5*PK*(PK-1)] relative distances Only strictly necessary distances computed\n",
    "        distances = torch.pdist(embeddings, p=2)\n",
    "        \n",
    "        # We will build here the relative distances table\n",
    "        self.D = torch.zeros((self.PK, self.PK), device=device) #[PK, PK]\n",
    "\n",
    "        self.D[self.triu_indices[0], self.triu_indices[1]] = distances\n",
    "        self.D.T[self.triu_indices[0], self.triu_indices[1]] = distances\n",
    "        # Now D is the relative distances matrix (with zeros in diagonal)\n",
    "\n",
    "        \n",
    "        positives = torch.where(self.diagonal_KxK_blocks_are_one, \n",
    "                                self.D, torch.tensor([0.0], device=device))\n",
    "        negatives = torch.where(self.diagonal_KxK_blocks_are_one, \n",
    "                                torch.tensor([torch.inf], device=device), self.D)\n",
    "\n",
    "        hard_positives = torch.max(positives, axis=0)[0]\n",
    "        hard_negatives = torch.min(negatives, axis=0)[0]\n",
    "\n",
    "        return self.softplus(hard_positives-hard_negatives) #[PK] losses returned (the overall loss will be the sum)\n"
   ]
  },
  {
   "cell_type": "markdown",
   "metadata": {},
   "source": [
    "---\n",
    "# Initialize the dataset and sampler (choose the number of batches per epoch, and their length) and fix the artificial noise hyperparameters\n",
    "\n",
    "Note that since in each epoch the dataset shown to the model will be random, we can use the same dataset as a validation set."
   ]
  },
  {
   "cell_type": "code",
   "execution_count": 13,
   "metadata": {},
   "outputs": [],
   "source": [
    "dataset_path = \"/home/oiangu/Hippocampus/Conical_Refraction_Polarimeter/OUTPUT/LIBRARIES_OF_THEORETICAL_D/Basler_like_R0_300x_w0_300x_Z_50x_64bit/Noisy_Non_Noisy_same_angle/\"\n",
    "GT_file_path_train = f\"{dataset_path}/TRAIN/GROUND_TRUTHS_K=4_Noisy_Non_Noisy_same_angle.json\"\n",
    "images_h5_path_train = f\"{dataset_path}/TRAIN/Dataset_K=4_Noisy_Non_Noisy_same_angle.h5\" \n",
    "GT_file_path_test = f\"{dataset_path}/TRAIN/GROUND_TRUTHS_K=4_Noisy_Non_Noisy_same_angle.json\"\n",
    "images_h5_path_test = f\"{dataset_path}/TRAIN/Dataset_K=4_Noisy_Non_Noisy_same_angle.h5\" \n",
    "\n",
    "save_stuff_path = f\"/home/oiangu/Hippocampus/Conical_Refraction_Polarimeter/OUTPUT/LIBRARIES_OF_THEORETICAL_D/Basler_like_R0_300x_w0_300x_Z_50x_64bit/SIMULATIONS/Proximity_Metric/\"\n",
    "\n",
    "total_epochs = 10000\n",
    "optimizer_step_every_batches = 1\n",
    "per_epoch_use_max_train_batches= 1\n",
    "save_model_every_epochs = 1\n",
    "torch.manual_seed(678)\n",
    "compute_metrics_every_epochs=1\n",
    "plot_metrics_every_epochs=1\n",
    "\n",
    "percentiles=torch.tensor([0.1,0.5,0.9], device=device)\n",
    "\n",
    "K=4\n",
    "P=3\n",
    "margin=10\n",
    "\n",
    "#exp_name='Proximity_Metric_from_Image_Corrector'+'_Batch_Hard_Margin'\n",
    "exp_name='Proximity_Metric_from_Simple_Encoder'+'_Batch_Hard_Margin'\n",
    "#exp_name='Proximity_Metric_from_Image_Corrector'+'_Batch_Hard_Soft_Margin'\n",
    "#exp_name='Proximity_Metric_from_Simple_Encoder'+'_Batch_Hard_Soft_Margin'\n"
   ]
  },
  {
   "cell_type": "code",
   "execution_count": 14,
   "metadata": {},
   "outputs": [
    {
     "name": "stdout",
     "output_type": "stream",
     "text": [
      "There are 50000 total different classes (w0,R0,phiCR) triplets.\n",
      "For each of them, there are the denoised and 3 noisy versions\n",
      "Each image is of shape (605, 605)\n",
      "A total of 200000 different images in the dataset, with their GT phiCRs\n"
     ]
    }
   ],
   "source": [
    "training_data = ImageDataloader(GT_file_path_train, images_h5_path_train, P, K, per_epoch_use_max_train_batches)"
   ]
  },
  {
   "cell_type": "markdown",
   "metadata": {},
   "source": [
    "# Fix the Hyperparameters and Initialize the Model and the Optimizer"
   ]
  },
  {
   "cell_type": "code",
   "execution_count": 15,
   "metadata": {},
   "outputs": [],
   "source": [
    "# DENOISER BASED METRIC ############\n",
    "X=302\n",
    "S0=2*X+1\n",
    "S1=2*250+1\n",
    "S2=2*200+1\n",
    "S3=2*150+1\n",
    "S4=2*10+1\n",
    "S5=2*1+1\n",
    "S6=2\n",
    "feats_S1=5\n",
    "feats_S2=5\n",
    "feats_S3=10\n",
    "feats_S4=20\n",
    "feats_S5=20\n",
    "feats_S6=25\n",
    "out_fc1=100\n",
    "dropout_p=0.1\n",
    "\n",
    "# SIMPLE ENCODER TO phiCR BASED METRIC ###########\n",
    "X=302\n",
    "feats_1=20\n",
    "feats_2=20\n",
    "feats_3=20\n",
    "feats_4=5\n",
    "prop1=2.5\n",
    "prop2=1.5\n",
    "prop3=0.6\n",
    "av_pool1_div=2\n",
    "conv4_feat_size=8\n",
    "av_pool2_div=10\n",
    "out_fc_1=5\n",
    "dropout_p1=0.2\n",
    "dropout_p2=0.1\n",
    "\n",
    "\n",
    "# FOR BOTH, THE EMBEDDING SPACE DIMENSION WILL BE CHOSEN BY\n",
    "out_fc2=10"
   ]
  },
  {
   "cell_type": "code",
   "execution_count": 16,
   "metadata": {
    "scrolled": false
   },
   "outputs": [
    {
     "name": "stdout",
     "output_type": "stream",
     "text": [
      "Number of parameters 12632460\n",
      "Initial shape torch.Size([3, 1, 605, 605])\n",
      "Post Conv1+relu shape torch.Size([3, 20, 303, 303])\n",
      "Post drop1+Conv2+relu+batchnorm shape torch.Size([3, 20, 182, 182])\n",
      "Post drop2+Conv3+relu shape torch.Size([3, 20, 74, 74])\n",
      "Post Av Pool1 shape torch.Size([3, 20, 38, 38])\n",
      "Post drop2+Conv4+batchnorm shape torch.Size([3, 5, 9, 9])\n",
      "Post Av. Pool2 shape torch.Size([3, 5, 2, 2])\n",
      "Post Pre-fc shape torch.Size([3, 20])\n",
      "Post fc1+relu+fc2 shape torch.Size([3, 10])\n",
      "\n",
      "\n",
      "Params YES in own state: conv1.weight shape on external torch.Size([20, 1, 303, 303]) shape on own torch.Size([20, 1, 303, 303])\n",
      "Params YES in own state: conv1.bias shape on external torch.Size([20]) shape on own torch.Size([20])\n",
      "Params YES in own state: conv2.weight shape on external torch.Size([20, 20, 122, 122]) shape on own torch.Size([20, 20, 122, 122])\n",
      "Params YES in own state: conv2.bias shape on external torch.Size([20]) shape on own torch.Size([20])\n",
      "Params YES in own state: conv3.weight shape on external torch.Size([20, 20, 109, 109]) shape on own torch.Size([20, 20, 109, 109])\n",
      "Params YES in own state: conv3.bias shape on external torch.Size([20]) shape on own torch.Size([20])\n",
      "Params YES in own state: conv4.weight shape on external torch.Size([5, 20, 30, 30]) shape on own torch.Size([5, 20, 30, 30])\n",
      "Params YES in own state: conv4.bias shape on external torch.Size([5]) shape on own torch.Size([5])\n",
      "Params YES in own state: fc1.weight shape on external torch.Size([5, 20]) shape on own torch.Size([5, 20])\n",
      "Params YES in own state: fc1.bias shape on external torch.Size([5]) shape on own torch.Size([5])\n",
      "Params YES in own state: fc2.weight shape on external torch.Size([1, 5]) shape on own torch.Size([10, 5])\n",
      "Params YES in own state: fc2.bias shape on external torch.Size([1]) shape on own torch.Size([10])\n",
      "Params YES in own state: batchNorm2.weight shape on external torch.Size([20]) shape on own torch.Size([20])\n",
      "Params YES in own state: batchNorm2.bias shape on external torch.Size([20]) shape on own torch.Size([20])\n",
      "Params YES in own state: batchNorm2.running_mean shape on external torch.Size([20]) shape on own torch.Size([20])\n",
      "Params YES in own state: batchNorm2.running_var shape on external torch.Size([20]) shape on own torch.Size([20])\n",
      "Params YES in own state: batchNorm2.num_batches_tracked shape on external torch.Size([]) shape on own torch.Size([])\n",
      "Params YES in own state: batchNorm4.weight shape on external torch.Size([5]) shape on own torch.Size([5])\n",
      "Params YES in own state: batchNorm4.bias shape on external torch.Size([5]) shape on own torch.Size([5])\n",
      "Params YES in own state: batchNorm4.running_mean shape on external torch.Size([5]) shape on own torch.Size([5])\n",
      "Params YES in own state: batchNorm4.running_var shape on external torch.Size([5]) shape on own torch.Size([5])\n",
      "Params YES in own state: batchNorm4.num_batches_tracked shape on external torch.Size([]) shape on own torch.Size([])\n"
     ]
    }
   ],
   "source": [
    "'''\n",
    "model = Proximity_Metric_Based_On_Corrector(S0=S0, S1=S1, S2=S2, S3=S3, S4=S4, S5=S5, S6=S6,\n",
    "                 feats_S1=feats_S1, feats_S2=feats_S2, feats_S3=feats_S3, feats_S4=feats_S4,\n",
    "                 feats_S5=feats_S5, feats_S6=feats_S6,\n",
    "                 out_fc1=out_fc1, out_fc2=out_fc2,\n",
    "                 dropout_p=dropout_p ) \n",
    "\n",
    "'''\n",
    "model = Proximity_Metric_Based_On_Simple_Encoder( X=X, feats_1=feats_1, feats_2=feats_2, feats_3=feats_3, feats_4=feats_4,\n",
    "                 prop1=prop1, prop2=prop2, prop3=prop3, av_pool1_div=av_pool1_div, conv4_feat_size=conv4_feat_size, \n",
    "                av_pool2_div=av_pool2_div, \n",
    "                 out_fc_1=out_fc_1, out_fc_2=out_fc2,\n",
    "                 dropout_p1=dropout_p1, dropout_p2=dropout_p2 ) \n",
    "\n",
    "\n",
    "print(f\"Number of parameters {get_n_params(model)}\")\n",
    "\n",
    "# In case we wish to transfer the learned parameters of another run\n",
    "check_file=\"BEST_Noisy_Model_and_Optimizer_2022-03-01 18:08:09.693062_Simple_Encoder.pt\"\n",
    "#checkpoint = torch.load(save_stuff_path+f\"/NNs/{check_file}\")\n",
    "checkpoint = torch.load('/home/oiangu/Hippocampus/Conical_Refraction_Polarimeter/OUTPUT/LIBRARIES_OF_THEORETICAL_D/Basler_like_R0_300x_w0_300x_Z_50x_64bit/SIMULATIONS/Simple_Encoder/'+f\"/NNs/{check_file}\")\n",
    "\n",
    "# move model to gpu if available\n",
    "model.to(device)\n",
    "model.print_shapes(batch_size=3)\n",
    "\n",
    "print(\"\\n\")\n",
    "model.load_my_state_dict(checkpoint['model'])\n",
    "\n",
    "\n",
    "# Initialize the weights of the model! Default initialization might already be fine!\n",
    "\n",
    "# Triplet loss initialization\n",
    "loss = batch_hard_losses_hard_margin(margin, P, K)\n",
    "#loss = batch_hard_losses_soft_margin( P, K)\n",
    "\n",
    "# we will choose as optimizer the \n",
    "#optimizer = torch.optim.Adagrad(model.parameters(), lr=0.1, lr_decay=0.01, weight_decay=0.3,\n",
    "#                                initial_accumulator_value=0, eps=1e-10)\n",
    "\n",
    "optimizer = torch.optim.Adam(model.parameters(), lr=0.001, betas=(0.9, 0.999), eps=1e-08, weight_decay=0, amsgrad=False)\n",
    "#optimizer.load_state_dict(checkpoint['optimizer'])"
   ]
  },
  {
   "cell_type": "markdown",
   "metadata": {},
   "source": [
    "# Run the Training"
   ]
  },
  {
   "cell_type": "code",
   "execution_count": 17,
   "metadata": {
    "scrolled": false
   },
   "outputs": [
    {
     "name": "stdout",
     "output_type": "stream",
     "text": [
      "Train Epoch: 0 [12/12 (100%)]\tLoss: 97.100746\n"
     ]
    },
    {
     "ename": "KeyboardInterrupt",
     "evalue": "",
     "output_type": "error",
     "traceback": [
      "\u001b[0;31m---------------------------------------------------------------------------\u001b[0m",
      "\u001b[0;31mKeyboardInterrupt\u001b[0m                         Traceback (most recent call last)",
      "\u001b[0;32m<timed exec>\u001b[0m in \u001b[0;36m<module>\u001b[0;34m\u001b[0m\n",
      "\u001b[0;32m/tmp/ipykernel_339988/1061482030.py\u001b[0m in \u001b[0;36mfull_training_loop_monitor_partially\u001b[0;34m(model, criterion, optimizer, train_loader, epochs, print_loss_every_batches, compute_metrics_every_epochs, plot_metrics_every_epochs, optimizer_step_every_batches, per_epoch_use_max_train_batches, image_path, save_model_every_epochs, model_path, best_model_path, percentiles)\u001b[0m\n\u001b[1;32m    162\u001b[0m         \u001b[0;32mif\u001b[0m \u001b[0mepoch\u001b[0m \u001b[0;34m%\u001b[0m \u001b[0mcompute_metrics_every_epochs\u001b[0m\u001b[0;34m==\u001b[0m\u001b[0mcompute_metrics_every_epochs\u001b[0m\u001b[0;34m-\u001b[0m\u001b[0;36m1\u001b[0m\u001b[0;34m:\u001b[0m\u001b[0;34m\u001b[0m\u001b[0;34m\u001b[0m\u001b[0m\n\u001b[1;32m    163\u001b[0m \u001b[0;34m\u001b[0m\u001b[0m\n\u001b[0;32m--> 164\u001b[0;31m             train_epoch_monitor_everything(epoch, criterion, model, optimizer, train_loader,\n\u001b[0m\u001b[1;32m    165\u001b[0m                                 \u001b[0mprint_loss_every_batches\u001b[0m\u001b[0;34m=\u001b[0m\u001b[0mprint_loss_every_batches\u001b[0m\u001b[0;34m,\u001b[0m\u001b[0;34m\u001b[0m\u001b[0;34m\u001b[0m\u001b[0m\n\u001b[1;32m    166\u001b[0m                                 \u001b[0moptimizer_step_every_batches\u001b[0m\u001b[0;34m=\u001b[0m\u001b[0moptimizer_step_every_batches\u001b[0m\u001b[0;34m,\u001b[0m\u001b[0;34m\u001b[0m\u001b[0;34m\u001b[0m\u001b[0m\n",
      "\u001b[0;32m/tmp/ipykernel_339988/3962814559.py\u001b[0m in \u001b[0;36mtrain_epoch_monitor_everything\u001b[0;34m(epoch, triplet_losses, model, optimizer, dataloader, print_loss_every_batches, optimizer_step_every_batches, epoch_av_loss, epoch_av_non_zero_loss, epoch_q_loss, epoch_q_dist_embs, epoch_q_norm_embs, percentiles, tolerance_zero_loss, per_epoch_use_max_batches)\u001b[0m\n\u001b[1;32m     61\u001b[0m         \u001b[0mloss\u001b[0m\u001b[0;34m.\u001b[0m\u001b[0mbackward\u001b[0m\u001b[0;34m(\u001b[0m\u001b[0;34m)\u001b[0m\u001b[0;34m\u001b[0m\u001b[0;34m\u001b[0m\u001b[0m\n\u001b[1;32m     62\u001b[0m \u001b[0;34m\u001b[0m\u001b[0m\n\u001b[0;32m---> 63\u001b[0;31m         \u001b[0mepoch_av_loss\u001b[0m\u001b[0;34m[\u001b[0m\u001b[0;34m-\u001b[0m\u001b[0;36m1\u001b[0m\u001b[0;34m]\u001b[0m \u001b[0;34m+=\u001b[0m \u001b[0mloss\u001b[0m\u001b[0;34m.\u001b[0m\u001b[0mitem\u001b[0m\u001b[0;34m(\u001b[0m\u001b[0;34m)\u001b[0m\u001b[0;34m/\u001b[0m\u001b[0mper_epoch_use_max_batches\u001b[0m \u001b[0;31m# we divide it here to avoid overflowing it\u001b[0m\u001b[0;34m\u001b[0m\u001b[0;34m\u001b[0m\u001b[0m\n\u001b[0m\u001b[1;32m     64\u001b[0m         \u001b[0mepoch_q_loss\u001b[0m\u001b[0;34m[\u001b[0m\u001b[0;34m-\u001b[0m\u001b[0;36m1\u001b[0m\u001b[0;34m]\u001b[0m \u001b[0;34m+=\u001b[0m \u001b[0mtorch\u001b[0m\u001b[0;34m.\u001b[0m\u001b[0mquantile\u001b[0m\u001b[0;34m(\u001b[0m\u001b[0mlosses\u001b[0m\u001b[0;34m,\u001b[0m \u001b[0mpercentiles\u001b[0m\u001b[0;34m,\u001b[0m \u001b[0mdim\u001b[0m\u001b[0;34m=\u001b[0m\u001b[0;36m0\u001b[0m\u001b[0;34m)\u001b[0m\u001b[0;34m.\u001b[0m\u001b[0mdetach\u001b[0m\u001b[0;34m(\u001b[0m\u001b[0;34m)\u001b[0m\u001b[0;34m.\u001b[0m\u001b[0mto\u001b[0m\u001b[0;34m(\u001b[0m\u001b[0;34m'cpu'\u001b[0m\u001b[0;34m)\u001b[0m\u001b[0;34m.\u001b[0m\u001b[0mnumpy\u001b[0m\u001b[0;34m(\u001b[0m\u001b[0;34m)\u001b[0m\u001b[0;34m\u001b[0m\u001b[0;34m\u001b[0m\u001b[0m\n\u001b[1;32m     65\u001b[0m         epoch_q_dist_embs[-1] += torch.quantile( triplet_losses.D[triplet_losses.triu_indices[0], \n",
      "\u001b[0;31mKeyboardInterrupt\u001b[0m: "
     ]
    },
    {
     "data": {
      "image/png": "[encoded data removed]",
      "text/plain": [
       "<Figure size 720x720 with 4 Axes>"
      ]
     },
     "metadata": {
      "needs_background": "light"
     },
     "output_type": "display_data"
    }
   ],
   "source": [
    "%%time\n",
    "losses = full_training_loop_monitor_partially(model, loss, optimizer, training_data, \n",
    "                    epochs=total_epochs, print_loss_every_batches=1,\n",
    "                            compute_metrics_every_epochs=compute_metrics_every_epochs,\n",
    "                            plot_metrics_every_epochs=plot_metrics_every_epochs,\n",
    "                           optimizer_step_every_batches=optimizer_step_every_batches,\n",
    "                           per_epoch_use_max_train_batches=per_epoch_use_max_train_batches, \n",
    "                           image_path=save_stuff_path+ f\"/Training_Loss_{datetime.now()}_{exp_name}.png\",\n",
    "                           save_model_every_epochs=save_model_every_epochs, \n",
    "                            model_path=save_stuff_path+f\"/Model_and_Optimizer_{datetime.now()}_{exp_name}.pt\",\n",
    "                            best_model_path=save_stuff_path+f\"/BEST_Model_and_Optimizer_{datetime.now()}_{exp_name}.pt\",\n",
    "                            percentiles=percentiles\n",
    "                           )\n",
    "# Execute the training and validation"
   ]
  },
  {
   "cell_type": "markdown",
   "metadata": {},
   "source": [
    "# Save the resulting model weights"
   ]
  },
  {
   "cell_type": "code",
   "execution_count": 18,
   "metadata": {},
   "outputs": [],
   "source": [
    "torch.save({\n",
    "            'model': model.state_dict(),\n",
    "            'optimizer': optimizer.state_dict(),\n",
    "            }, save_stuff_path+f\"/FINAL_Model_and_Optimizer_{datetime.now()}_{exp_name}.pt\")"
   ]
  },
  {
   "cell_type": "markdown",
   "metadata": {},
   "source": [
    "# Final Validation\n",
    "For the validation of the Embedding, we could check the following ones:\n",
    "    \n",
    "$\\quad$   **(a)** Embedd some random samples and project them to 3D and 2D space using PCA and UMAP, to check the performance visually.\n",
    "   \n",
    "$\\quad$   **(b)** Use it in a simulation fit algorithm as a metric for the image fit.\n",
    "   \n",
    "$\\quad$   **(c)** Use it as a KNN distance metric on a huge library of GT angle images."
   ]
  },
  {
   "cell_type": "markdown",
   "metadata": {},
   "source": [
    "# (a)"
   ]
  },
  {
   "cell_type": "code",
   "execution_count": 19,
   "metadata": {},
   "outputs": [
    {
     "name": "stdout",
     "output_type": "stream",
     "text": [
      "There are 50000 total different classes (w0,R0,phiCR) triplets.\n",
      "For each of them, there are the denoised and 3 noisy versions\n",
      "Each image is of shape (605, 605)\n",
      "A total of 200000 different images in the dataset, with their GT phiCRs\n"
     ]
    }
   ],
   "source": [
    "P_to_embedd = 100\n",
    "K_to_embedd = K\n",
    "\n",
    "test_data = ImageDataloader(GT_file_path_test, images_h5_path_test, 1, K_to_embedd, 1)"
   ]
  },
  {
   "cell_type": "code",
   "execution_count": 20,
   "metadata": {},
   "outputs": [
    {
     "data": {
      "image/png": "[encoded data removed]",
      "text/plain": [
       "<Figure size 432x288 with 12 Axes>"
      ]
     },
     "metadata": {},
     "output_type": "display_data"
    }
   ],
   "source": [
    "images = np.array(training_data[0].to('cpu')) # [KP, 2X+1, 2X+1] uint8 in device\n",
    "\n",
    "fig, ax_array = plt.subplots(P, K)\n",
    "for p in range(P):\n",
    "    ax_array[p][0].set_ylabel(f\"p={p}\")\n",
    "    for k in range(K):\n",
    "        ax_array[p][k].imshow(images[K*p+k])\n",
    "plt.setp(ax_array, xticks=[], yticks=[], frame_on=False)\n",
    "plt.tight_layout(h_pad=0.4, w_pad=0.0001)"
   ]
  },
  {
   "cell_type": "code",
   "execution_count": 39,
   "metadata": {},
   "outputs": [],
   "source": [
    "from sklearn.decomposition import PCA\n",
    "import plotly.express as px\n",
    "from umap import UMAP\n",
    "X21=2*X+1\n",
    "# Get the Embeddings and the Images to plot\n",
    "model.eval()\n",
    "embeddings = np.zeros(( P_to_embedd*K_to_embedd, out_fc2), dtype=np.float32)\n",
    "\n",
    "# x,y are only required for the plotting within the 2D PCA and UMAP\n",
    "x = np.zeros( ( P_to_embedd*K_to_embedd, X21**2), dtype=np.uint8)\n",
    "y = np.zeros(( P_to_embedd*K_to_embedd), dtype=np.float32)\n",
    "\n",
    "\n",
    "for p in range(P_to_embedd):\n",
    "    images, label = test_data.get_im_and_label() # [ K_to_embedd, 2X+1, 2X+1]\n",
    "    embeddings[ K_to_embedd*p:(K_to_embedd*(p+1)), :] = np.array(model(images).detach().to('cpu')) # [ K_to_embedd, embedding_dim]\n",
    "    \n",
    "    x[K_to_embedd*p:(K_to_embedd*(p+1)), :] = np.array(images.to('cpu')).reshape(4, X21**2)\n",
    "    y[K_to_embedd*p:(K_to_embedd*(p+1))] = label.item()\n",
    "\n",
    "df = pd.DataFrame({'y':y})\n",
    "df['phiCR'] = df[\"y\"].astype(str)\n"
   ]
  },
  {
   "cell_type": "code",
   "execution_count": null,
   "metadata": {},
   "outputs": [],
   "source": [
    "# If willing to use an already generated test visualization\n",
    "#df = pd.read_pickle(save_stuff_path+f\"/Test_Visualization_df_TalTal_{exp_name}.pkl\")"
   ]
  },
  {
   "cell_type": "markdown",
   "metadata": {},
   "source": [
    "## PCA to 2D"
   ]
  },
  {
   "cell_type": "code",
   "execution_count": 41,
   "metadata": {},
   "outputs": [],
   "source": [
    "pca = PCA(n_components=2)\n",
    "\n",
    "principalComponents = pca.fit_transform(embeddings)\n",
    "# step optimizable!\n",
    "principalDf = pd.DataFrame(data = principalComponents\n",
    "             , columns = ['principal component 1', 'principal component 2'])\n",
    "df['principal component 1 2D'] = principalDf['principal component 1']\n",
    "df['principal component 2 2D'] = principalDf['principal component 2']"
   ]
  },
  {
   "cell_type": "code",
   "execution_count": 42,
   "metadata": {},
   "outputs": [
    {
     "data": {
      "text/html": [
       "\n",
       "    <div class=\"bk-root\">\n",
       "        <a href=\"https://bokeh.org\" target=\"_blank\" class=\"bk-logo bk-logo-small bk-logo-notebook\"></a>\n",
       "        <span id=\"1191\">Loading BokehJS ...</span>\n",
       "    </div>"
      ]
     },
     "metadata": {},
     "output_type": "display_data"
    },
    {
     "data": {
      "application/javascript": [
       "\n",
       "(function(root) {\n",
       "  function now() {\n",
       "    return new Date();\n",
       "  }\n",
       "\n",
       "  var force = true;\n",
       "\n",
       "  if (typeof root._bokeh_onload_callbacks === \"undefined\" || force === true) {\n",
       "    root._bokeh_onload_callbacks = [];\n",
       "    root._bokeh_is_loading = undefined;\n",
       "  }\n",
       "\n",
       "  var JS_MIME_TYPE = 'application/javascript';\n",
       "  var HTML_MIME_TYPE = 'text/html';\n",
       "  var EXEC_MIME_TYPE = 'application/vnd.bokehjs_exec.v0+json';\n",
       "  var CLASS_NAME = 'output_bokeh rendered_html';\n",
       "\n",
       "  /**\n",
       "   * Render data to the DOM node\n",
       "   */\n",
       "  function render(props, node) {\n",
       "    var script = document.createElement(\"script\");\n",
       "    node.appendChild(script);\n",
       "  }\n",
       "\n",
       "  /**\n",
       "   * Handle when an output is cleared or removed\n",
       "   */\n",
       "  function handleClearOutput(event, handle) {\n",
       "    var cell = handle.cell;\n",
       "\n",
       "    var id = cell.output_area._bokeh_element_id;\n",
       "    var server_id = cell.output_area._bokeh_server_id;\n",
       "    // Clean up Bokeh references\n",
       "    if (id != null && id in Bokeh.index) {\n",
       "      Bokeh.index[id].model.document.clear();\n",
       "      delete Bokeh.index[id];\n",
       "    }\n",
       "\n",
       "    if (server_id !== undefined) {\n",
       "      // Clean up Bokeh references\n",
       "      var cmd = \"from bokeh.io.state import curstate; print(curstate().uuid_to_server['\" + server_id + \"'].get_sessions()[0].document.roots[0]._id)\";\n",
       "      cell.notebook.kernel.execute(cmd, {\n",
       "        iopub: {\n",
       "          output: function(msg) {\n",
       "            var id = msg.content.text.trim();\n",
       "            if (id in Bokeh.index) {\n",
       "              Bokeh.index[id].model.document.clear();\n",
       "              delete Bokeh.index[id];\n",
       "            }\n",
       "          }\n",
       "        }\n",
       "      });\n",
       "      // Destroy server and session\n",
       "      var cmd = \"import bokeh.io.notebook as ion; ion.destroy_server('\" + server_id + \"')\";\n",
       "      cell.notebook.kernel.execute(cmd);\n",
       "    }\n",
       "  }\n",
       "\n",
       "  /**\n",
       "   * Handle when a new output is added\n",
       "   */\n",
       "  function handleAddOutput(event, handle) {\n",
       "    var output_area = handle.output_area;\n",
       "    var output = handle.output;\n",
       "\n",
       "    // limit handleAddOutput to display_data with EXEC_MIME_TYPE content only\n",
       "    if ((output.output_type != \"display_data\") || (!Object.prototype.hasOwnProperty.call(output.data, EXEC_MIME_TYPE))) {\n",
       "      return\n",
       "    }\n",
       "\n",
       "    var toinsert = output_area.element.find(\".\" + CLASS_NAME.split(' ')[0]);\n",
       "\n",
       "    if (output.metadata[EXEC_MIME_TYPE][\"id\"] !== undefined) {\n",
       "      toinsert[toinsert.length - 1].firstChild.textContent = output.data[JS_MIME_TYPE];\n",
       "      // store reference to embed id on output_area\n",
       "      output_area._bokeh_element_id = output.metadata[EXEC_MIME_TYPE][\"id\"];\n",
       "    }\n",
       "    if (output.metadata[EXEC_MIME_TYPE][\"server_id\"] !== undefined) {\n",
       "      var bk_div = document.createElement(\"div\");\n",
       "      bk_div.innerHTML = output.data[HTML_MIME_TYPE];\n",
       "      var script_attrs = bk_div.children[0].attributes;\n",
       "      for (var i = 0; i < script_attrs.length; i++) {\n",
       "        toinsert[toinsert.length - 1].firstChild.setAttribute(script_attrs[i].name, script_attrs[i].value);\n",
       "        toinsert[toinsert.length - 1].firstChild.textContent = bk_div.children[0].textContent\n",
       "      }\n",
       "      // store reference to server id on output_area\n",
       "      output_area._bokeh_server_id = output.metadata[EXEC_MIME_TYPE][\"server_id\"];\n",
       "    }\n",
       "  }\n",
       "\n",
       "  function register_renderer(events, OutputArea) {\n",
       "\n",
       "    function append_mime(data, metadata, element) {\n",
       "      // create a DOM node to render to\n",
       "      var toinsert = this.create_output_subarea(\n",
       "        metadata,\n",
       "        CLASS_NAME,\n",
       "        EXEC_MIME_TYPE\n",
       "      );\n",
       "      this.keyboard_manager.register_events(toinsert);\n",
       "      // Render to node\n",
       "      var props = {data: data, metadata: metadata[EXEC_MIME_TYPE]};\n",
       "      render(props, toinsert[toinsert.length - 1]);\n",
       "      element.append(toinsert);\n",
       "      return toinsert\n",
       "    }\n",
       "\n",
       "    /* Handle when an output is cleared or removed */\n",
       "    events.on('clear_output.CodeCell', handleClearOutput);\n",
       "    events.on('delete.Cell', handleClearOutput);\n",
       "\n",
       "    /* Handle when a new output is added */\n",
       "    events.on('output_added.OutputArea', handleAddOutput);\n",
       "\n",
       "    /**\n",
       "     * Register the mime type and append_mime function with output_area\n",
       "     */\n",
       "    OutputArea.prototype.register_mime_type(EXEC_MIME_TYPE, append_mime, {\n",
       "      /* Is output safe? */\n",
       "      safe: true,\n",
       "      /* Index of renderer in `output_area.display_order` */\n",
       "      index: 0\n",
       "    });\n",
       "  }\n",
       "\n",
       "  // register the mime type if in Jupyter Notebook environment and previously unregistered\n",
       "  if (root.Jupyter !== undefined) {\n",
       "    var events = require('base/js/events');\n",
       "    var OutputArea = require('notebook/js/outputarea').OutputArea;\n",
       "\n",
       "    if (OutputArea.prototype.mime_types().indexOf(EXEC_MIME_TYPE) == -1) {\n",
       "      register_renderer(events, OutputArea);\n",
       "    }\n",
       "  }\n",
       "\n",
       "  \n",
       "  if (typeof (root._bokeh_timeout) === \"undefined\" || force === true) {\n",
       "    root._bokeh_timeout = Date.now() + 5000;\n",
       "    root._bokeh_failed_load = false;\n",
       "  }\n",
       "\n",
       "  var NB_LOAD_WARNING = {'data': {'text/html':\n",
       "     \"<div style='background-color: #fdd'>\\n\"+\n",
       "     \"<p>\\n\"+\n",
       "     \"BokehJS does not appear to have successfully loaded. If loading BokehJS from CDN, this \\n\"+\n",
       "     \"may be due to a slow or bad network connection. Possible fixes:\\n\"+\n",
       "     \"</p>\\n\"+\n",
       "     \"<ul>\\n\"+\n",
       "     \"<li>re-rerun `output_notebook()` to attempt to load from CDN again, or</li>\\n\"+\n",
       "     \"<li>use INLINE resources instead, as so:</li>\\n\"+\n",
       "     \"</ul>\\n\"+\n",
       "     \"<code>\\n\"+\n",
       "     \"from bokeh.resources import INLINE\\n\"+\n",
       "     \"output_notebook(resources=INLINE)\\n\"+\n",
       "     \"</code>\\n\"+\n",
       "     \"</div>\"}};\n",
       "\n",
       "  function display_loaded() {\n",
       "    var el = document.getElementById(\"1191\");\n",
       "    if (el != null) {\n",
       "      el.textContent = \"BokehJS is loading...\";\n",
       "    }\n",
       "    if (root.Bokeh !== undefined) {\n",
       "      if (el != null) {\n",
       "        el.textContent = \"BokehJS \" + root.Bokeh.version + \" successfully loaded.\";\n",
       "      }\n",
       "    } else if (Date.now() < root._bokeh_timeout) {\n",
       "      setTimeout(display_loaded, 100)\n",
       "    }\n",
       "  }\n",
       "\n",
       "\n",
       "  function run_callbacks() {\n",
       "    try {\n",
       "      root._bokeh_onload_callbacks.forEach(function(callback) {\n",
       "        if (callback != null)\n",
       "          callback();\n",
       "      });\n",
       "    } finally {\n",
       "      delete root._bokeh_onload_callbacks\n",
       "    }\n",
       "    console.debug(\"Bokeh: all callbacks have finished\");\n",
       "  }\n",
       "\n",
       "  function load_libs(css_urls, js_urls, callback) {\n",
       "    if (css_urls == null) css_urls = [];\n",
       "    if (js_urls == null) js_urls = [];\n",
       "\n",
       "    root._bokeh_onload_callbacks.push(callback);\n",
       "    if (root._bokeh_is_loading > 0) {\n",
       "      console.debug(\"Bokeh: BokehJS is being loaded, scheduling callback at\", now());\n",
       "      return null;\n",
       "    }\n",
       "    if (js_urls == null || js_urls.length === 0) {\n",
       "      run_callbacks();\n",
       "      return null;\n",
       "    }\n",
       "    console.debug(\"Bokeh: BokehJS not loaded, scheduling load and callback at\", now());\n",
       "    root._bokeh_is_loading = css_urls.length + js_urls.length;\n",
       "\n",
       "    function on_load() {\n",
       "      root._bokeh_is_loading--;\n",
       "      if (root._bokeh_is_loading === 0) {\n",
       "        console.debug(\"Bokeh: all BokehJS libraries/stylesheets loaded\");\n",
       "        run_callbacks()\n",
       "      }\n",
       "    }\n",
       "\n",
       "    function on_error(url) {\n",
       "      console.error(\"failed to load \" + url);\n",
       "    }\n",
       "\n",
       "    for (let i = 0; i < css_urls.length; i++) {\n",
       "      const url = css_urls[i];\n",
       "      const element = document.createElement(\"link\");\n",
       "      element.onload = on_load;\n",
       "      element.onerror = on_error.bind(null, url);\n",
       "      element.rel = \"stylesheet\";\n",
       "      element.type = \"text/css\";\n",
       "      element.href = url;\n",
       "      console.debug(\"Bokeh: injecting link tag for BokehJS stylesheet: \", url);\n",
       "      document.body.appendChild(element);\n",
       "    }\n",
       "\n",
       "    const hashes = {\"https://cdn.bokeh.org/bokeh/release/bokeh-2.3.1.min.js\": \"YF85VygJKMVnHE+lLv2AM93Vbstr0yo2TbIu5v8se5Rq3UQAUmcuh4aaJwNlpKwa\", \"https://cdn.bokeh.org/bokeh/release/bokeh-widgets-2.3.1.min.js\": \"KKuas3gevv3PvrlkyCMzffFeaMq5we/a2QsP5AUoS3mJ0jmaCL7jirFJN3GoE/lM\", \"https://cdn.bokeh.org/bokeh/release/bokeh-tables-2.3.1.min.js\": \"MK/uFc3YT18pkvvXRl66tTHjP0/dxoSH2e/eiNMFIguKlun2+WVqaPTWmUy/zvh4\"};\n",
       "\n",
       "    for (let i = 0; i < js_urls.length; i++) {\n",
       "      const url = js_urls[i];\n",
       "      const element = document.createElement('script');\n",
       "      element.onload = on_load;\n",
       "      element.onerror = on_error.bind(null, url);\n",
       "      element.async = false;\n",
       "      element.src = url;\n",
       "      if (url in hashes) {\n",
       "        element.crossOrigin = \"anonymous\";\n",
       "        element.integrity = \"sha384-\" + hashes[url];\n",
       "      }\n",
       "      console.debug(\"Bokeh: injecting script tag for BokehJS library: \", url);\n",
       "      document.head.appendChild(element);\n",
       "    }\n",
       "  };\n",
       "\n",
       "  function inject_raw_css(css) {\n",
       "    const element = document.createElement(\"style\");\n",
       "    element.appendChild(document.createTextNode(css));\n",
       "    document.body.appendChild(element);\n",
       "  }\n",
       "\n",
       "  \n",
       "  var js_urls = [\"https://cdn.bokeh.org/bokeh/release/bokeh-2.3.1.min.js\", \"https://cdn.bokeh.org/bokeh/release/bokeh-widgets-2.3.1.min.js\", \"https://cdn.bokeh.org/bokeh/release/bokeh-tables-2.3.1.min.js\"];\n",
       "  var css_urls = [];\n",
       "  \n",
       "\n",
       "  var inline_js = [\n",
       "    function(Bokeh) {\n",
       "      Bokeh.set_log_level(\"info\");\n",
       "    },\n",
       "    function(Bokeh) {\n",
       "    \n",
       "    \n",
       "    }\n",
       "  ];\n",
       "\n",
       "  function run_inline_js() {\n",
       "    \n",
       "    if (root.Bokeh !== undefined || force === true) {\n",
       "      \n",
       "    for (var i = 0; i < inline_js.length; i++) {\n",
       "      inline_js[i].call(root, root.Bokeh);\n",
       "    }\n",
       "    if (force === true) {\n",
       "        display_loaded();\n",
       "      }} else if (Date.now() < root._bokeh_timeout) {\n",
       "      setTimeout(run_inline_js, 100);\n",
       "    } else if (!root._bokeh_failed_load) {\n",
       "      console.log(\"Bokeh: BokehJS failed to load within specified timeout.\");\n",
       "      root._bokeh_failed_load = true;\n",
       "    } else if (force !== true) {\n",
       "      var cell = $(document.getElementById(\"1191\")).parents('.cell').data().cell;\n",
       "      cell.output_area.append_execute_result(NB_LOAD_WARNING)\n",
       "    }\n",
       "\n",
       "  }\n",
       "\n",
       "  if (root._bokeh_is_loading === 0) {\n",
       "    console.debug(\"Bokeh: BokehJS loaded, going straight to plotting\");\n",
       "    run_inline_js();\n",
       "  } else {\n",
       "    load_libs(css_urls, js_urls, function() {\n",
       "      console.debug(\"Bokeh: BokehJS plotting callback run at\", now());\n",
       "      run_inline_js();\n",
       "    });\n",
       "  }\n",
       "}(window));"
      ],
      "application/vnd.bokehjs_load.v0+json": "\n(function(root) {\n  function now() {\n    return new Date();\n  }\n\n  var force = true;\n\n  if (typeof root._bokeh_onload_callbacks === \"undefined\" || force === true) {\n    root._bokeh_onload_callbacks = [];\n    root._bokeh_is_loading = undefined;\n  }\n\n  \n\n  \n  if (typeof (root._bokeh_timeout) === \"undefined\" || force === true) {\n    root._bokeh_timeout = Date.now() + 5000;\n    root._bokeh_failed_load = false;\n  }\n\n  var NB_LOAD_WARNING = {'data': {'text/html':\n     \"<div style='background-color: #fdd'>\\n\"+\n     \"<p>\\n\"+\n     \"BokehJS does not appear to have successfully loaded. If loading BokehJS from CDN, this \\n\"+\n     \"may be due to a slow or bad network connection. Possible fixes:\\n\"+\n     \"</p>\\n\"+\n     \"<ul>\\n\"+\n     \"<li>re-rerun `output_notebook()` to attempt to load from CDN again, or</li>\\n\"+\n     \"<li>use INLINE resources instead, as so:</li>\\n\"+\n     \"</ul>\\n\"+\n     \"<code>\\n\"+\n     \"from bokeh.resources import INLINE\\n\"+\n     \"output_notebook(resources=INLINE)\\n\"+\n     \"</code>\\n\"+\n     \"</div>\"}};\n\n  function display_loaded() {\n    var el = document.getElementById(\"1191\");\n    if (el != null) {\n      el.textContent = \"BokehJS is loading...\";\n    }\n    if (root.Bokeh !== undefined) {\n      if (el != null) {\n        el.textContent = \"BokehJS \" + root.Bokeh.version + \" successfully loaded.\";\n      }\n    } else if (Date.now() < root._bokeh_timeout) {\n      setTimeout(display_loaded, 100)\n    }\n  }\n\n\n  function run_callbacks() {\n    try {\n      root._bokeh_onload_callbacks.forEach(function(callback) {\n        if (callback != null)\n          callback();\n      });\n    } finally {\n      delete root._bokeh_onload_callbacks\n    }\n    console.debug(\"Bokeh: all callbacks have finished\");\n  }\n\n  function load_libs(css_urls, js_urls, callback) {\n    if (css_urls == null) css_urls = [];\n    if (js_urls == null) js_urls = [];\n\n    root._bokeh_onload_callbacks.push(callback);\n    if (root._bokeh_is_loading > 0) {\n      console.debug(\"Bokeh: BokehJS is being loaded, scheduling callback at\", now());\n      return null;\n    }\n    if (js_urls == null || js_urls.length === 0) {\n      run_callbacks();\n      return null;\n    }\n    console.debug(\"Bokeh: BokehJS not loaded, scheduling load and callback at\", now());\n    root._bokeh_is_loading = css_urls.length + js_urls.length;\n\n    function on_load() {\n      root._bokeh_is_loading--;\n      if (root._bokeh_is_loading === 0) {\n        console.debug(\"Bokeh: all BokehJS libraries/stylesheets loaded\");\n        run_callbacks()\n      }\n    }\n\n    function on_error(url) {\n      console.error(\"failed to load \" + url);\n    }\n\n    for (let i = 0; i < css_urls.length; i++) {\n      const url = css_urls[i];\n      const element = document.createElement(\"link\");\n      element.onload = on_load;\n      element.onerror = on_error.bind(null, url);\n      element.rel = \"stylesheet\";\n      element.type = \"text/css\";\n      element.href = url;\n      console.debug(\"Bokeh: injecting link tag for BokehJS stylesheet: \", url);\n      document.body.appendChild(element);\n    }\n\n    const hashes = {\"https://cdn.bokeh.org/bokeh/release/bokeh-2.3.1.min.js\": \"YF85VygJKMVnHE+lLv2AM93Vbstr0yo2TbIu5v8se5Rq3UQAUmcuh4aaJwNlpKwa\", \"https://cdn.bokeh.org/bokeh/release/bokeh-widgets-2.3.1.min.js\": \"KKuas3gevv3PvrlkyCMzffFeaMq5we/a2QsP5AUoS3mJ0jmaCL7jirFJN3GoE/lM\", \"https://cdn.bokeh.org/bokeh/release/bokeh-tables-2.3.1.min.js\": \"MK/uFc3YT18pkvvXRl66tTHjP0/dxoSH2e/eiNMFIguKlun2+WVqaPTWmUy/zvh4\"};\n\n    for (let i = 0; i < js_urls.length; i++) {\n      const url = js_urls[i];\n      const element = document.createElement('script');\n      element.onload = on_load;\n      element.onerror = on_error.bind(null, url);\n      element.async = false;\n      element.src = url;\n      if (url in hashes) {\n        element.crossOrigin = \"anonymous\";\n        element.integrity = \"sha384-\" + hashes[url];\n      }\n      console.debug(\"Bokeh: injecting script tag for BokehJS library: \", url);\n      document.head.appendChild(element);\n    }\n  };\n\n  function inject_raw_css(css) {\n    const element = document.createElement(\"style\");\n    element.appendChild(document.createTextNode(css));\n    document.body.appendChild(element);\n  }\n\n  \n  var js_urls = [\"https://cdn.bokeh.org/bokeh/release/bokeh-2.3.1.min.js\", \"https://cdn.bokeh.org/bokeh/release/bokeh-widgets-2.3.1.min.js\", \"https://cdn.bokeh.org/bokeh/release/bokeh-tables-2.3.1.min.js\"];\n  var css_urls = [];\n  \n\n  var inline_js = [\n    function(Bokeh) {\n      Bokeh.set_log_level(\"info\");\n    },\n    function(Bokeh) {\n    \n    \n    }\n  ];\n\n  function run_inline_js() {\n    \n    if (root.Bokeh !== undefined || force === true) {\n      \n    for (var i = 0; i < inline_js.length; i++) {\n      inline_js[i].call(root, root.Bokeh);\n    }\n    if (force === true) {\n        display_loaded();\n      }} else if (Date.now() < root._bokeh_timeout) {\n      setTimeout(run_inline_js, 100);\n    } else if (!root._bokeh_failed_load) {\n      console.log(\"Bokeh: BokehJS failed to load within specified timeout.\");\n      root._bokeh_failed_load = true;\n    } else if (force !== true) {\n      var cell = $(document.getElementById(\"1191\")).parents('.cell').data().cell;\n      cell.output_area.append_execute_result(NB_LOAD_WARNING)\n    }\n\n  }\n\n  if (root._bokeh_is_loading === 0) {\n    console.debug(\"Bokeh: BokehJS loaded, going straight to plotting\");\n    run_inline_js();\n  } else {\n    load_libs(css_urls, js_urls, function() {\n      console.debug(\"Bokeh: BokehJS plotting callback run at\", now());\n      run_inline_js();\n    });\n  }\n}(window));"
     },
     "metadata": {},
     "output_type": "display_data"
    },
    {
     "data": {
      "text/html": [
       "\n",
       "\n",
       "\n",
       "\n",
       "\n",
       "\n",
       "  <div class=\"bk-root\" id=\"4e882935-3a3f-41b3-91d9-a6a522617548\" data-root-id=\"1194\"></div>\n"
      ]
     },
     "metadata": {},
     "output_type": "display_data"
    },
    {
     "data": {
      "application/javascript": [
       "(function(root) {\n",
       "  function embed_document(root) {\n",
       "    \n",
       "  var docs_json = {\"e4a0ccc0-44b0-474d-a2a0-c2168429ba71\":{\"defs\":[],\"roots\":{\"references\":[{\"attributes\":{\"below\":[{\"id\":\"1205\"}],\"center\":[{\"id\":\"1208\"},{\"id\":\"1212\"}],\"height\":800,\"left\":[{\"id\":\"1209\"}],\"renderers\":[{\"id\":\"1225\"}],\"title\":{\"id\":\"1195\"},\"toolbar\":{\"id\":\"1216\"},\"width\":800,\"x_range\":{\"id\":\"1197\"},\"x_scale\":{\"id\":\"1201\"},\"y_range\":{\"id\":\"1199\"},\"y_scale\":{\"id\":\"1203\"}},\"id\":\"1194\",\"subtype\":\"Figure\",\"type\":\"Plot\"},{\"attributes\":{},\"id\":\"1203\",\"type\":\"LinearScale\"},{\"attributes\":{},\"id\":\"1197\",\"type\":\"DataRange1d\"},{\"attributes\":{},\"id\":\"1246\",\"type\":\"AllLabels\"},{\"attributes\":{},\"id\":\"1199\",\"type\":\"DataRange1d\"},{\"attributes\":{\"axis\":{\"id\":\"1209\"},\"dimension\":1,\"ticker\":null},\"id\":\"1212\",\"type\":\"Grid\"},{\"attributes\":{},\"id\":\"1248\",\"type\":\"BasicTickFormatter\"},{\"attributes\":{},\"id\":\"1210\",\"type\":\"BasicTicker\"},{\"attributes\":{},\"id\":\"1201\",\"type\":\"LinearScale\"},{\"attributes\":{},\"id\":\"1213\",\"type\":\"PanTool\"},{\"attributes\":{},\"id\":\"1251\",\"type\":\"BasicTickFormatter\"},{\"attributes\":{},\"id\":\"1249\",\"type\":\"AllLabels\"},{\"attributes\":{},\"id\":\"1206\",\"type\":\"BasicTicker\"},{\"attributes\":{\"axis\":{\"id\":\"1205\"},\"ticker\":null},\"id\":\"1208\",\"type\":\"Grid\"},{\"attributes\":{\"callback\":null,\"tooltips\":\"\\n<div>\\n    <div>\\n        <img src='@image' style='float: left; margin: 5px 5px 5px 5px'/>\\n    </div>\\n    <div>\\n        <span style='font-size: 16px; color: #224499'>phiCR:</span>\\n        <span style='font-size: 18px'>@phiCR</span>\\n    </div>\\n</div>\\n\"},\"id\":\"1220\",\"type\":\"HoverTool\"},{\"attributes\":{},\"id\":\"1214\",\"type\":\"WheelZoomTool\"},{\"attributes\":{\"fill_alpha\":{\"value\":0.6},\"fill_color\":{\"field\":\"phiCR\",\"transform\":{\"id\":\"1193\"}},\"line_alpha\":{\"value\":0.6},\"line_color\":{\"field\":\"phiCR\",\"transform\":{\"id\":\"1193\"}},\"size\":{\"value\":7},\"x\":{\"field\":\"principal component 1 2D\"},\"y\":{\"field\":\"principal component 2 2D\"}},\"id\":\"1223\",\"type\":\"Circle\"},{\"attributes\":{\"text\":\"PCA projection of the CR dataset\"},\"id\":\"1195\",\"type\":\"Title\"},{\"attributes\":{\"active_multi\":null,\"tools\":[{\"id\":\"1213\"},{\"id\":\"1214\"},{\"id\":\"1215\"},{\"id\":\"1220\"}]},\"id\":\"1216\",\"type\":\"Toolbar\"},{\"attributes\":{\"fill_alpha\":{\"value\":0.1},\"fill_color\":{\"field\":\"phiCR\",\"transform\":{\"id\":\"1193\"}},\"line_alpha\":{\"value\":0.1},\"line_color\":{\"field\":\"phiCR\",\"transform\":{\"id\":\"1193\"}},\"size\":{\"value\":7},\"x\":{\"field\":\"principal component 1 2D\"},\"y\":{\"field\":\"principal component 2 2D\"}},\"id\":\"1224\",\"type\":\"Circle\"},{\"attributes\":{},\"id\":\"1253\",\"type\":\"Selection\"},{\"attributes\":{\"formatter\":{\"id\":\"1251\"},\"major_label_policy\":{\"id\":\"1249\"},\"ticker\":{\"id\":\"1206\"}},\"id\":\"1205\",\"type\":\"LinearAxis\"},{\"attributes\":{},\"id\":\"1252\",\"type\":\"UnionRenderers\"},{\"attributes\":{\"data_source\":{\"id\":\"1192\"},\"glyph\":{\"id\":\"1223\"},\"hover_glyph\":null,\"muted_glyph\":null,\"nonselection_glyph\":{\"id\":\"1224\"},\"view\":{\"id\":\"1226\"}},\"id\":\"1225\",\"type\":\"GlyphRenderer\"},{\"attributes\":{\"source\":{\"id\":\"1192\"}},\"id\":\"1226\",\"type\":\"CDSView\"},{\"attributes\":{\"data\":{\"image\":[\"data:image/png;base64,iVBORw0KGgoAAAANSUhEUgAAAEAAAABACAAAAACPAi4CAAAEUUlEQVR4nO2Wy28cRRDGq6p7ZmdnX/EjdmyHGMIrgqBITqIEWcohCCEhRUKCf49LxClSEBFcOIEQQoBRlIAwEolIosQbx899zO48uruKw+7a2NlZL3fXtat+81VP66sCOI7jOA4AABwjBUkRAjAzi/xfAJIuFMNiQaMzSRwnmeODjNEApEJlavbUVDVAzuKosbu924wzNzaACrXTb7z1yoTK4k6SWWeT1uaLjZ2O4fEAurJw/uK5Wnft8dPNVsq6UK6EOt1+vt5I3BgA9CbPLb8/3/h9ZbXeMgwA5IUnZqbDdKu+3XFyFAD9maWPruq73/6yZrzAU8jOmIz92tzJQmt9s2MGMvMA3szVT67s3rnzl61WAyXsWJwzSbLZ2JivTjOLHQ3QU5c+XX5286v12nQINjPWCQCq0E/i9c6piZpxzKMAVH33xrX657fbC9OUdhNjnQggEqlAxS2bnSinNpN8AAZnrl/vfPFldGaSoygxjkUEEJCUogDiF1wOE2fzAWri4oeVm7dbi9NZM0qsYwEBAEDnSClf4i3xg9RJHgCD1669vXJr7fRJ02wllgf1ICDMrDyOmzXtW5sHoNp7V+Kv79VmpdVODIsMAAAgIkI66+pAEQoADQN4p5ZO3//OzPlRlFjeF9CrZ+eAbJyRwhwFWDxzXn58eKKadRLrBPb0AwCCCAASZ1ojwnAFVD67uP5bPKm7sWGRngf0nUAEgJkB2TjIBVQWa/889CsuydzAQvZNQARYBMRagRyAqs7pR1uhn6WO+w0cMBHp6XD5gPKErceBsnbgPoeMTEQApOdNwy6RgtDsWh8sy0u1eyJQhCVHAWptEyE48P8P1YOA5CoAZiB42YAPEvrsYQBOYyqRBUIEzMf0Toa1wN0GTfsJK4VH+/4wgGtt8EI1NtpTdOTgGQpoP+0uziVd7SsEgNEyhrbQfry+8A40IShoQgQ4TEBEgN5Bzh08+bt0aWonLgSeIgQ8ROghMV8BZPX7zaUL6TaWih5hn4B7X+8LyFcAdueP1fkPZjdafinwFFEvuV+KiAhCikYokM6Dn3eXr1E9KZaLniLEfQFEioBRKxgBALPx60rtxlK3noWVUkErIkRCRCIiQmH0PJT8lwggnQffT537LPqTZwJSibHMIP0uxDnwfXQjAeB27tY+vty9tbo2WSp5WWZ7+QjCzmIhoNT1R3wOQNL6T/r6VfXNveflih941jH3/NQ4HRYxMYPxnDcbJX7yQ7Z8oTK38jwKAo8QUdgay1QqFyRO7WDHyH+kFM5fuLzYXb37YDMFQhRhQV0shTrtdPY3jFGvvDD1+vk3K+0nj55tRZkD1H6xGCgTtaNsnA0FAHV55tWzc6FtNRpRYgURXBI12/G4OxIA+aXJmdmJkhKTZWnSjdrtdpy5/5rMkX7hFcJyqeiRmCyJu0lqmA8kHL2pIimlFYKwc1b4sMWNseoCAAIC5Fn0cRwHwL+R2lThV4FHowAAAABJRU5ErkJggg==\",\"data:image/png;base64,iVBORw0KGgoAAAANSUhEUgAAAEAAAABACAAAAACPAi4CAAAENklEQVR4nO2Wy28cRRDGq7p7emb2ZXvXXtkmDxMIwUSRrCRIRCAk4MaVA/8pygmBhESICDKO5CAlEQRiW9n12vGud2Z6uruKw67jR2Z2A1w4+DuOun7zVXd1dQGc61z/B+E/WMb/DoAohJSIzJ488VnKNADKIKrElVAJslmaJsb604jJAFRRvTXfalQCZG/NsL+//3Jo3EnERICM5pYuLs8FPk2NJZQS8n6v0xvk/o0AGDSWr16Zp97OTu8w86DCWmOmiofdF3vJcR6qPD6cf/fGCm799qRz6AEQmFHXmu2ZttbdoT0ilDrAaPHGzaXd9fXnmQq1QmTvbW6xsrBYyzrdwdFGlAEwWrr5UevJ9xuDsBZLZmIGZm+NwcZi0/e6Qzs5hWBh7dP5X+9ucqsmyDpHzIgoAhWk+1kyX889+UkAObv6yYX1bzZ1KyJjrCdiQEAhhapk2Y5rVowlLgdg5fKda0/ubkYLoUkzS+MCRBBCyhDyLjfizLlyQDC/tpZ8u6HbYZpkzhOP7wGSIBIB53sYhplnABCFBuK3b8/9cs8txCZJc0fEYxF7Zx1JaQ6M1BLKAKr5wdXOD91m3SWZJSJ4dYWYmZwHBWlCUmAJAPXS9cbDR8EcpsbSkX9mZgZgIu9BUGpRlDnAyqV3Dtf3Z6M8s8QMDMBjD8wMTMQINicUJQBRv9zeeYwzYKxnPttHGJgIkHKPZQ5k40L0rBNFPnfj8+OzBAb2owtVBFCNNmwPK8q6owTOegAGIE8AhXWAsjbjdl2I3hd2QQAGBOBRCkWFJKLYJayQX2uAJzwAjHan8BSEZAeiwPypLJjKAEykgpHP0nbx6miLUiBjdB0tjkqtVCN3BQ7YH/b1QmBYTSGUAcD1O/JSLfEqEIg4KZESgD94bq4sZWmgFU61UASgwbPOxVU4gFirsYXTnJPfCk8h+eNx/cPWfhbGWgoEhFNZIMIJZiEg337Yv7Vmd7ka6/E2vApABBTAKES5A3B7DzcXv1ju9YNqrOUxYiQhgEHICQ6Ak6f3enc+0ztJVKuESowCAQFRoBDALJUorwMAsJ0H9ytf3nFbSVSrRoGSQiAKFKNRgUnqAMdVXtyVOX363dzqV8Oft9qVmspy55kZAAERyHsZak+jZ6HsYXEvN+r6+tfywdZcPVS5dX68npylIA59PuoG5U9b/uK+/Py6mr23O6hHSo6mG/LOOoyr2ht7NCKUv87x8q2PV7o//fj7UGktAch75zzqalXlw8TSNABgtLB6+z3x58aj7YEFAGBAFVWrmpLBcfzkCWXm0vvX2r771/NuP3UgVBiFyqf9QeII3gAAIOPm8spbszIfDpLMeiabDQ/6Q3OyV06d0hqtVrMWIlljkuHhYJCYE7+fCgBAGYRxHGoEZzOT5dbTmQVTAAAIQgqBwET0+qD6xpreWc51rv+ivwGCNUWQmWRW3AAAAABJRU5ErkJggg==\",\"data:image/png;base64,iVBORw0KGgoAAAANSUhEUgAAAEAAAABACAAAAACPAi4CAAAEOklEQVR4nO2Wy29bVRDGZ87jPuzETtK8Q0MJ0EIqEFlAkVoJIYGgbCq1fxsLJMQCqQvYg1ig7kABoUKyoCUVTRFtnJCnHfv63vOYYXHtJCW+TsoGFpnFXVjn+/mbc+bMGYCzOIuz+H8EnmIJCiERgT0R0zMDhAriUjnSkmyWJGlmPT8LQAQDI5PTYyOxJttu1ne2tnebmTuK6AtAXZl6aX5uPPZJs50657LmVq222cj86QAynnz1ysKMq62uru0lVgblymDodmtPNluHJlSxXlXmrr47739dvPv7TuoZQMhSdXyiOhNH6w3TJRQ7UMOXP/xg6sHX3/7WlFEoBZEzxsnK5NRge71W7xIKAXL4jZsfxXduf1cvD5UUEBGRt1k7w6GZMb+13rDcNwUxePnWTfzys+VgtipdZq1nBsRIZ8lOsj8+aFzT9QNgPHf9Rvj5xw9GpiLbbGfOEwOgkEIPtNPH2Vg8aIn6ANT4tRvnvvhkZWpatvYT44gJGAGFlCKE9C8/EsfWciFADMxfv/j9p/cmz2O9kRhPBAwAgN4LKVSY7WA5Sr0vBKiJq29v3f5x6Lzc20us444eGJhISKnsHihtiAFEzx0ovXxt6M439FywX0+MI+KDIPLOkRRZy0mBRQ7k8Ovzta/+nK6kjcR6Yj5S/MwIjNKmUkqEAgd64rWRXxbVKDcT46krzy0AMHkC4TIPRQAMpy/aH54Ml9NWrmcAOMQAMzGydYDYOwWMZyY3l7IqtDNHDLn+SBLIAIDkEAociHhiYO0PFfvMUu4anmoieSrkqagOMB7WtZ1AO5uv+Yc+dwGQn23PPdCx306UcK6b/zE9MENeyj0BUnPqBTBTL/WBJS4sJACl852CogvP3XPpBWDTMmHg/Ukdl4v2gNLddqVsLAqBBSkcRk8H7fXGyKhNUQkEPKnx9wSs1aqz0GQtc3k/Ru8U1h7qS4N1owMlTnq6ep6C2bjfemU22ZehFoh4LA9E7HwKAH73/qPphXDHhKE6nkXnhw60J4BaD5fozRdbuxBFSuZL8VCOCIxC5OfTu6WZ9Z8vzF5d29aluFOzDAgMgAAIyABCcp89AGqs/NR+64reTHQcB1KIg6xRCAHMUnUMFJWy3bi7VHpnATabMo6jQEmBQqAQQggEYqkVUN+XiZLVxeD59/zyVqUUCGk9EQMjADARq0B535lVip42V78n/cz70dJeUgqU8OQpv8KeMAild91BpbBOUI9eWpjZW1quGRVIBCYm8kQow0C4zHZnjOJCQz18YX6WH6882s4YEYCZEVUQKjbpgb5vmevy5Auz1WxjbaOeWGIQQmkt2WWH/3/CjCSiysTUucgnjf12ZokR2Nkste7IsNf/rqCMBqrVgQi9tcYaY0xqjKNTT2kAgFIHUaglsnfWWOs8Pd1hTjGpdsqHmf7VpHpk2QnN7Sz+u/gbbcxSzRRQtasAAAAASUVORK5CYII=\",\"data:image/png;base64,iVBORw0KGgoAAAANSUhEUgAAAEAAAABACAAAAACPAi4CAAAEYUlEQVR4nO2W328UVRTHzzl3fuzsbNfdtrBQpBQUKSYYfmgkQcUYYqLGH9HE+G/x5JOvPJNoYgIkKoEoDxKJGAkiYIH+gKXd7c7Mzsy99xwfdrttYaetPvc8zMPM/X7mfG/uPecAbMd2bAcAAG5tESIAiMj/ARA5ruc4yFYbbeyzkE0ASF65Wh+thi7oNOq0lqOutusQGwOUV9u178DkWIAmT7tJp/Vk/vFilPEaxEYAdKt7jxydHselJwtLiUblOBI1H809jbRsBUClxpG3T+6Ob9/4c2Yx1qL8sDY2WtbNR7PtjDcHULjv1AcnzPVLv9zvsCISZsZSfdeuSjo3u9jlzQBUeen9z6bvnv/uVh5UAgfFWpNnqXbrEw16Ovs05Y0BGL780VdT1765sPTCWFlZYywzCOss0aXGhN+ea/VdOAV6f897Xx68dPYy7qurPOlqawWAiEpOt/sg2R3UtemdiAKAGnvz8+krZ38oT1b0cpxpwyIASEqRT0nTNryRLLHFACy/8uEbt7/+qbI/SNpxZiyLAACiIaVUKV2CcS/IWQoBbuPU6eTcBXcqXG5FuWERAQFAQGuVIi9tU9XzjAUAGp7AwdONy+fjyZG4FWXaMrMIiLAwW6MtubYTgauwCKBGjx17fP5OYzRrx5npqwUARETYGibKYk0KigDexImxX69QAztRT7/mCgozWyFIMyEq2AMMpg5nVx/UK904s9yzD7DCQGEhQJt7gAUAquyfmL+uRyFJje3r16SAAowgmgBQhlpQ1b2V+/e80Gaa+9mvLQHSs2QNF+0BjTTowWLgm9yyAMh6fQ8BKLYYUK5Bs1siY1ie1Q4QAMwiBQCvxB3j4HP1b1UPACIsBRkgiM0BhxbhAWHlaAwDsM7BRcODuz4EJH0fwwHpMtbcnAlxJaWhWQgUAaIm76ykxnFoC21jyDvbeRjvbaSp8tQgif8E4GjmyZ6DvIy+R4iIQzysvhgGkOT+3erxkUVdKrnUk68nIK48CgDpw9/z1w9FLRX4Tt8ErpMjQC+1gutsmr/9feCdcCELQt8hXPtDQAQkECQqtgDSuXUNzhxPFiQMfYcGCEREQCIQIIVQXJUlf/jzoemP/5lxx0YEMgMivWsMCIgoIsoh21s7vKja9s0fx9+dOTcntQqpTDOLDJwLM3nK9lt0QV/Qs1d3nPlk+dt5XQuUu9IXABGFrVW+x3pjAMd/XfRPfkHfzyc1P1DaWObe8beG3cCTwZhRAADbvumYY59WL96ZLYeOQ8yWRazVjEHo2dU5pfikuqOvvnXU+ePqjcfacR0EZmstkx8GSsddvWl7B3SqU8dfG2/fvnmvmRgGACSnVA5c241W9RuOOKq888DhyXK0MDvfinMG5bku6TSKUjPQbzxkoVfZ8eKe8TKncZLm2mqdxp2om291yAIA8oJqvTbiE9s86yZJnKTa8toVm1YMUq7new4J2zzPjWVe/30Loy4iIgGK9OvwdmzH8/EvlTB1MIFju5QAAAAASUVORK5CYII=\",\"data:image/png;base64,iVBORw0KGgoAAAANSUhEUgAAAEAAAABACAAAAACPAi4CAAAEWElEQVR4nO2Wy28bVRSHzzn3zozH9thxTN3m1aQliBbogwWVYMMCCZYI8a8isaSiQoJWsKBSMW3SJmmeTeI49tjjmfs4LMZ2Hp4xYsciZzEzmjvnu79775wHwJVd2ZVdWWqY+ZIQEYHZMvN/BiBJ6bquFGBUkiTa2KmMywAUbiGozlSDoosq6rRb7TBS0xCXAMIt1q7Pz9+oV0ue5CQ83NnY3Gv1lM0FyAs06dfmVlYW6yWJRLJYKkBv5+/nL7ZaA5Mn4rwCdEuNldXlGvZP2p3YukFjaWWpGq0/++3FbqhzCHjeP5h/f7WBx2+3Dk77mtEp1W89eHS/fvT0p6cbnRzCGQCdYGH1dtB5s7bT0SQFsdFGzN798uv75vcfn6x31L/sgSg2lhdgvfn6hAszvicFWh11W09eNb//6guH9euumQoQXm2+Ydb+2or8oORJQiJBNdU93v/hXffbz+Kwr6KssxgBUJbfq9uN5ltTCXwyihlJOp7nV8p7vyjx3aOjw65KpgDIq9Ro/+W2Ccqu1tpaBhLS831/wX37rFj/5vON3VBnSBgCUPgVr7O5q8pFilX6+yKKwSAOStd589fFlQ8fNfejDAkjgOP76nBv4BUgUcpYZkBAo42xXG7E2z8/WLrzSfMkQwINb06Buu+65KEaxEobY62xRuskCjuRc62y9fjl7N2lIk0qSF8hOVKfnhpHGKW0sZaZ2TJbreJ+mJTq5vkfyfLNiswDAAkcdAYoWCttLA/NWmtU3O9D1d//86i+UJWT0T9UgGQHPU1oUvd0jIGZrY4H2itH67teo+LkAQBBRwkjG2OZIZ0fgAHYGp0kosgHe1wN8gFgdaIB2VrLMBKQkqxRil3qHKtCQUwChtvCVikDbNkCXIw6ZraGieIwEZJyFbBR+kz62HmMYGCtDMNkSMuhAE0WAIbJj8dhzumDNVZKM0gyfuWxAm2Gq04nHk2FgEhoE+v7utvPSCojBQZ5LPncMAIiCdIRzFSTVqjyAMAGU9cLXyAAIAmJcd+5UQ3fnU4DAAIy4wiR7gEikXAk96LZ5dLRblZeHAHY4rml4+iKJBxXDE558RZs74QZSW0UHnacXs/uCETCcR3TCSt3505f7/XzEwrApSqKAIgohOO5ELZp9SNvY+046xjPAOPZceRPJBzXhV47uflwvtXc7OhJ/4ulDTglYHp8JKQjTb+bND69Y182DwbTsvJFQ0IkEoIgjiPbeHiv8Ob5ZjdLwCUAIgAzIzEiAhutE+3MfXwv2H6x1koyaxteAhAy2/QBwFoWwfwHt4OT9VcHvUwBEwBBmEY1AyDJUm1u8Zo42dw67OcU+EsBjkIIQcjAgMIplGdmZwrJ8d5BO7dBuJwhiKR0HCGFcJxCoViQtn9y3O6pzMIKMHkKaUZDIMd1BPdD1Q/DKMnrLjIUACAKIaXjSIFglYoTbfI7pOw+EZGIKG0UjZ3e5WU3mmkkAUxEyJX9T+0fli9vGXbH49IAAAAASUVORK5CYII=\",\"data:image/png;base64,iVBORw0KGgoAAAANSUhEUgAAAEAAAABACAAAAACPAi4CAAAEU0lEQVR4nO2Wy3MbRRCHu3tmVpL1sGQpD7sc2+BACgh5ALlxprhwShV/IzeucKNy4FVApSopYicmfuEHyI6eu9LuzHRzWInY8kopbhzcVdqDdvub3/RMPwAu7dIu7dJSw8w/kRARRIRF/jMASZkgCLQC75IksZ5nMiYBqEy+NF+tludy6Aa9VqvdG1g/AzEBUGauenVp+Vq9NpfXYPsnhzu7hydhwlMB+vzyheri6tqNRjEgIF0o5Sk63Hz6+85pNFXEWQWoi1fW1t9aUFGn1R2wKV9ZXlupJTu//PjkoGenEM4oQFO6vv7Ootr9c/e4HVlBU6iv3nlw78OVlcZPL9tTCK8VoC4t3lyvhjtb+x1LSpOwc1S99ennH6nH33z3vJO8QYEqNFaXze7m1qnPVwo5o1DcoNf9YWvj4WcPAnYvum4mgILq0jV4ubEdBbViXikkUlS90j89/bbZeXhn2A9tmHUWYwDquXod9zd3k2KloLwVQVImFzQq5cOfE/zy/unfvSTJCMMYQEG5Zpov9pJSJfCJ8yxApHP5Yn4x2Hv81cIXn2wfdJ2fAchX8v29g3iuSIl1jgUAUcXDpFRqyM5vX6/c//jZ0WA6gHRhzreOwiCPqb8AIHrnvJdyPd77/vba2x88O8m4kTQKgclR2OxiQDaOE+c9M7N3LhmG3Ug1qsePnhbfXS6piwpSAJI23Glbo9gmzjOLiLAwextHvThXx41fw+WVir6YvCMFpHDYjVCBc96zjI3ZuziKpFw6eXpUXqqaqQAkiSOHyM6xiACAAAiIsHfJwAZFu72vGpWpAER0w5gRvGcWEBEZEYDZJQkUsHnkyqXpCoBd4gCZeSQAAETGGiwbFb5KcoWMGIyOUdhaDyCTJVAAQdgLku0nStEF/5ECEe+dXKiikr4TYQDxNuMavVbgHQPIqH4KnMtzBPCsDMdJBmIkir3z6a5ltPAZfySxnC9ClFXY9HgLTv7VfN4bSSk/5Pmqb/UzqpIeK0AEnFwdIW0TZCO6Wo9POhn5PM5G9igAgmMEjhWQMkaisLQ63z7qZigYxUA4bUDjDzB9IJIygbIdv3QzODroTY0BgAif9R35EykdGOn1irduRNuH4YyCAnzukiGk4Vcml8OwxWu3S/tbzXhGSTtz+Jj+EJGUzgUQdYaL91a7mzsdNxMAkAYx3TsgEiptNA978cLd9+mPjePhrKp8joKIhEiKFCRJ5Bfu3K3sP9nuZPam8wBEAAFGQgBEYe+tVdffu1s7fva8GWe2aJwAEIpwegMRmIWKi+vr1f7LF4f97AZ9AaAQRJgFABB1oXp9+WrQ2d9thlkRvAAAJKUVoYgAKp0rzddqed86+qs9mDYgTJYYIq210UopbXL5QkHzoPOqHWYlcmqTp8CSrk7GGC3DQTIIw0Hsp484GVMaktLaGKUI2NnY2hnu2XMiIhIRIYiwZ5nlPmXQBMDRizfOmZf2v7B/AEAtambPK9D+AAAAAElFTkSuQmCC\",\"data:image/png;base64,iVBORw0KGgoAAAANSUhEUgAAAEAAAABACAAAAACPAi4CAAAEWUlEQVR4nO2W328bRRDHZ2b37nwXx/lRJ06TkJKCmiIKKqkqJFRAPMAj/y4PvEdQCkgUmka0aZo0jtPEsWuffefb3RkebIfEOUeFJ4Qylu7h5O9nZ/Zmv7MAV3EVV/FfD/z3f0NEJEQQFhb5xwAi5fm+7xGw6WWZcXwpYxRAyguLU1NTpdBHl7Sb9WY7MZchzgNQecXpucr1uWvFYsEnG9erOzvVk67hsQB9bnkdzi4sL89PFzQ544XFSHX3tx5v7jZS9zYZkF+srNxYiLjTbHUMBKXKOzdXSumzRw83ax03pgx9Vj+1eHNlKntVrdbjnhP0omurH9//6O7S9Zmf99pjCHhWv/T+kld/sXPUZfIUibNWzax9+dUH9tH3P+zE9vIMUBcXVhfsztZeTIWw4GuNYJN2Y2N769sHn5KzL7u5+3AKUGF5uZy+fFq14UToKSLSmqbn2scH3x3HX9/txt2DNK+IIYC8UqVs9p7UoDThozUCpLRX8OcmosMNg9+sHx/F1lwCUOHsLOxv1WAyUsY6FkBSXhKG0aL/6lE089m93dddl9MOAwDp4nRw8qImkyFmxjILIJLSvaxYmOO9h4uLK588O+6NB6BfjNJazUQBZJl1IgKI6JyzzhXLaW3jzuLa7e039uIuUF+vghDf1Do6INMz1jlmYXbOZGkcJ355Yndjt3xrIaSLGQxeKd8zJ032yRprmWXwY2t63dhEs9mTTbyxXFTjAEgedpspKTHGDUxAQITZ2V6SUik42IwrS5M65/QPAOTijlPonGMWEJH+Q8TZLOVC1HlZL1ZKYwGAkiWpoPT1w+gnYY3VEb9uBDNFfUF/2gecJRaQ2QmADNSAgoLCjsmHdotK0fgMxGYZgzCLjLqgCDNo6mUYeHQRMMiADVgBYc5zUQQEAMEc+RAgzoADYMg7LogETrwCGptDHwDYIkN/3wFAzi6FpEiMTJawk+RYwrAEiwIwqF/OyUl52iY0XzaNOKeVhxk4hFPA2ewRledhtxPemI0PW2PPAohzDhAEBABwUAECICod+NxK529NHlXzAIMShB3K+eQBARFJBwF1G+r2bbe9F+eY2vB8yYUJhohIyvMDz9TjhfXFo6f7yXg/APn7G+Lf6yvtFwLXrod319XW5lEv5yufdrfIQIvDJxJpv+C7dp3XHizt//I8z08g53ggIiAgodLaVyZp2ve++DD+9beDNG9CXgQIIBASEimlOUm6uPr5Oj7+8Xnr8rkwXF1AGEEJArBktufC1fv3gs2fnhxluSN6ZLwTobAIICECMIs/c/POWnT4+x/VTv5oGwUoRcDcdxVU/uT8yrsVqP25/XqMfvSGQkprTSjSd+qp2bnpID3cqzbSMfrRPWAAVORrrbTnh1FUoJN2/agRm7EXjNGvwADCAEp5no+m1Uw7rbib5TVAfgkAgKS09jxPKwQ3uKeNlY+5JxKS6l8U+ZxLvy0A+v3ct5hL1Vfxf4m/AFvfWLuso7tuAAAAAElFTkSuQmCC\",\"data:image/png;base64,iVBORw0KGgoAAAANSUhEUgAAAEAAAABACAAAAACPAi4CAAAEUklEQVR4nO2Wv1MbVxDHd/e9053uJGQBsoOBgG0MdmaSmcwkrpIqVcZNUmYmkz8uf0CqFM5MijRJl1DExjjYCJAFFjYScJLux/uxKU5gWdyRcZeCbW7m7vbzvrv73r4FuLIru7Irywzz3yIgADADvz8AkYQQQiCw0doYvpwxCUASrlf2/bIr0aTDQX8QKXMZYgJAjlednpmt1wLfdVAPugf7B2/6iS1GvANA4dWuLyx8UPcd6bh+JSjpbvPJxotOXxUSxgHoBI2lO0vTMjkNh1r4MzeXl2ZMe/33v7a7iS0AyHH/qbnV1Xmn124d9IYKpD+z9PGDT1c+XF387fFhXEDAMf/qwtrazHDn2c5RZIEALDjTd7/8+jOv9ejReqeA8FaB8G/cvuXubmy+SmXZLQmBVkVHnY0/v324+BC0fp3k5uEcINz6/BxvPX5+Kuu+K4hISrJR982vu3vf3f8q7Cc9dRkAZaUxa188bcZBrSysUYCy5HmVen1/88fwh7UvOr3Y5AVxBqDSVA3b/+yoas2FWGvDKBzX98s3vNbLn5zvFx+0ukmaE8QIgKJccXq7rTSoiFQpbSwAiSSJK8HUom3/3Phm9ZPdE22KAY7nxkf7kVvGVClt2AKg0FqladWfS7Z/ufX5R0/aUQ6ARg/pwslhSC6mUZwoY6y1Vusk6p+cpEGD//6jt3i3UaIiAJIj0uNT66BOklQba5nZWmtUMgz7XKv11rerd+bKhQAgAVEYI7FS2lgembVGp9EgcWrQ3OLFmxVRlAMktCqyAo0xNmsADAgMDEYlSSkod7cHs3NVgRfqMFKAqBMFyCZTz8wAkKkwOmW3nBycVhsVebH/jHIArJUBZGvfdjFmYGBma6z0bC90rwXygv+ZArBGM7A9XztDAACwZSYHolj4JSpSwGy14XFHzoSNviKhMShETgseibIaLGSKM+d3f2XLQrDOa45y9IPJluVz4YAAjACASGhS8D01SHIIZwpGAJi4CRgBkEDFdC0YdgeFAGaThTBpCICCOB56N8rHnVBfDIHOFBjG8ySOXAEBkEiQDpP6gthvh7owBLYIY6U7YyAiSYnRKSzMx812v/g4A5t3846ZPwnpCB0Oaiv1ztarKKclnQPGpZ+vT0I6Dg9OaPk2P986uqQjATAjT7hn/hifpjfvzR5u7oU5EYxfLOMiEBCJhHAERoO4fu+Waj57nXs75RyPbDwgFCQEmijStbU1b+/py35OEScBCACMDIiIhAQmTVOcXrk/1Xm+08vLwOSex2wuQUBCQmBjwGssL18b7DUPh7kCLgAIMOsnCABA7tT1+etu2G4dDQvGjMkBA4lGOxJJuEFtph7Y407nOC4aUyZPOJEQREQkRMn1g4qL8fHRcT/Nq2AuAIhISunIkuOWShJVHIbDRBeNFzlltFkXNFYrgazTJEnNJSNS7pyIhCSICMC+bfPvA8g2YnYv/MeUeGX/D/sXQzdXLWeUwO0AAAAASUVORK5CYII=\",\"data:image/png;base64,iVBORw0KGgoAAAANSUhEUgAAAEAAAABACAAAAACPAi4CAAAD5UlEQVR4nO2WW29bRRDHZ3b37LnYx07cXFxCFCRUkaotLQ8p9AmBhCqVD8AH5QUJ9QUqLkolUqlpCJECScnFiR07sc+xz96GByfGDse2xBNC+T8cafdofpqdmZ0dgBvd6Eb/DWH+JiIAEAH9CwAi58LjDJ3VxliawrgOQCb8qBgXIslslrTPO13tJiKuAZgIS5X5udlyMZTMpmfHfx7WO8pNAIiRFffjuepipSA5aR6Wirx7uP1m9zS1450Y9gB5MLtYrXg6aaeKZHF++f2VmeTX9Y29Cz2WMAwQ4Wx1Pug16q1UO0ImS8sPPnkY//H9i+3mWMLQEbhfnouz49pZD4T0OFh9Wtva+Ozp3UqBbzb1VAB6hXLQaZx0MAh9T3COpDutXw4Ov1p7RtnWhZ0G4H5RJo165oWBYE5bLmRQqtRPv075k6fn7d00/xADAPMCr9c6UzL0SDkCZMILwjgKD59HlXufHzRV/iGGAJ5Jm8rzUTvnCBCZyJQt3ub73y4vfbTz+4XNLQd2FQEuoHuRcQ+0UkobY7TK0vZ5my1U69/8VFpbLfNcDwYAhibJgIMxxjjnnHXO6CxpJ95i/Nvzkzv3573cizcAoMsyy8BaY50jIiLnnFFpJyssZOtvSqu3g4kAAKsMIDlLBEQEQETOWZWmMBPuvVIrSxGbCHDWOARyjogA4PLjrO7pMG7vtG4tTgGQtdS3v9oAAiJnlGYFe9CMKmEuQAzskfpGAxECETlrQOL5hShIhjm1NAAQEVAfMrhihADkHDDQGYjJaSRHfWPquz8QIpADxqzJbyt/x2BM20HGSFMh0InKbY9Dgen/xqEPIiITwqY4X0qa3dz7KP6xM9KjkAspsk64Etdr6cS7cGmJOLRERCb8ANtpdVW+PermAoYaCgIBIBLQFYxxzw9lVoe7HyQ7R93chjACuCQgEAIgIhd+FFGj9e6T6v7WiZoCAGTOEV5yAJBx4UcRa9WCjx/rV9vn+T1tBMCtccjY5Yp5MghZq2bWvljcfrmfH8MhABEKjtoCCobAkAtPCtNq2Htf3j/+4fWZybUfBjiH0ssySyAE55xzNEknkQ+fPU5+/Pltfg5Gso5chpKyriImhGAIRiu49eGnj2jju83GuJdlpGxEEIVM91JlCQEAZHn5waOl9PX6diM/BdcAwERQLARoMqUccD9eWH7vHa++tbnXGms/WsrO9IiwGHscmecXyzNFfny0u3eSjH9br88HyGVYjONCIQgCyanbOq012tmYVy0PAMC4DMIwCqQA20s6SaomDAd5AEBkXAjBkJzRxk4ecMZNaf0xjWjahHWjG/1/9BfEdvyExNCwxwAAAABJRU5ErkJggg==\",\"data:image/png;base64,iVBORw0KGgoAAAANSUhEUgAAAEAAAABACAAAAACPAi4CAAAD80lEQVR4nO2WyW8cVRDGq+q93mdxMnY8YJQgFAiWhWUkbjmgBASHwI07HPjjOCPBIRLhECFAiYJE5CQ4jkGxPV7Gg2ef3l4Vh/EstnvGAXGcUh+6W6pff1X93lcPYBazmMX/Ejjttfw3ACIpIgRgw8wXQc4BUGnHcV3bQknDXi+MDf8bACrbKxTn8jnPsUiiZu3wqBEm01ScBpDlzS0sXM7ZWmnXz7nU2dt6sXMcmlcEkJNfKM8HEHZ6iVj50tK117zjp4/WK20zUQSeyi+Wy0Wp12qtKBVUXunN1Q/eUc/u/7LVTF4BQHZxcdHt7h82Y1QKQVKjS6sf31rcuvvjRiOdANAjlA4uFc3ufi3WgaO1QpK4e3Tvz50vlm2ON9sT+jACkJMLkupBA33PIgQhbRWkW9v8pvXV8qfN9sswuw1DAGrXM/VqS/kOmUQEyLI9f75wcPCt/nr5w0qzml3EEECWI41aW3kWp8aIIMZRkuT9N9Tud4tfrm1utzqZEgYAJAvDZgdsStkwCwAaY1KW3OvJ3vfv3nr/8V6YKWGoQJHpddlCw8wMAoAizCyYK7ef/rDy1vKTeuZioIEClLiXIHKapkZYRITZpFGnFfoL4cN1/+2yk7lzhwDgOBYCNoZFBAQEREwadTtS9F8+jq8u+TQNAJImDMDMMsoX4TTqJU6us1kvlYMLAMYIgrAMChUQEeY0iVXA+8fBvK+mNVFYWFBAxhslgMLGgEONtlNwCTO6OAIgg8DJhQAAgv1HQY1xbLlWZhOHv1Gkn3vaCBEQEAFQa8KpABEcyB5LR0BUShn28pikmd426uxJ9YiDPY4AgEjahkhKJW6FmQarz7/C0Q0iacdO2/rale5R5wIFJ18cpCP2v++4utecW7lcrXQyHWEE6OfiCQIBEJG04/umFl1fUy+2sxWMlYAAAggoKH0FRJbjB6pxWLi5fLReyXaUcQWKUASVIkWkiJS2HT9ndyvx2u38+u/V7PEwrkCp1DAh9dcSkba9wO7tH1//bHX3541mtimOACKgVZwa0IoAgZSyHYdaR/Wlz28nP/1aiS7wRBAW0jqMU0DSpJTSisJOI7p6507+wb1nEwSMlyCptjwn7CVGW1qAU457sfPeR5+Ufrv76DCeMJtOTSbLDRwMu2HCSAjC4JZXbq75z+8/2M5eBGcAQLaXC2yOwjA2gLZfunrjxmK48fBJpTtxvJ6bzvli4BAIKDt/6cpCQarP//jr7ynj+cwWJe0EhUIh53mu57kqbe3v7NY6yZQzxtk9jmS5Xi4XBK5FHLXr9UYvnnrMOW8SSFrbtqVJTBLFSXrBKSnLZRARCU98cmr2LGYxi2H8A5nW9MlSyYMUAAAAAElFTkSuQmCC\",\"data:image/png;base64,iVBORw0KGgoAAAANSUhEUgAAAEAAAABACAAAAACPAi4CAAAD7UlEQVR4nO2WW28bVRDHZ85l93jXa+dmJyWhDw0IKBAkCEVcKngFhOCNj8kDHwBRRFWJipSKJhTR0iZNqJN4fYu93j2X4SFOvClrh74hkXk7uzq//c+c/c8cgIu4iIv4bwQWPUNEhkBEjuj5AciF9HxPoDNZmmpzDuNZAHIviKoz1bKSkB21mnEn0fY5ANwLZmv12mylXPJ9bnqNx3/uHA70FBFnAMhVtX6pVpHMEfMrcwszsvfw7r1Hcer+FQBFMLu0GFG/0+kPiamZlZdeWw0bG7d+bSQT0xD575dml+Zpd/+wlxIgEGzMXFm//kq9Xr69O5ikIQdgqroQHB02OkYo3+PMmWF88Pvmp598oNit3WRCHcYAJsOq7B4cJLxc8gTngjOXduLvn7a/uOaGaSMrJpwCkKlQ9ppN7Zc85jJELjyvElUamyl9fa0dD1rFZRgDpC+Tdqx9xQ05AmBcqFIwp3YffLPw5ftPGoPiJE4BTEozaGvpgbaOCAAZzzIdlVfs/W9X19+7f5CZIgA7zYBD0ku5IJNprY21RmfDfreblpfFz9/1r765IIt8kwOgGQyBo9XGOiLnyFmbpUc9U611ftyaf2NFTQUAUpZahtZY54iOneisTgcJm1cPfnGrL4ZsGgDBZhrQjXYTARARWZ0mNqx2NjtLlyM+VYGz2gGQo5F9RwRn0kxEbvtpeTHiRTmcnAI56wiJxu4nBCAiazSUeBz7c+F0BWQd0JnmQccqnAXBkwGGfmENxgqQRsIh59HjNQNnkWHhKZwCILf/JBAQkDF0JDzUtvBPHKdQ9BoBkXHIbLlq+8NCR+fsTAh59YAAgIxL6fquXjPNvin6xrOFye9HQGTCF7rrvbzY2usV2jEHwJHm3Aq5VCXe7dbXop3HxYBxCohAAIiENFojcukHfrrvXn9L/7bdP68GDMgRIgIBAQIw5FKFoTtsvfDx5e27e+n0fgAAHKwlYAhEAIiMSz8IKf5LffSh3bgX66L9ZwCMMbAWOSIhIOPSU75r79O7n13avPmwOIMcgIi45KkxKDhjyLiQgiW9mL/z1drejTuHxQLyCpx1nieHaeZIMs452iw9Glbe/ny99cPN7UmDIf9/M69UkmaQZMS4YEhWO395/fqrw59ubDUnzcczBuF+UFaQDZLUECGKoHZl7epcfOf2H/GEqfCP4eqFUeSj1dqCKFUXV5Znzd7m1pPO5Pl81qLIvCCqRoGS0lNBFPqmvfNopzkoNmIBAIAJP4gqlTBUvmS63zo4bPf15OFecMVBJqRSSnkcTJb0h0Pjpt5xCroMIuOcMQTrrD33mlXYpgAB4aRLXcRF/D/ib/yq/64OphxDAAAAAElFTkSuQmCC\",\"data:image/png;base64,iVBORw0KGgoAAAANSUhEUgAAAEAAAABACAAAAACPAi4CAAAD4klEQVR4nO2WW28bVRCAZ+acvXl3rdzcJqlRCwVRiYtaRUiVCqoQCCQe+Af8S56okMoTl1I1FY0qSgoodzuxnTjr9d7ODA/OZZOsXZUnhDKyVse7O9/OmTM3gEu5lEv5nwhW30UEABGQfwMg0lprQjF5URh+BeMCgLTjhUHoO4qzqN8/jDMzEXEOgNqtzzSuzk2HNUdx3Nta22j3UzMBoM9+3g5nF6816p6lSPn10BpuPn/2YjvKxxtxxgLlTM03r9Q4PowS0UHj+ttvzcW///jLajcdSygDlDu1uFAveq1OPzUCZE81b9/7aHb94fe/tccSSlsgu35lBja224dGW45Ck7e2Vn7+/OsPZ+vW43Y2hnAKQO1Ph9nOds/YoetorVDywf7y+t/ffPqVpE86+asA5ARe2m1FFHg2gRHWljc122l/2+cvv+jtDw95MgC15xbd3YGuOZgJA5C23VpQq238YNc/+WxtL00mA8iy5aATK1ebjFkEkfQwDYKr6q+H89dufbzazSvDgY4NII3JQQw25WmaZXmR51kS9/f73GjGDx7wnfdndJV+CUBmMGCNJs+Lgo1hY4o8GfT70phZ/+6PxQ8WncrEo9NFNiyIuCgMM4uwMLNJ4yi2GvT0Ebzzhq8mWgAmywWFDbOIAICIMJssHhRh2HrSnW8GNAkAYnIDwGakfnRhNvkw1fVsdTuYDyZaIGyMgMjo6wAAIytMkWfg4U7LmvZVlRNKFrAgnOoDCAgIsClYq6jHvlNpwfHZCCPDqITJcYoJAggwC1GRiqrULwMEYPQDEEAoZaoIkowpTCfRcfbxiS4iKSyMW+NhWpkMp0dT2v2JPiKS1pLw9EzeiytD+UJ84pk1krK1iag5F7Wjyk1Q+XUAQCz/R1K2o+LD8N2p3c1oYjIdNRPEo6ZytFKWY5tecuM9erk+qPRBaQuILAB07E4EJG25HvU74dLNzvOtpPIYygBCI0B47E5UZLueGrSL23e95ZW96tpediIhFiJEICCAQMqyXYq70Y37Nzd+fVntgjJAQGvKDaAaeYO0pSU6GC7cXxo+Xm6NKeynABEGy8oSI6KJkAiJkyTm5r276ulPf44x4GxjsT0H0mHGpJQiFC5y9q4v3Zlee/SsXe3Cc3GjnZqn8uEwMwIIAuTOvnnrht5cebGbVBf1c70RLccPHMzSNDOC2q3PLSyEydbqRq86Dy4AALXjB76jQASVUwt82/R3tvcG4/raBQCgslzfr3m2pbVSUMQHvYNo4ohxcUJRlu26jq2UcJ4O4/T1JhQAAEKllSIQ5sK8/ow0ujma0s7UiEu5lP+0/ANr5wB84k38PwAAAABJRU5ErkJggg==\",\"data:image/png;base64,iVBORw0KGgoAAAANSUhEUgAAAEAAAABACAAAAACPAi4CAAAD+UlEQVR4nO2W34scRRDHq6rnx+7szc4le96vRNEQLwl4kEgiiYch+CAB44N4+Qd88x/SJx9E/wFBoqBCMKcIiSLkJAQTopzGJLc/53Z3dqa7q3yYvXB37uxeHpWrx+muT39ruqqrAA7swP4XhvvZQ0SEwswszw5Axw8qlZIDNk2S/kCbPYwJAPLC5xYXahXFOkv6cbvZihO9CzEWgG70/MkT826v1Yz7BkhBFtfr7cTsE0DBkdPnXrIP7tz7O06tKLccRiH16o2tTPYDUNWTl86Xfv3ul0eZUgrFWituWJtWcT1OeTJAHTpz5eyTa99sUCVwQZjZ2izVVK1Npa12KpMAdOjc1VfXP13Th0NltTbMAAhsBto7FHEn3o7CKfDHqeXVCzc/vFU54mf9gTYsAghEWFLpZhqVNevxAP/YlYu3P7pZm4Neb2DsMIMQiZSfdXjK15bHAdTMG281Pr45s2jibmpYZCgYGYlc3ZWym+XfCgDlU5ejT65XF7mzlVoWgSFAAEVQmT4qxwoAABUIWDn90+f2KMXd1NhtASIAIGwtkE0M5a6jAd6xFfniwXy5103t8HgRARAREWZBNJkgFoaA4Sun7tzwa7qbWmYQgB3pLwCMyNvpPFIB1ZbDHzdqXi8xLHv8t8WwlWIFzuxS72czbRPNedx71gUAhbH4J3pzi0/ue+UsY5Z/eQ8JMLzZkQB3JnrUKCtteNRqHgUMr2YUAJ3Ib/Z9NDy8vgJIsQLlU98o2JFAxTY6D2Rfj20xwKYcuAYIcTJoFEB0Z1ALUnFUnmwFkHxxpAK92V6YTYznjA4wd879CwCP/5o9niWepwgBR0hABCAqVmAe3y2d9VtUdglH6EdEAKQxCrh5u3P+xUZaKTuU797lD4ggSo0BSHd9femSrTtTJWcYxFMEIhChoKNgzIOS/b6m33n5Ua8S+g7lYeDQAIlIxPWRxwC48cOt5fdKG6Ya+g4h7hBApJRYJ1DMxSEAJHe/fPLu5eRPiaKy5xAh5ecTKccRoyolGbbpgkeVm9+/sPp+87osVFVvoG1eVghEhEZjGOpsPACyP65Nv/mB3EjnAjcZZNaKABASSpaq6aodbHfH4tZWPbP6+oPPvu1ORx4PWxuA1QPr1yLdetqgi4uFouW3L/S//uqeDSouibC1WqfGmZ4JkkZncnMFoKnjF1cO31+7tdEHRQjWMpaimSq0N+On/mPLFctzy68tOQ/v/vawlRggPwijAOLNenfHlDO+3p3wyNKJo0HWaW/1tRBw0tqsdwZ25yljAYBupTa/MDPlicmSbtxqtrcGu+e0yWOe8kpB4Ltgs0GSpMY+25iX70EiBBBmmfjGHtiB/VftHz3ABszFAK/9AAAAAElFTkSuQmCC\",\"data:image/png;base64,iVBORw0KGgoAAAANSUhEUgAAAEAAAABACAAAAACPAi4CAAADw0lEQVR4nO2Vy28cRRDGq6q7Z3c9M7t27Dh+CBGMCSgIAgYJFJGIA+SAhDhzi/jvIsTNEhcQJBJCHDAQS4RHFGErjomdrL3PeXR3FQevnTXsjJecQHIdR/P9urq6v68BTuu0/guF4/2FAAAC8jQAJGWM1ijsrHOe/yUATTVq1CeqBGyzpNvtJZaP9VEOQBOdXZib1C5Lc8cgLmnvt3r5cBelAArnXliecbsPHu4luaCphBPad/daff+kCV2i11MX3ljmu+v3mikjAAjoStyondGqZ48IJR0EsytXFjdvre2CCRSCCDvnxMSNIGt1jwjFADN/+dr0t6u/SlQl9swiAMDWclAPXbfn5ASAmr360ZnPP9uKGyrPrWMBQUREto7CkHupK58B1l/7YGH1xs5s7Pup9QfrIxCSRttxNeOYSwGVpfdf/OrG7kKUdVLLPLiEyIiE2iVS0b4UoGbeevPep/cXGv1OYvno6ggICqJyGSgiLgFUnr+Mq+vTk1k3sV4EhlwgiEicBwf+ABqpp8lXl27fpBnuJpZFQIb0IsyA3gphMcDMv8I3/5wxvcTy390DIgIAnqUEUH32/OYPOs4TyzLCxSIAMgCPBFB4Pv75QaTT3IuMSgEBgMFoRwIwXuS7aSSZ4xERMiAM5jLyFFT9bLqFFed4dANP2ijcQr2/rzT7ogaG/x35sVqzqaIx5EWnAGL9GOJCgDir9MA+TwXgNIsiz4rGCP3RgG47nvVOGwIs7gKLbyJ3diaeo0QbRQVyRMBSwCZfbHSwZggBRzAQAJCKtyD9Px6/vNxNq1U9cgyIKKhKAJBt/HLuHdOksKIJcbDbYT0AKSgBuIdrnXcvNnu1MFCIxweJiASCRkGxmUA66z8ufRhvu2gi0IQIhyNDRCSFIsZAiRsB8o2vt6+9l21jPapoQsKBGJBIIbOpqUGoFl3l1toXwcdvt7YljqqBJiI6WFwpTex1GLArj3W39eX01ev593Ym1ElumUUAAQmRrTNxNcsHZikCSP+3VbPySe27+1NhWMmdZwFABLE51xrVND18HAtfZ2nfluTS9XO3dlpRNTDCwsLe5lZPTpqklx26tcQuVL9wZQV/+ubOPhhDCN47Jyaairi913dwMgCotnjp9fnu73c2HiVWAMjU4kYIvcet5Ehfbng0k8+8tDTF+7uP2olHHVTItpvNTjb0VpzgeKo0ZhfnpqroXG6ztLPf3OtkbjjqTowMMrUojiYM+Tzpd3tJ7o8n5RiZg6i0Uijsvf/nQzd24RhLndZp/Y/rLwj43gwqtK0vAAAAAElFTkSuQmCC\",\"data:image/png;base64,iVBORw0KGgoAAAANSUhEUgAAAEAAAABACAAAAACPAi4CAAAEFElEQVR4nO2Wz28bVRDHZ+a9/WU7GzuOE5r0N9AGpQghUKqChNQG6AUhxAF64D/ixIEjFy5ISJUQvfBDIEBUalX1UEWohUvUBErj+EfsrO3dfT+Gg21KUq8deuCAMsfVzufNvJn5vgE4tEP7Xxge6CdEBAZmfhKAkK7vOcRGpWmqzX7GBADKXGmuUsoJVnGvs9tqRT1l/wXAKSycWTpW0O2ddlcZNknUqDU7exDjABgceeGVc/mte79u1CMFws+HeafX2Gr2zIEANHV29fXF9R+v/7ajEAEsk1uYLfu96nZH82SAmH7x3Tf0V1fvdIPAJbbWGJUqKsyVoVmN1EQAFV/+4NLmJ1/WiiXPKqUMMzLrJKHSnNeudfTgP5mVf/7c+5fufvStOD1lur1Ea2ZAFBTIpB7PBqHp2vEA99RbF+99+N30Mae72021tcCAiCTITyI94wUq5XEAUXl1tfrx96Xj2Gr3lGELDACAaEg4HDdC6WkzDhCcXfU//Tp/DJrtWFkLgyZmtGSF4GQ3L6XlbIConF+6+YU+Rc1WrA0zDKvGYJmRbIyuIJMN8E6vdK9tHvXb7VjZvn8fgcDMhKQTHBSQRvlTuHxy7aZfSnaH/sM5ZGZmaxltahEzAaKy7NyolimKteXHhpiZGdnYMVVwFp5prWGoY2X77nsRDADAg3kYGYG3eOTB7zkvVf1jHtOR/kfOBKC/UPyzlRNaMwDDCBliBrB9wmjArN9IAzSjJGxfJqMBzpTbtQ4O6j9ec0begSwEDgiBiJMlcxSAjaIALRJOPD8jgqRpijJBgTjOP7sTubeVLOS7LEU/hREQRMDsTuR4s3FiPlKuQxkBIALSmFlINtYXnosj15P9e9yHQURgJMqeBfXHmnchqGPOFQSwn4CABEASMxsJbP32w/NL9U6QcwbnPKonIhABkyMgOwWO1m4fvew+hELOoUE34BCERMTseGCzIwB1/4fa5ZVmzQsDVxLCAIEIgCQEWJmT1mZHALZ166fKeycetILpnCtFPwpERCIhJWgs+FZnzwIApPe/WbtwpbTRCooF35GCiAiRSDiO5BTCEFM9FLnRJuZWr0x//llzvsi9Xqr7woBEBCqBYol3dgePW9bDYuo/+2+/41zdjGZ8N+0TEAF0ksqZsm12h09bdq97i6+9Wbl17U6Sn3KRrbXWGpWkUJgLdW0nthMB4M2/dPHp6vUb6z3hSgHWKG1Evlz2ou3m3/5jp9Upnll5vrD1y93NZs8wkPTDYtFLatut9NGOMnbcRTD/7PLJfFyr1ncTK1xXcqdebf5jvZikFyhz5cXjT4UuqzRNutFOo77TSfdsWZMEB4WXC8OCLzlNOlHUTfYtaQdZNFEIIQjYGDNBp8djntjz0A7tv7C/AL1U+1+FOXE0AAAAAElFTkSuQmCC\",\"data:image/png;base64,iVBORw0KGgoAAAANSUhEUgAAAEAAAABACAAAAACPAi4CAAAD0ElEQVR4nO2Wy28bVRTGzzn3ztgz9tjO041VQCWFpDQlKAJRVWyyoBtW/J2AhLphBxISqLRIKUKqogQUQUkDIXHGsTOv+zgsJs6r47FZgvJt7e8395w5890DcK1r/S+EE/wFiQjRsmHL/x5AsurX/apgncRRlKqrjDEAqjTanYVpT9o0iQZh2A0HqbmEKAWg23p9+facPAmP+rFmAhuHh91BaicEUO3m6nud9Letnb/7mUHhePWgagfdMNYTAURr6cE9fv5k89AIKcBabdCtt2q2H55oHg+Q06vriy++fnro1D2J1hprlEqNCJpu0ovUWICYXnv42rNHm2KqJrTSxloAYKtSU2n4qn9WhRzhx+Dux298/8XvrWmZxak2lhkAEami0q7yvRxYAvDeXF98/NnufMsO4sxYy8AACIQkUR2bqqsVlwHk3P3VX778o93KTmJlcjswoEUklCpixzGmBIC1Ox+mX23PTGX9WBlmgPxxDIxMIEwCJPKZpOIOtj/oPHnqzejcz8wAwLmsYSSdWcr7XwzwFlfDbwdzIsr9uRuGh7CMoDWUAKh5t/N8K6insbLMDMAXxp+ZmdEaRhwJkPPLsNGfwiSz9rwBFxAAcNrD4iY6nVvhtlPXWf7hvRICDABsS0qodOb39n1HacvMr/qHhJFvAb12/a8Tn7Qpog8Jp30pBLgtt6craJkLnn5FxU30ZWYljnePArBRBtkWVT8ZQA2yCmqeJLILAZx1k6ZMgMoDc/Rr5GS/P1ePjSQcgUDEIaGwhPTlfrsdZY4kRCwsBBmIRp4A1N5O87YZiIpAgFdjDxEBSJRMojnY1O82jmzVFXR+2DM/IDKIU2chwB5vvryzHA1czyFEhEsIBCRgksQlgZLu/FT7qHmga54j8BICEYiAwXVKRhnAHGzsrt1XBxjUXElnp0BEQCJi61TwNJaLARxtP8aH74RdGdSrjiDCoUhIYiN9x+jSVDYHP954/9PoV55pOFGm81xjRCQErUW9mik7bEmxMFj5ZGnj861g1tVJqrVlBgBCsJl2Al/1kzEXCw82K2LNf/TsxVRQ85Qy+eWgVcZe08uibHjFjx530VpZXzn85rs9rPkOsjVGK5VZp9GUce/kbMsou96Dtx6seds//PxnSoKAjWGqBC3P9MLofEEoXTC8zr21W7C7tbPXSzQI16v7ru53j+MLWVf+xTqNm28vLVTTXtiLlQGjBmE3PFGTrjgAQE4wu3BjtiZNlgz6YXh0HGWX97SxoYPS9XzflayTJE4yba/+Pg4AAEhICMwTpfS1rvUf1T+iMwoQ8s4HagAAAABJRU5ErkJggg==\",\"data:image/png;base64,iVBORw0KGgoAAAANSUhEUgAAAEAAAABACAAAAACPAi4CAAAE/ElEQVR4nO2W228TVxDGZ86evdjOxs7dgQBClABFpZFoVYFCVfHn9qXqQ1tUiT5SUVUIAQVxKwESIpI4ji9r755zZqYPtokvS1AlHjMPfll9v/Od8ZyZATiO4ziO4/hMgUd/RERAAREB+b8ARKU9X2sFQmSdI+H/A0Clw+JUHE9FPpJJ2q1Wp2udTNrIB6Dyi+WF5ZPLS5WpAFy3UXv/bvv9fitzEy5yAUoXZ1bOXVg9sxSHCpjJdPa3Xz1/8WanmZF8GuAFlZMX19ZWF3TaqDc7zoum4qLqvHv28PHGbmLlUwCvMH/+6rWvq277+dON7XqXvOJM9czZ0xWz+eDe462mGbmGntDrYvXy+voF79nfdx+9rackAKgLs6e+XLu0HM9O39+ojxAmAF6hunbzxqn9P2/f3WirMA48ZJelG68f3L167eKlMEA5GCaMA1S0+NXNHxaf3br1sBEulEuBhyDk0qTZuv/m5fffnmIiagzlYQyA/szq+vWZBz/99hKX5uIAmVhAhWFcadXqd3Zr60trna5tu48BvKnT33w398+Pv2wWq7MRm8w6FkStdegX9veepNmNxcsHiWHOB6hw4dLV5Vc///q2fKKi0jTNHDGAUtoPw2he7/wL3vXl1b22/VCTowBv6vSVswd//P42PlGRdqdrHLEAIHo6jaKgIjsbd+IrK2d2E8oFqGDui/P6r9svwuo0J+2uccwCgoDOWmsL4bTbfTFbqa682c84F1CsnlvYvvOIlsqStLrGkfSsIigmZg7j9ODpyanZ6laLeBKAeurEijy5V48r2G13s75eAAWERQRAx529pyvVuUoty3GAfnm5Un+4geXQJt3MMosA9DuJgABiISgdbL4ux+Uoob7rYUBQnve3njcKJUlT45il14tARESYnckMRN7BZsOPIw8nASqYnrabW1TUtq8fqAFEhJmsYR2Y3RpHYT6gFHa2DzBEayxxXwjQ+xURctaBL4268YMcAKIfea1aR2u2ric/7KQCACLsnChIGynqQR8YSaKnOW1aheSIRWCkEwsKCDMpRNtJGQcnjyQRwaUpI/BI/g89iDARIGWZk0ErGikkccYQ9PQyqPZ+JfVMCLMAUOZo8HnYATuTkeq94OGDBykAAREmQXHGDkp5GCCu02Xf4/HGO8wRZlFoU0uTDoRNkkgUkCFAwMGxY8EOPGXTLNeBaTWpVBRDiKrHGLOAIETgK9vJchwAm1bdlGI0VhRi/swRIhWqtGPyAGLbtSSajUwmqFSOHhHIiR9KNzGDu40AKKnV1ey0pBa9HA8IIOQw9KnTdXk5AErre9n0fJiljEohwtDkQkBAYBIdeVmSuTwHIKa5cxAsVDDNRHk9xGgmiTAMuXN4gzGAS/Z20unFkkstKIWII3IUZvBDlSWp+0hbF9PY8eO5lk3BV0qAe4+ofwMBBi/Uznbt4WwbA1C35ku4YPYy9hFRMYDgoJpEQAUasmx4SRibTGzbuzBTnKe6yXT/fxBA6del0hqNNe6I4UqmiRQX5qCZOsTB4f1UoOeBJUtHjnfKGmSLQUW1UuLBixjoFTgmOnrBEMrEpQWvpPzDJwcgCIggxDy27eXuSDqMQi02M5aYQXouEBHhsM8cBQDl6cD3UBw5IpYP8w1z9tXJHQkAWMh5WikRQAX8obflbbsf3VRRoULozcScBfWTAADAfls6Sv4Z4j+lqCixCflQvAAAAABJRU5ErkJggg==\",\"data:image/png;base64,iVBORw0KGgoAAAANSUhEUgAAAEAAAABACAAAAACPAi4CAAAE6klEQVR4nO2Wy28bVRSHz7l3Xh47dhI7OAm0TZWGsmhLAquqArrrX4pYdQtCQgKppaqEkKpUtCIljz4SUsfEce153cc5LPyIH2O1QixzNKuZud/9nXPveQBc2IVd2IX9T4bv+dz7zsD/AYAohJRSIJO1lohzITMBKKUfhMWw4Aqr0ihKUmUoBzEDgNINy9X6Sn2pUhA6ap00jk9OO4m2U4h8gPDCxY+vbmys1ecDiZR1mkcv9/ZfvW3Fxn4AAGVh8ZPrN29cqxdYZcoyStCdxsudnd2/z9IJETkAdEsrn219eb1mTw9fH//T0RCUq0tLFdE+eP5sr9HVYwRner03f3nrzhcr2fb29s5RK9GM0i8vXdrYuPTpUn3h2WFbjRKmFKC3sH777maw/+jh9mHMrusgG23Yr177fPMK7P7+5OBM02wF6FbWv7p3S/36/YO9NKjNhb4DrLO42z16u/vXna3rgQN77REvJgGydPn2va3op/uPmsHqQskXCMxeoVSJO2dvWiftO2uslemcR3ICIIL65t3N9MdvH8fVpbLLylrLjIiiFBRbZ09i/c2V5F1XxzMA6FY2bm/Rz989Uiv1AiWpNpYYAKXjukXPa/4JztdXbjS7aujEOEAEK7e2wt/uP1ardV/FcWYsMQOgkG4QuFXR2CnMba2tNyJr8wDolK/eXD744WF3edlPO1GmLTEAA4LQxoT+AjWeVyurl/eb6SAvxgFebX0tefzL2/m6n3a6ibaDFEQiIga/krWerhQqy6/fmTyACOtrxf0HL5xaqLvdRFk7LATIzADglOPG0+XVhUojpWkAOsX6Urq9HdXmKIpSZYjPawAxIIqCVzx99SIM5nyBnAMo1cLGH4dyTqZRqiwxj5Yi0oDoBm77YCUMA6n7qscOsVTmN7udIDBJqi0x9xUwADORNSrVwtWN48TxJOa5EBbU0bENhE5VDwA9BYzASMJqIdCBTrMMTj4gcKJGG1zWPf8H6wEYkIHAauEKTNsRS5EHkA4m7VRI0mYyAMCAzGStAGHjGIdpPBIDBBSQxQaRaDT+5whmtpaBVGaGb53RH2x86nQtmEEAGAC4f1wIANAPKxmkHACwTTueAbb9C8gAAKPrYfCS7bDCjx4jk7HoOUyAiMNNJz0hRsF2SBgDGKVkwWMLQuCwqY1sDAjARNJBM+wQYwCbJlAqgiYhRC/O5/v3CcgWHA+UGgRhXEESUakilQEhMLdjIJAF37OZylMANm6nYbVgsp6EPCNjZeCYOBfANjlry+o8JxrklATuCTDsFTBJcl0Ays6a2fxHQZZYyHUByFgRuCZKdN4xAut3jZZbX8QkYyEE4iSGybIbiCQ675DjABs3j5NyvWhTzYiICOcIBAAyJHzXRLHKvYkAlJ0de6VqSyl2EAVN3CMCRs/jJE4N5wPYRidO3a3Fp5pkP+MYgXsCGBili0ons1sb6Y7kir+oO5rFgDDIB2CUjjCklJ0JAMrarEK/wl1jBCIg9x4EBkAhhDXGjM4YkwC2KZuS75UgUTQaQQZAFEiW7NisNTVgsM1IFzxRQKks04DAAIgIRDwx7k1PKGyZtOcKF6UxRDCoywgABFOVKve+CeE4jgQmay0Pa1N+echPGUQhpRAARETENHvSnTmpIqIQiMA85fWHAXoM7Nfi2T+9Z1rPd3vM/gUsqgDCOjKBSwAAAABJRU5ErkJggg==\",\"data:image/png;base64,iVBORw0KGgoAAAANSUhEUgAAAEAAAABACAAAAACPAi4CAAAFIklEQVR4nO2Wz28bVRDHZ957u+u1YzuNcRNCSoEKIlCpKFCBoBwAcUHigAT/ZzkgDlDxQ0UFiR8BCqoq2tLQNE2aOPHPt2/fmxkObp21sykS4ti57n4//s54dmYAHsWjeBSP4n8KfPhDBAQBAfkPAKWU0VohMBER8xGMIwCoTJzW5ubSWIu3djC0mQ9SxigFoIqqzfbjTywvzlcNZd3drc27W52+8yWIMoCK0oWVZ194/unjtRgBxNvOxs1r127e7dpwiFAC0Mn8yguvvPrcAgDkPoiOYgXZnas//3Jts5fzvwFQV9vPnXvz5cdguLW+vrmXSaW5eOLkcj3c/unyT9d3LU2/b2b1prb84vm3VqPbV3747fr2ICfQSX3x1Jlzp08uPrl06fe7o2nCjAPUcytn335jee/Hr7//c59MFCkIIeeotXr+nZfnbnx1ce3ONGHGgaouv/TO6/W1ixevdE2jWasYJeTtsLe9dXXt/fdOvquYNi0fCVCV9vNvnjWXP/1qHR9rNVMNIgLQINvb3f78740PV89b6+45OQKAUfPUuTPmuwvf3KstLqQYbCARVCaqpo3drd/6g49WX+vsZ+SPAOjq8ukztV8vfNmZX2rozOU+kAAqEydpupTcufkJfLxydqNjiUsBGB079WJ7/fNLnfmlORplzgdmAVDaxFk1bamNW5/VP1g5/fd+npcCdLq0+uTg8rfb9eOptzYLQUQEAFHnPg/VJvkbX7Rff+qZ273AJQA0jRNPJ79/91fUSsNo5Dzx/d5HJgrM1Xp7449Li+2Ti1tuAlAFQLxw4nh37aqfr4kdWeeJWZiZmSl4N+wPod7or/0yai/WDZY4UGnr8fj6HzuVusps5oPwZI4IggAimsbgzpWn5tqNezkdcoAmbS2467f8XEwu88QsIgIyDibvrKVKam/cCo1GPHFQSEFX55O9Wx1TwdwFYhEQGHsYI0KeOUxhe72fzCUT3UEKqCs12NkcxZF4H1jgYBQiCABDyKMk0oO7XZVGCuVQCjqJQ2ePIhU83bf/oATjTCj4oIzf2ycTTXSFFJRRrjsADUQ0pQcAgXEdCDQP+l4pfFCEYh8A2WEOyDRpgAIBQYSZAMXZXA6mQAEg7DPHIHxfLxPpfRMgzCDAzhVGYwHAwXsGkGk5gAA+sCAMAhKco4nFIiC3XhkhLhiUKRMgLIRanPMlrSzkRt4kGAhwdtTKwUukDGSjckA2yKKq9gSIOB6Wh7YAB9aJ2FE+SaHwN1LWG5l6QjmjmvUgAACIQIHjhAaDvMwBZ90eNmucE6hDBAAABCGPaeL7Iy+HAcCutx/qxyKXg1IIiDNDHwHYB5Ma2yusuAJAfH+3n7Rq5Ai1UrNyRADyUEm538+4FEC2s8fHWlGeMWqlEA4Y+KCEphq7XqEERQCw6+70K+0muFyUUjibhISAaUWGfUtSCpAw3On45vEaZ15wloBCDHHFZP2hL6ymqb3Arhur6oIl6yKFChhAAGV8LIkImCQKfpjRUZtJaNTRragVdjJnFKJiOOhjBtBxJNbZcPRuZD9UMp8syJ4NqBCw+FGBjow476b0s9uZ876EetTErh1/EwdmEbUSHwJN3wezBwblA8prpoaRzafHCipkIaaZG2cWAOQ4uDSKwWQ+0MFcQwAGOXwulrS80lGcGJTgQyBmAREYd6KUnHmHHACwcMiN1gBKA4KMPR918JZfqqiUUgpAhJnLfvffAAA4HioCDA/VP/RaHz97qBzgHyDZKlJYDuHmAAAAAElFTkSuQmCC\",\"data:image/png;base64,iVBORw0KGgoAAAANSUhEUgAAAEAAAABACAAAAACPAi4CAAAFAUlEQVR4nO2W2W8cRRDGq7p7jr3Xdtbe2HESLGQTkaBAQKBECkHi7+WQkqcIXghCBEUQSJTbMbmM1961vTs7Mz3dXcXDeu297ASJR9fLPMx8v6mqrvmmAI7jOI7jOP6nwKPvIiAgAzPwfwcIlFIpKZCdc8YRTWQcChDKy+WLxWLoIemkG0VJahy9M0CosDxdr8/PTpUCtMluc2N9Y3M70uOIiQBUQaX+3vLyUr1akIKdTTtb68+frr7c7GSO3w4QXqn+/kcXzy3kXbfTTiz6+ZzPndeP7z38eyu29DaACKfOXvzi0mm1vfZ09U2ra0W+Ord4Zr6oX/x598HrthkiqDG9DE+sXL56obhx9/Yfq1uRIQDh5U+cPndhZbFSK99d28kGCWMZiHD2wy+/WtG//3jrUYu8wFdINtNWVJcufb4sn/16Z3VbD/RhNAPhz3xw7eulxg83bjdEuVIIlQAik0btnTtrT65+ehbZuR3DhwFQVZYuXzvz/Pr3f+lqrRxIIGIhVK481Wlt/bzZvFL/JE1Nxx4GELn5jy8vrn3z7UN5qpZHq40hBiGUygX5VvN+nF6dO78TZUSTAehPr3y21Ljx3YNgYcazidbGESMK5flBWPMaqyCvnFzeisx+EcMAmV84v5z9dP1hsDAj4zjOjCMGQBTKC3NeFTae3ypcPHWm0bUTAehVl1YKD27eg/o0dqNEW8vMAIBojTX5oGwbz25XFk69aOp+CkMAEdSW5lu/3OnOTWHcibV1TMAAgEDOOSK/lO48Olmszr3q9FMQQxUU64vqyW/rhWmVRnFqrHNEzMzEzhmdxFqW/OajlzhTDfrCwQxQleoz0f0nrhKaOE4NEfV9hJHQAiL6he3Xa9V8OYwmAbxSLfzn8VZQAJ1o62jQiBjBohBeqHZfLeaLoUQeK0H4pTK9ealzvku1ddzXMwAwM5HNMid9s9m0YShxvAfoFfN6fQtCNJl1RAwMzMzAzADMRNYYUNBupdJTEwDCC2TcjIRi0zv/wQoYGIisJYl6NwElxgGI0sO4Y6Qk6xzziBUzMJOzhGjjlLD/GQ8PElhOHQITMe8VP4hAZiJGylLcvzUEYHZkeV/ffzP0bIOxNxLAzqCbNMpMWcYCnesdPx/ogbH/CiIW7HjfGQebyDZNSClyxDisH7gyMQqrDY2PMnPWjSj0yRAiHvbHIMdKOr1v74MZkIk6Np8HbQFx1C77M00WlHKJngRgE7XSfFlqA0IMfWX9QATnMJBZot3EHkStKJgKrXYocHIJZEkFmMbZhB4A27i5zTMVTgwIMQGByGQhCChJ9i1tKFNKdzbT4okwS0mIXh9xUI5AlmSosm7iJh0jkGk3tr3aFKaahBQ41komB0HASTfrt2AYADZuNpLybNGltlfEgRx7elaBNPFBBSOuzNluwy9Ot7MUPCEYCIBxYKqZhe9RFg/85EcALm6q2aCmNzPy9hJg3J8BBvR80Dq1B9CRPxOZSGI1nHHbWSZFrwEMyNCbbVQKrckG9GM/V9JtcKXcNOxqe9CCvStKKayzlo4AAOk2ZQW/gh1tefgMUAiwbIfXtTEAO81W50RBxKk5eJQBAZGJid664qBQQRgoNjoz9sCaEBGQmUdsauLEC6l8TyE545yjvqi3s44+O74jAQAxWSUlAiAK6Ncxed09bFNFFAJxzwVH034XAPSKBjhq0X6XOHqbB4B/Ab95FalZZTOsAAAAAElFTkSuQmCC\",\"data:image/png;base64,iVBORw0KGgoAAAANSUhEUgAAAEAAAABACAAAAACPAi4CAAAEYUlEQVR4nO2Wy28cRRDGq6p7XvuKHduJI5xNjBMiAQkQiHIBBEgcAuQAR05cOMMfxAnlBEdOASEhpCAgBolEEMdJcGxsdpG9u/Y+59VVHPbhjd0Tg8SBg0sajebx/ear6u7qATiMwziM/0fg/jtIpAhB2Bjhfw0g7Qb5Qi7QaMJOq9ONzAGMRwHKyU8emz0+PZH3FcTNrY0/Nrba8WMRehzmFGbKp+aOBgQilC/mnbC6dGtpo5nIP3Kg/Onywlw+amzWmiGr3NG5M+fKfmXxxq1KN9vELkAXTizM55trq9VWIoAAoEunLr76Uv7uV9/ca6YHAnRp7uxs9PB+NdK+72lCScNuT5Vfe/fFnetf/FLPIgwBunhyYXJreTX0CoFLCIRKEYeNBl14/z3v+mc3swiDIlJu9qT3YGlTTQZaQmYBUtr1CsWZ6mKl8uFVSn5q2OvQB6B3dFavLDeCgsvd1LAIICrtBPnck8X1T8KP3mq1bnesY6EHCcx4f97bDgoUpgmLCAACkorCQmnWW7mW//idSn0lzgSQP5FrrOz4OYmSlEUG1WE2aZJOTMGDa+UP3r5fr9mS0AAAKleI1uvalzgxMtCDoAgzi+BU/PDT8xdfX26FFgABALo5rNXEgzhOmWUsmNOwtZ0cm/758/Dl8yXKAJDrhbXIpTQxPDIAICLCJo3aTXWCv7x5+tJxnQFQLrTaqLhf/r6yjwARTsN2tzD9+9fp86c8OwCVStoJQWpYAAbi/mlA6MhU+v3a6YWCJQcCQMIoFBJmARgb6wGBTdKLc7n7v5XmbUUgAECOEoS9+sGFgJg40sXGksxNKLsD5MQgsAjsmWsyTCKWXLzamyrZASBpIiD79UOMcMIubHby+SyA4bHSWwjMTNjuOY69BsKGBaxyGR4CYFJBSxPXAMAmy/1usDgYJ5avaABhHH7FFgiABAkUdbtr9j/WAMIgaFcjAAAiaQhx2qm37ADo7z/ZSZDW3AnKUNmxAAgAWPZOoXEPSMpxos7MfG+taWkIBDCa/9YMEEl7qpWcOVldaWcDsvQISNrzk3rhYmF5rWd5z9YjHtUrN1A7nXMvNG9XE8tbtEdi0/u9zYlXZu/8up3ZE0cSHBazP35AqN1cLt00ly5v//gwtGWqR2IQwXELCIik3SAwtdYzbxZ+yNjdRg4QhQURcOQBibTr+6bRnL+ycPfGqq0n7wIEkdAwEY6ApBzHVb3tcP7Kc+vf3mnZt7aRaVQKTSpERICAiEopjdxrq7NvXGh+t1iNrPqxwpPWZNJUSCkiIiQEE4cy+ezlcm3x1l9R9lobhtKuhiROGZGIANiwKpaffirYuL1ci7OWynjdleN6WtIkNiyCpPwjx8pPlLqr9zaatim0HwCkPd93FAgDaS9/5EjJjbbWK43QsgqtAEDleEHge67juq6jONqp11th+rh2tbfJodKO53muo5DTsNcLE/P4bpf1q0soYgzzgf+6+wG7dw9qtIfxX8XfV9NHq0Nec68AAAAASUVORK5CYII=\",\"data:image/png;base64,iVBORw0KGgoAAAANSUhEUgAAAEAAAABACAAAAACPAi4CAAAEZ0lEQVR4nO2WS28cRRDHq6q757GzDyd2HMdx4gBrGSEUhYcQgvBSEOICnPkAfALufBC+QsQFCRQOPCQQj6AEUEhiiImdKI6dzWbX3vV4Zqenuzh4NnbsHieROHBwHVbakerX/6quqi6Afdu3fft/GO7+giSICNgaa5gfF0DSC6OoEkg0WRLH8UCbxwGQig6MHx4fqfoKIU/77ZXl1lqaPyoAVXTo2ImjDWWyzJBXqUUyWb42t9hO91CxDUDBwenm8ShpL99dTTSqaPRYc3aSF87/er2bl+ZiCyAqEzPNRn/x+nJPAyIwg3dg5uXXn05+/urCSlpGuA8Q1cnZ4/bG3FIig0BJRLY6TXT15AfvHb742Tc3kxKCHOqvHJkZb839s+6NhgqZAQRFZDZWf5z/66M3xipfLpRoKBRgODFz6N7VW1yrCs6NsQAolB94vLaMZz5+68qnX9zM9lKgRiajpbkVVQ840cYwMyCR8qPq4frNcym++WEnbjnvQhYJHKu2/77j1eRAa8MWGACBcq2zRm1m4Tu//uL7S3HfFYQEAECvUdtYaMmIBjq3lgEYAJCttcZy48n5r498cvrSrUQ7AAQAQEGNb9/BEAeDLDeWmZkZ2Fqj0/Vuz5umz896r81GuxunAMiK6rW0R1mmC3cAYAZmawZxt1+Zunf24hOnRkUJgJRvOrGQRueWt/XfJiGL19KRkUvnsmem/BIAKrHRs5JzY4uzCxVDQg9G0+/nJ6YjKlEg7HqKaIxlhi0JQ0KexklYmf9dTtXdACTSiSGwlhl23BQDW5unCUa9K/F4QzoBgJBljNbaHf48zINO89Audur1MoDVOQLv9Aco8mCtziXd6wZVufsiCQDY5tblX4gAsMYIGfdVxXGPBABgcgaH91AGMzOSzoQnyhQUCXcCcPiLwlVIEgCsccq/T0AkApYBuaY8AbA1FksICACAJCSbSgMzR0NvD8Hpj4BIUhpzcEzHjgFfAPYIARGlL1M4NtpfcwxnCVBUb+nYRaF8Xg9nq61uiQKwe2UQSAZ+2j/6rLmx6sjBZnGWABAAkIQfQheee2r5et+WKCg7HQARhRf6cWfydHB50TXZaYfHA+IBEYUKQ93CV0/e+q3lmonb+wsBh+Fg8Z9IBSG0e6feFuev9BwRbAEQmPGBt7o4v4Kd9tF3T/z5022XgG0ABMtAWFQUAiCSVL7Pne7YOy8sfXvVlcLtISChtZaIYPNZQSIplcz6G4fOvLL2w4W2e8/ALX9JNjdIghABEVGQIJtu8NTpl+DiL2XP81bUKJTkXBsUQhAhIbLRA1trPt9ML/+xlDgDeHBDEb4io7OckQgB2DBFR5rNemfu2t2HLxgAQNILPDI6y41lIOnXRicm6oOVhdtr+hFWHABA4YVBoIgZUHhhVItk1llpdR9xyQIAENILKmHge0opgWbQX11dT8s3rN0AQJTK83xPCbQ6S9OBNnsvq44XG4k2q8Fas0ejlwPuf36o8779R/YvE35MZMuv2J8AAAAASUVORK5CYII=\",\"data:image/png;base64,iVBORw0KGgoAAAANSUhEUgAAAEAAAABACAAAAACPAi4CAAAEcklEQVR4nO2Wz29UVRTHzzn3x3tv2s70dwlDS1to0ESJkkBgA4rRFaxMXJj4F/inuHHv1o0bTIxxoQtJMIhKrBEilPKjOC2l00Jn2nkz837ce1y8aWnhvmljXLjo2bwfyf287znfe887AAdxEAfx/wh0vUNEZGBm/hcAEkp7nhJo4rgVJ2Yvxm4Aku4pDY4M9ff6ZJq1tZXV52Fs9g8Qujg6frQ8Ugy01lqa1tP7d+cWa5HdHwBl36GpY4eLJtxoRFb3jRw5Mqaqt36eXain+Ym8AJAenJwZ92qLlZV6O2UUwcDEybNvDz+59sPs03YuYRtA/uix48XagwfVCLWWBDaJElU+e/lCz82vry4089LA7fVjMxO4MLds/J7AE0REYNobtXTy0idvzn/17XyYo6EDQG/0eLl970HoF33JzIwolFYUrVXlhU/fX/ryynzLTZDZRfWXB5/N/W1LBZFGqWEGJCn9QjA+sPj9s/DDj8PW46gLQBRGBmrzi1jybJwYwwyAiKLVLPQVZyo3P/Muf1RtrDg3hAQAQN0/0F5Ywj4ZJ6np7GAEkyZxnJQmafbz0TOXHm82XEnITEAJnizZXpHEqWWGDoCttcZw/3h8/YuJ839W2okDQACAsserL0e+SKLEWMvMzAzM1po0Dmt1OaG++6Z08bWC6+QRAJAXJGubSpq4sx4AoMMwSbPeKJTXrtx749SQyAWIRo0lJ6nddYAzQtysR4PF338MTpW1G4BC2s22IGMsMwB3Utgi2KQZyuH61dUTU4EjBwJAQVHTEhvLDNsSmLcIadyMi/r23eHpPspJgdsRoLW2U/8diIzQjnTvyh05UXIUgQAQbJwiWwvwqtEMzCaJsCd8GI/mAABM0sn9ldXZxSTW5+VmqTcHwGnKwK7zumWosRLqTT/IqYFNrVPANoQtI8YJCYcLEoANWujewRGYCa3rNBEAW8MM3X4CSGCgoNqu7ioBwCKjwwDI2g0iksAIhryN0CGBAJgtA7sJGUYoaOqyqtYdAAmQGZDb8hCFUklYmjZLG24FXdMHRJJaNVtHp9cXNh01IOhCwEyADnhdvDX26FGYB8j7eCZABbqxPn7G3q642moXAGYOqCAwq3Tu9cd/PEv3ACAi7ngAQECh/AI9r594B3+by2+q2feYcddWzQzwC6JeHflg+q8by66eug1ABGAARM4czfQL5ftyc7Xw7tm1a3cbzt/jtgIgsBawAwJAIBJKe1irBecvmp9+XXVV4AWAEYmMsUS0pV8IKUXUaPWfe0/fuF6J8qzeuiEp2KSWBBEBIhIRmLhFh0+fDu788tC1iXYBAKWSaOLUoiCBBAAmTak0fXIquXer4i7ALgCg1J7kNE5SZgQAIF08NDnes37/YbWdOybtNA6F9n2FJk2NBZJ+b//wgN+qVlY2kv3MSFkdvCDwlCASUnu+4qi+9nwz6jbovdTlUEjte76npCQ2casRtmO7R7d7+QUJIYUkBGPSxJhuM6ITAACI2cbc16x8EP9B/ANlaU12OKr3lgAAAABJRU5ErkJggg==\",\"data:image/png;base64,iVBORw0KGgoAAAANSUhEUgAAAEAAAABACAAAAACPAi4CAAAEgElEQVR4nO2WS28bVRTHzzn3zsPjeFK7afpOS9u0BLWlAgmoEB8AIT4ACNasWSIh8SmQkNiwYlOQQGwqsYBdd0AqtaFp0jak6ct14jj2PO89h8XYchKPQ7tFuRqN5av5/3Re95wLsL/21/76nyws3SQkRBFhlpcHkHI83/c8hTZNoijL+aUAygnCeqN+IJwIPDSdZ2trTzYT+8IAcmtTR49M1XxHe9XJRqMGrbt//Ln0PB5vxXYA6ur0zMmDOt5sbyWsqgdn5q6c9zdu/vr7Yjt/AQC69ZmzR7G5utbqGQYAcg+ceff9t/3N367deJyOCecQgP6hs+fC1uK99Vy5rqMJJYsTOvXBJ2/C/HfXV5JyAg710xfO6Hu3Hlm/4moiUtpxIGs380uffRTe+/bnB+WEAQDdQxfO2oXbm96Eh2wZgLTjB4FOH62Fn35+aunrX1azMoDu/6pw5kR8ayGtVckYYxkASTndIKzNNpa+aX4593Gz1yxLZx9AweGj+cJCNlmRJDPMAABIWZrEUX3KW7wmX73x4cNet8SJPkBPHlHLi1nomyyzLCKAgEzW5FnaqM3e+Wnyi6s319ISJ6h4VxqVp0tR1TNJaiwzi7CwsDVpr/1swz8tP34P75wPSk5OYYGeqMUrG65n09yyFIYKgCCLiIgEx+//MHv64p3eaD0RAAA6ATWfgS9pZgp98QIRYZNsbUSTk7eud2ePuSVnDwCAXC9pJg7mOYtIIRcBEBBma9Nuh+vZjTuNk9VxAIe2NkVz3/5+rAuKiLVpL/aClXk+EqoxAG22UgXWsgjIjlwJiLBJIqhGf7cbYwBImEUWpdBvExfREGaT5h6sNf3QGfGhSCOnKSBb3qEfIADYGqP0xnMV6N36PsBmBoSH7m93AURArAUVb4qnRywokFYYQKTsuAkCiDCDsj07qi8AfeN3O7DTEmTLJT1YAwCIlb3EA1OKY14CELb9lJfoEAAQkcRqz6ajc4IKFyyUywGLRxEbv2oiM/IBFS4wQEkKBhAkpYwNJ+JuXm6B8EgFbDcASTmYwHS1szVqQZFGgbIa6HdMRHIcjirHdasz2tSKQpLxQxQRSbs6Tg+fSJ70RrNA44QDBxBJe57tuOcazaclnX0PAA70rq+6yYlXzcr6aAh2ARCHg2ZQANqrOHE7vDL9+J+tkr4+PF4IAoCAsm0HibRb8dKWvjzXXXxaNmG3AVBEgIYERCDluL6O1/nSW+7C/e4egwUAAEmsMCHJwB2lHMeFbhsvvle/u9AqHfFDACMpMsxEBAiIoEhpjWkvCi5enXow/zDec7gCAGpNkhshUgqJiAjFJglNv345ePDX/bII7gQAaUejyQwjERGiWGv1gVdeO2mWb6+WBmAXAEi7nhab5YYFAFH79WOnjrnry8vNaNwtaWeLQe36vqOEmZGcSq3RCHXv0erjTja+1Hf9JcfzKxXPdVzH811to/Vmq5Pucc8baXKotOP7vue6hDaLer04t3t1u5KBjUhaKUUg1pr+ZeOlAACAxf5/d9r9BQDwL5sVTlCJ5uFRAAAAAElFTkSuQmCC\",\"data:image/png;base64,iVBORw0KGgoAAAANSUhEUgAAAEAAAABACAAAAACPAi4CAAAESElEQVR4nO2Wy28cRRDGq/oxM/tevLZZ23GMgp0IoiRCIiQigkgRFzjxH3JA3HLgwCESEoccghCIGEeKUKIIxTgPr5+7szuv7q7isGt748yszQ0h12EOo/l+U193dVcBnMVZnMV/I/AUnyAiADAQ8L8HoJBaayWRrDXGEh1nTAag8sr1RqNW0mCSftjrRYk5hpgEQOk3Zs+dn5+uarBp3Nvf3tzc6kbWnRIgdH3u4uVLCxUXhf3YEFDa29p4sdmN3VgSqlAvg+mLH19fLu399Wy900tZlxuNWqvcrG9sDwyfDJDluY9u33x3+8Eva+v7qWNAHTRm52cayteb4RGhyIIoL9748qa3eu/+s77wPIlkjXGqPrc4w52/X/cPCQUZYDB/4+tPs3t3f94LZqu+ACJnsjja7W4tLtTaxpGdDPBa1776LPn+24fcbgVorXXEwtdBNOhE/XOl6dQSTQLI6sqdz+GHb1aDhabI4jRzxIBCiLIc9J/buaARm5GJXAD67eu3G/e+Wy0vNWx/kGSWmBGEUFJXIHkJM6Vq4lwxQNZWbl14cvdXf6lpemGSOSJgQBBGSRFQvClrgZ8OSzIPgHr66rXsx/vZhabrdWMz1AMAoVMKPRftCOErWwwonbvaXvvpZWsawjDOLBMwAAMyMpMSOg39qlKCigCy+t4K/bYmZrx+PzaOmIcJMDAygxDCDDRIRC4C1Jfmtn/v1OsuijNLzAxHNwFZicImsRYCAABEjgPVnK9sPDV1ncbGEY3rmZmIEGxqGbHAAupaS7x4JSqQGkuj5A+CAZwAJCNH73ItlKu2E2qPjCWGgxUABgAcLiewtVxYSCg9z4apFETER8mPnshACEAOuHAbAcFaBuAx/ZEHZGQAdlCYAZPNWAomLjjrDAzsYHiacnYBXNynamANCIFvMxiYAZhpaCEHwDbcc1MNm4CUmEsAABjpczOwvdfRbJv7TmuJB4hjIGYqBLDtbuxOvV8KE+lpiZh37x3q89cgXF8PPmxHXfZ9JREREABGqRw3lQegaONJdPGy2o1UyVdSjAiHXXK8MnMBnHUeP2/dOD/YsV55SMCj/yO84Sm3kOz+07WpKze3d1XTJ8iMI0Y+UB1W9AQAJS8eti/devVgi+o+SGHd8EwDADMDIpwAALP/pFVevBOtbmc1FQgzIjAzEaDEsQ6dD+Dk9R+lT1a+EI/2k4ovPOnIMRGRI5BSjE8aBY3FDdYVX1sWtUebO56nBBCTc86B0ArJ8RGgqDeiri9d+aCx8+fj9a5BRGQmQKk8xS4z7mQAoKrOLy/PUuf5RidMHAEKpbVElyXGEZwMAJSlqYXz7YoN9/Z6ceoYEdikcZqN6yeOOMKrvDMz3QzApkmaZVmWxHGcWPfGJTNxyEKpS9VqNdDINkuTOElSM76AJwIAUCjlaSWRyBpj3XH5aQZNFChw2BHeUp8+ci6ms/g/xT/cy2aMajxQjgAAAABJRU5ErkJggg==\",\"data:image/png;base64,iVBORw0KGgoAAAANSUhEUgAAAEAAAABACAAAAACPAi4CAAAEKklEQVR4nO2Wz28bVRDHZ+a93bUdO3Vs1U2atk7VBqVqpaoVUBAgIfXv5cAFoQLqgQMHkHqA0opSaN2E/GgSO/bau/t+zHCw49ip1w03Dpnj7nsffefHmxmAczu3c/t/GL7/BCIhArAIy38GICodhpHWwM4YY907jPkApQvlC0vVSjFAl8TdzlE3MX4aMQ+AQWlpefXKpWpRA/ss6e7vbu8e9o0/I0AVlq6sr1+tUhr3Ews60Jzsb7W2DxMnZwCgKi9v3N2oZduvWrtHiaOoXKvXi/Ztq7UX2xOCzgPoSvP+gxvy8slvrw8zBkGgqNK4srLQ1Gqnd0LIU6AXb3z6xbW9n3581pYoChSys5nF8kqzAXut3d7YixwFqrz22cOrL7953JJKpagQRNjbZNCL96+tLjSMG7i5ACysfPTw5vOvvn9brpUVO8sMiLocRvFB2l8t1FLLPA8QLN358tbrrx8d1C9GPs2M9wJIpKhIcb9ll6NK4kTyAVRqfnI/efTdQeOSzvqJ8cwAgKSUUiVId7BWKKV+DkDXbn+8+O2jf+orQT8eGMcMAghIpDRGPtmjUhRazgVQ4fK9mzs/PC8tF/pxP3MsAgIIwOi9otAP2kBhOkzETEDl+u3Ck5+zZsX0B5nzIiAAAoAgzAq1jcOCUpgL0NWba0e/vCnXMEmMZ5HjnAswAhChGRAQMQAAvXsfg/ra0ubTdKlgE+OZRUDGxt57IEkzQcQcBRjVLqtXm6pCmXGeAeCk8gWAARGcCY7lzgCE1brb6oQFsdYLjB0YBlIYUIAdST5Al0vmII20dxP+g4wRACDe5VciqlCbvlfkPU+JBwCQYezB05xKFGfICjDz8JBMhmFEkNG/WVkQnw28Jjeq1dNddPT1mD4L4OKuVEJrgQhndQyRISBXgensS30hS0XR+PYEZiRhjgumvZ01LrqYtT7RcErIeMjMAIA9fNO52NRdo4OARgV3iiDj/M6MQffVVnmj3u9BFGpCHDHw2KYCO0sBx29e2A/WoZ0GhVArRJwzPmYC0p3nW417y3HbhcVIK8Ipm3ZnZkdynT+vfXjnr6M2LUaCxnkZtgTAYQ4nnZgJ4GTr11rzwcGTA66EqKxl5tEVFgHCkxeS05Vd58VidPVz8/TQlINIacfMAiLMLKAI+D0uAKe7T6O7N3zwey8tRUoTe2ZmZi+kFUxO+JzJ5PubxLfW9OKz3SMVagJh9t4LBqESxxMu5OYnqKxurFd7f/+x2TaMACCAFIQBeZu5iQ1hznhfaKxdb6jO9vbbbmoZiIJAE9s0tZN7ztwF48Ly6qUKJb1unBgvAuzS5NT9uSsO6dJirV4tKrHGmCxLk0GSGMdTh+YuWUg6Ki2UigGxt1mappl1p3ass6x5WmsCYe/cVJM8GwBGj3D0gGcsmud2bgAA/wIk0GM5aJ67LQAAAABJRU5ErkJggg==\",\"data:image/png;base64,iVBORw0KGgoAAAANSUhEUgAAAEAAAABACAAAAACPAi4CAAAEN0lEQVR4nO2W328bRRDHZ2b37nyO4yS2EzepICpKSotaoYpCKwQqP1Re+Veh8AASqC9UQlWFyo+AQilC/ZG2+WEncXx3e7s7w8PZdRqdnRbxmHk53Wn2s9+Z2Z0bgBM7sRMDAMCXc0IAEAD5LwAkpRQRimfvmY8yjgEgqbBSjSuhRm9NmqbGeX4FAAVxvdGcq8chgs/Tg71udz8x/rCKSQDU8dzia0uNKrrcOhFg0+tsbnaT/JCICQAKZ5ZWVxYr6c7mzl7qMYhrtYr0N59u7mX+uZcev77SWnn73Gzv7z//edYzXpDCeKY1P7MQRbqbumMVUNy+ePW8vnf7l0cHTIpQ2DNGc4vtWra50UmHGsYpwKh96ZML5sfvf+2quBIQgLC3Jn/S3TrdmHWeM54IwLB58fp7yQ83/rD1WojMzECkozwzj/unW7W53OcyCaCmVz/6UL79Yk2fqqG11rEAEFJAKu24vDlVz72bAMBo6crHzW++XIvaUz5LjWMGACRSFGK6DzIdxznzeICeOX/t7M9f3w2Wpm2aZM6LwICgVJT1CMJKYscDMFy8/I69ecu+PmeTfuY8F9cImZiJAtMLZnVYnEgqA9DUmcvz6zefteYpTYzzLCwiIizeWcek3EGftcKxCvTsm+f87d+ChahXrJfRRWYQUt4kiDQWgEHz7PzWne1G3afGehmtFwARESDOAiRiKQ8Bw9ayerjuZ4M8sywvNBIRYRYEawZHsVRB2FyAB0/CGubWs8hoewCEQg47EoQxScSgPi0b+2HoiwM02Hr4EBYAGZa2FKDj0O3mgWI32n8URAHjQWcqPwfALmUU5mL5EUbxzcNYBcDOoyYRLL3sRRKG9DKA+NyHjdCKDhQhAOBREQIAgwZdCrC9Pp2ezq0KFJWoKEKQ8UmUvLsDy6dsH6NQEeJAxBEnmaAg334gy+do10aVYCjhsBIBkGFdy0PYvtdpvdvs9lQcacJCAxRPHLwOy1taBbe7fk9dvZA/M5VqFBCOIhjqGOW0vIz9+3d65z9d2N6RuBpqRYNEjPbHyQAxG7fvxtffp8e7VK1GWhEiEhEREg1IQ9/yluZ2124urnz+8KfH7TgWMm5QdAQQEUB8noIxAMke3mp/duVRf32jEUdIdngpRFiACEd/+TFt3e+vf1e5fO3gq/Wn01UdkPZcdALvQWk6NCWMAUi+dVebtz6A2u97/SgkRARh77xQEBDzsQpAsid38u7qpXh+7WmSECGIMIMKogDdsBcM0jLGKG6tXHwj7tz/61EnsQyASgdRqLzJMjcaEI6ZD84sN3B/e6vTM1ZQaUJvksTYlxswAHU8u9BuTSlr0ix3zjmTJv00d4enpONmpEqtXq9FGryzxiRpkhn3woh07JSGWkdRGBCKt7nNrWc+4jEZAABIqAhRRHjYI18NMHIqmVNP7MT+J/sXaApca2L07B8AAAAASUVORK5CYII=\",\"data:image/png;base64,iVBORw0KGgoAAAANSUhEUgAAAEAAAABACAAAAACPAi4CAAAEPElEQVR4nO2W328bRRDHZ2Z378527MRO4jQ/SihQoC0tICHUCkpFxf/KEw+88AhVKyFAFaX8kCgoVZqmbZKmju3avru93Rkezkmc1JcExGPm8XTz2ZnZme8swKmd2qn9L4Yn/kv+IwARiQgBmJnlVcoxAFQ6iEqR0eCzJE3SzB9mHAlAFVbq0zONakmLjbvt1k6nlzg+MUAFteZr5842J4z4LLNJr7X17Nl2N/GjQRQDUFeab156d6GUtl+0+1Z0GGrX3Xi8vt3P+AQANJPL7390vtxaebC62Uk8mcrUTHNSdZ882ujYfYIu8g/q569dW3r504+/Pek5RBQRVWosLjXmlcL2PqEgAjT1Czeuz6x8e2dlYMqRIWBnk9SHM8uLUXvtacfu1qEgAlV968bN+i9f33kenqkGJMzC7NJB/0mntTzRtI6dHAWg0tmrn83e/fLOYHq6DC51TgQQAxX0eg/j5YlGbNkfAUAzc/nT137/6na6MG1snFrnBYBIKVOl+CkvhbVBxlIMoMrrH1/Y+uZ2sjBLcT+2jhkEEUkrVZJ4k+bC8sD5YoCZvviB/v679pkm9XoD6zk/DdFpTaG3z00tCtP84zgARYuXl1ZurdaauvdyYB3LcACQ2WsKfNxSFGhXCFDV5Xfw3q8yW0ry+GV3lkVENOq0F1WUwqIUUE+eW2jd26xNcpz7C+zJAQMQUdbXSOQBAGhcCRpnJx7/7SaNja3P/fMcRITZs5AkiSfEogiC+hyuPdMVtNblldobPwEGIABnobiR0NQms42XQciZYxGRg2omDICc0REAXS7ZHRspdqMalt8k5PmIU1wMIK1cygp9nj6MZCGAAowA7KS4E0W8F8hj341gvwoIAgLCkocw5haEU6si5RkRx427gACwH8rrOIDr93U9zBwpwlcVQ/I7Hbb3WIDt7NBcLU3AaMIh4hXMbn3HAnY23OIZ3xNjNEHeLyOE3Z6CQoDbWevMvx12UxOa/Sz2CJj7FwPAdVfXq5fn+22JIqP2SolDgwN7chzA99YepBevmBd9HUVGEeJuHnA4mvEASTf+WG1eeyPetmG5FGhFtHs6DUdonzBWkVz7wf3GlU9ePKdGwECZZz7QUTiSw1gAJ+s/N9+7vn2r5acMKpvtiZKwCBCOzNd4Wc86f01FSzfTH9q2FhpSLpcFZmFBRcLHrTZJN++HV5e+MHc3k3KkSZNnZs+OQWklo+u5YDP5wTr5D+c+n7r3qNc3mkDEs2dQOqCDU164nfXEwoVL8/bRnw+3+lmuBaQCo9HZ1J1kvYMuzS6fX4wGG0+3dvrWCymtFbg0SYc6dxwAKKw1F+frJut3e3HqPHtnkzi22YE3zlFPHNRhtd6Yqhhw1qZpEseDOM38yd9IAKRNVC5FhsRnNklT69y/eqUBAJLSShEI87AZDv9wDAAAhtN4WN5P7dRG7B+mgGrIoRe1mgAAAABJRU5ErkJggg==\",\"data:image/png;base64,iVBORw0KGgoAAAANSUhEUgAAAEAAAABACAAAAACPAi4CAAAEJElEQVR4nO2WW28bRRTHz2V2Zi+245TWTpq0DaqKaFWIBCpFhYIqBAIh9QPAExLfkGteeEBtX5CgtFyiiEJpm7hpkzh2bG92vTOnDzaJs/amiEeU82DNevb85j//PWd2AY4CD51EBBQQkf8EQEQiQgSxzhYy1PMUsmJyNu1n7l8rQASRwRQistJGk43jxE4UMQZAQhAHezcjsg5LPvR2uv1JIvIAYgLnnAznEEAAVFitqt5WO5lAyHnASoEd5gMAAiKCZO3U1Y77qrk7TjgIYE9TP3MyWFhQUBAIVRavy6njHmwmYz4cAJAXqLRvgYYWCAA4BGbmdF2drUvWTPMAGvXDC3xM+0ADAQOEiLOO/CBrNHhuJuTDAGwiL02BR40dECyYIF3dqJx6QY+5PjLUkW93LdOwDvYJNrMY+O1Hu/XZiA4B+CW1mxLjwbIVEHGZ5ZCfrAfzx7xCAHpRaHdF0YTeEZc5HcSNtHYiyEnYvyRT0mlCakJxizhnMaSNVqWe38MIwI84sYphYuM5K9p0Nr1aOVd6+wD2Q0hA5U0aPFERJ+xn23CskpO4dz+yH0CGPL6DwT/iSEPHlgsVIPsGHE0A/CMDPUwkCosUAHmGBYhw2IVjMojRoa8LTURlNCIR5gjDERIhkNF5ifsAAR0oQSbEkTxAAEBERGYQv8TWFQDEOVXynTAT4iBr7wcAkT3OZGpK8ifbvgKXYrUilj0ebGJwqsNwwJ6mhGaOJd2sSEEW96s1TlHvE4bZAEjKGNeLzpZbrX6RAtvthKfLu1YbRYSwtzoAEikd6jieO8+PW0UKwPY23Zl51+PA92iAQEQEJCLWUShNXjzXetC2RQCJn7bqFys7iQl9j3EkiE1UNu3t01en7//dlUJAuvkIXn3ZNV1UCrQaPA0kIuX5pakofuxfu9S620gLAWDb9xszVxc6W1CqRL6nmJmZlafDynQ5XY0vX6/e+bWZs2D0VJZ4bXl+sf1FA2tl00tS6wSAWJmoZOKHzcVPF3+/dT/O9/pob9ntlfq71+zXDVuL/DTpZw6QPRP40H7YfuXzDza+u72Vs/AgQJLGT9W3Po6+udc7MR1GzgogKyW9jXW48tlHO0vfP3rOi8V1/zLmyvWTSz+ublUrgUcIrt/abiYz733y5sZX3650xl9tud5S1Zfeebu+euPmSku0UeT6SZ9PvPbh+3N/fLn023bewXEAqMrCpavn9YOf7/z5ZKcvZKbmLrxx+Uzvh6Ub93Ym5I+fHBzWz196/cWw+2R9s+PM1Oz8XKm7fOvmL414zMCJACCvcvLcxQsLtdBDYpLe03t3by+vtfMVVAgAYF06PntqbmY68myvuf7wwdpGJ524fAEAgJQJSlFgyCVxtxMnRV9YhQAARCIiFOecO+wz8SiO4iiO4v8UzwDl6rxq6pn03QAAAABJRU5ErkJggg==\",\"data:image/png;base64,iVBORw0KGgoAAAANSUhEUgAAAEAAAABACAAAAACPAi4CAAAEQElEQVR4nO2W228UdRTHz+U3v5md2dltt7S01XJJIUJARTEaQkiQEJU3/gA1wfiv+Uw0vhkQjQ8qxCDiLQRabtsLbdluu7tz+/2OD7u029mdSnzyoedlJzs5n5zrdw7AnuGuLxEBQEDkvwEIiQgRrLWmkKF2YyMiMTOKSdLMvjQAAQUEAMSKNaxQazJxO86GBjGQAiKiSC9iFARk7ZdL2Gm2EvMSAGRCsUZ6rxBABJU/UtOd1UY0hJBLgdhBm1kAFBDslgEkayZ2ap/vrLYHCTsBpDTb1FhEAABBQQAgUiZalMMTHi23B0q5A4DK0zbOLGK3BAIgiICsOFlSwRSZLM5XUu3096GVWup1oRsEWEDlqXbdHzmQRGtpDkD9ALfsmdhy/38CItYYcIPs0VPv8KRHxQB0gjJGKfGOzgiI2CzDkt+aWx8/UM0PTh+AvNBLI1AI0j+4AmKtySjQzx7zzISLRQBUQYXamWIcnDgxmXWC5FFzbCrI5dAH0KGfRejQsL0Rk0JJry6Wpir5ydl+ckMvSVgBQJ4gItYYx4uWzPiIg0WAUkVFVjG8GOOdCGupJGudsKoLAMhegKkowqEiIdaIQ5udoFIcgetRhirf5+0YQHGceEExQHssQNTdgyFBEJFF7RUWEZXrvhCxfkIvJSRiQEdzHrsdI7qBFlSEXS3tEno0RGIG0aGXb9E2wBpVDcCyYsSemCBuxUDsOJAFYzrNKdsWQGycVWqYkVYE2449ELLjOqmdmIZWWgAA04nL014s2mHCviL2xNn1uc2z01EjLgLYdkMdHIsT5TqMhL1KbPkHpWyjdmpsZbUwAtteiV6dpU3wPId7dez9EOugotejE+/h47yi9AGi5eXqG+Obbe17DhNSNwokItZBJWgv1T44tnivYYoAkK7OxSdOqbXUL/taKermQcRKByNVU4/OXnLu3G8VthHsxtyDyrlj0YotV8OS4yhmZmbleOHoKNaXjn9y8u+f60kO0DeYEi/dnXntw405mgzdTifJrAggKccPy1J/OH3l0vNvf13P63r/ZJvmvf37ziZfzpvp0E+iJDMCqLTnO8nThcnPP1XXrj/ZVdYhWb5dO/+R/9VfDyb3haHNjAVkpvTZwsbslc9q167+vjHwYdm5dVw5euH96i9f//Q8GBsJFIuYLGqurfvvfnw5+P6L7+px3j+/tqpy9PyFQws3btxtoFfSZJMoyoKjFy+/3bp+9cf6QAKDe6/CQ2cuvuU/vHnzz4WN2KLjj8+ePvNmcP/aN3eW8x0YBgD2J18/e+54af3p43ojomD8lZlxenLrh1vz60MvjEHlIac6c/Kd00dqDCCCEK/N/3H7t/nVYcfBUAAAu9X9B4/MzowGlLZWFubnHi02Oqbgyhp+pbFTKlcqYYlMtNlsbnbSIvfiMw+JmRjFGmPsLmfivxjueofu2Z7t2Z79z+wfQ8bH85DZaxkAAAAASUVORK5CYII=\",\"data:image/png;base64,iVBORw0KGgoAAAANSUhEUgAAAEAAAABACAAAAACPAi4CAAAEEUlEQVR4nO2Wy28cRRCH69HT89qJH7uOY4dIThRwIBATEYIgl4iDzyAu/LFRFJEgEyRQEhCPvC0/Fsf2rtfeh3emu4vD2snu7M4GcYxchznMVH/9q+qa6gJ45w3xbQ7jVyMCgIjI/wIgIRIhijjrXIGTGqdAAESYmcSkmR2tYoQCRBCQ469ESvs+ms5h6kYhhgCIiOKgzxfZjxPfNA86o0TkQ0BGdG8EIACIsZmpJKWg1jLDhByAmMENJAwRwWV7jmYi71UzewuAlEJjHWBPwpEOYjENp+bmwTXtWAAqzcbavsQICjgkpdKD9WDubJZ18kHQwHrfx8wC9WVWRMRZ4VA11g4m5055eQX9ANKBMgYYof8QRJwzwhHvbthKJaBiAKowlNTR0MmKc8apyP2zE55O8sfWByA/9jJDjDBU+s4a0X6raspTOsd/A0AVRZA6zmvsRWEtBrC7F5UjLgR4UWBTUgi5/QUAxFnxdLvOUzEVAUjHOrPMo/5PEbGOtWm4qcQbdOhTEMSUiSKAUb+YiAONLVs6VQhgHbKBkSnoPdCjriuVcpXw2h9Ja3RIvVMc2OXoDSm2EMfFISitAAiP+tiAISAQKwKdRLkk9dUF6oABqbcc5c3i3v6kUDiOigtJREW+ADMi4GAQiIikPHDBVIi5KnsNEGchjMAR85EGhOOWAoDE2nN24rTumiIFLrXJNBv0mI6WYU8LICCS53NX5ubsQVqgANxhx5+NUud5TAOJREBEpbVrBRfL+/UxgAOcmzGpCjQT4lEIiAiIyF6oO83Zj/1qLSsCSLfenr3gt1wYakWIvRAAEJFYh6GrwZVL+8/qhTmQrL4dXH6v2+Q48hVTryKQkJh1VPIae2e/nHj2/CB3RfUdq9nf+GDh2u5eOEFEqXEC0ssfe1EpbL/yb1zde7hxKIUAOay+OHu99sO2lyjV6RonAIBESgdx0Kl2v1ou3futlotgoCtn9Sfnri63f67KxKTfIyCx54cBNTebV755/+lPL9v5ZtUPkM76o9nF79T9jXQ6DtPMiDB72lfZbjVb+v6LrXu/18ffC7bxVyn5JJm6W90vJ0EEgMwsWX27Ft/49rOdO/er3aG7bQAg6fYDTZcq528/XgtKUeCxdWmr0VSLXy9fWL11d3UogKHeg+GZpZtL6vHKr6sNS4xgHSULn9/8lB/dWnnRGgpguHmRLi9ev3YuW//76UatYzmuLFxeuhiu/Xjn4WZ71JQy3DtUMv/h0kfzftZqpuhPlqdLZvPByi/Pa+nIKWdEDyZ/4szCxfPzlVNRoDjd23jyx58vd9v/fcQBJB1Nlmcqk0mA6f7u1tZO43DEaFEMAABiT/vaY7FZ9zA1I6ejsQA4HhIFxg2JJ3ZiJ3Zi75b9C3FVtRI/ovGaAAAAAElFTkSuQmCC\",\"data:image/png;base64,iVBORw0KGgoAAAANSUhEUgAAAEAAAABACAAAAACPAi4CAAAD2klEQVR4nO2Wy28URxDG66vumZ6ZXePFsBiDhSAJMgoIgaIoURQh5ZQ/O7nlkIdEApFCIpEEDNgBr727np1Hd1UOXsCzO2NLOeXguq126tdfVXc9iM4Mp/0NIlLS/wgAGABURbSDYU/2B5gNM6n3XloRrYAj2USkFITVmshSXZa1dHzbcq4eOw5sXZZaf3hYhmURywBmhsgcgCMdHPcHmUz2c79EWAqBraVwzB8gqBbeDwdp/Hq6RFgEmCjiOoiClIiUoAQwJBwEXFpnmviTAWydrX14H5lCSYHI1tMXduOy+DycBIBNXahqAt5duxKJEoypDrfT9fWiXrjNJsC4FHlFjOPPRokCsU10vN0b5LlvBsGNH1HmfCnMC49XVXwwKb/Z0QuDGN0Ak2Qoa2PQVKlHBJv4nf30fMKdANgs8QUZLBePigSN7fS1nOs1oz4OYNczVc0GukBQUpUQ4MLeYdq36AIYl6JUy61FoxLI8nTCWdzM27EITJpqTQbL1a+kKiJsqqkmcZcC2NSJZ9N2PhGpCFmZ+bg7BJs4EjZM7aZKTJVY2xkCxzEUDGCpSo+6A0Ci3HmNKr70RKIt3QtEBBDRnN8eAglbKBa+eOdPzEQ2QpN/HCDCzqiCFwEgAsAMQRKrdAE0eM6cqGEABGCeiHlKYCwCrySh7lQQSu33NbA1fBTvu1SCwCay6pO1uGr21oaCol5ZMzXiyLxNxNv7ALONbR0GQ86rbgVF7jZW6hC5yPIcAczHQ+RindnNtXLSDZBiLFc2kSNNImPwXgVgbJzYorz4Qbo/9p0ArfbHg1vDYmb7mTtKBAAQ2FiXuXrstq7Ndg+bTbHxDvxkt/7obu+gcOf6aWwN83y4RUmWhJH/8G6ysztrzqdGd5B85+XGZ/n3r+25yOVVHUSIiI11Sezf5Nc+33z252ihrzfbi997evXO1/TDSxmsuKKovQjI2Dg2xSi/+uD2wZMXCwIWADJ7/ni41et992J2IY2SuvaiMAYyGcuNB/fKX3/fP2Ww+PGT3srHwyvfPhuv9p01QVSkKvKqt/XFVvHzo91ysdCWnr1bv//V3fDTNw//CXFsoeJ9penGnXuX9355+HxxLrVMZ7jh7S8/vbD78MffXk1rVXDcv3T95qbZfvTk1WzJv2W8I169cf+Tm9n+30+330w9JytrF1d59Ncfz0Zly4bRtiPZdHj91tbVTGfTw9ILSTHaef5yr2U56AAQomxwaWP9fMbiy3x6sLc3msx824LTuaXBRmmWuRjqy6KYVXVodz9pzWNmZqiKiHZ5n26n7KFndmZndmb/K/sXAN3cC2iYmQ8AAAAASUVORK5CYII=\",\"data:image/png;base64,iVBORw0KGgoAAAANSUhEUgAAAEAAAABACAAAAACPAi4CAAAED0lEQVR4nO2WS28cRRSF762q7pnpeTv22BnbeQpLUYJIBAmgoEgskPibLGHNgkQgseG1ABQRLEgCiRISOx7P29M91VX3Xhbj9zwcWGXh08vu+nT69KnqC3CqU53qVG+K8ITbiAgIIiLy3wGIWgeBMQhEznmiSYzpAFQmky+WS4Ws4TTud3uDJCV+fYAyuUptZXWlVo4UDbvNzRcvN1s7dszFNIDOVOprV69cWog0kXcu7mw+efT4eXPgjpmYDEAdLa69e+vqou42ttoxBVGxYJKNhw8evuimdORRM3G9KSxfv3P7Ej5/8NujjY6VsLiwcvHcmRvVcu5Je8gnAnR+9dYnHy1u/PDtz0+7qSAIBqX62ttvLZtA/dWyfAJA5+rvfXqn+OuX99Z7JqqGWvwwaTf//uPG9aUr3vlOKjMBGM5f/fh27rvP7z03S9V8iCDk7U63/3tj6+bq5UGckp8JMMWLH36Q/+mzr7YrS9VQyJMAZsN8t/Xqx+T95XPtfso8A6AytWs3F9a/uLtdWy6BHVpHgloHumKa3fsKKvVGPz0o9jhAF869c6Fx9+vG/ErRD+LEeQbQOgjD3Bx31/PXyrVGTNMBGFQvr+lfvnlWrBfS/k6SEgkAKhNkw7Dstv8s1yvl9sGHGAOozPzF2tb361Arun4vTj2LACCSJwrDQnvzaSFTzA72LYwDcrUV8/h+u1yGuB9bzywAAMgsIkEmjF8uzkVZjdMAqKP5avzwqZRCO0hSTywgAIAoAAiYsZ3tyGT0/hYYc6Bz5VznSSuMxFrniXfzFkEApYxWSfsMGA3TAKgyEbZeDbOGbOpZZGQAAIDRK0TldwYG1b4DNZaBCajXI4Pejd5/b70IE3lRbBM3s8ooLrGCQsQMInsIHCEAwFmkGQAhZ52gEO653w0BBYQZBCRV7oAw9gri4iGE6MfOLhlZYBBvHU9totCwN9B549LMoaT277IIKuL0AD/mgJJ2V1Vy6ZCVwiMEGTlQ6O0MgHDSaspcmeMUtVbHCcyg0Q/TGRnQsLmZVJeCeMhaj5lgRo3ucAbjIdr2i1a0XHU7KRqjFB5CiLBoxdb6g4THAb638dKfXckMBl4dIwgLKvSpoxkAoGTrWTN/fkkNYkI9IuwhBJQSl/qZTRTX/SdaXbiQbA8oQKURhEdtEgBEID7SkQmHKiWNjJ6rJ9xOXICAihXD7v5HIGA+3LEJAHH9DeWKZ0m3U68RD48GIiJH1k/8sXDaRapFNQw7CQnC/o4UFIZjk8bEXxvZDg3nohJme7ElERhBRtcxTQQAWXZxKadLJpdYR3LkYHkdAJBQGueyBkLQznuio8mdDAAWdnEYGNzNbOqUNWPIQqWUVgjCzMz/Z0oDhFEJpydwqjdD/wKxpm7J4ch3ggAAAABJRU5ErkJggg==\",\"data:image/png;base64,iVBORw0KGgoAAAANSUhEUgAAAEAAAABACAAAAACPAi4CAAAECklEQVR4nO2W2VMbRxDGu2dmL3SDEJdlA1UcLsdxObjy5+clcR6SsiuxXT4CxoCriAEhKTr2mpnuPGwAwUoKSeUhD/TrTv/265mebxrgLu7iLu7iPwq83Qr+lwBEIVAAEhMx/WMASuV5vucIsGkcJ9rQGCGTAUK6hfJsvV4teJz0O2etdi/SecQkAAqvOHtvdb25NFd0UffaR5/2Dn7vhOZmIRMAqGZm728+3GzWAoEgHMHDk903b3477iV0GwA6paXNx4+ahaTTag9SVZhbbJT55O2LVwft2F5bqsbmu+XmV99slFo/73487sZGuOXG2vbW8rYfuHut64RxCtAprz7ZeWD2fnl91LNCCrAWgsbWzqPq2asXe+fXqhinQBZWHj9rdl8+/9CVhVLgKTDxoHd4vPt0Z2VtGOuO5qkA4TcePl1pPf/+o63Uyr4jEZnSQae93z79trnS6cfWTgOgU1n/erX/43cHcqEWCIoYUAhZcv1W92X8bGmp1UtHisgDRLC0vQG//nCg5qsq1doSoJCOUkXAP96JJ6X5s4GeAkCnsrpV/fDTPtYrGMWpsQyIQjqu61TMYDfYmKmdR5YnA7z6+oP09ftkviqjMDaWGS4Iqph2PxXrxUIvnQyQweJ66d3b1kxVxWGUWgIGBARhjHFV0Gsd+86MI2kSAGVpcRkPDm0loCRJDTEDMgAQEbF0nOhsdsZzBfIkgCou1sKjtltUYaotEQMwICMzA7iodK+rpCOu9vxmCao46/dO4iAAY7J0BiBmJrLGsMRkkKAUlx2cVxCUnH6XPMXGEgBzZmcMQIBGIdoopZELkAMIx8UoBIWWmDlLRgZAACYiRtIp8BUhVwJKhcQgLj4gIDAAMDAwEQNbPeoquWNkq60QQBetwleOzMDMDGzQTu5EtlE/kj6kOkdGYCBiAZZHADdLYDNsD72yjFNGzD0JTJYF2nTEXHMKdP+06875cSSEwJt2w0AghU01XwJyCuzg5BQbVTNIUUqB1z2LiVCCTsyVIeROwQ6/fI4ay84gJCVviGC2LCSkieHJAIrPDluF+7W0n4BSQuCoBGKUwiTaTgOknaPPdqXpDwcGpRrdCWZmIcGkelofgA2/7HuFtfbRkDyUbIAA/joLZhRoaVTAGAAl7UP/Xn0tOg2tgyiyP2PWjYis7Wj+OFe24YnLcwshn8daCUBkyO4zACIbJvobAOv+MSelBVLnSSIQsxuZJfHlDZsCAEq6rOcLNXa6oRl9xxg4N6yMf1ylU6xWA4j7vTA1lKXx+DlnwvMulF8sBJKSJEmMtUxMN6RPKwEASJMOfVchKpDGWKBJg9aUEUcopaQAIrLWEo0XMG3IQkSRHUJ+728FgMzPADJnvov/cfwJ+hZTZWMnHNMAAAAASUVORK5CYII=\",\"data:image/png;base64,iVBORw0KGgoAAAANSUhEUgAAAEAAAABACAAAAACPAi4CAAAEGElEQVR4nO2W22/UVRDHZ875XXb720vvFAqFQg0BLCb4oIkxGqM++IcajQ8affLBhBejD0RIRIgKtgJ1KV122/5uey4z48N229LtLukbD53k9/Q78znfmTMz5wCc2qmd2qm9KYav+48ICCAiICcHoNJBEASITN57Yj4ZAHVUTeqNWjUA18vSNC8tDSNGAlBHtZmz588vTCWh9NLOZuu/zU5m/NFARgFUmMwtX7vx1uJkBOSdybdb/z56/LSd2SMiRgBUPHXx5nvvLtdcd6uTWhVPVHXZevTgz2fbhl5ZGRzvX5m7+sHH7zTTu78/fLKVU5BMn1tabK5ONifWXpb0WoCqzK9+8vlVunv75wfPcw+CGNbPrFy/MrMaKGj36DUAjKavf/rFSvun73/ZcHEtDoBsr9v+58HbNxcve+87hscDgvqVDz+78uTbb+6V9cVGRaOQN8VO+nf7+a3lxSw35GQcQFXO3fpo5elXX/6hL8wliohYVDWeqHW69/Ly0sJ2aojGADCcXHn/2vYPX9+vXJiNfN6zxKC01nUd7PwFvDDfTi3LGEBlYXVV3/7ufrw0p/O8NJ4ElAqiMJqUnccVXZ3ZyjyNBuja0o35tR9/47OzmO4WxjEDgNI2jHXN5Wv15Vqz09uXMATAcPLSJXfn1+78rMp3sp4nEQFA5T1Fumq6TxtJUs38SAUYT1+Y2ryzHs1EvTTr2b4/ADOzhGEl33qxGFcCHKlAxVPzev1hOpVwURhLLAIggH2OClXeaaooUDwa0Gya9Q1JtC2NYxYRAEEBYA8YKu1380qg93voKABVmMR5a0fHYIwjlv7O/Y9IgXJlrkHhIAY1lIMgVnm3pwN2nmTgLwICwkSM4Hr20FA4phKp5JSUOE+yd1gC/SiEGQHIOhpTyuJ2WpALWxwEsLdYEIQZBYScP+imoRDEG8OhZj88/gSAmQHIOZKBhqMAYVcUMBGRFVSIR/xFmEGJswcxDCuw6a40amwI1RECCAgLKrH2QN8QgO1uxzZndGkx0Ar3EIM8MLPSYg9147ACt/siSxYSU5AOtBpI2CeAVmTcwTw4JonZZjs4NweZgeCQhr48ZtTgrBujAKjY2ihmLzZMZjHQSiEgQJ8iIqAVWzuuDkBM99nk7NJmmUMFg34N79UTCiAC+UMCjgP4rNUIm5ezjZwiVFqABykQAIVMROOnMpvOk+js/GX/ovQhihLFMEAgiJdDARw/1n2xqXn6jMO28UqhHF4vg/4cBxCXtqTXmOboZe4J4eAQUeBV91GXq4rq07M1ybrbuaH9jB37RBl1O4fVRiPRrsgL2+/Koa3HhAAAbNkVE5UAIgicI+qPxhMAQDy7MgoDFJZ+EZ38kYVKKa0QhJlZeISC8a806HfC6Efeqb0Z9j/ABnlX05ouGAAAAABJRU5ErkJggg==\",\"data:image/png;base64,iVBORw0KGgoAAAANSUhEUgAAAEAAAABACAAAAACPAi4CAAAEFklEQVR4nO2Wy28cRRCHq7pnZ2bf9q7tjR3bxIkVZBLLB0CKuBCE+G+RuJCIA4gLghNSUBQQwYRkHXvteB/ex7z6UcVh1hubnV2HWw6umctopr+qqar+VQNc27Vd27W9L4ZXvEZEQGAGAv7/ACFlLudIwWSMMYY4gzEHIBy/UKmWC66wKg5GozBShqYQMwGY86uN9c21elHaJBoNeu3T094gNvSOAOFV1u7u3rtVc9RoFCZKJ8P2UfPgdJBYfheAzC9tf/LZ3iq2D5qtXsy5UqXkxsf7f71qR+YSwcleX2jc//zhjnv426+/H3QjK7zK8ubWzTvLS+Xnx8ElQiZA5Bt7X3251f/xh1/+7mlGAEZ3YfOj3Y37+Ry0AnMFQHi1nS8erv753eMnPVmo5QRZncQn7Wbz051bpLWN7HyALN9+8KD25JtH+7hcLzpsrCGjwuHJoDPYXb07jC9WMwMg8zd2P1569vW3zdJa3WOllCGUxULp7OwPldxb+aAbGjMHgE719t764aPHzepGTagoSrQBdFy34DidfcStpUYvelvLDIC//OEd9fP3r0o3FygIokQbApSu5ztV6v5TcCqLlb62swGyuL5dffHTc6dRNkEQKmMtAwprjJ8rqcGLyrZf9qNJFqYAmKturCdPn0aNCo+GkTKWmAGJiMgT+WjwslT2PWlmAoS7eLPafnbsVWU0ChNDxAyMyExEOemNOi2Urpx08HQE3uKKc/QyruUpipWxzMzAAMzMTNIRYbcMjpxdBeFVq7Z1CgWplTKWGNILgADAAWmGQx/FzAhQuMV80hlKD422NHYPwMDIgADISSgY5/yCdGUy1I5kS8QMkN4AyEBWIIBOPAJAngEARDIJITKda0f6KSMzEwKw1nNbmYwCALbj9PFETBnTJyZjeSKPYnp9GFrXsamX8/jPQ2FmQLDm7Xb8L4BZDfu24NvEAE7LFRODAHthO05HkJy1ValMkQaBiKnojQNGACaUYLSdB+idjIp1J4pICETAVDbHiSTLQl7K4hSAVb/V8RrlJDQoJYpz1+McEEhB2syJgM2wdaRXlmUQsXQckfYcjtuJWEjUSs8tY/Tmdb603u4GICUxpFMx/Q9mEMKSsnMB6ux1qd5YiyLwpQSAyVxlZBACrLlCE234poD5jeAwJlcKCQCEPN4QiEjWXBxOGQBS/SPnRnXTniTWkQiIgiatD0REF+djlqxT3BVUXzTyNEyEQOAL/cgW+NJ8zQKwCYD1QgXczkgZwEkXAPLl3p4BADYh66jiLbn9UayJzquYdUjJHq6s2SZByfXRi+JUVznreDITAGzIxKO8K4SHUmtrbfbymQBgyyYJcjkBlAobzIhgzhkJUQghEZiIOPOAdQUAADDdizzL/bW9J/YvvQ59xrVlPCoAAAAASUVORK5CYII=\",\"data:image/png;base64,iVBORw0KGgoAAAANSUhEUgAAAEAAAABACAAAAACPAi4CAAADm0lEQVR4nO2WzW8bVRDAZ+a9/fI6aztucKO00LQpShQaQJGoUDggceHrhkAIiT+BP4B/qBeE1DMnOLaKWpVEaYHWSQiEEtL4K7bXu++94WAndpPdTdoLEvIcVzu/N98zAGP5Hwie7xd+WQCSIAIwxrBJhmQChHQcR6DRKlZK6USETFcn2w8mXIijXmQEAKI25kUA0i9XAjisNzuRNowAgIinbUgDoFW6NOM1dp8248GzCAnqqTFA+8LcFdx6vBeTIGA2zMyACdlIscC6sPh6tPawIX3BxujBO+cPoiwtLOl7P3d9l5XWmhn4SBtPcCjRgdzsm/n1B2Exj3EUK2OMYQbuKyLhmQD74tJM9X63lDNhFGtjGJj76giMJOgMAPnX5g/vPSv6uherkbePCFJgNkBOLRQfVb0C9yI94n0fgAxCjmglANC5NNfZCEsyirThk5FHNmTJoQlJAP/VV3Z3XF9HyjCcCDoSGrCsoVoCgILL7k4rL2PFCalHYiOzASKo8FOdQ5VgPwASGOkMw5gEyJd0Ax0wSe2LSMDCHgYhoRLRzeseycTCRUBEkCSOvyQByCJA4tN9hv06RDlSSgkA1pDzDEgxqNnjLkYAJAIQDmSm0YS9wqRRUhIiIhy3PAIgkgC2PcFZAN2qF65QVzqSsK+N2EchkhAMvgcmE9DYtd8ImpxzBCGOWItIwiIlS16sOANgmtXDt+aa3Zw/IAxCgYjCtkw8MUVhJoDbj6vX3rf2MPBtQYg4cAFJ2o7o4XS511ZZLkD0+6r55MY/tVzRd6SggTYKaXtO3J286tQ7wxgkjTS9f2flnS83t90AqH3UkUjS8uyoac/P/P0szMwCcOfhD7UvPocnncLU5IRnW5Zl2Y7nBzldMws34M/a0IPkoar2frr61Tet73+ZLTp+J4wNI0nbgva+XlzJr/0x4kHKVA5/u13+9Fv/u0eVip+LlWJAMmGt7rz9XnHj11ED0haLKL/79Yf1W7c2sFh0JbCOuq0mT99cdtbvbo0akLqdZXn5s48n7t7+cbNDFoFWxqksLr/Wur+63X5uxaaud1GY/+CjxXjjzoOtgy7bwcXZ69O6urr2V+f5FZ1+H5A3vbRyc9Y93D9oKeG51NxeW9+s9U6MiYwDA2W+Mrdw/XLJwbjb2Nt5Ut056OpTf6UDAFC6Qalc8i0TNmsHjXZPn55SZx1ZJKQUBForlXSfnFPwHLfcWMYylrH89/IvL+qDuCk3PfAAAAAASUVORK5CYII=\",\"data:image/png;base64,iVBORw0KGgoAAAANSUhEUgAAAEAAAABACAAAAACPAi4CAAADmElEQVR4nO2W308cVRTHz/f+mJmd2V3Kj5alQGsxLVaISJsaSZpoYkx88UFj4pv/mE8+++qrmpgmNgRbtbR9gGKwUAqFwsJsd3bm3nt8ANwFZqeNTz7s93m+n/mec889M0Q99USE1z4AAjEx8X8BCKGkArGz1jmXiygCCB2EoYYzmcmMMSYXobraoaL+oYpIGo00Nc5BkqUcQleA8AfGL5biza160zgmAMTAWUC3EkQ4MjnuVpefNx1ATMwEEL9xAhFemnmrvvh4D1oSO8fMnOPuCkAwduvq1t1HaeiztdYdm9+4ifr8+1Mv7zzAoDJpZhxz23u6kFyAqFyfpbuLckC2Wql1hwYmIgITCe48DJEH8Mdmhx7co0EvTVLjmKmjAUyQnaY8gKi+M/liPh4spUlqmE9MMYhJdhLyAHp4urq4WimbJLWn/AQwCy0LAQguXYsfZudku/7OeHDQqm3LA5Sv1NafliKT2nb3OiM47RUCRPVytHZQ1sa4s8MDCGLlq38nOAcgqyNi00TCnr06IIIglh2AnDkQUT8O4JPLXSIAWKligBeKDBJ0ODcnAgBCgHRxCcxCSYYAjkJ3IoQQJDyvfY45CTizlT5yUgEnIoAIBEkkS7INzUngGvuVi0iklsBR2cd+CCnBQaTa/c0B2P0Nda0Uk6/FcQHAEUQo5agSOVMEcPUnjanRvSQIFIB2CwAIpZHpoVKaFQLipdW3b2S7KvKVBOjw7QAgpOfZtK+GuBBAycq94JPaZjMs+0oKccgAIJUfoCkvDTUOTFETKdv4dfXDj7IN9FUDLYWAAASE1EHoJc3hq3I7toUA3v/9l9JX721v6f5zka+VFFJKpYOoErTq1ZmRnc1m+3RzV1r69OeJ2W/2/uLaQBAnmWEmIbXvI97xb07Fq7vtCvIBfPDHD/2fJd+utEYqYTPJrINUWmZ7L8MP5tzSWkeALlvZbN0pf/1l5bv7+xf6w5Kzjshl9d1keO4WLyzVOwJ0+zIhuPLpFxOL3/+0LsqRJ9mkzUZWuT43ebCw8Czh1wMIwfjtz2+05n/8bS22RCT8gYmZd6O/5//cOOHv/nmHd2H649vj6crjJ89j6/XVxmrBi4f3l3bS01e8q1R5dOrm9GhgXzUzhm1sLT9a3ozNqaeKfjCgy+fHLo8ORco297efrW/sNLK8LVeEUF4pigLFWfKqkbRs3oorBBAdLTF2nP+L1FNPPfX0P9I/r2WWJwOf0poAAAAASUVORK5CYII=\",\"data:image/png;base64,iVBORw0KGgoAAAANSUhEUgAAAEAAAABACAAAAACPAi4CAAADlElEQVR4nO2Wz28bRRTH33szs7vezdrOD6dK2tAkakqhVQAJiIr4oUpcEBJC3PkXuHPgT+q1EoIrSICgQdQCmlTBLUkxtZ3ajr3Z3Zl5HJwfTrzrRByrvMPuYd/3M9/39GZmAS7iBQg8RwYCA/8/ABIJImBrrbXZjHEAFI7nKcFWa51qbTIRMl8v3bA0IU0Sx8AgANCYDEKuA3SKlZlC0m5391PLAAjMWWXkOSCvslDhZzvNvgEAAMactXIckD937VJ3s9ZhSQhsmZkZMKOEbAfozb86/+y3WuooPOw/Ap+/ic7szeV/729hKKzW1vJgEJAHlvlMgChdf3nv/pYIKU20ZWYYUhGcaCVlFrBwq1DdEGWlE22sZeBD9wgAQuAZADF5Y2G7qssqjVPDfKJ2ZCA1TMgCOHPXudoICzrWlk9tA0TLUg2pMgAULM7XH4mQUzOiB0CwwhmykAUoLfp/tQJHpxmjiwgWHDUWIKcu220dkDajuxiRiEE54jg7A1CeiRrCs8aOTA4CIFqrzPG6ow5QFotJTyq2AAAjHogAlHvchAwHouDrRAgcaE/NPyIBqKF1syZROA4CIeBpOQIiMZADdPQho4msacK1KMVgB+NJ/UEFQ5M9qu+bSllbJQkPdHD0RhKAhcKQsQwHut29dMUkyhGEiABw9EAiJSyFnjVjAc16+abqCt8RdHAOHYJIStCFaTU0YhkA09qEtfndxPcV4UB6ACHpKm2mZ0w01oFt/7mzejttqWJBCcKjIJKOC5H3UtjrjQVwtPFL6ZOl+l5QCpQgpEO98nwZ6StLtrlvxwEgffr91vufuY/j0mToKUlEREJK1w+c/e7U6lSjmcBYAHfWv7WffxTXkuJ0KfAcR0mlXD8M3Wg3eHOl+6RzXEH2mZj+/c3Vj7+Ivn60ELpRlGjLKJSSpt3yb78dbz6N+QwA96t3ix98OXHv4exMUDDaACDqfqtfeWdNr292hwzkHOtm90eH3/vq2t2NRjH0pLQ67XUjb/XdV3q/Pmikw6l5d6OqvPXpHfene9/V+kDE1lK4+PprU9s/rP+zz+cBgCzfuPPhSvJwvfr4eQze5OXlpWKn+vMfjeTU/s4DAPlzt9beuOrFu52+la7UzY0Hv+909cghmxsog9mlleW5SQdM/3n9yVat3knsSFY+AACFF5TLxYI00d7gRyEjZxwAAIiEEMjWGJN5OV/ERVzERbxI8R9CconhbqyytQAAAABJRU5ErkJggg==\",\"data:image/png;base64,iVBORw0KGgoAAAANSUhEUgAAAEAAAABACAAAAACPAi4CAAADeklEQVR4nO2WTW8bVRSGzzn3Y2Zsj2PHCSQ4uKorNYFWqASEUEW7yxYJiTV/jC3/gBU7JCQEEkK0EQlpQkOhifth12n9OXPn3sPCbuIk47FgWfndzGLmffSeo3PPXIC53gDhzPeIAMzA/weAREoQsbPWOpeOyAAg6SDwBXJijDEmsZyGkFP9wsuXCp4zw6Ex1qEAsGl1TAOgzC8t5+yrdndgHAMgIOB/SIC6VF0VreNm3wEijMKnljulB97StWry8PAlC4nA7BxzagemJdCVjfpwZ3+gNTnn3DhAKiEVIIrXb5idvbig2FjLPDEGp/W8FqWVFdRuFvZ2zUKOY2OstY75rAQinAWQlY3Vf+4PS4GNzWiAXpsRGUgIzAagv1Yf3H+xkLdRcs4OAIDMUs4AUPFK6fChDjlOHDOcmx5EZlSThBSAXKzGD3qhjI11F/wAiA6kmnClAPRSuXkkci62LqU+YieUyAKgV1JPT3xhEguXhwcJLHkTbbwMIK8IrVhj4i7ZERAQzzchJYH2uesk29ECuABBmgkAEQgLAjH1nCAiCJVZAoigqIHEeOAmKAiIRABKZwOsCwrIUtIoBJ75AYkIhKcy54DjKHhLGqEkIZ5lQARAJEGsCmqiMymA4Ut1pTBEX40jAJ4+SSpw+aK0mYComayv9Y0fnBLg1K9lQpUwMS4T8ORZbRNPVMEftWFcCCJJrSHKv+MPTFYCMM/29d1aq58PvXEbEBEBSWhfDdxa1XRMVhPBtX8/2tyihg1DXwkiIiIkEtILvLi7uJFvd5JMAA8OfqYvPjlpYKmY85QURCSE1H7ON23v5tVuozdxytJ2YvL0x+t3vmr+AW+XdH+YOMeAJLQWUYtvbOKj5zFkA7i/993yZ52vd6OVQhDHNmFAIch12vjBneK9w66bAQD74qfCl1veN7/8WVnMh8yOnY17J/3CrU+LuztNM/lt+o8FvbW7n9cffPv9EYWhpyCJet2hrn30Pu3++nffzQYAeqsfb92Cez/89rjrABjlQnV9vdze3j4+75/6e0dVXr99u86N/cMnHaPCysqy397fPmhGF/bc9PuByK289+FmvSySyBg3fHW0t3PQ6CaXt9RUocwv1a5dfbfsc791/Oivx8875vKazb7iCC9XDPOaon6n04uSlC09+5JFRATsLKe555prrrneLP0LCkWIYsefiqsAAAAASUVORK5CYII=\"],\"index\":[0,1,2,3,4,5,6,7,8,9,10,11,12,13,14,15,16,17,18,19,20,21,22,23,24,25,26,27,28,29,30,31,32,33,34,35,36,37,38,39],\"phiCR\":[\"-2.4138646\",\"-2.4138646\",\"-2.4138646\",\"-2.4138646\",\"-2.4138646\",\"-2.4138646\",\"-2.4138646\",\"-2.4138646\",\"-2.4138646\",\"-2.4138646\",\"-2.4138646\",\"-2.4138646\",\"-2.4138646\",\"-2.4138646\",\"-2.4138646\",\"-2.4138646\",\"-2.4138646\",\"-2.4138646\",\"-2.4138646\",\"-2.4138646\",\"-2.4138646\",\"-2.4138646\",\"-2.4138646\",\"-2.4138646\",\"-2.4138646\",\"-2.4138646\",\"-2.4138646\",\"-2.4138646\",\"-2.4138646\",\"-2.4138646\",\"-2.4138646\",\"-2.4138646\",\"-2.4138646\",\"-2.4138646\",\"-2.4138646\",\"-2.4138646\",\"-2.4138646\",\"-2.4138646\",\"-2.4138646\",\"-2.4138646\"],\"principal component 1 2D\":{\"__ndarray__\":\"67yHQGbogUBbPE9AtEGIQBecWMDtBljAleNCwHLoXMAxvwfAYgbhv6oBAsCG4x3ATHT1P+Y5Jz/REgxAQUy+P2rFt7+qmKS/KUrMvxsGsr+dWjLADkYuwBw/PMBgjjjAatFAQJ9tQEBCdHVAdB9JQCmPtT9UnLo/s3qkP8WmzD85gp2/6pisv3Snmr/314i/E4NfP/r3jj6BbV0/UCM3Pw==\",\"dtype\":\"float32\",\"order\":\"little\",\"shape\":[40]},\"principal component 2 2D\":{\"__ndarray__\":\"+DnXvxRn0b9bBLm/jEHYv+ys0b7I99G+5EzUvt1u0L4Gfdy+/9zfvsku3b6c1Ni+C8CoPqN0CEC+Xn49pMJYP+JnSr+HT0+/C8BGvw3gS79Jste+eK7ZviBE1r7JitS+QPCxv5f2sL9uKsy/UZi1v+K3zT+6ots/en7JP57b0T9uH1S/ZmVVv3VNVb/8FlW/OJJdQH7ybUBap1hAAflTQA==\",\"dtype\":\"float32\",\"order\":\"little\",\"shape\":[40]},\"y\":{\"__ndarray__\":\"wnwawMJ8GsDCfBrAwnwawMJ8GsDCfBrAwnwawMJ8GsDCfBrAwnwawMJ8GsDCfBrAwnwawMJ8GsDCfBrAwnwawMJ8GsDCfBrAwnwawMJ8GsDCfBrAwnwawMJ8GsDCfBrAwnwawMJ8GsDCfBrAwnwawMJ8GsDCfBrAwnwawMJ8GsDCfBrAwnwawMJ8GsDCfBrAwnwawMJ8GsDCfBrAwnwawA==\",\"dtype\":\"float32\",\"order\":\"little\",\"shape\":[40]}},\"selected\":{\"id\":\"1253\"},\"selection_policy\":{\"id\":\"1252\"}},\"id\":\"1192\",\"type\":\"ColumnDataSource\"},{\"attributes\":{\"formatter\":{\"id\":\"1248\"},\"major_label_policy\":{\"id\":\"1246\"},\"ticker\":{\"id\":\"1210\"}},\"id\":\"1209\",\"type\":\"LinearAxis\"},{\"attributes\":{\"high\":-2.4138646125793457,\"low\":-2.4138646125793457,\"palette\":[\"#000003\",\"#000004\",\"#000006\",\"#010007\",\"#010109\",\"#01010B\",\"#02020D\",\"#02020F\",\"#030311\",\"#040313\",\"#040415\",\"#050417\",\"#060519\",\"#07051B\",\"#08061D\",\"#09071F\",\"#0A0722\",\"#0B0824\",\"#0C0926\",\"#0D0A28\",\"#0E0A2A\",\"#0F0B2C\",\"#100C2F\",\"#110C31\",\"#120D33\",\"#140D35\",\"#150E38\",\"#160E3A\",\"#170F3C\",\"#180F3F\",\"#1A1041\",\"#1B1044\",\"#1C1046\",\"#1E1049\",\"#1F114B\",\"#20114D\",\"#221150\",\"#231152\",\"#251155\",\"#261157\",\"#281159\",\"#2A115C\",\"#2B115E\",\"#2D1060\",\"#2F1062\",\"#301065\",\"#321067\",\"#341068\",\"#350F6A\",\"#370F6C\",\"#390F6E\",\"#3B0F6F\",\"#3C0F71\",\"#3E0F72\",\"#400F73\",\"#420F74\",\"#430F75\",\"#450F76\",\"#470F77\",\"#481078\",\"#4A1079\",\"#4B1079\",\"#4D117A\",\"#4F117B\",\"#50127B\",\"#52127C\",\"#53137C\",\"#55137D\",\"#57147D\",\"#58157E\",\"#5A157E\",\"#5B167E\",\"#5D177E\",\"#5E177F\",\"#60187F\",\"#61187F\",\"#63197F\",\"#651A80\",\"#661A80\",\"#681B80\",\"#691C80\",\"#6B1C80\",\"#6C1D80\",\"#6E1E81\",\"#6F1E81\",\"#711F81\",\"#731F81\",\"#742081\",\"#762181\",\"#772181\",\"#792281\",\"#7A2281\",\"#7C2381\",\"#7E2481\",\"#7F2481\",\"#812581\",\"#822581\",\"#842681\",\"#852681\",\"#872781\",\"#892881\",\"#8A2881\",\"#8C2980\",\"#8D2980\",\"#8F2A80\",\"#912A80\",\"#922B80\",\"#942B80\",\"#952C80\",\"#972C7F\",\"#992D7F\",\"#9A2D7F\",\"#9C2E7F\",\"#9E2E7E\",\"#9F2F7E\",\"#A12F7E\",\"#A3307E\",\"#A4307D\",\"#A6317D\",\"#A7317D\",\"#A9327C\",\"#AB337C\",\"#AC337B\",\"#AE347B\",\"#B0347B\",\"#B1357A\",\"#B3357A\",\"#B53679\",\"#B63679\",\"#B83778\",\"#B93778\",\"#BB3877\",\"#BD3977\",\"#BE3976\",\"#C03A75\",\"#C23A75\",\"#C33B74\",\"#C53C74\",\"#C63C73\",\"#C83D72\",\"#CA3E72\",\"#CB3E71\",\"#CD3F70\",\"#CE4070\",\"#D0416F\",\"#D1426E\",\"#D3426D\",\"#D4436D\",\"#D6446C\",\"#D7456B\",\"#D9466A\",\"#DA4769\",\"#DC4869\",\"#DD4968\",\"#DE4A67\",\"#E04B66\",\"#E14C66\",\"#E24D65\",\"#E44E64\",\"#E55063\",\"#E65162\",\"#E75262\",\"#E85461\",\"#EA5560\",\"#EB5660\",\"#EC585F\",\"#ED595F\",\"#EE5B5E\",\"#EE5D5D\",\"#EF5E5D\",\"#F0605D\",\"#F1615C\",\"#F2635C\",\"#F3655C\",\"#F3675B\",\"#F4685B\",\"#F56A5B\",\"#F56C5B\",\"#F66E5B\",\"#F6705B\",\"#F7715B\",\"#F7735C\",\"#F8755C\",\"#F8775C\",\"#F9795C\",\"#F97B5D\",\"#F97D5D\",\"#FA7F5E\",\"#FA805E\",\"#FA825F\",\"#FB8460\",\"#FB8660\",\"#FB8861\",\"#FB8A62\",\"#FC8C63\",\"#FC8E63\",\"#FC9064\",\"#FC9265\",\"#FC9366\",\"#FD9567\",\"#FD9768\",\"#FD9969\",\"#FD9B6A\",\"#FD9D6B\",\"#FD9F6C\",\"#FDA16E\",\"#FDA26F\",\"#FDA470\",\"#FEA671\",\"#FEA873\",\"#FEAA74\",\"#FEAC75\",\"#FEAE76\",\"#FEAF78\",\"#FEB179\",\"#FEB37B\",\"#FEB57C\",\"#FEB77D\",\"#FEB97F\",\"#FEBB80\",\"#FEBC82\",\"#FEBE83\",\"#FEC085\",\"#FEC286\",\"#FEC488\",\"#FEC689\",\"#FEC78B\",\"#FEC98D\",\"#FECB8E\",\"#FDCD90\",\"#FDCF92\",\"#FDD193\",\"#FDD295\",\"#FDD497\",\"#FDD698\",\"#FDD89A\",\"#FDDA9C\",\"#FDDC9D\",\"#FDDD9F\",\"#FDDFA1\",\"#FDE1A3\",\"#FCE3A5\",\"#FCE5A6\",\"#FCE6A8\",\"#FCE8AA\",\"#FCEAAC\",\"#FCECAE\",\"#FCEEB0\",\"#FCF0B1\",\"#FCF1B3\",\"#FCF3B5\",\"#FCF5B7\",\"#FBF7B9\",\"#FBF9BB\",\"#FBFABD\",\"#FBFCBF\"]},\"id\":\"1193\",\"type\":\"LinearColorMapper\"},{\"attributes\":{},\"id\":\"1215\",\"type\":\"ResetTool\"}],\"root_ids\":[\"1194\"]},\"title\":\"Bokeh Application\",\"version\":\"2.3.1\"}};\n",
       "  var render_items = [{\"docid\":\"e4a0ccc0-44b0-474d-a2a0-c2168429ba71\",\"root_ids\":[\"1194\"],\"roots\":{\"1194\":\"4e882935-3a3f-41b3-91d9-a6a522617548\"}}];\n",
       "  root.Bokeh.embed.embed_items_notebook(docs_json, render_items);\n",
       "\n",
       "  }\n",
       "  if (root.Bokeh !== undefined) {\n",
       "    embed_document(root);\n",
       "  } else {\n",
       "    var attempts = 0;\n",
       "    var timer = setInterval(function(root) {\n",
       "      if (root.Bokeh !== undefined) {\n",
       "        clearInterval(timer);\n",
       "        embed_document(root);\n",
       "      } else {\n",
       "        attempts++;\n",
       "        if (attempts > 100) {\n",
       "          clearInterval(timer);\n",
       "          console.log(\"Bokeh: ERROR: Unable to run BokehJS code because BokehJS library is missing\");\n",
       "        }\n",
       "      }\n",
       "    }, 10, root)\n",
       "  }\n",
       "})(window);"
      ],
      "application/vnd.bokehjs_exec.v0+json": ""
     },
     "metadata": {
      "application/vnd.bokehjs_exec.v0+json": {
       "id": "1194"
      }
     },
     "output_type": "display_data"
    }
   ],
   "source": [
    "from io import BytesIO\n",
    "from PIL import Image\n",
    "import base64\n",
    "from bokeh.plotting import figure, show, output_notebook\n",
    "from bokeh.models import HoverTool, ColumnDataSource, LinearColorMapper\n",
    "from bokeh.palettes import Spectral10\n",
    "\n",
    "output_notebook()\n",
    "\n",
    "def embeddable_image(data):\n",
    "    img_data = data.values.reshape(X21,X21)\n",
    "    image = Image.fromarray(img_data, mode='L').resize((64, 64), Image.BICUBIC)\n",
    "    buffer = BytesIO()\n",
    "    image.save(buffer, format='png')\n",
    "    for_encoding = buffer.getvalue()\n",
    "    return 'data:image/png;base64,' + base64.b64encode(for_encoding).decode()\n",
    "\n",
    "df['image'] = pd.DataFrame(data=x, columns=list(range(x.shape[1]))).apply(embeddable_image, axis=1)\n",
    "\n",
    "datasource = ColumnDataSource(df)\n",
    "color_mapping = LinearColorMapper(\n",
    "    palette='Magma256',\n",
    "    low=y.min(),\n",
    "    high=y.max()\n",
    ")\n",
    "\n",
    "plot_figure = figure(\n",
    "    title='PCA projection of the CR dataset',\n",
    "    plot_width=800,\n",
    "    plot_height=800,\n",
    "    tools=('pan, wheel_zoom, reset')\n",
    ")\n",
    "\n",
    "plot_figure.add_tools(HoverTool(tooltips=\"\"\"\n",
    "<div>\n",
    "    <div>\n",
    "        <img src='@image' style='float: left; margin: 5px 5px 5px 5px'/>\n",
    "    </div>\n",
    "    <div>\n",
    "        <span style='font-size: 16px; color: #224499'>phiCR:</span>\n",
    "        <span style='font-size: 18px'>@phiCR</span>\n",
    "    </div>\n",
    "</div>\n",
    "\"\"\"))\n",
    "\n",
    "plot_figure.circle(\n",
    "    'principal component 1 2D',\n",
    "    'principal component 2 2D',\n",
    "    source=datasource,\n",
    "    color=dict(field='phiCR', transform=color_mapping),\n",
    "    line_alpha=0.6,\n",
    "    fill_alpha=0.6,\n",
    "    size=7\n",
    ")\n",
    "show(plot_figure)"
   ]
  },
  {
   "cell_type": "markdown",
   "metadata": {},
   "source": [
    "## PCA to 3D"
   ]
  },
  {
   "cell_type": "code",
   "execution_count": 43,
   "metadata": {},
   "outputs": [],
   "source": [
    "pca = PCA(n_components=3)\n",
    "\n",
    "principalComponents = pca.fit_transform(embeddings)\n",
    "principalDf = pd.DataFrame(data = principalComponents\n",
    "             , columns = ['principal component 1', 'principal component 2', 'principal component 3'])\n",
    "df['principal component 1 3D'] = principalDf['principal component 1']\n",
    "df['principal component 2 3D'] = principalDf['principal component 2']\n",
    "df['principal component 3 3D'] = principalDf['principal component 3']"
   ]
  },
  {
   "cell_type": "code",
   "execution_count": 44,
   "metadata": {},
   "outputs": [
    {
     "data": {
      "application/vnd.plotly.v1+json": {
       "config": {
        "plotlyServerURL": "https://plot.ly"
       },
       "data": [
        {
         "hovertemplate": "principal component 1 3D=%{x}<br>principal component 2 3D=%{y}<br>principal component 3 3D=%{z}<br>y=%{marker.color}<extra></extra>",
         "legendgroup": "",
         "marker": {
          "color": [
           -2.4138646125793457,
           -2.4138646125793457,
           -2.4138646125793457,
           -2.4138646125793457,
           -2.4138646125793457,
           -2.4138646125793457,
           -2.4138646125793457,
           -2.4138646125793457,
           -2.4138646125793457,
           -2.4138646125793457,
           -2.4138646125793457,
           -2.4138646125793457,
           -2.4138646125793457,
           -2.4138646125793457,
           -2.4138646125793457,
           -2.4138646125793457,
           -2.4138646125793457,
           -2.4138646125793457,
           -2.4138646125793457,
           -2.4138646125793457,
           -2.4138646125793457,
           -2.4138646125793457,
           -2.4138646125793457,
           -2.4138646125793457,
           -2.4138646125793457,
           -2.4138646125793457,
           -2.4138646125793457,
           -2.4138646125793457,
           -2.4138646125793457,
           -2.4138646125793457,
           -2.4138646125793457,
           -2.4138646125793457,
           -2.4138646125793457,
           -2.4138646125793457,
           -2.4138646125793457,
           -2.4138646125793457,
           -2.4138646125793457,
           -2.4138646125793457,
           -2.4138646125793457,
           -2.4138646125793457
          ],
          "coloraxis": "coloraxis",
          "size": 3,
          "symbol": "circle"
         },
         "mode": "markers",
         "name": "",
         "scene": "scene",
         "showlegend": false,
         "type": "scatter3d",
         "x": [
          4.241811275482178,
          4.059618949890137,
          3.2380588054656982,
          4.258020401000977,
          -3.3845269680023193,
          -3.375422716140747,
          -3.045140504837036,
          -3.4516873359680176,
          -2.121044397354126,
          -1.758007287979126,
          -2.0313515663146973,
          -2.4670119285583496,
          1.9176115989685059,
          0.6532272100448608,
          2.1886484622955322,
          1.4867020845413208,
          -1.4357120990753174,
          -1.2859089374542236,
          -1.5960131883621216,
          -1.3908113241195679,
          -2.786780595779419,
          -2.7230257987976074,
          -2.941351890563965,
          -2.8836898803710938,
          3.0127816200256348,
          3.006690740585327,
          3.8352208137512207,
          3.142544746398926,
          1.4184314012527466,
          1.4578957557678223,
          1.2849944829940796,
          1.5988394021987915,
          -1.2305365800857544,
          -1.3484165668487549,
          -1.208235263824463,
          -1.069090723991394,
          0.8730937838554382,
          0.2792356610298157,
          0.8649521470069885,
          0.7153825759887695
         ],
         "y": [
          -1.6814565658569336,
          -1.635958194732666,
          -1.4454454183578491,
          -1.689500331878662,
          -0.4095224142074585,
          -0.4100935459136963,
          -0.4146491289138794,
          -0.4070958197116852,
          -0.4306413531303406,
          -0.43723294138908386,
          -0.4319975674152374,
          -0.4234970808029175,
          0.32959017157554626,
          2.1321189403533936,
          0.062102071940898895,
          0.8467199802398682,
          -0.7906476259231567,
          -0.8098072409629822,
          -0.7763678431510925,
          -0.7963874936103821,
          -0.4212820827960968,
          -0.425159215927124,
          -0.4184885025024414,
          -0.4151213467121124,
          -1.3901443481445312,
          -1.3825253248214722,
          -1.5950448513031006,
          -1.4187108278274536,
          1.6071741580963135,
          1.7159035205841064,
          1.5741722583770752,
          1.639514684677124,
          -0.8286045789718628,
          -0.8335784673690796,
          -0.8332131505012512,
          -0.8323819637298584,
          3.4620494842529297,
          3.717925548553467,
          3.385214328765869,
          3.312072992324829
         ],
         "z": [
          -0.03839441016316414,
          0.0014883695403113961,
          0.16929802298545837,
          -0.04290982708334923,
          -0.12979410588741302,
          -0.12507779896259308,
          0.05817904695868492,
          -0.16650669276714325,
          0.5330432653427124,
          0.7272145748138428,
          0.5820663571357727,
          0.3497897684574127,
          -0.21957530081272125,
          -0.4331130385398865,
          -0.11893383413553238,
          -0.3662737309932709,
          -0.36313506960868835,
          -0.3364189863204956,
          -0.3955298960208893,
          -0.3560161590576172,
          0.19619758427143097,
          0.2277708500623703,
          0.11878345906734467,
          0.13055093586444855,
          0.21651867032051086,
          0.21911847591400146,
          0.0469418428838253,
          0.19013044238090515,
          0.07903897017240524,
          0.15192162990570068,
          0.10430373251438141,
          0.04526885971426964,
          -0.3110313415527344,
          -0.363531231880188,
          -0.3080446422100067,
          -0.26431599259376526,
          0.04161972552537918,
          -0.003569182939827442,
          0.04565491899847984,
          0.10726887732744217
         ]
        }
       ],
       "layout": {
        "coloraxis": {
         "colorbar": {
          "title": {
           "text": "y"
          }
         },
         "colorscale": [
          [
           0,
           "#0d0887"
          ],
          [
           0.1111111111111111,
           "#46039f"
          ],
          [
           0.2222222222222222,
           "#7201a8"
          ],
          [
           0.3333333333333333,
           "#9c179e"
          ],
          [
           0.4444444444444444,
           "#bd3786"
          ],
          [
           0.5555555555555556,
           "#d8576b"
          ],
          [
           0.6666666666666666,
           "#ed7953"
          ],
          [
           0.7777777777777778,
           "#fb9f3a"
          ],
          [
           0.8888888888888888,
           "#fdca26"
          ],
          [
           1,
           "#f0f921"
          ]
         ]
        },
        "legend": {
         "tracegroupgap": 0
        },
        "margin": {
         "t": 60
        },
        "scene": {
         "domain": {
          "x": [
           0,
           1
          ],
          "y": [
           0,
           1
          ]
         },
         "xaxis": {
          "title": {
           "text": "principal component 1 3D"
          }
         },
         "yaxis": {
          "title": {
           "text": "principal component 2 3D"
          }
         },
         "zaxis": {
          "title": {
           "text": "principal component 3 3D"
          }
         }
        },
        "template": {
         "data": {
          "bar": [
           {
            "error_x": {
             "color": "#2a3f5f"
            },
            "error_y": {
             "color": "#2a3f5f"
            },
            "marker": {
             "line": {
              "color": "#E5ECF6",
              "width": 0.5
             },
             "pattern": {
              "fillmode": "overlay",
              "size": 10,
              "solidity": 0.2
             }
            },
            "type": "bar"
           }
          ],
          "barpolar": [
           {
            "marker": {
             "line": {
              "color": "#E5ECF6",
              "width": 0.5
             },
             "pattern": {
              "fillmode": "overlay",
              "size": 10,
              "solidity": 0.2
             }
            },
            "type": "barpolar"
           }
          ],
          "carpet": [
           {
            "aaxis": {
             "endlinecolor": "#2a3f5f",
             "gridcolor": "white",
             "linecolor": "white",
             "minorgridcolor": "white",
             "startlinecolor": "#2a3f5f"
            },
            "baxis": {
             "endlinecolor": "#2a3f5f",
             "gridcolor": "white",
             "linecolor": "white",
             "minorgridcolor": "white",
             "startlinecolor": "#2a3f5f"
            },
            "type": "carpet"
           }
          ],
          "choropleth": [
           {
            "colorbar": {
             "outlinewidth": 0,
             "ticks": ""
            },
            "type": "choropleth"
           }
          ],
          "contour": [
           {
            "colorbar": {
             "outlinewidth": 0,
             "ticks": ""
            },
            "colorscale": [
             [
              0,
              "#0d0887"
             ],
             [
              0.1111111111111111,
              "#46039f"
             ],
             [
              0.2222222222222222,
              "#7201a8"
             ],
             [
              0.3333333333333333,
              "#9c179e"
             ],
             [
              0.4444444444444444,
              "#bd3786"
             ],
             [
              0.5555555555555556,
              "#d8576b"
             ],
             [
              0.6666666666666666,
              "#ed7953"
             ],
             [
              0.7777777777777778,
              "#fb9f3a"
             ],
             [
              0.8888888888888888,
              "#fdca26"
             ],
             [
              1,
              "#f0f921"
             ]
            ],
            "type": "contour"
           }
          ],
          "contourcarpet": [
           {
            "colorbar": {
             "outlinewidth": 0,
             "ticks": ""
            },
            "type": "contourcarpet"
           }
          ],
          "heatmap": [
           {
            "colorbar": {
             "outlinewidth": 0,
             "ticks": ""
            },
            "colorscale": [
             [
              0,
              "#0d0887"
             ],
             [
              0.1111111111111111,
              "#46039f"
             ],
             [
              0.2222222222222222,
              "#7201a8"
             ],
             [
              0.3333333333333333,
              "#9c179e"
             ],
             [
              0.4444444444444444,
              "#bd3786"
             ],
             [
              0.5555555555555556,
              "#d8576b"
             ],
             [
              0.6666666666666666,
              "#ed7953"
             ],
             [
              0.7777777777777778,
              "#fb9f3a"
             ],
             [
              0.8888888888888888,
              "#fdca26"
             ],
             [
              1,
              "#f0f921"
             ]
            ],
            "type": "heatmap"
           }
          ],
          "heatmapgl": [
           {
            "colorbar": {
             "outlinewidth": 0,
             "ticks": ""
            },
            "colorscale": [
             [
              0,
              "#0d0887"
             ],
             [
              0.1111111111111111,
              "#46039f"
             ],
             [
              0.2222222222222222,
              "#7201a8"
             ],
             [
              0.3333333333333333,
              "#9c179e"
             ],
             [
              0.4444444444444444,
              "#bd3786"
             ],
             [
              0.5555555555555556,
              "#d8576b"
             ],
             [
              0.6666666666666666,
              "#ed7953"
             ],
             [
              0.7777777777777778,
              "#fb9f3a"
             ],
             [
              0.8888888888888888,
              "#fdca26"
             ],
             [
              1,
              "#f0f921"
             ]
            ],
            "type": "heatmapgl"
           }
          ],
          "histogram": [
           {
            "marker": {
             "pattern": {
              "fillmode": "overlay",
              "size": 10,
              "solidity": 0.2
             }
            },
            "type": "histogram"
           }
          ],
          "histogram2d": [
           {
            "colorbar": {
             "outlinewidth": 0,
             "ticks": ""
            },
            "colorscale": [
             [
              0,
              "#0d0887"
             ],
             [
              0.1111111111111111,
              "#46039f"
             ],
             [
              0.2222222222222222,
              "#7201a8"
             ],
             [
              0.3333333333333333,
              "#9c179e"
             ],
             [
              0.4444444444444444,
              "#bd3786"
             ],
             [
              0.5555555555555556,
              "#d8576b"
             ],
             [
              0.6666666666666666,
              "#ed7953"
             ],
             [
              0.7777777777777778,
              "#fb9f3a"
             ],
             [
              0.8888888888888888,
              "#fdca26"
             ],
             [
              1,
              "#f0f921"
             ]
            ],
            "type": "histogram2d"
           }
          ],
          "histogram2dcontour": [
           {
            "colorbar": {
             "outlinewidth": 0,
             "ticks": ""
            },
            "colorscale": [
             [
              0,
              "#0d0887"
             ],
             [
              0.1111111111111111,
              "#46039f"
             ],
             [
              0.2222222222222222,
              "#7201a8"
             ],
             [
              0.3333333333333333,
              "#9c179e"
             ],
             [
              0.4444444444444444,
              "#bd3786"
             ],
             [
              0.5555555555555556,
              "#d8576b"
             ],
             [
              0.6666666666666666,
              "#ed7953"
             ],
             [
              0.7777777777777778,
              "#fb9f3a"
             ],
             [
              0.8888888888888888,
              "#fdca26"
             ],
             [
              1,
              "#f0f921"
             ]
            ],
            "type": "histogram2dcontour"
           }
          ],
          "mesh3d": [
           {
            "colorbar": {
             "outlinewidth": 0,
             "ticks": ""
            },
            "type": "mesh3d"
           }
          ],
          "parcoords": [
           {
            "line": {
             "colorbar": {
              "outlinewidth": 0,
              "ticks": ""
             }
            },
            "type": "parcoords"
           }
          ],
          "pie": [
           {
            "automargin": true,
            "type": "pie"
           }
          ],
          "scatter": [
           {
            "marker": {
             "colorbar": {
              "outlinewidth": 0,
              "ticks": ""
             }
            },
            "type": "scatter"
           }
          ],
          "scatter3d": [
           {
            "line": {
             "colorbar": {
              "outlinewidth": 0,
              "ticks": ""
             }
            },
            "marker": {
             "colorbar": {
              "outlinewidth": 0,
              "ticks": ""
             }
            },
            "type": "scatter3d"
           }
          ],
          "scattercarpet": [
           {
            "marker": {
             "colorbar": {
              "outlinewidth": 0,
              "ticks": ""
             }
            },
            "type": "scattercarpet"
           }
          ],
          "scattergeo": [
           {
            "marker": {
             "colorbar": {
              "outlinewidth": 0,
              "ticks": ""
             }
            },
            "type": "scattergeo"
           }
          ],
          "scattergl": [
           {
            "marker": {
             "colorbar": {
              "outlinewidth": 0,
              "ticks": ""
             }
            },
            "type": "scattergl"
           }
          ],
          "scattermapbox": [
           {
            "marker": {
             "colorbar": {
              "outlinewidth": 0,
              "ticks": ""
             }
            },
            "type": "scattermapbox"
           }
          ],
          "scatterpolar": [
           {
            "marker": {
             "colorbar": {
              "outlinewidth": 0,
              "ticks": ""
             }
            },
            "type": "scatterpolar"
           }
          ],
          "scatterpolargl": [
           {
            "marker": {
             "colorbar": {
              "outlinewidth": 0,
              "ticks": ""
             }
            },
            "type": "scatterpolargl"
           }
          ],
          "scatterternary": [
           {
            "marker": {
             "colorbar": {
              "outlinewidth": 0,
              "ticks": ""
             }
            },
            "type": "scatterternary"
           }
          ],
          "surface": [
           {
            "colorbar": {
             "outlinewidth": 0,
             "ticks": ""
            },
            "colorscale": [
             [
              0,
              "#0d0887"
             ],
             [
              0.1111111111111111,
              "#46039f"
             ],
             [
              0.2222222222222222,
              "#7201a8"
             ],
             [
              0.3333333333333333,
              "#9c179e"
             ],
             [
              0.4444444444444444,
              "#bd3786"
             ],
             [
              0.5555555555555556,
              "#d8576b"
             ],
             [
              0.6666666666666666,
              "#ed7953"
             ],
             [
              0.7777777777777778,
              "#fb9f3a"
             ],
             [
              0.8888888888888888,
              "#fdca26"
             ],
             [
              1,
              "#f0f921"
             ]
            ],
            "type": "surface"
           }
          ],
          "table": [
           {
            "cells": {
             "fill": {
              "color": "#EBF0F8"
             },
             "line": {
              "color": "white"
             }
            },
            "header": {
             "fill": {
              "color": "#C8D4E3"
             },
             "line": {
              "color": "white"
             }
            },
            "type": "table"
           }
          ]
         },
         "layout": {
          "annotationdefaults": {
           "arrowcolor": "#2a3f5f",
           "arrowhead": 0,
           "arrowwidth": 1
          },
          "autotypenumbers": "strict",
          "coloraxis": {
           "colorbar": {
            "outlinewidth": 0,
            "ticks": ""
           }
          },
          "colorscale": {
           "diverging": [
            [
             0,
             "#8e0152"
            ],
            [
             0.1,
             "#c51b7d"
            ],
            [
             0.2,
             "#de77ae"
            ],
            [
             0.3,
             "#f1b6da"
            ],
            [
             0.4,
             "#fde0ef"
            ],
            [
             0.5,
             "#f7f7f7"
            ],
            [
             0.6,
             "#e6f5d0"
            ],
            [
             0.7,
             "#b8e186"
            ],
            [
             0.8,
             "#7fbc41"
            ],
            [
             0.9,
             "#4d9221"
            ],
            [
             1,
             "#276419"
            ]
           ],
           "sequential": [
            [
             0,
             "#0d0887"
            ],
            [
             0.1111111111111111,
             "#46039f"
            ],
            [
             0.2222222222222222,
             "#7201a8"
            ],
            [
             0.3333333333333333,
             "#9c179e"
            ],
            [
             0.4444444444444444,
             "#bd3786"
            ],
            [
             0.5555555555555556,
             "#d8576b"
            ],
            [
             0.6666666666666666,
             "#ed7953"
            ],
            [
             0.7777777777777778,
             "#fb9f3a"
            ],
            [
             0.8888888888888888,
             "#fdca26"
            ],
            [
             1,
             "#f0f921"
            ]
           ],
           "sequentialminus": [
            [
             0,
             "#0d0887"
            ],
            [
             0.1111111111111111,
             "#46039f"
            ],
            [
             0.2222222222222222,
             "#7201a8"
            ],
            [
             0.3333333333333333,
             "#9c179e"
            ],
            [
             0.4444444444444444,
             "#bd3786"
            ],
            [
             0.5555555555555556,
             "#d8576b"
            ],
            [
             0.6666666666666666,
             "#ed7953"
            ],
            [
             0.7777777777777778,
             "#fb9f3a"
            ],
            [
             0.8888888888888888,
             "#fdca26"
            ],
            [
             1,
             "#f0f921"
            ]
           ]
          },
          "colorway": [
           "#636efa",
           "#EF553B",
           "#00cc96",
           "#ab63fa",
           "#FFA15A",
           "#19d3f3",
           "#FF6692",
           "#B6E880",
           "#FF97FF",
           "#FECB52"
          ],
          "font": {
           "color": "#2a3f5f"
          },
          "geo": {
           "bgcolor": "white",
           "lakecolor": "white",
           "landcolor": "#E5ECF6",
           "showlakes": true,
           "showland": true,
           "subunitcolor": "white"
          },
          "hoverlabel": {
           "align": "left"
          },
          "hovermode": "closest",
          "mapbox": {
           "style": "light"
          },
          "paper_bgcolor": "white",
          "plot_bgcolor": "#E5ECF6",
          "polar": {
           "angularaxis": {
            "gridcolor": "white",
            "linecolor": "white",
            "ticks": ""
           },
           "bgcolor": "#E5ECF6",
           "radialaxis": {
            "gridcolor": "white",
            "linecolor": "white",
            "ticks": ""
           }
          },
          "scene": {
           "xaxis": {
            "backgroundcolor": "#E5ECF6",
            "gridcolor": "white",
            "gridwidth": 2,
            "linecolor": "white",
            "showbackground": true,
            "ticks": "",
            "zerolinecolor": "white"
           },
           "yaxis": {
            "backgroundcolor": "#E5ECF6",
            "gridcolor": "white",
            "gridwidth": 2,
            "linecolor": "white",
            "showbackground": true,
            "ticks": "",
            "zerolinecolor": "white"
           },
           "zaxis": {
            "backgroundcolor": "#E5ECF6",
            "gridcolor": "white",
            "gridwidth": 2,
            "linecolor": "white",
            "showbackground": true,
            "ticks": "",
            "zerolinecolor": "white"
           }
          },
          "shapedefaults": {
           "line": {
            "color": "#2a3f5f"
           }
          },
          "ternary": {
           "aaxis": {
            "gridcolor": "white",
            "linecolor": "white",
            "ticks": ""
           },
           "baxis": {
            "gridcolor": "white",
            "linecolor": "white",
            "ticks": ""
           },
           "bgcolor": "#E5ECF6",
           "caxis": {
            "gridcolor": "white",
            "linecolor": "white",
            "ticks": ""
           }
          },
          "title": {
           "x": 0.05
          },
          "xaxis": {
           "automargin": true,
           "gridcolor": "white",
           "linecolor": "white",
           "ticks": "",
           "title": {
            "standoff": 15
           },
           "zerolinecolor": "white",
           "zerolinewidth": 2
          },
          "yaxis": {
           "automargin": true,
           "gridcolor": "white",
           "linecolor": "white",
           "ticks": "",
           "title": {
            "standoff": 15
           },
           "zerolinecolor": "white",
           "zerolinewidth": 2
          }
         }
        },
        "yaxis": {
         "scaleanchor": "x",
         "scaleratio": 1
        }
       }
      },
      "text/html": [
       "<div>                            <div id=\"a2dc8d85-a9ed-493a-a96d-bf7a9a476b30\" class=\"plotly-graph-div\" style=\"height:525px; width:100%;\"></div>            <script type=\"text/javascript\">                require([\"plotly\"], function(Plotly) {                    window.PLOTLYENV=window.PLOTLYENV || {};                                    if (document.getElementById(\"a2dc8d85-a9ed-493a-a96d-bf7a9a476b30\")) {                    Plotly.newPlot(                        \"a2dc8d85-a9ed-493a-a96d-bf7a9a476b30\",                        [{\"hovertemplate\":\"principal component 1 3D=%{x}<br>principal component 2 3D=%{y}<br>principal component 3 3D=%{z}<br>y=%{marker.color}<extra></extra>\",\"legendgroup\":\"\",\"marker\":{\"color\":[-2.4138646125793457,-2.4138646125793457,-2.4138646125793457,-2.4138646125793457,-2.4138646125793457,-2.4138646125793457,-2.4138646125793457,-2.4138646125793457,-2.4138646125793457,-2.4138646125793457,-2.4138646125793457,-2.4138646125793457,-2.4138646125793457,-2.4138646125793457,-2.4138646125793457,-2.4138646125793457,-2.4138646125793457,-2.4138646125793457,-2.4138646125793457,-2.4138646125793457,-2.4138646125793457,-2.4138646125793457,-2.4138646125793457,-2.4138646125793457,-2.4138646125793457,-2.4138646125793457,-2.4138646125793457,-2.4138646125793457,-2.4138646125793457,-2.4138646125793457,-2.4138646125793457,-2.4138646125793457,-2.4138646125793457,-2.4138646125793457,-2.4138646125793457,-2.4138646125793457,-2.4138646125793457,-2.4138646125793457,-2.4138646125793457,-2.4138646125793457],\"coloraxis\":\"coloraxis\",\"symbol\":\"circle\",\"size\":3},\"mode\":\"markers\",\"name\":\"\",\"scene\":\"scene\",\"showlegend\":false,\"x\":[4.241811275482178,4.059618949890137,3.2380588054656982,4.258020401000977,-3.3845269680023193,-3.375422716140747,-3.045140504837036,-3.4516873359680176,-2.121044397354126,-1.758007287979126,-2.0313515663146973,-2.4670119285583496,1.9176115989685059,0.6532272100448608,2.1886484622955322,1.4867020845413208,-1.4357120990753174,-1.2859089374542236,-1.5960131883621216,-1.3908113241195679,-2.786780595779419,-2.7230257987976074,-2.941351890563965,-2.8836898803710938,3.0127816200256348,3.006690740585327,3.8352208137512207,3.142544746398926,1.4184314012527466,1.4578957557678223,1.2849944829940796,1.5988394021987915,-1.2305365800857544,-1.3484165668487549,-1.208235263824463,-1.069090723991394,0.8730937838554382,0.2792356610298157,0.8649521470069885,0.7153825759887695],\"y\":[-1.6814565658569336,-1.635958194732666,-1.4454454183578491,-1.689500331878662,-0.4095224142074585,-0.4100935459136963,-0.4146491289138794,-0.4070958197116852,-0.4306413531303406,-0.43723294138908386,-0.4319975674152374,-0.4234970808029175,0.32959017157554626,2.1321189403533936,0.062102071940898895,0.8467199802398682,-0.7906476259231567,-0.8098072409629822,-0.7763678431510925,-0.7963874936103821,-0.4212820827960968,-0.425159215927124,-0.4184885025024414,-0.4151213467121124,-1.3901443481445312,-1.3825253248214722,-1.5950448513031006,-1.4187108278274536,1.6071741580963135,1.7159035205841064,1.5741722583770752,1.639514684677124,-0.8286045789718628,-0.8335784673690796,-0.8332131505012512,-0.8323819637298584,3.4620494842529297,3.717925548553467,3.385214328765869,3.312072992324829],\"z\":[-0.03839441016316414,0.0014883695403113961,0.16929802298545837,-0.04290982708334923,-0.12979410588741302,-0.12507779896259308,0.05817904695868492,-0.16650669276714325,0.5330432653427124,0.7272145748138428,0.5820663571357727,0.3497897684574127,-0.21957530081272125,-0.4331130385398865,-0.11893383413553238,-0.3662737309932709,-0.36313506960868835,-0.3364189863204956,-0.3955298960208893,-0.3560161590576172,0.19619758427143097,0.2277708500623703,0.11878345906734467,0.13055093586444855,0.21651867032051086,0.21911847591400146,0.0469418428838253,0.19013044238090515,0.07903897017240524,0.15192162990570068,0.10430373251438141,0.04526885971426964,-0.3110313415527344,-0.363531231880188,-0.3080446422100067,-0.26431599259376526,0.04161972552537918,-0.003569182939827442,0.04565491899847984,0.10726887732744217],\"type\":\"scatter3d\"}],                        {\"template\":{\"data\":{\"bar\":[{\"error_x\":{\"color\":\"#2a3f5f\"},\"error_y\":{\"color\":\"#2a3f5f\"},\"marker\":{\"line\":{\"color\":\"#E5ECF6\",\"width\":0.5},\"pattern\":{\"fillmode\":\"overlay\",\"size\":10,\"solidity\":0.2}},\"type\":\"bar\"}],\"barpolar\":[{\"marker\":{\"line\":{\"color\":\"#E5ECF6\",\"width\":0.5},\"pattern\":{\"fillmode\":\"overlay\",\"size\":10,\"solidity\":0.2}},\"type\":\"barpolar\"}],\"carpet\":[{\"aaxis\":{\"endlinecolor\":\"#2a3f5f\",\"gridcolor\":\"white\",\"linecolor\":\"white\",\"minorgridcolor\":\"white\",\"startlinecolor\":\"#2a3f5f\"},\"baxis\":{\"endlinecolor\":\"#2a3f5f\",\"gridcolor\":\"white\",\"linecolor\":\"white\",\"minorgridcolor\":\"white\",\"startlinecolor\":\"#2a3f5f\"},\"type\":\"carpet\"}],\"choropleth\":[{\"colorbar\":{\"outlinewidth\":0,\"ticks\":\"\"},\"type\":\"choropleth\"}],\"contour\":[{\"colorbar\":{\"outlinewidth\":0,\"ticks\":\"\"},\"colorscale\":[[0.0,\"#0d0887\"],[0.1111111111111111,\"#46039f\"],[0.2222222222222222,\"#7201a8\"],[0.3333333333333333,\"#9c179e\"],[0.4444444444444444,\"#bd3786\"],[0.5555555555555556,\"#d8576b\"],[0.6666666666666666,\"#ed7953\"],[0.7777777777777778,\"#fb9f3a\"],[0.8888888888888888,\"#fdca26\"],[1.0,\"#f0f921\"]],\"type\":\"contour\"}],\"contourcarpet\":[{\"colorbar\":{\"outlinewidth\":0,\"ticks\":\"\"},\"type\":\"contourcarpet\"}],\"heatmap\":[{\"colorbar\":{\"outlinewidth\":0,\"ticks\":\"\"},\"colorscale\":[[0.0,\"#0d0887\"],[0.1111111111111111,\"#46039f\"],[0.2222222222222222,\"#7201a8\"],[0.3333333333333333,\"#9c179e\"],[0.4444444444444444,\"#bd3786\"],[0.5555555555555556,\"#d8576b\"],[0.6666666666666666,\"#ed7953\"],[0.7777777777777778,\"#fb9f3a\"],[0.8888888888888888,\"#fdca26\"],[1.0,\"#f0f921\"]],\"type\":\"heatmap\"}],\"heatmapgl\":[{\"colorbar\":{\"outlinewidth\":0,\"ticks\":\"\"},\"colorscale\":[[0.0,\"#0d0887\"],[0.1111111111111111,\"#46039f\"],[0.2222222222222222,\"#7201a8\"],[0.3333333333333333,\"#9c179e\"],[0.4444444444444444,\"#bd3786\"],[0.5555555555555556,\"#d8576b\"],[0.6666666666666666,\"#ed7953\"],[0.7777777777777778,\"#fb9f3a\"],[0.8888888888888888,\"#fdca26\"],[1.0,\"#f0f921\"]],\"type\":\"heatmapgl\"}],\"histogram\":[{\"marker\":{\"pattern\":{\"fillmode\":\"overlay\",\"size\":10,\"solidity\":0.2}},\"type\":\"histogram\"}],\"histogram2d\":[{\"colorbar\":{\"outlinewidth\":0,\"ticks\":\"\"},\"colorscale\":[[0.0,\"#0d0887\"],[0.1111111111111111,\"#46039f\"],[0.2222222222222222,\"#7201a8\"],[0.3333333333333333,\"#9c179e\"],[0.4444444444444444,\"#bd3786\"],[0.5555555555555556,\"#d8576b\"],[0.6666666666666666,\"#ed7953\"],[0.7777777777777778,\"#fb9f3a\"],[0.8888888888888888,\"#fdca26\"],[1.0,\"#f0f921\"]],\"type\":\"histogram2d\"}],\"histogram2dcontour\":[{\"colorbar\":{\"outlinewidth\":0,\"ticks\":\"\"},\"colorscale\":[[0.0,\"#0d0887\"],[0.1111111111111111,\"#46039f\"],[0.2222222222222222,\"#7201a8\"],[0.3333333333333333,\"#9c179e\"],[0.4444444444444444,\"#bd3786\"],[0.5555555555555556,\"#d8576b\"],[0.6666666666666666,\"#ed7953\"],[0.7777777777777778,\"#fb9f3a\"],[0.8888888888888888,\"#fdca26\"],[1.0,\"#f0f921\"]],\"type\":\"histogram2dcontour\"}],\"mesh3d\":[{\"colorbar\":{\"outlinewidth\":0,\"ticks\":\"\"},\"type\":\"mesh3d\"}],\"parcoords\":[{\"line\":{\"colorbar\":{\"outlinewidth\":0,\"ticks\":\"\"}},\"type\":\"parcoords\"}],\"pie\":[{\"automargin\":true,\"type\":\"pie\"}],\"scatter\":[{\"marker\":{\"colorbar\":{\"outlinewidth\":0,\"ticks\":\"\"}},\"type\":\"scatter\"}],\"scatter3d\":[{\"line\":{\"colorbar\":{\"outlinewidth\":0,\"ticks\":\"\"}},\"marker\":{\"colorbar\":{\"outlinewidth\":0,\"ticks\":\"\"}},\"type\":\"scatter3d\"}],\"scattercarpet\":[{\"marker\":{\"colorbar\":{\"outlinewidth\":0,\"ticks\":\"\"}},\"type\":\"scattercarpet\"}],\"scattergeo\":[{\"marker\":{\"colorbar\":{\"outlinewidth\":0,\"ticks\":\"\"}},\"type\":\"scattergeo\"}],\"scattergl\":[{\"marker\":{\"colorbar\":{\"outlinewidth\":0,\"ticks\":\"\"}},\"type\":\"scattergl\"}],\"scattermapbox\":[{\"marker\":{\"colorbar\":{\"outlinewidth\":0,\"ticks\":\"\"}},\"type\":\"scattermapbox\"}],\"scatterpolar\":[{\"marker\":{\"colorbar\":{\"outlinewidth\":0,\"ticks\":\"\"}},\"type\":\"scatterpolar\"}],\"scatterpolargl\":[{\"marker\":{\"colorbar\":{\"outlinewidth\":0,\"ticks\":\"\"}},\"type\":\"scatterpolargl\"}],\"scatterternary\":[{\"marker\":{\"colorbar\":{\"outlinewidth\":0,\"ticks\":\"\"}},\"type\":\"scatterternary\"}],\"surface\":[{\"colorbar\":{\"outlinewidth\":0,\"ticks\":\"\"},\"colorscale\":[[0.0,\"#0d0887\"],[0.1111111111111111,\"#46039f\"],[0.2222222222222222,\"#7201a8\"],[0.3333333333333333,\"#9c179e\"],[0.4444444444444444,\"#bd3786\"],[0.5555555555555556,\"#d8576b\"],[0.6666666666666666,\"#ed7953\"],[0.7777777777777778,\"#fb9f3a\"],[0.8888888888888888,\"#fdca26\"],[1.0,\"#f0f921\"]],\"type\":\"surface\"}],\"table\":[{\"cells\":{\"fill\":{\"color\":\"#EBF0F8\"},\"line\":{\"color\":\"white\"}},\"header\":{\"fill\":{\"color\":\"#C8D4E3\"},\"line\":{\"color\":\"white\"}},\"type\":\"table\"}]},\"layout\":{\"annotationdefaults\":{\"arrowcolor\":\"#2a3f5f\",\"arrowhead\":0,\"arrowwidth\":1},\"autotypenumbers\":\"strict\",\"coloraxis\":{\"colorbar\":{\"outlinewidth\":0,\"ticks\":\"\"}},\"colorscale\":{\"diverging\":[[0,\"#8e0152\"],[0.1,\"#c51b7d\"],[0.2,\"#de77ae\"],[0.3,\"#f1b6da\"],[0.4,\"#fde0ef\"],[0.5,\"#f7f7f7\"],[0.6,\"#e6f5d0\"],[0.7,\"#b8e186\"],[0.8,\"#7fbc41\"],[0.9,\"#4d9221\"],[1,\"#276419\"]],\"sequential\":[[0.0,\"#0d0887\"],[0.1111111111111111,\"#46039f\"],[0.2222222222222222,\"#7201a8\"],[0.3333333333333333,\"#9c179e\"],[0.4444444444444444,\"#bd3786\"],[0.5555555555555556,\"#d8576b\"],[0.6666666666666666,\"#ed7953\"],[0.7777777777777778,\"#fb9f3a\"],[0.8888888888888888,\"#fdca26\"],[1.0,\"#f0f921\"]],\"sequentialminus\":[[0.0,\"#0d0887\"],[0.1111111111111111,\"#46039f\"],[0.2222222222222222,\"#7201a8\"],[0.3333333333333333,\"#9c179e\"],[0.4444444444444444,\"#bd3786\"],[0.5555555555555556,\"#d8576b\"],[0.6666666666666666,\"#ed7953\"],[0.7777777777777778,\"#fb9f3a\"],[0.8888888888888888,\"#fdca26\"],[1.0,\"#f0f921\"]]},\"colorway\":[\"#636efa\",\"#EF553B\",\"#00cc96\",\"#ab63fa\",\"#FFA15A\",\"#19d3f3\",\"#FF6692\",\"#B6E880\",\"#FF97FF\",\"#FECB52\"],\"font\":{\"color\":\"#2a3f5f\"},\"geo\":{\"bgcolor\":\"white\",\"lakecolor\":\"white\",\"landcolor\":\"#E5ECF6\",\"showlakes\":true,\"showland\":true,\"subunitcolor\":\"white\"},\"hoverlabel\":{\"align\":\"left\"},\"hovermode\":\"closest\",\"mapbox\":{\"style\":\"light\"},\"paper_bgcolor\":\"white\",\"plot_bgcolor\":\"#E5ECF6\",\"polar\":{\"angularaxis\":{\"gridcolor\":\"white\",\"linecolor\":\"white\",\"ticks\":\"\"},\"bgcolor\":\"#E5ECF6\",\"radialaxis\":{\"gridcolor\":\"white\",\"linecolor\":\"white\",\"ticks\":\"\"}},\"scene\":{\"xaxis\":{\"backgroundcolor\":\"#E5ECF6\",\"gridcolor\":\"white\",\"gridwidth\":2,\"linecolor\":\"white\",\"showbackground\":true,\"ticks\":\"\",\"zerolinecolor\":\"white\"},\"yaxis\":{\"backgroundcolor\":\"#E5ECF6\",\"gridcolor\":\"white\",\"gridwidth\":2,\"linecolor\":\"white\",\"showbackground\":true,\"ticks\":\"\",\"zerolinecolor\":\"white\"},\"zaxis\":{\"backgroundcolor\":\"#E5ECF6\",\"gridcolor\":\"white\",\"gridwidth\":2,\"linecolor\":\"white\",\"showbackground\":true,\"ticks\":\"\",\"zerolinecolor\":\"white\"}},\"shapedefaults\":{\"line\":{\"color\":\"#2a3f5f\"}},\"ternary\":{\"aaxis\":{\"gridcolor\":\"white\",\"linecolor\":\"white\",\"ticks\":\"\"},\"baxis\":{\"gridcolor\":\"white\",\"linecolor\":\"white\",\"ticks\":\"\"},\"bgcolor\":\"#E5ECF6\",\"caxis\":{\"gridcolor\":\"white\",\"linecolor\":\"white\",\"ticks\":\"\"}},\"title\":{\"x\":0.05},\"xaxis\":{\"automargin\":true,\"gridcolor\":\"white\",\"linecolor\":\"white\",\"ticks\":\"\",\"title\":{\"standoff\":15},\"zerolinecolor\":\"white\",\"zerolinewidth\":2},\"yaxis\":{\"automargin\":true,\"gridcolor\":\"white\",\"linecolor\":\"white\",\"ticks\":\"\",\"title\":{\"standoff\":15},\"zerolinecolor\":\"white\",\"zerolinewidth\":2}}},\"scene\":{\"domain\":{\"x\":[0.0,1.0],\"y\":[0.0,1.0]},\"xaxis\":{\"title\":{\"text\":\"principal component 1 3D\"}},\"yaxis\":{\"title\":{\"text\":\"principal component 2 3D\"}},\"zaxis\":{\"title\":{\"text\":\"principal component 3 3D\"}}},\"coloraxis\":{\"colorbar\":{\"title\":{\"text\":\"y\"}},\"colorscale\":[[0.0,\"#0d0887\"],[0.1111111111111111,\"#46039f\"],[0.2222222222222222,\"#7201a8\"],[0.3333333333333333,\"#9c179e\"],[0.4444444444444444,\"#bd3786\"],[0.5555555555555556,\"#d8576b\"],[0.6666666666666666,\"#ed7953\"],[0.7777777777777778,\"#fb9f3a\"],[0.8888888888888888,\"#fdca26\"],[1.0,\"#f0f921\"]]},\"legend\":{\"tracegroupgap\":0},\"margin\":{\"t\":60},\"yaxis\":{\"scaleanchor\":\"x\",\"scaleratio\":1}},                        {\"responsive\": true}                    ).then(function(){\n",
       "                            \n",
       "var gd = document.getElementById('a2dc8d85-a9ed-493a-a96d-bf7a9a476b30');\n",
       "var x = new MutationObserver(function (mutations, observer) {{\n",
       "        var display = window.getComputedStyle(gd).display;\n",
       "        if (!display || display === 'none') {{\n",
       "            console.log([gd, 'removed!']);\n",
       "            Plotly.purge(gd);\n",
       "            observer.disconnect();\n",
       "        }}\n",
       "}});\n",
       "\n",
       "// Listen for the removal of the full notebook cells\n",
       "var notebookContainer = gd.closest('#notebook-container');\n",
       "if (notebookContainer) {{\n",
       "    x.observe(notebookContainer, {childList: true});\n",
       "}}\n",
       "\n",
       "// Listen for the clearing of the current output cell\n",
       "var outputEl = gd.closest('.output');\n",
       "if (outputEl) {{\n",
       "    x.observe(outputEl, {childList: true});\n",
       "}}\n",
       "\n",
       "                        })                };                });            </script>        </div>"
      ]
     },
     "metadata": {},
     "output_type": "display_data"
    }
   ],
   "source": [
    "fig=px.scatter_3d(df, x=\"principal component 1 3D\", y=\"principal component 2 3D\", z=\"principal component 3 3D\", color=\"y\")\n",
    "fig.update_traces(marker={\"size\":3})\n",
    "fig.update_yaxes(scaleanchor=\"x\", scaleratio=1)\n",
    "fig.show()"
   ]
  },
  {
   "cell_type": "markdown",
   "metadata": {},
   "source": [
    "## UMAP to 2D"
   ]
  },
  {
   "cell_type": "code",
   "execution_count": 45,
   "metadata": {},
   "outputs": [
    {
     "name": "stderr",
     "output_type": "stream",
     "text": [
      "/home/oiangu/anaconda3/lib/python3.8/site-packages/umap/umap_.py:1802: UserWarning:\n",
      "\n",
      "gradient function is not yet implemented for hamming distance metric; inverse_transform will be unavailable\n",
      "\n",
      "/home/oiangu/anaconda3/lib/python3.8/site-packages/umap/umap_.py:2344: UserWarning:\n",
      "\n",
      "n_neighbors is larger than the dataset size; truncating to X.shape[0] - 1\n",
      "\n"
     ]
    }
   ],
   "source": [
    "umap_reducer = UMAP(n_components=2, min_dist=0.1, n_neighbors=500, metric='hamming')\n",
    "principalComponents = umap_reducer.fit_transform(embeddings)\n",
    "principalDf = pd.DataFrame(data = principalComponents\n",
    "             , columns = ['umap_1', 'umap_2'])\n",
    "df['umap_1 2D'] = principalDf['umap_1']\n",
    "df['umap_2 2D'] = principalDf['umap_2']"
   ]
  },
  {
   "cell_type": "code",
   "execution_count": 46,
   "metadata": {},
   "outputs": [
    {
     "data": {
      "text/html": [
       "\n",
       "    <div class=\"bk-root\">\n",
       "        <a href=\"https://bokeh.org\" target=\"_blank\" class=\"bk-logo bk-logo-small bk-logo-notebook\"></a>\n",
       "        <span id=\"1299\">Loading BokehJS ...</span>\n",
       "    </div>"
      ]
     },
     "metadata": {},
     "output_type": "display_data"
    },
    {
     "data": {
      "application/javascript": [
       "\n",
       "(function(root) {\n",
       "  function now() {\n",
       "    return new Date();\n",
       "  }\n",
       "\n",
       "  var force = true;\n",
       "\n",
       "  if (typeof root._bokeh_onload_callbacks === \"undefined\" || force === true) {\n",
       "    root._bokeh_onload_callbacks = [];\n",
       "    root._bokeh_is_loading = undefined;\n",
       "  }\n",
       "\n",
       "  var JS_MIME_TYPE = 'application/javascript';\n",
       "  var HTML_MIME_TYPE = 'text/html';\n",
       "  var EXEC_MIME_TYPE = 'application/vnd.bokehjs_exec.v0+json';\n",
       "  var CLASS_NAME = 'output_bokeh rendered_html';\n",
       "\n",
       "  /**\n",
       "   * Render data to the DOM node\n",
       "   */\n",
       "  function render(props, node) {\n",
       "    var script = document.createElement(\"script\");\n",
       "    node.appendChild(script);\n",
       "  }\n",
       "\n",
       "  /**\n",
       "   * Handle when an output is cleared or removed\n",
       "   */\n",
       "  function handleClearOutput(event, handle) {\n",
       "    var cell = handle.cell;\n",
       "\n",
       "    var id = cell.output_area._bokeh_element_id;\n",
       "    var server_id = cell.output_area._bokeh_server_id;\n",
       "    // Clean up Bokeh references\n",
       "    if (id != null && id in Bokeh.index) {\n",
       "      Bokeh.index[id].model.document.clear();\n",
       "      delete Bokeh.index[id];\n",
       "    }\n",
       "\n",
       "    if (server_id !== undefined) {\n",
       "      // Clean up Bokeh references\n",
       "      var cmd = \"from bokeh.io.state import curstate; print(curstate().uuid_to_server['\" + server_id + \"'].get_sessions()[0].document.roots[0]._id)\";\n",
       "      cell.notebook.kernel.execute(cmd, {\n",
       "        iopub: {\n",
       "          output: function(msg) {\n",
       "            var id = msg.content.text.trim();\n",
       "            if (id in Bokeh.index) {\n",
       "              Bokeh.index[id].model.document.clear();\n",
       "              delete Bokeh.index[id];\n",
       "            }\n",
       "          }\n",
       "        }\n",
       "      });\n",
       "      // Destroy server and session\n",
       "      var cmd = \"import bokeh.io.notebook as ion; ion.destroy_server('\" + server_id + \"')\";\n",
       "      cell.notebook.kernel.execute(cmd);\n",
       "    }\n",
       "  }\n",
       "\n",
       "  /**\n",
       "   * Handle when a new output is added\n",
       "   */\n",
       "  function handleAddOutput(event, handle) {\n",
       "    var output_area = handle.output_area;\n",
       "    var output = handle.output;\n",
       "\n",
       "    // limit handleAddOutput to display_data with EXEC_MIME_TYPE content only\n",
       "    if ((output.output_type != \"display_data\") || (!Object.prototype.hasOwnProperty.call(output.data, EXEC_MIME_TYPE))) {\n",
       "      return\n",
       "    }\n",
       "\n",
       "    var toinsert = output_area.element.find(\".\" + CLASS_NAME.split(' ')[0]);\n",
       "\n",
       "    if (output.metadata[EXEC_MIME_TYPE][\"id\"] !== undefined) {\n",
       "      toinsert[toinsert.length - 1].firstChild.textContent = output.data[JS_MIME_TYPE];\n",
       "      // store reference to embed id on output_area\n",
       "      output_area._bokeh_element_id = output.metadata[EXEC_MIME_TYPE][\"id\"];\n",
       "    }\n",
       "    if (output.metadata[EXEC_MIME_TYPE][\"server_id\"] !== undefined) {\n",
       "      var bk_div = document.createElement(\"div\");\n",
       "      bk_div.innerHTML = output.data[HTML_MIME_TYPE];\n",
       "      var script_attrs = bk_div.children[0].attributes;\n",
       "      for (var i = 0; i < script_attrs.length; i++) {\n",
       "        toinsert[toinsert.length - 1].firstChild.setAttribute(script_attrs[i].name, script_attrs[i].value);\n",
       "        toinsert[toinsert.length - 1].firstChild.textContent = bk_div.children[0].textContent\n",
       "      }\n",
       "      // store reference to server id on output_area\n",
       "      output_area._bokeh_server_id = output.metadata[EXEC_MIME_TYPE][\"server_id\"];\n",
       "    }\n",
       "  }\n",
       "\n",
       "  function register_renderer(events, OutputArea) {\n",
       "\n",
       "    function append_mime(data, metadata, element) {\n",
       "      // create a DOM node to render to\n",
       "      var toinsert = this.create_output_subarea(\n",
       "        metadata,\n",
       "        CLASS_NAME,\n",
       "        EXEC_MIME_TYPE\n",
       "      );\n",
       "      this.keyboard_manager.register_events(toinsert);\n",
       "      // Render to node\n",
       "      var props = {data: data, metadata: metadata[EXEC_MIME_TYPE]};\n",
       "      render(props, toinsert[toinsert.length - 1]);\n",
       "      element.append(toinsert);\n",
       "      return toinsert\n",
       "    }\n",
       "\n",
       "    /* Handle when an output is cleared or removed */\n",
       "    events.on('clear_output.CodeCell', handleClearOutput);\n",
       "    events.on('delete.Cell', handleClearOutput);\n",
       "\n",
       "    /* Handle when a new output is added */\n",
       "    events.on('output_added.OutputArea', handleAddOutput);\n",
       "\n",
       "    /**\n",
       "     * Register the mime type and append_mime function with output_area\n",
       "     */\n",
       "    OutputArea.prototype.register_mime_type(EXEC_MIME_TYPE, append_mime, {\n",
       "      /* Is output safe? */\n",
       "      safe: true,\n",
       "      /* Index of renderer in `output_area.display_order` */\n",
       "      index: 0\n",
       "    });\n",
       "  }\n",
       "\n",
       "  // register the mime type if in Jupyter Notebook environment and previously unregistered\n",
       "  if (root.Jupyter !== undefined) {\n",
       "    var events = require('base/js/events');\n",
       "    var OutputArea = require('notebook/js/outputarea').OutputArea;\n",
       "\n",
       "    if (OutputArea.prototype.mime_types().indexOf(EXEC_MIME_TYPE) == -1) {\n",
       "      register_renderer(events, OutputArea);\n",
       "    }\n",
       "  }\n",
       "\n",
       "  \n",
       "  if (typeof (root._bokeh_timeout) === \"undefined\" || force === true) {\n",
       "    root._bokeh_timeout = Date.now() + 5000;\n",
       "    root._bokeh_failed_load = false;\n",
       "  }\n",
       "\n",
       "  var NB_LOAD_WARNING = {'data': {'text/html':\n",
       "     \"<div style='background-color: #fdd'>\\n\"+\n",
       "     \"<p>\\n\"+\n",
       "     \"BokehJS does not appear to have successfully loaded. If loading BokehJS from CDN, this \\n\"+\n",
       "     \"may be due to a slow or bad network connection. Possible fixes:\\n\"+\n",
       "     \"</p>\\n\"+\n",
       "     \"<ul>\\n\"+\n",
       "     \"<li>re-rerun `output_notebook()` to attempt to load from CDN again, or</li>\\n\"+\n",
       "     \"<li>use INLINE resources instead, as so:</li>\\n\"+\n",
       "     \"</ul>\\n\"+\n",
       "     \"<code>\\n\"+\n",
       "     \"from bokeh.resources import INLINE\\n\"+\n",
       "     \"output_notebook(resources=INLINE)\\n\"+\n",
       "     \"</code>\\n\"+\n",
       "     \"</div>\"}};\n",
       "\n",
       "  function display_loaded() {\n",
       "    var el = document.getElementById(\"1299\");\n",
       "    if (el != null) {\n",
       "      el.textContent = \"BokehJS is loading...\";\n",
       "    }\n",
       "    if (root.Bokeh !== undefined) {\n",
       "      if (el != null) {\n",
       "        el.textContent = \"BokehJS \" + root.Bokeh.version + \" successfully loaded.\";\n",
       "      }\n",
       "    } else if (Date.now() < root._bokeh_timeout) {\n",
       "      setTimeout(display_loaded, 100)\n",
       "    }\n",
       "  }\n",
       "\n",
       "\n",
       "  function run_callbacks() {\n",
       "    try {\n",
       "      root._bokeh_onload_callbacks.forEach(function(callback) {\n",
       "        if (callback != null)\n",
       "          callback();\n",
       "      });\n",
       "    } finally {\n",
       "      delete root._bokeh_onload_callbacks\n",
       "    }\n",
       "    console.debug(\"Bokeh: all callbacks have finished\");\n",
       "  }\n",
       "\n",
       "  function load_libs(css_urls, js_urls, callback) {\n",
       "    if (css_urls == null) css_urls = [];\n",
       "    if (js_urls == null) js_urls = [];\n",
       "\n",
       "    root._bokeh_onload_callbacks.push(callback);\n",
       "    if (root._bokeh_is_loading > 0) {\n",
       "      console.debug(\"Bokeh: BokehJS is being loaded, scheduling callback at\", now());\n",
       "      return null;\n",
       "    }\n",
       "    if (js_urls == null || js_urls.length === 0) {\n",
       "      run_callbacks();\n",
       "      return null;\n",
       "    }\n",
       "    console.debug(\"Bokeh: BokehJS not loaded, scheduling load and callback at\", now());\n",
       "    root._bokeh_is_loading = css_urls.length + js_urls.length;\n",
       "\n",
       "    function on_load() {\n",
       "      root._bokeh_is_loading--;\n",
       "      if (root._bokeh_is_loading === 0) {\n",
       "        console.debug(\"Bokeh: all BokehJS libraries/stylesheets loaded\");\n",
       "        run_callbacks()\n",
       "      }\n",
       "    }\n",
       "\n",
       "    function on_error(url) {\n",
       "      console.error(\"failed to load \" + url);\n",
       "    }\n",
       "\n",
       "    for (let i = 0; i < css_urls.length; i++) {\n",
       "      const url = css_urls[i];\n",
       "      const element = document.createElement(\"link\");\n",
       "      element.onload = on_load;\n",
       "      element.onerror = on_error.bind(null, url);\n",
       "      element.rel = \"stylesheet\";\n",
       "      element.type = \"text/css\";\n",
       "      element.href = url;\n",
       "      console.debug(\"Bokeh: injecting link tag for BokehJS stylesheet: \", url);\n",
       "      document.body.appendChild(element);\n",
       "    }\n",
       "\n",
       "    const hashes = {\"https://cdn.bokeh.org/bokeh/release/bokeh-2.3.1.min.js\": \"YF85VygJKMVnHE+lLv2AM93Vbstr0yo2TbIu5v8se5Rq3UQAUmcuh4aaJwNlpKwa\", \"https://cdn.bokeh.org/bokeh/release/bokeh-widgets-2.3.1.min.js\": \"KKuas3gevv3PvrlkyCMzffFeaMq5we/a2QsP5AUoS3mJ0jmaCL7jirFJN3GoE/lM\", \"https://cdn.bokeh.org/bokeh/release/bokeh-tables-2.3.1.min.js\": \"MK/uFc3YT18pkvvXRl66tTHjP0/dxoSH2e/eiNMFIguKlun2+WVqaPTWmUy/zvh4\"};\n",
       "\n",
       "    for (let i = 0; i < js_urls.length; i++) {\n",
       "      const url = js_urls[i];\n",
       "      const element = document.createElement('script');\n",
       "      element.onload = on_load;\n",
       "      element.onerror = on_error.bind(null, url);\n",
       "      element.async = false;\n",
       "      element.src = url;\n",
       "      if (url in hashes) {\n",
       "        element.crossOrigin = \"anonymous\";\n",
       "        element.integrity = \"sha384-\" + hashes[url];\n",
       "      }\n",
       "      console.debug(\"Bokeh: injecting script tag for BokehJS library: \", url);\n",
       "      document.head.appendChild(element);\n",
       "    }\n",
       "  };\n",
       "\n",
       "  function inject_raw_css(css) {\n",
       "    const element = document.createElement(\"style\");\n",
       "    element.appendChild(document.createTextNode(css));\n",
       "    document.body.appendChild(element);\n",
       "  }\n",
       "\n",
       "  \n",
       "  var js_urls = [\"https://cdn.bokeh.org/bokeh/release/bokeh-2.3.1.min.js\", \"https://cdn.bokeh.org/bokeh/release/bokeh-widgets-2.3.1.min.js\", \"https://cdn.bokeh.org/bokeh/release/bokeh-tables-2.3.1.min.js\"];\n",
       "  var css_urls = [];\n",
       "  \n",
       "\n",
       "  var inline_js = [\n",
       "    function(Bokeh) {\n",
       "      Bokeh.set_log_level(\"info\");\n",
       "    },\n",
       "    function(Bokeh) {\n",
       "    \n",
       "    \n",
       "    }\n",
       "  ];\n",
       "\n",
       "  function run_inline_js() {\n",
       "    \n",
       "    if (root.Bokeh !== undefined || force === true) {\n",
       "      \n",
       "    for (var i = 0; i < inline_js.length; i++) {\n",
       "      inline_js[i].call(root, root.Bokeh);\n",
       "    }\n",
       "    if (force === true) {\n",
       "        display_loaded();\n",
       "      }} else if (Date.now() < root._bokeh_timeout) {\n",
       "      setTimeout(run_inline_js, 100);\n",
       "    } else if (!root._bokeh_failed_load) {\n",
       "      console.log(\"Bokeh: BokehJS failed to load within specified timeout.\");\n",
       "      root._bokeh_failed_load = true;\n",
       "    } else if (force !== true) {\n",
       "      var cell = $(document.getElementById(\"1299\")).parents('.cell').data().cell;\n",
       "      cell.output_area.append_execute_result(NB_LOAD_WARNING)\n",
       "    }\n",
       "\n",
       "  }\n",
       "\n",
       "  if (root._bokeh_is_loading === 0) {\n",
       "    console.debug(\"Bokeh: BokehJS loaded, going straight to plotting\");\n",
       "    run_inline_js();\n",
       "  } else {\n",
       "    load_libs(css_urls, js_urls, function() {\n",
       "      console.debug(\"Bokeh: BokehJS plotting callback run at\", now());\n",
       "      run_inline_js();\n",
       "    });\n",
       "  }\n",
       "}(window));"
      ],
      "application/vnd.bokehjs_load.v0+json": "\n(function(root) {\n  function now() {\n    return new Date();\n  }\n\n  var force = true;\n\n  if (typeof root._bokeh_onload_callbacks === \"undefined\" || force === true) {\n    root._bokeh_onload_callbacks = [];\n    root._bokeh_is_loading = undefined;\n  }\n\n  \n\n  \n  if (typeof (root._bokeh_timeout) === \"undefined\" || force === true) {\n    root._bokeh_timeout = Date.now() + 5000;\n    root._bokeh_failed_load = false;\n  }\n\n  var NB_LOAD_WARNING = {'data': {'text/html':\n     \"<div style='background-color: #fdd'>\\n\"+\n     \"<p>\\n\"+\n     \"BokehJS does not appear to have successfully loaded. If loading BokehJS from CDN, this \\n\"+\n     \"may be due to a slow or bad network connection. Possible fixes:\\n\"+\n     \"</p>\\n\"+\n     \"<ul>\\n\"+\n     \"<li>re-rerun `output_notebook()` to attempt to load from CDN again, or</li>\\n\"+\n     \"<li>use INLINE resources instead, as so:</li>\\n\"+\n     \"</ul>\\n\"+\n     \"<code>\\n\"+\n     \"from bokeh.resources import INLINE\\n\"+\n     \"output_notebook(resources=INLINE)\\n\"+\n     \"</code>\\n\"+\n     \"</div>\"}};\n\n  function display_loaded() {\n    var el = document.getElementById(\"1299\");\n    if (el != null) {\n      el.textContent = \"BokehJS is loading...\";\n    }\n    if (root.Bokeh !== undefined) {\n      if (el != null) {\n        el.textContent = \"BokehJS \" + root.Bokeh.version + \" successfully loaded.\";\n      }\n    } else if (Date.now() < root._bokeh_timeout) {\n      setTimeout(display_loaded, 100)\n    }\n  }\n\n\n  function run_callbacks() {\n    try {\n      root._bokeh_onload_callbacks.forEach(function(callback) {\n        if (callback != null)\n          callback();\n      });\n    } finally {\n      delete root._bokeh_onload_callbacks\n    }\n    console.debug(\"Bokeh: all callbacks have finished\");\n  }\n\n  function load_libs(css_urls, js_urls, callback) {\n    if (css_urls == null) css_urls = [];\n    if (js_urls == null) js_urls = [];\n\n    root._bokeh_onload_callbacks.push(callback);\n    if (root._bokeh_is_loading > 0) {\n      console.debug(\"Bokeh: BokehJS is being loaded, scheduling callback at\", now());\n      return null;\n    }\n    if (js_urls == null || js_urls.length === 0) {\n      run_callbacks();\n      return null;\n    }\n    console.debug(\"Bokeh: BokehJS not loaded, scheduling load and callback at\", now());\n    root._bokeh_is_loading = css_urls.length + js_urls.length;\n\n    function on_load() {\n      root._bokeh_is_loading--;\n      if (root._bokeh_is_loading === 0) {\n        console.debug(\"Bokeh: all BokehJS libraries/stylesheets loaded\");\n        run_callbacks()\n      }\n    }\n\n    function on_error(url) {\n      console.error(\"failed to load \" + url);\n    }\n\n    for (let i = 0; i < css_urls.length; i++) {\n      const url = css_urls[i];\n      const element = document.createElement(\"link\");\n      element.onload = on_load;\n      element.onerror = on_error.bind(null, url);\n      element.rel = \"stylesheet\";\n      element.type = \"text/css\";\n      element.href = url;\n      console.debug(\"Bokeh: injecting link tag for BokehJS stylesheet: \", url);\n      document.body.appendChild(element);\n    }\n\n    const hashes = {\"https://cdn.bokeh.org/bokeh/release/bokeh-2.3.1.min.js\": \"YF85VygJKMVnHE+lLv2AM93Vbstr0yo2TbIu5v8se5Rq3UQAUmcuh4aaJwNlpKwa\", \"https://cdn.bokeh.org/bokeh/release/bokeh-widgets-2.3.1.min.js\": \"KKuas3gevv3PvrlkyCMzffFeaMq5we/a2QsP5AUoS3mJ0jmaCL7jirFJN3GoE/lM\", \"https://cdn.bokeh.org/bokeh/release/bokeh-tables-2.3.1.min.js\": \"MK/uFc3YT18pkvvXRl66tTHjP0/dxoSH2e/eiNMFIguKlun2+WVqaPTWmUy/zvh4\"};\n\n    for (let i = 0; i < js_urls.length; i++) {\n      const url = js_urls[i];\n      const element = document.createElement('script');\n      element.onload = on_load;\n      element.onerror = on_error.bind(null, url);\n      element.async = false;\n      element.src = url;\n      if (url in hashes) {\n        element.crossOrigin = \"anonymous\";\n        element.integrity = \"sha384-\" + hashes[url];\n      }\n      console.debug(\"Bokeh: injecting script tag for BokehJS library: \", url);\n      document.head.appendChild(element);\n    }\n  };\n\n  function inject_raw_css(css) {\n    const element = document.createElement(\"style\");\n    element.appendChild(document.createTextNode(css));\n    document.body.appendChild(element);\n  }\n\n  \n  var js_urls = [\"https://cdn.bokeh.org/bokeh/release/bokeh-2.3.1.min.js\", \"https://cdn.bokeh.org/bokeh/release/bokeh-widgets-2.3.1.min.js\", \"https://cdn.bokeh.org/bokeh/release/bokeh-tables-2.3.1.min.js\"];\n  var css_urls = [];\n  \n\n  var inline_js = [\n    function(Bokeh) {\n      Bokeh.set_log_level(\"info\");\n    },\n    function(Bokeh) {\n    \n    \n    }\n  ];\n\n  function run_inline_js() {\n    \n    if (root.Bokeh !== undefined || force === true) {\n      \n    for (var i = 0; i < inline_js.length; i++) {\n      inline_js[i].call(root, root.Bokeh);\n    }\n    if (force === true) {\n        display_loaded();\n      }} else if (Date.now() < root._bokeh_timeout) {\n      setTimeout(run_inline_js, 100);\n    } else if (!root._bokeh_failed_load) {\n      console.log(\"Bokeh: BokehJS failed to load within specified timeout.\");\n      root._bokeh_failed_load = true;\n    } else if (force !== true) {\n      var cell = $(document.getElementById(\"1299\")).parents('.cell').data().cell;\n      cell.output_area.append_execute_result(NB_LOAD_WARNING)\n    }\n\n  }\n\n  if (root._bokeh_is_loading === 0) {\n    console.debug(\"Bokeh: BokehJS loaded, going straight to plotting\");\n    run_inline_js();\n  } else {\n    load_libs(css_urls, js_urls, function() {\n      console.debug(\"Bokeh: BokehJS plotting callback run at\", now());\n      run_inline_js();\n    });\n  }\n}(window));"
     },
     "metadata": {},
     "output_type": "display_data"
    },
    {
     "data": {
      "text/html": [
       "\n",
       "\n",
       "\n",
       "\n",
       "\n",
       "\n",
       "  <div class=\"bk-root\" id=\"ebc1b365-6ade-4a91-8960-a673b06f680c\" data-root-id=\"1302\"></div>\n"
      ]
     },
     "metadata": {},
     "output_type": "display_data"
    },
    {
     "data": {
      "application/javascript": [
       "(function(root) {\n",
       "  function embed_document(root) {\n",
       "    \n",
       "  var docs_json = {\"b8d6e88a-e3fb-4667-8361-26eb2d6c46cc\":{\"defs\":[],\"roots\":{\"references\":[{\"attributes\":{\"below\":[{\"id\":\"1313\"}],\"center\":[{\"id\":\"1316\"},{\"id\":\"1320\"}],\"height\":800,\"left\":[{\"id\":\"1317\"}],\"renderers\":[{\"id\":\"1333\"}],\"title\":{\"id\":\"1303\"},\"toolbar\":{\"id\":\"1324\"},\"width\":800,\"x_range\":{\"id\":\"1305\"},\"x_scale\":{\"id\":\"1309\"},\"y_range\":{\"id\":\"1307\"},\"y_scale\":{\"id\":\"1311\"}},\"id\":\"1302\",\"subtype\":\"Figure\",\"type\":\"Plot\"},{\"attributes\":{},\"id\":\"1369\",\"type\":\"UnionRenderers\"},{\"attributes\":{\"axis\":{\"id\":\"1313\"},\"ticker\":null},\"id\":\"1316\",\"type\":\"Grid\"},{\"attributes\":{\"formatter\":{\"id\":\"1368\"},\"major_label_policy\":{\"id\":\"1366\"},\"ticker\":{\"id\":\"1314\"}},\"id\":\"1313\",\"type\":\"LinearAxis\"},{\"attributes\":{\"callback\":null,\"tooltips\":\"\\n<div>\\n    <div>\\n        <img src='@image' style='float: left; margin: 5px 5px 5px 5px'/>\\n    </div>\\n    <div>\\n        <span style='font-size: 16px; color: #224499'>phiCR:</span>\\n        <span style='font-size: 18px'>@phiCR</span>\\n    </div>\\n</div>\\n\"},\"id\":\"1328\",\"type\":\"HoverTool\"},{\"attributes\":{},\"id\":\"1365\",\"type\":\"BasicTickFormatter\"},{\"attributes\":{},\"id\":\"1321\",\"type\":\"PanTool\"},{\"attributes\":{\"high\":-2.4138646125793457,\"low\":-2.4138646125793457,\"palette\":[\"#000003\",\"#000004\",\"#000006\",\"#010007\",\"#010109\",\"#01010B\",\"#02020D\",\"#02020F\",\"#030311\",\"#040313\",\"#040415\",\"#050417\",\"#060519\",\"#07051B\",\"#08061D\",\"#09071F\",\"#0A0722\",\"#0B0824\",\"#0C0926\",\"#0D0A28\",\"#0E0A2A\",\"#0F0B2C\",\"#100C2F\",\"#110C31\",\"#120D33\",\"#140D35\",\"#150E38\",\"#160E3A\",\"#170F3C\",\"#180F3F\",\"#1A1041\",\"#1B1044\",\"#1C1046\",\"#1E1049\",\"#1F114B\",\"#20114D\",\"#221150\",\"#231152\",\"#251155\",\"#261157\",\"#281159\",\"#2A115C\",\"#2B115E\",\"#2D1060\",\"#2F1062\",\"#301065\",\"#321067\",\"#341068\",\"#350F6A\",\"#370F6C\",\"#390F6E\",\"#3B0F6F\",\"#3C0F71\",\"#3E0F72\",\"#400F73\",\"#420F74\",\"#430F75\",\"#450F76\",\"#470F77\",\"#481078\",\"#4A1079\",\"#4B1079\",\"#4D117A\",\"#4F117B\",\"#50127B\",\"#52127C\",\"#53137C\",\"#55137D\",\"#57147D\",\"#58157E\",\"#5A157E\",\"#5B167E\",\"#5D177E\",\"#5E177F\",\"#60187F\",\"#61187F\",\"#63197F\",\"#651A80\",\"#661A80\",\"#681B80\",\"#691C80\",\"#6B1C80\",\"#6C1D80\",\"#6E1E81\",\"#6F1E81\",\"#711F81\",\"#731F81\",\"#742081\",\"#762181\",\"#772181\",\"#792281\",\"#7A2281\",\"#7C2381\",\"#7E2481\",\"#7F2481\",\"#812581\",\"#822581\",\"#842681\",\"#852681\",\"#872781\",\"#892881\",\"#8A2881\",\"#8C2980\",\"#8D2980\",\"#8F2A80\",\"#912A80\",\"#922B80\",\"#942B80\",\"#952C80\",\"#972C7F\",\"#992D7F\",\"#9A2D7F\",\"#9C2E7F\",\"#9E2E7E\",\"#9F2F7E\",\"#A12F7E\",\"#A3307E\",\"#A4307D\",\"#A6317D\",\"#A7317D\",\"#A9327C\",\"#AB337C\",\"#AC337B\",\"#AE347B\",\"#B0347B\",\"#B1357A\",\"#B3357A\",\"#B53679\",\"#B63679\",\"#B83778\",\"#B93778\",\"#BB3877\",\"#BD3977\",\"#BE3976\",\"#C03A75\",\"#C23A75\",\"#C33B74\",\"#C53C74\",\"#C63C73\",\"#C83D72\",\"#CA3E72\",\"#CB3E71\",\"#CD3F70\",\"#CE4070\",\"#D0416F\",\"#D1426E\",\"#D3426D\",\"#D4436D\",\"#D6446C\",\"#D7456B\",\"#D9466A\",\"#DA4769\",\"#DC4869\",\"#DD4968\",\"#DE4A67\",\"#E04B66\",\"#E14C66\",\"#E24D65\",\"#E44E64\",\"#E55063\",\"#E65162\",\"#E75262\",\"#E85461\",\"#EA5560\",\"#EB5660\",\"#EC585F\",\"#ED595F\",\"#EE5B5E\",\"#EE5D5D\",\"#EF5E5D\",\"#F0605D\",\"#F1615C\",\"#F2635C\",\"#F3655C\",\"#F3675B\",\"#F4685B\",\"#F56A5B\",\"#F56C5B\",\"#F66E5B\",\"#F6705B\",\"#F7715B\",\"#F7735C\",\"#F8755C\",\"#F8775C\",\"#F9795C\",\"#F97B5D\",\"#F97D5D\",\"#FA7F5E\",\"#FA805E\",\"#FA825F\",\"#FB8460\",\"#FB8660\",\"#FB8861\",\"#FB8A62\",\"#FC8C63\",\"#FC8E63\",\"#FC9064\",\"#FC9265\",\"#FC9366\",\"#FD9567\",\"#FD9768\",\"#FD9969\",\"#FD9B6A\",\"#FD9D6B\",\"#FD9F6C\",\"#FDA16E\",\"#FDA26F\",\"#FDA470\",\"#FEA671\",\"#FEA873\",\"#FEAA74\",\"#FEAC75\",\"#FEAE76\",\"#FEAF78\",\"#FEB179\",\"#FEB37B\",\"#FEB57C\",\"#FEB77D\",\"#FEB97F\",\"#FEBB80\",\"#FEBC82\",\"#FEBE83\",\"#FEC085\",\"#FEC286\",\"#FEC488\",\"#FEC689\",\"#FEC78B\",\"#FEC98D\",\"#FECB8E\",\"#FDCD90\",\"#FDCF92\",\"#FDD193\",\"#FDD295\",\"#FDD497\",\"#FDD698\",\"#FDD89A\",\"#FDDA9C\",\"#FDDC9D\",\"#FDDD9F\",\"#FDDFA1\",\"#FDE1A3\",\"#FCE3A5\",\"#FCE5A6\",\"#FCE6A8\",\"#FCE8AA\",\"#FCEAAC\",\"#FCECAE\",\"#FCEEB0\",\"#FCF0B1\",\"#FCF1B3\",\"#FCF3B5\",\"#FCF5B7\",\"#FBF7B9\",\"#FBF9BB\",\"#FBFABD\",\"#FBFCBF\"]},\"id\":\"1301\",\"type\":\"LinearColorMapper\"},{\"attributes\":{\"axis\":{\"id\":\"1317\"},\"dimension\":1,\"ticker\":null},\"id\":\"1320\",\"type\":\"Grid\"},{\"attributes\":{},\"id\":\"1311\",\"type\":\"LinearScale\"},{\"attributes\":{\"data\":{\"image\":[\"data:image/png;base64,iVBORw0KGgoAAAANSUhEUgAAAEAAAABACAAAAACPAi4CAAAEUUlEQVR4nO2Wy28cRRDGq6p7ZmdnX/EjdmyHGMIrgqBITqIEWcohCCEhRUKCf49LxClSEBFcOIEQQoBRlIAwEolIosQbx899zO48uruKw+7a2NlZL3fXtat+81VP66sCOI7jOA4AABwjBUkRAjAzi/xfAJIuFMNiQaMzSRwnmeODjNEApEJlavbUVDVAzuKosbu924wzNzaACrXTb7z1yoTK4k6SWWeT1uaLjZ2O4fEAurJw/uK5Wnft8dPNVsq6UK6EOt1+vt5I3BgA9CbPLb8/3/h9ZbXeMgwA5IUnZqbDdKu+3XFyFAD9maWPruq73/6yZrzAU8jOmIz92tzJQmt9s2MGMvMA3szVT67s3rnzl61WAyXsWJwzSbLZ2JivTjOLHQ3QU5c+XX5286v12nQINjPWCQCq0E/i9c6piZpxzKMAVH33xrX657fbC9OUdhNjnQggEqlAxS2bnSinNpN8AAZnrl/vfPFldGaSoygxjkUEEJCUogDiF1wOE2fzAWri4oeVm7dbi9NZM0qsYwEBAEDnSClf4i3xg9RJHgCD1669vXJr7fRJ02wllgf1ICDMrDyOmzXtW5sHoNp7V+Kv79VmpdVODIsMAAAgIkI66+pAEQoADQN4p5ZO3//OzPlRlFjeF9CrZ+eAbJyRwhwFWDxzXn58eKKadRLrBPb0AwCCCAASZ1ojwnAFVD67uP5bPKm7sWGRngf0nUAEgJkB2TjIBVQWa/889CsuydzAQvZNQARYBMRagRyAqs7pR1uhn6WO+w0cMBHp6XD5gPKErceBsnbgPoeMTEQApOdNwy6RgtDsWh8sy0u1eyJQhCVHAWptEyE48P8P1YOA5CoAZiB42YAPEvrsYQBOYyqRBUIEzMf0Toa1wN0GTfsJK4VH+/4wgGtt8EI1NtpTdOTgGQpoP+0uziVd7SsEgNEyhrbQfry+8A40IShoQgQ4TEBEgN5Bzh08+bt0aWonLgSeIgQ8ROghMV8BZPX7zaUL6TaWih5hn4B7X+8LyFcAdueP1fkPZjdafinwFFEvuV+KiAhCikYokM6Dn3eXr1E9KZaLniLEfQFEioBRKxgBALPx60rtxlK3noWVUkErIkRCRCIiQmH0PJT8lwggnQffT537LPqTZwJSibHMIP0uxDnwfXQjAeB27tY+vty9tbo2WSp5WWZ7+QjCzmIhoNT1R3wOQNL6T/r6VfXNveflih941jH3/NQ4HRYxMYPxnDcbJX7yQ7Z8oTK38jwKAo8QUdgay1QqFyRO7WDHyH+kFM5fuLzYXb37YDMFQhRhQV0shTrtdPY3jFGvvDD1+vk3K+0nj55tRZkD1H6xGCgTtaNsnA0FAHV55tWzc6FtNRpRYgURXBI12/G4OxIA+aXJmdmJkhKTZWnSjdrtdpy5/5rMkX7hFcJyqeiRmCyJu0lqmA8kHL2pIimlFYKwc1b4sMWNseoCAAIC5Fn0cRwHwL+R2lThV4FHowAAAABJRU5ErkJggg==\",\"data:image/png;base64,iVBORw0KGgoAAAANSUhEUgAAAEAAAABACAAAAACPAi4CAAAENklEQVR4nO2Wy28cRRDGq7p7emb2ZXvXXtkmDxMIwUSRrCRIRCAk4MaVA/8pygmBhESICDKO5CAlEQRiW9n12vGud2Z6uruKw67jR2Z2A1w4+DuOun7zVXd1dQGc61z/B+E/WMb/DoAohJSIzJ488VnKNADKIKrElVAJslmaJsb604jJAFRRvTXfalQCZG/NsL+//3Jo3EnERICM5pYuLs8FPk2NJZQS8n6v0xvk/o0AGDSWr16Zp97OTu8w86DCWmOmiofdF3vJcR6qPD6cf/fGCm799qRz6AEQmFHXmu2ZttbdoT0ilDrAaPHGzaXd9fXnmQq1QmTvbW6xsrBYyzrdwdFGlAEwWrr5UevJ9xuDsBZLZmIGZm+NwcZi0/e6Qzs5hWBh7dP5X+9ucqsmyDpHzIgoAhWk+1kyX889+UkAObv6yYX1bzZ1KyJjrCdiQEAhhapk2Y5rVowlLgdg5fKda0/ubkYLoUkzS+MCRBBCyhDyLjfizLlyQDC/tpZ8u6HbYZpkzhOP7wGSIBIB53sYhplnABCFBuK3b8/9cs8txCZJc0fEYxF7Zx1JaQ6M1BLKAKr5wdXOD91m3SWZJSJ4dYWYmZwHBWlCUmAJAPXS9cbDR8EcpsbSkX9mZgZgIu9BUGpRlDnAyqV3Dtf3Z6M8s8QMDMBjD8wMTMQINicUJQBRv9zeeYwzYKxnPttHGJgIkHKPZQ5k40L0rBNFPnfj8+OzBAb2owtVBFCNNmwPK8q6owTOegAGIE8AhXWAsjbjdl2I3hd2QQAGBOBRCkWFJKLYJayQX2uAJzwAjHan8BSEZAeiwPypLJjKAEykgpHP0nbx6miLUiBjdB0tjkqtVCN3BQ7YH/b1QmBYTSGUAcD1O/JSLfEqEIg4KZESgD94bq4sZWmgFU61UASgwbPOxVU4gFirsYXTnJPfCk8h+eNx/cPWfhbGWgoEhFNZIMIJZiEg337Yv7Vmd7ka6/E2vApABBTAKES5A3B7DzcXv1ju9YNqrOUxYiQhgEHICQ6Ak6f3enc+0ztJVKuESowCAQFRoBDALJUorwMAsJ0H9ytf3nFbSVSrRoGSQiAKFKNRgUnqAMdVXtyVOX363dzqV8Oft9qVmspy55kZAAERyHsZak+jZ6HsYXEvN+r6+tfywdZcPVS5dX68npylIA59PuoG5U9b/uK+/Py6mr23O6hHSo6mG/LOOoyr2ht7NCKUv87x8q2PV7o//fj7UGktAch75zzqalXlw8TSNABgtLB6+z3x58aj7YEFAGBAFVWrmpLBcfzkCWXm0vvX2r771/NuP3UgVBiFyqf9QeII3gAAIOPm8spbszIfDpLMeiabDQ/6Q3OyV06d0hqtVrMWIlljkuHhYJCYE7+fCgBAGYRxHGoEZzOT5dbTmQVTAAAIQgqBwET0+qD6xpreWc51rv+ivwGCNUWQmWRW3AAAAABJRU5ErkJggg==\",\"data:image/png;base64,iVBORw0KGgoAAAANSUhEUgAAAEAAAABACAAAAACPAi4CAAAEOklEQVR4nO2Wy29bVRDGZ87jPuzETtK8Q0MJ0EIqEFlAkVoJIYGgbCq1fxsLJMQCqQvYg1ig7kABoUKyoCUVTRFtnJCnHfv63vOYYXHtJCW+TsoGFpnFXVjn+/mbc+bMGYCzOIuz+H8EnmIJCiERgT0R0zMDhAriUjnSkmyWJGlmPT8LQAQDI5PTYyOxJttu1ne2tnebmTuK6AtAXZl6aX5uPPZJs50657LmVq222cj86QAynnz1ysKMq62uru0lVgblymDodmtPNluHJlSxXlXmrr47739dvPv7TuoZQMhSdXyiOhNH6w3TJRQ7UMOXP/xg6sHX3/7WlFEoBZEzxsnK5NRge71W7xIKAXL4jZsfxXduf1cvD5UUEBGRt1k7w6GZMb+13rDcNwUxePnWTfzys+VgtipdZq1nBsRIZ8lOsj8+aFzT9QNgPHf9Rvj5xw9GpiLbbGfOEwOgkEIPtNPH2Vg8aIn6ANT4tRvnvvhkZWpatvYT44gJGAGFlCKE9C8/EsfWciFADMxfv/j9p/cmz2O9kRhPBAwAgN4LKVSY7WA5Sr0vBKiJq29v3f5x6Lzc20us444eGJhISKnsHihtiAFEzx0ovXxt6M439FywX0+MI+KDIPLOkRRZy0mBRQ7k8Ovzta/+nK6kjcR6Yj5S/MwIjNKmUkqEAgd64rWRXxbVKDcT46krzy0AMHkC4TIPRQAMpy/aH54Ml9NWrmcAOMQAMzGydYDYOwWMZyY3l7IqtDNHDLn+SBLIAIDkEAociHhiYO0PFfvMUu4anmoieSrkqagOMB7WtZ1AO5uv+Yc+dwGQn23PPdCx306UcK6b/zE9MENeyj0BUnPqBTBTL/WBJS4sJACl852CogvP3XPpBWDTMmHg/Ukdl4v2gNLddqVsLAqBBSkcRk8H7fXGyKhNUQkEPKnx9wSs1aqz0GQtc3k/Ru8U1h7qS4N1owMlTnq6ep6C2bjfemU22ZehFoh4LA9E7HwKAH73/qPphXDHhKE6nkXnhw60J4BaD5fozRdbuxBFSuZL8VCOCIxC5OfTu6WZ9Z8vzF5d29aluFOzDAgMgAAIyABCcp89AGqs/NR+64reTHQcB1KIg6xRCAHMUnUMFJWy3bi7VHpnATabMo6jQEmBQqAQQggEYqkVUN+XiZLVxeD59/zyVqUUCGk9EQMjADARq0B535lVip42V78n/cz70dJeUgqU8OQpv8KeMAild91BpbBOUI9eWpjZW1quGRVIBCYm8kQow0C4zHZnjOJCQz18YX6WH6882s4YEYCZEVUQKjbpgb5vmevy5Auz1WxjbaOeWGIQQmkt2WWH/3/CjCSiysTUucgnjf12ZokR2Nkste7IsNf/rqCMBqrVgQi9tcYaY0xqjKNTT2kAgFIHUaglsnfWWOs8Pd1hTjGpdsqHmf7VpHpk2QnN7Sz+u/gbbcxSzRRQtasAAAAASUVORK5CYII=\",\"data:image/png;base64,iVBORw0KGgoAAAANSUhEUgAAAEAAAABACAAAAACPAi4CAAAEYUlEQVR4nO2W328UVRTHzzl3fuzsbNfdtrBQpBQUKSYYfmgkQcUYYqLGH9HE+G/x5JOvPJNoYgIkKoEoDxKJGAkiYIH+gKXd7c7Mzsy99xwfdrttYaetPvc8zMPM/X7mfG/uPecAbMd2bAcAAG5tESIAiMj/ARA5ruc4yFYbbeyzkE0ASF65Wh+thi7oNOq0lqOutusQGwOUV9u178DkWIAmT7tJp/Vk/vFilPEaxEYAdKt7jxydHselJwtLiUblOBI1H809jbRsBUClxpG3T+6Ob9/4c2Yx1qL8sDY2WtbNR7PtjDcHULjv1AcnzPVLv9zvsCISZsZSfdeuSjo3u9jlzQBUeen9z6bvnv/uVh5UAgfFWpNnqXbrEw16Ovs05Y0BGL780VdT1765sPTCWFlZYywzCOss0aXGhN+ea/VdOAV6f897Xx68dPYy7qurPOlqawWAiEpOt/sg2R3UtemdiAKAGnvz8+krZ38oT1b0cpxpwyIASEqRT0nTNryRLLHFACy/8uEbt7/+qbI/SNpxZiyLAACiIaVUKV2CcS/IWQoBbuPU6eTcBXcqXG5FuWERAQFAQGuVIi9tU9XzjAUAGp7AwdONy+fjyZG4FWXaMrMIiLAwW6MtubYTgauwCKBGjx17fP5OYzRrx5npqwUARETYGibKYk0KigDexImxX69QAztRT7/mCgozWyFIMyEq2AMMpg5nVx/UK904s9yzD7DCQGEhQJt7gAUAquyfmL+uRyFJje3r16SAAowgmgBQhlpQ1b2V+/e80Gaa+9mvLQHSs2QNF+0BjTTowWLgm9yyAMh6fQ8BKLYYUK5Bs1siY1ie1Q4QAMwiBQCvxB3j4HP1b1UPACIsBRkgiM0BhxbhAWHlaAwDsM7BRcODuz4EJH0fwwHpMtbcnAlxJaWhWQgUAaIm76ykxnFoC21jyDvbeRjvbaSp8tQgif8E4GjmyZ6DvIy+R4iIQzysvhgGkOT+3erxkUVdKrnUk68nIK48CgDpw9/z1w9FLRX4Tt8ErpMjQC+1gutsmr/9feCdcCELQt8hXPtDQAQkECQqtgDSuXUNzhxPFiQMfYcGCEREQCIQIIVQXJUlf/jzoemP/5lxx0YEMgMivWsMCIgoIsoh21s7vKja9s0fx9+dOTcntQqpTDOLDJwLM3nK9lt0QV/Qs1d3nPlk+dt5XQuUu9IXABGFrVW+x3pjAMd/XfRPfkHfzyc1P1DaWObe8beG3cCTwZhRAADbvumYY59WL96ZLYeOQ8yWRazVjEHo2dU5pfikuqOvvnXU+ePqjcfacR0EZmstkx8GSsddvWl7B3SqU8dfG2/fvnmvmRgGACSnVA5c241W9RuOOKq888DhyXK0MDvfinMG5bku6TSKUjPQbzxkoVfZ8eKe8TKncZLm2mqdxp2om291yAIA8oJqvTbiE9s86yZJnKTa8toVm1YMUq7new4J2zzPjWVe/30Loy4iIgGK9OvwdmzH8/EvlTB1MIFju5QAAAAASUVORK5CYII=\",\"data:image/png;base64,iVBORw0KGgoAAAANSUhEUgAAAEAAAABACAAAAACPAi4CAAAEWElEQVR4nO2Wy28bVRSHzzn3zozH9thxTN3m1aQliBbogwWVYMMCCZYI8a8isaSiQoJWsKBSMW3SJmmeTeI49tjjmfs4LMZ2Hp4xYsciZzEzmjvnu79775wHwJVd2ZVdWWqY+ZIQEYHZMvN/BiBJ6bquFGBUkiTa2KmMywAUbiGozlSDoosq6rRb7TBS0xCXAMIt1q7Pz9+oV0ue5CQ83NnY3Gv1lM0FyAs06dfmVlYW6yWJRLJYKkBv5+/nL7ZaA5Mn4rwCdEuNldXlGvZP2p3YukFjaWWpGq0/++3FbqhzCHjeP5h/f7WBx2+3Dk77mtEp1W89eHS/fvT0p6cbnRzCGQCdYGH1dtB5s7bT0SQFsdFGzN798uv75vcfn6x31L/sgSg2lhdgvfn6hAszvicFWh11W09eNb//6guH9euumQoQXm2+Ydb+2or8oORJQiJBNdU93v/hXffbz+Kwr6KssxgBUJbfq9uN5ltTCXwyihlJOp7nV8p7vyjx3aOjw65KpgDIq9Ro/+W2Ccqu1tpaBhLS831/wX37rFj/5vON3VBnSBgCUPgVr7O5q8pFilX6+yKKwSAOStd589fFlQ8fNfejDAkjgOP76nBv4BUgUcpYZkBAo42xXG7E2z8/WLrzSfMkQwINb06Buu+65KEaxEobY62xRuskCjuRc62y9fjl7N2lIk0qSF8hOVKfnhpHGKW0sZaZ2TJbreJ+mJTq5vkfyfLNiswDAAkcdAYoWCttLA/NWmtU3O9D1d//86i+UJWT0T9UgGQHPU1oUvd0jIGZrY4H2itH67teo+LkAQBBRwkjG2OZIZ0fgAHYGp0kosgHe1wN8gFgdaIB2VrLMBKQkqxRil3qHKtCQUwChtvCVikDbNkCXIw6ZraGieIwEZJyFbBR+kz62HmMYGCtDMNkSMuhAE0WAIbJj8dhzumDNVZKM0gyfuWxAm2Gq04nHk2FgEhoE+v7utvPSCojBQZ5LPncMAIiCdIRzFSTVqjyAMAGU9cLXyAAIAmJcd+5UQ3fnU4DAAIy4wiR7gEikXAk96LZ5dLRblZeHAHY4rml4+iKJBxXDE558RZs74QZSW0UHnacXs/uCETCcR3TCSt3505f7/XzEwrApSqKAIgohOO5ELZp9SNvY+046xjPAOPZceRPJBzXhV47uflwvtXc7OhJ/4ulDTglYHp8JKQjTb+bND69Y182DwbTsvJFQ0IkEoIgjiPbeHiv8Ob5ZjdLwCUAIgAzIzEiAhutE+3MfXwv2H6x1koyaxteAhAy2/QBwFoWwfwHt4OT9VcHvUwBEwBBmEY1AyDJUm1u8Zo42dw67OcU+EsBjkIIQcjAgMIplGdmZwrJ8d5BO7dBuJwhiKR0HCGFcJxCoViQtn9y3O6pzMIKMHkKaUZDIMd1BPdD1Q/DKMnrLjIUACAKIaXjSIFglYoTbfI7pOw+EZGIKG0UjZ3e5WU3mmkkAUxEyJX9T+0fli9vGXbH49IAAAAASUVORK5CYII=\",\"data:image/png;base64,iVBORw0KGgoAAAANSUhEUgAAAEAAAABACAAAAACPAi4CAAAEU0lEQVR4nO2Wy3MbRRCHu3tmVpL1sGQpD7sc2+BACgh5ALlxprhwShV/IzeucKNy4FVApSopYicmfuEHyI6eu9LuzHRzWInY8kopbhzcVdqDdvub3/RMPwAu7dIu7dJSw8w/kRARRIRF/jMASZkgCLQC75IksZ5nMiYBqEy+NF+tludy6Aa9VqvdG1g/AzEBUGauenVp+Vq9NpfXYPsnhzu7hydhwlMB+vzyheri6tqNRjEgIF0o5Sk63Hz6+85pNFXEWQWoi1fW1t9aUFGn1R2wKV9ZXlupJTu//PjkoGenEM4oQFO6vv7Ootr9c/e4HVlBU6iv3nlw78OVlcZPL9tTCK8VoC4t3lyvhjtb+x1LSpOwc1S99ennH6nH33z3vJO8QYEqNFaXze7m1qnPVwo5o1DcoNf9YWvj4WcPAnYvum4mgILq0jV4ubEdBbViXikkUlS90j89/bbZeXhn2A9tmHUWYwDquXod9zd3k2KloLwVQVImFzQq5cOfE/zy/unfvSTJCMMYQEG5Zpov9pJSJfCJ8yxApHP5Yn4x2Hv81cIXn2wfdJ2fAchX8v29g3iuSIl1jgUAUcXDpFRqyM5vX6/c//jZ0WA6gHRhzreOwiCPqb8AIHrnvJdyPd77/vba2x88O8m4kTQKgclR2OxiQDaOE+c9M7N3LhmG3Ug1qsePnhbfXS6piwpSAJI23Glbo9gmzjOLiLAwextHvThXx41fw+WVir6YvCMFpHDYjVCBc96zjI3ZuziKpFw6eXpUXqqaqQAkiSOHyM6xiACAAAiIsHfJwAZFu72vGpWpAER0w5gRvGcWEBEZEYDZJQkUsHnkyqXpCoBd4gCZeSQAAETGGiwbFb5KcoWMGIyOUdhaDyCTJVAAQdgLku0nStEF/5ECEe+dXKiikr4TYQDxNuMavVbgHQPIqH4KnMtzBPCsDMdJBmIkir3z6a5ltPAZfySxnC9ClFXY9HgLTv7VfN4bSSk/5Pmqb/UzqpIeK0AEnFwdIW0TZCO6Wo9POhn5PM5G9igAgmMEjhWQMkaisLQ63z7qZigYxUA4bUDjDzB9IJIygbIdv3QzODroTY0BgAif9R35EykdGOn1irduRNuH4YyCAnzukiGk4Vcml8OwxWu3S/tbzXhGSTtz+Jj+EJGUzgUQdYaL91a7mzsdNxMAkAYx3TsgEiptNA978cLd9+mPjePhrKp8joKIhEiKFCRJ5Bfu3K3sP9nuZPam8wBEAAFGQgBEYe+tVdffu1s7fva8GWe2aJwAEIpwegMRmIWKi+vr1f7LF4f97AZ9AaAQRJgFABB1oXp9+WrQ2d9thlkRvAAAJKUVoYgAKp0rzddqed86+qs9mDYgTJYYIq210UopbXL5QkHzoPOqHWYlcmqTp8CSrk7GGC3DQTIIw0Hsp484GVMaktLaGKUI2NnY2hnu2XMiIhIRIYiwZ5nlPmXQBMDRizfOmZf2v7B/AEAtambPK9D+AAAAAElFTkSuQmCC\",\"data:image/png;base64,iVBORw0KGgoAAAANSUhEUgAAAEAAAABACAAAAACPAi4CAAAEWUlEQVR4nO2W328bRRDHZ2b37nwXx/lRJ06TkJKCmiIKKqkqJFRAPMAj/y4PvEdQCkgUmka0aZo0jtPEsWuffefb3RkebIfEOUeFJ4Qylu7h5O9nZ/Zmv7MAV3EVV/FfD/z3f0NEJEQQFhb5xwAi5fm+7xGw6WWZcXwpYxRAyguLU1NTpdBHl7Sb9WY7MZchzgNQecXpucr1uWvFYsEnG9erOzvVk67hsQB9bnkdzi4sL89PFzQ544XFSHX3tx5v7jZS9zYZkF+srNxYiLjTbHUMBKXKOzdXSumzRw83ax03pgx9Vj+1eHNlKntVrdbjnhP0omurH9//6O7S9Zmf99pjCHhWv/T+kld/sXPUZfIUibNWzax9+dUH9tH3P+zE9vIMUBcXVhfsztZeTIWw4GuNYJN2Y2N769sHn5KzL7u5+3AKUGF5uZy+fFq14UToKSLSmqbn2scH3x3HX9/txt2DNK+IIYC8UqVs9p7UoDThozUCpLRX8OcmosMNg9+sHx/F1lwCUOHsLOxv1WAyUsY6FkBSXhKG0aL/6lE089m93dddl9MOAwDp4nRw8qImkyFmxjILIJLSvaxYmOO9h4uLK588O+6NB6BfjNJazUQBZJl1IgKI6JyzzhXLaW3jzuLa7e039uIuUF+vghDf1Do6INMz1jlmYXbOZGkcJ355Yndjt3xrIaSLGQxeKd8zJ032yRprmWXwY2t63dhEs9mTTbyxXFTjAEgedpspKTHGDUxAQITZ2V6SUik42IwrS5M65/QPAOTijlPonGMWEJH+Q8TZLOVC1HlZL1ZKYwGAkiWpoPT1w+gnYY3VEb9uBDNFfUF/2gecJRaQ2QmADNSAgoLCjsmHdotK0fgMxGYZgzCLjLqgCDNo6mUYeHQRMMiADVgBYc5zUQQEAMEc+RAgzoADYMg7LogETrwCGptDHwDYIkN/3wFAzi6FpEiMTJawk+RYwrAEiwIwqF/OyUl52iY0XzaNOKeVhxk4hFPA2ewRledhtxPemI0PW2PPAohzDhAEBABwUAECICod+NxK529NHlXzAIMShB3K+eQBARFJBwF1G+r2bbe9F+eY2vB8yYUJhohIyvMDz9TjhfXFo6f7yXg/APn7G+Lf6yvtFwLXrod319XW5lEv5yufdrfIQIvDJxJpv+C7dp3XHizt//I8z08g53ggIiAgodLaVyZp2ve++DD+9beDNG9CXgQIIBASEimlOUm6uPr5Oj7+8Xnr8rkwXF1AGEEJArBktufC1fv3gs2fnhxluSN6ZLwTobAIICECMIs/c/POWnT4+x/VTv5oGwUoRcDcdxVU/uT8yrsVqP25/XqMfvSGQkprTSjSd+qp2bnpID3cqzbSMfrRPWAAVORrrbTnh1FUoJN2/agRm7EXjNGvwADCAEp5no+m1Uw7rbib5TVAfgkAgKS09jxPKwQ3uKeNlY+5JxKS6l8U+ZxLvy0A+v3ct5hL1Vfxf4m/AFvfWLuso7tuAAAAAElFTkSuQmCC\",\"data:image/png;base64,iVBORw0KGgoAAAANSUhEUgAAAEAAAABACAAAAACPAi4CAAAEUklEQVR4nO2Wv1MbVxDHd/e9053uJGQBsoOBgG0MdmaSmcwkrpIqVcZNUmYmkz8uf0CqFM5MijRJl1DExjjYCJAFFjYScJLux/uxKU5gWdyRcZeCbW7m7vbzvrv73r4FuLIru7Irywzz3yIgADADvz8AkYQQQiCw0doYvpwxCUASrlf2/bIr0aTDQX8QKXMZYgJAjlednpmt1wLfdVAPugf7B2/6iS1GvANA4dWuLyx8UPcd6bh+JSjpbvPJxotOXxUSxgHoBI2lO0vTMjkNh1r4MzeXl2ZMe/33v7a7iS0AyHH/qbnV1Xmn124d9IYKpD+z9PGDT1c+XF387fFhXEDAMf/qwtrazHDn2c5RZIEALDjTd7/8+jOv9ejReqeA8FaB8G/cvuXubmy+SmXZLQmBVkVHnY0/v324+BC0fp3k5uEcINz6/BxvPX5+Kuu+K4hISrJR982vu3vf3f8q7Cc9dRkAZaUxa188bcZBrSysUYCy5HmVen1/88fwh7UvOr3Y5AVxBqDSVA3b/+yoas2FWGvDKBzX98s3vNbLn5zvFx+0ukmaE8QIgKJccXq7rTSoiFQpbSwAiSSJK8HUom3/3Phm9ZPdE22KAY7nxkf7kVvGVClt2AKg0FqladWfS7Z/ufX5R0/aUQ6ARg/pwslhSC6mUZwoY6y1Vusk6p+cpEGD//6jt3i3UaIiAJIj0uNT66BOklQba5nZWmtUMgz7XKv11rerd+bKhQAgAVEYI7FS2lgembVGp9EgcWrQ3OLFmxVRlAMktCqyAo0xNmsADAgMDEYlSSkod7cHs3NVgRfqMFKAqBMFyCZTz8wAkKkwOmW3nBycVhsVebH/jHIArJUBZGvfdjFmYGBma6z0bC90rwXygv+ZArBGM7A9XztDAACwZSYHolj4JSpSwGy14XFHzoSNviKhMShETgseibIaLGSKM+d3f2XLQrDOa45y9IPJluVz4YAAjACASGhS8D01SHIIZwpGAJi4CRgBkEDFdC0YdgeFAGaThTBpCICCOB56N8rHnVBfDIHOFBjG8ySOXAEBkEiQDpP6gthvh7owBLYIY6U7YyAiSYnRKSzMx812v/g4A5t3846ZPwnpCB0Oaiv1ztarKKclnQPGpZ+vT0I6Dg9OaPk2P986uqQjATAjT7hn/hifpjfvzR5u7oU5EYxfLOMiEBCJhHAERoO4fu+Waj57nXs75RyPbDwgFCQEmijStbU1b+/py35OEScBCACMDIiIhAQmTVOcXrk/1Xm+08vLwOSex2wuQUBCQmBjwGssL18b7DUPh7kCLgAIMOsnCABA7tT1+etu2G4dDQvGjMkBA4lGOxJJuEFtph7Y407nOC4aUyZPOJEQREQkRMn1g4qL8fHRcT/Nq2AuAIhISunIkuOWShJVHIbDRBeNFzlltFkXNFYrgazTJEnNJSNS7pyIhCSICMC+bfPvA8g2YnYv/MeUeGX/D/sXQzdXLWeUwO0AAAAASUVORK5CYII=\",\"data:image/png;base64,iVBORw0KGgoAAAANSUhEUgAAAEAAAABACAAAAACPAi4CAAAD5UlEQVR4nO2WW29bRRDHZ3b37LnYx07cXFxCFCRUkaotLQ8p9AmBhCqVD8AH5QUJ9QUqLkolUqlpCJECScnFiR07sc+xz96GByfGDse2xBNC+T8cafdofpqdmZ0dgBvd6Eb/DWH+JiIAEAH9CwAi58LjDJ3VxliawrgOQCb8qBgXIslslrTPO13tJiKuAZgIS5X5udlyMZTMpmfHfx7WO8pNAIiRFffjuepipSA5aR6Wirx7uP1m9zS1450Y9gB5MLtYrXg6aaeKZHF++f2VmeTX9Y29Cz2WMAwQ4Wx1Pug16q1UO0ImS8sPPnkY//H9i+3mWMLQEbhfnouz49pZD4T0OFh9Wtva+Ozp3UqBbzb1VAB6hXLQaZx0MAh9T3COpDutXw4Ov1p7RtnWhZ0G4H5RJo165oWBYE5bLmRQqtRPv075k6fn7d00/xADAPMCr9c6UzL0SDkCZMILwjgKD59HlXufHzRV/iGGAJ5Jm8rzUTvnCBCZyJQt3ub73y4vfbTz+4XNLQd2FQEuoHuRcQ+0UkobY7TK0vZ5my1U69/8VFpbLfNcDwYAhibJgIMxxjjnnHXO6CxpJ95i/Nvzkzv3573cizcAoMsyy8BaY50jIiLnnFFpJyssZOtvSqu3g4kAAKsMIDlLBEQEQETOWZWmMBPuvVIrSxGbCHDWOARyjogA4PLjrO7pMG7vtG4tTgGQtdS3v9oAAiJnlGYFe9CMKmEuQAzskfpGAxECETlrQOL5hShIhjm1NAAQEVAfMrhihADkHDDQGYjJaSRHfWPquz8QIpADxqzJbyt/x2BM20HGSFMh0InKbY9Dgen/xqEPIiITwqY4X0qa3dz7KP6xM9KjkAspsk64Etdr6cS7cGmJOLRERCb8ANtpdVW+PermAoYaCgIBIBLQFYxxzw9lVoe7HyQ7R93chjACuCQgEAIgIhd+FFGj9e6T6v7WiZoCAGTOEV5yAJBx4UcRa9WCjx/rV9vn+T1tBMCtccjY5Yp5MghZq2bWvljcfrmfH8MhABEKjtoCCobAkAtPCtNq2Htf3j/+4fWZybUfBjiH0ssySyAE55xzNEknkQ+fPU5+/Pltfg5Gso5chpKyriImhGAIRiu49eGnj2jju83GuJdlpGxEEIVM91JlCQEAZHn5waOl9PX6diM/BdcAwERQLARoMqUccD9eWH7vHa++tbnXGms/WsrO9IiwGHscmecXyzNFfny0u3eSjH9br88HyGVYjONCIQgCyanbOq012tmYVy0PAMC4DMIwCqQA20s6SaomDAd5AEBkXAjBkJzRxk4ecMZNaf0xjWjahHWjG/1/9BfEdvyExNCwxwAAAABJRU5ErkJggg==\",\"data:image/png;base64,iVBORw0KGgoAAAANSUhEUgAAAEAAAABACAAAAACPAi4CAAAD80lEQVR4nO2WyW8cVRDGq+q93mdxMnY8YJQgFAiWhWUkbjmgBASHwI07HPjjOCPBIRLhECFAiYJE5CQ4jkGxPV7Gg2ef3l4Vh/EstnvGAXGcUh+6W6pff1X93lcPYBazmMX/Ejjttfw3ACIpIgRgw8wXQc4BUGnHcV3bQknDXi+MDf8bACrbKxTn8jnPsUiiZu3wqBEm01ScBpDlzS0sXM7ZWmnXz7nU2dt6sXMcmlcEkJNfKM8HEHZ6iVj50tK117zjp4/WK20zUQSeyi+Wy0Wp12qtKBVUXunN1Q/eUc/u/7LVTF4BQHZxcdHt7h82Y1QKQVKjS6sf31rcuvvjRiOdANAjlA4uFc3ufi3WgaO1QpK4e3Tvz50vlm2ON9sT+jACkJMLkupBA33PIgQhbRWkW9v8pvXV8qfN9sswuw1DAGrXM/VqS/kOmUQEyLI9f75wcPCt/nr5w0qzml3EEECWI41aW3kWp8aIIMZRkuT9N9Tud4tfrm1utzqZEgYAJAvDZgdsStkwCwAaY1KW3OvJ3vfv3nr/8V6YKWGoQJHpddlCw8wMAoAizCyYK7ef/rDy1vKTeuZioIEClLiXIHKapkZYRITZpFGnFfoL4cN1/+2yk7lzhwDgOBYCNoZFBAQEREwadTtS9F8+jq8u+TQNAJImDMDMMsoX4TTqJU6us1kvlYMLAMYIgrAMChUQEeY0iVXA+8fBvK+mNVFYWFBAxhslgMLGgEONtlNwCTO6OAIgg8DJhQAAgv1HQY1xbLlWZhOHv1Gkn3vaCBEQEAFQa8KpABEcyB5LR0BUShn28pikmd426uxJ9YiDPY4AgEjahkhKJW6FmQarz7/C0Q0iacdO2/rale5R5wIFJ18cpCP2v++4utecW7lcrXQyHWEE6OfiCQIBEJG04/umFl1fUy+2sxWMlYAAAggoKH0FRJbjB6pxWLi5fLReyXaUcQWKUASVIkWkiJS2HT9ndyvx2u38+u/V7PEwrkCp1DAh9dcSkba9wO7tH1//bHX3541mtimOACKgVZwa0IoAgZSyHYdaR/Wlz28nP/1aiS7wRBAW0jqMU0DSpJTSisJOI7p6507+wb1nEwSMlyCptjwn7CVGW1qAU457sfPeR5+Ufrv76DCeMJtOTSbLDRwMu2HCSAjC4JZXbq75z+8/2M5eBGcAQLaXC2yOwjA2gLZfunrjxmK48fBJpTtxvJ6bzvli4BAIKDt/6cpCQarP//jr7ynj+cwWJe0EhUIh53mu57kqbe3v7NY6yZQzxtk9jmS5Xi4XBK5FHLXr9UYvnnrMOW8SSFrbtqVJTBLFSXrBKSnLZRARCU98cmr2LGYxi2H8A5nW9MlSyYMUAAAAAElFTkSuQmCC\",\"data:image/png;base64,iVBORw0KGgoAAAANSUhEUgAAAEAAAABACAAAAACPAi4CAAAD7UlEQVR4nO2WW28bVRDHZ85l93jXa+dmJyWhDw0IKBAkCEVcKngFhOCNj8kDHwBRRFWJipSKJhTR0iZNqJN4fYu93j2X4SFOvClrh74hkXk7uzq//c+c/c8cgIu4iIv4bwQWPUNEhkBEjuj5AciF9HxPoDNZmmpzDuNZAHIviKoz1bKSkB21mnEn0fY5ANwLZmv12mylXPJ9bnqNx3/uHA70FBFnAMhVtX6pVpHMEfMrcwszsvfw7r1Hcer+FQBFMLu0GFG/0+kPiamZlZdeWw0bG7d+bSQT0xD575dml+Zpd/+wlxIgEGzMXFm//kq9Xr69O5ikIQdgqroQHB02OkYo3+PMmWF88Pvmp598oNit3WRCHcYAJsOq7B4cJLxc8gTngjOXduLvn7a/uOaGaSMrJpwCkKlQ9ppN7Zc85jJELjyvElUamyl9fa0dD1rFZRgDpC+Tdqx9xQ05AmBcqFIwp3YffLPw5ftPGoPiJE4BTEozaGvpgbaOCAAZzzIdlVfs/W9X19+7f5CZIgA7zYBD0ku5IJNprY21RmfDfreblpfFz9/1r765IIt8kwOgGQyBo9XGOiLnyFmbpUc9U611ftyaf2NFTQUAUpZahtZY54iOneisTgcJm1cPfnGrL4ZsGgDBZhrQjXYTARARWZ0mNqx2NjtLlyM+VYGz2gGQo5F9RwRn0kxEbvtpeTHiRTmcnAI56wiJxu4nBCAiazSUeBz7c+F0BWQd0JnmQccqnAXBkwGGfmENxgqQRsIh59HjNQNnkWHhKZwCILf/JBAQkDF0JDzUtvBPHKdQ9BoBkXHIbLlq+8NCR+fsTAh59YAAgIxL6fquXjPNvin6xrOFye9HQGTCF7rrvbzY2usV2jEHwJHm3Aq5VCXe7dbXop3HxYBxCohAAIiENFojcukHfrrvXn9L/7bdP68GDMgRIgIBAQIw5FKFoTtsvfDx5e27e+n0fgAAHKwlYAhEAIiMSz8IKf5LffSh3bgX66L9ZwCMMbAWOSIhIOPSU75r79O7n13avPmwOIMcgIi45KkxKDhjyLiQgiW9mL/z1drejTuHxQLyCpx1nieHaeZIMs452iw9Glbe/ny99cPN7UmDIf9/M69UkmaQZMS4YEhWO395/fqrw59ubDUnzcczBuF+UFaQDZLUECGKoHZl7epcfOf2H/GEqfCP4eqFUeSj1dqCKFUXV5Znzd7m1pPO5Pl81qLIvCCqRoGS0lNBFPqmvfNopzkoNmIBAIAJP4gqlTBUvmS63zo4bPf15OFecMVBJqRSSnkcTJb0h0Pjpt5xCroMIuOcMQTrrD33mlXYpgAB4aRLXcRF/D/ib/yq/64OphxDAAAAAElFTkSuQmCC\",\"data:image/png;base64,iVBORw0KGgoAAAANSUhEUgAAAEAAAABACAAAAACPAi4CAAAD4klEQVR4nO2WW28bVRCAZ+acvXl3rdzcJqlRCwVRiYtaRUiVCqoQCCQe+Af8S56okMoTl1I1FY0qSgoodzuxnTjr9d7ODA/OZZOsXZUnhDKyVse7O9/OmTM3gEu5lEv5nwhW30UEABGQfwMg0lprQjF5URh+BeMCgLTjhUHoO4qzqN8/jDMzEXEOgNqtzzSuzk2HNUdx3Nta22j3UzMBoM9+3g5nF6816p6lSPn10BpuPn/2YjvKxxtxxgLlTM03r9Q4PowS0UHj+ttvzcW///jLajcdSygDlDu1uFAveq1OPzUCZE81b9/7aHb94fe/tccSSlsgu35lBja224dGW45Ck7e2Vn7+/OsPZ+vW43Y2hnAKQO1Ph9nOds/YoetorVDywf7y+t/ffPqVpE86+asA5ARe2m1FFHg2gRHWljc122l/2+cvv+jtDw95MgC15xbd3YGuOZgJA5C23VpQq238YNc/+WxtL00mA8iy5aATK1ebjFkEkfQwDYKr6q+H89dufbzazSvDgY4NII3JQQw25WmaZXmR51kS9/f73GjGDx7wnfdndJV+CUBmMGCNJs+Lgo1hY4o8GfT70phZ/+6PxQ8WncrEo9NFNiyIuCgMM4uwMLNJ4yi2GvT0Ebzzhq8mWgAmywWFDbOIAICIMJssHhRh2HrSnW8GNAkAYnIDwGakfnRhNvkw1fVsdTuYDyZaIGyMgMjo6wAAIytMkWfg4U7LmvZVlRNKFrAgnOoDCAgIsClYq6jHvlNpwfHZCCPDqITJcYoJAggwC1GRiqrULwMEYPQDEEAoZaoIkowpTCfRcfbxiS4iKSyMW+NhWpkMp0dT2v2JPiKS1pLw9EzeiytD+UJ84pk1krK1iag5F7Wjyk1Q+XUAQCz/R1K2o+LD8N2p3c1oYjIdNRPEo6ZytFKWY5tecuM9erk+qPRBaQuILAB07E4EJG25HvU74dLNzvOtpPIYygBCI0B47E5UZLueGrSL23e95ZW96tpediIhFiJEICCAQMqyXYq70Y37Nzd+fVntgjJAQGvKDaAaeYO0pSU6GC7cXxo+Xm6NKeynABEGy8oSI6KJkAiJkyTm5r276ulPf44x4GxjsT0H0mHGpJQiFC5y9q4v3Zlee/SsXe3Cc3GjnZqn8uEwMwIIAuTOvnnrht5cebGbVBf1c70RLccPHMzSNDOC2q3PLSyEydbqRq86Dy4AALXjB76jQASVUwt82/R3tvcG4/raBQCgslzfr3m2pbVSUMQHvYNo4ohxcUJRlu26jq2UcJ4O4/T1JhQAAEKllSIQ5sK8/ow0ujma0s7UiEu5lP+0/ANr5wB84k38PwAAAABJRU5ErkJggg==\",\"data:image/png;base64,iVBORw0KGgoAAAANSUhEUgAAAEAAAABACAAAAACPAi4CAAAD+UlEQVR4nO2W34scRRDHq6rnx+7szc4le96vRNEQLwl4kEgiiYch+CAB44N4+Qd88x/SJx9E/wFBoqBCMKcIiSLkJAQTopzGJLc/53Z3dqa7q3yYvXB37uxeHpWrx+muT39ruqqrAA7swP4XhvvZQ0SEwswszw5Axw8qlZIDNk2S/kCbPYwJAPLC5xYXahXFOkv6cbvZihO9CzEWgG70/MkT826v1Yz7BkhBFtfr7cTsE0DBkdPnXrIP7tz7O06tKLccRiH16o2tTPYDUNWTl86Xfv3ul0eZUgrFWituWJtWcT1OeTJAHTpz5eyTa99sUCVwQZjZ2izVVK1Npa12KpMAdOjc1VfXP13Th0NltTbMAAhsBto7FHEn3o7CKfDHqeXVCzc/vFU54mf9gTYsAghEWFLpZhqVNevxAP/YlYu3P7pZm4Neb2DsMIMQiZSfdXjK15bHAdTMG281Pr45s2jibmpYZCgYGYlc3ZWym+XfCgDlU5ejT65XF7mzlVoWgSFAAEVQmT4qxwoAABUIWDn90+f2KMXd1NhtASIAIGwtkE0M5a6jAd6xFfniwXy5103t8HgRARAREWZBNJkgFoaA4Sun7tzwa7qbWmYQgB3pLwCMyNvpPFIB1ZbDHzdqXi8xLHv8t8WwlWIFzuxS72czbRPNedx71gUAhbH4J3pzi0/ue+UsY5Z/eQ8JMLzZkQB3JnrUKCtteNRqHgUMr2YUAJ3Ib/Z9NDy8vgJIsQLlU98o2JFAxTY6D2Rfj20xwKYcuAYIcTJoFEB0Z1ALUnFUnmwFkHxxpAK92V6YTYznjA4wd879CwCP/5o9niWepwgBR0hABCAqVmAe3y2d9VtUdglH6EdEAKQxCrh5u3P+xUZaKTuU797lD4ggSo0BSHd9femSrTtTJWcYxFMEIhChoKNgzIOS/b6m33n5Ua8S+g7lYeDQAIlIxPWRxwC48cOt5fdKG6Ya+g4h7hBApJRYJ1DMxSEAJHe/fPLu5eRPiaKy5xAh5ecTKccRoyolGbbpgkeVm9+/sPp+87osVFVvoG1eVghEhEZjGOpsPACyP65Nv/mB3EjnAjcZZNaKABASSpaq6aodbHfH4tZWPbP6+oPPvu1ORx4PWxuA1QPr1yLdetqgi4uFouW3L/S//uqeDSouibC1WqfGmZ4JkkZncnMFoKnjF1cO31+7tdEHRQjWMpaimSq0N+On/mPLFctzy68tOQ/v/vawlRggPwijAOLNenfHlDO+3p3wyNKJo0HWaW/1tRBw0tqsdwZ25yljAYBupTa/MDPlicmSbtxqtrcGu+e0yWOe8kpB4Ltgs0GSpMY+25iX70EiBBBmmfjGHtiB/VftHz3ABszFAK/9AAAAAElFTkSuQmCC\",\"data:image/png;base64,iVBORw0KGgoAAAANSUhEUgAAAEAAAABACAAAAACPAi4CAAADw0lEQVR4nO2Vy28cRRDGq6q7Z3c9M7t27Dh+CBGMCSgIAgYJFJGIA+SAhDhzi/jvIsTNEhcQJBJCHDAQS4RHFGErjomdrL3PeXR3FQevnTXsjJecQHIdR/P9urq6v68BTuu0/guF4/2FAAAC8jQAJGWM1ijsrHOe/yUATTVq1CeqBGyzpNvtJZaP9VEOQBOdXZib1C5Lc8cgLmnvt3r5cBelAArnXliecbsPHu4luaCphBPad/daff+kCV2i11MX3ljmu+v3mikjAAjoStyondGqZ48IJR0EsytXFjdvre2CCRSCCDvnxMSNIGt1jwjFADN/+dr0t6u/SlQl9swiAMDWclAPXbfn5ASAmr360ZnPP9uKGyrPrWMBQUREto7CkHupK58B1l/7YGH1xs5s7Pup9QfrIxCSRttxNeOYSwGVpfdf/OrG7kKUdVLLPLiEyIiE2iVS0b4UoGbeevPep/cXGv1OYvno6ggICqJyGSgiLgFUnr+Mq+vTk1k3sV4EhlwgiEicBwf+ABqpp8lXl27fpBnuJpZFQIb0IsyA3gphMcDMv8I3/5wxvcTy390DIgIAnqUEUH32/OYPOs4TyzLCxSIAMgCPBFB4Pv75QaTT3IuMSgEBgMFoRwIwXuS7aSSZ4xERMiAM5jLyFFT9bLqFFed4dANP2ijcQr2/rzT7ogaG/x35sVqzqaIx5EWnAGL9GOJCgDir9MA+TwXgNIsiz4rGCP3RgG47nvVOGwIs7gKLbyJ3diaeo0QbRQVyRMBSwCZfbHSwZggBRzAQAJCKtyD9Px6/vNxNq1U9cgyIKKhKAJBt/HLuHdOksKIJcbDbYT0AKSgBuIdrnXcvNnu1MFCIxweJiASCRkGxmUA66z8ufRhvu2gi0IQIhyNDRCSFIsZAiRsB8o2vt6+9l21jPapoQsKBGJBIIbOpqUGoFl3l1toXwcdvt7YljqqBJiI6WFwpTex1GLArj3W39eX01ev593Ym1ElumUUAAQmRrTNxNcsHZikCSP+3VbPySe27+1NhWMmdZwFABLE51xrVND18HAtfZ2nfluTS9XO3dlpRNTDCwsLe5lZPTpqklx26tcQuVL9wZQV/+ubOPhhDCN47Jyaairi913dwMgCotnjp9fnu73c2HiVWAMjU4kYIvcet5Ehfbng0k8+8tDTF+7uP2olHHVTItpvNTjb0VpzgeKo0ZhfnpqroXG6ztLPf3OtkbjjqTowMMrUojiYM+Tzpd3tJ7o8n5RiZg6i0Uijsvf/nQzd24RhLndZp/Y/rLwj43gwqtK0vAAAAAElFTkSuQmCC\",\"data:image/png;base64,iVBORw0KGgoAAAANSUhEUgAAAEAAAABACAAAAACPAi4CAAAEFElEQVR4nO2Wz28bVRDHZ+a9/WU7GzuOE5r0N9AGpQghUKqChNQG6AUhxAF64D/ixIEjFy5ISJUQvfBDIEBUalX1UEWohUvUBErj+EfsrO3dfT+Gg21KUq8deuCAMsfVzufNvJn5vgE4tEP7Xxge6CdEBAZmfhKAkK7vOcRGpWmqzX7GBADKXGmuUsoJVnGvs9tqRT1l/wXAKSycWTpW0O2ddlcZNknUqDU7exDjABgceeGVc/mte79u1CMFws+HeafX2Gr2zIEANHV29fXF9R+v/7ajEAEsk1uYLfu96nZH82SAmH7x3Tf0V1fvdIPAJbbWGJUqKsyVoVmN1EQAFV/+4NLmJ1/WiiXPKqUMMzLrJKHSnNeudfTgP5mVf/7c+5fufvStOD1lur1Ea2ZAFBTIpB7PBqHp2vEA99RbF+99+N30Mae72021tcCAiCTITyI94wUq5XEAUXl1tfrx96Xj2Gr3lGELDACAaEg4HDdC6WkzDhCcXfU//Tp/DJrtWFkLgyZmtGSF4GQ3L6XlbIConF+6+YU+Rc1WrA0zDKvGYJmRbIyuIJMN8E6vdK9tHvXb7VjZvn8fgcDMhKQTHBSQRvlTuHxy7aZfSnaH/sM5ZGZmaxltahEzAaKy7NyolimKteXHhpiZGdnYMVVwFp5prWGoY2X77nsRDADAg3kYGYG3eOTB7zkvVf1jHtOR/kfOBKC/UPyzlRNaMwDDCBliBrB9wmjArN9IAzSjJGxfJqMBzpTbtQ4O6j9ec0begSwEDgiBiJMlcxSAjaIALRJOPD8jgqRpijJBgTjOP7sTubeVLOS7LEU/hREQRMDsTuR4s3FiPlKuQxkBIALSmFlINtYXnosj15P9e9yHQURgJMqeBfXHmnchqGPOFQSwn4CABEASMxsJbP32w/NL9U6QcwbnPKonIhABkyMgOwWO1m4fvew+hELOoUE34BCERMTseGCzIwB1/4fa5ZVmzQsDVxLCAIEIgCQEWJmT1mZHALZ166fKeycetILpnCtFPwpERCIhJWgs+FZnzwIApPe/WbtwpbTRCooF35GCiAiRSDiO5BTCEFM9FLnRJuZWr0x//llzvsi9Xqr7woBEBCqBYol3dgePW9bDYuo/+2+/41zdjGZ8N+0TEAF0ksqZsm12h09bdq97i6+9Wbl17U6Sn3KRrbXWGpWkUJgLdW0nthMB4M2/dPHp6vUb6z3hSgHWKG1Evlz2ou3m3/5jp9Upnll5vrD1y93NZs8wkPTDYtFLatut9NGOMnbcRTD/7PLJfFyr1ncTK1xXcqdebf5jvZikFyhz5cXjT4UuqzRNutFOo77TSfdsWZMEB4WXC8OCLzlNOlHUTfYtaQdZNFEIIQjYGDNBp8djntjz0A7tv7C/AL1U+1+FOXE0AAAAAElFTkSuQmCC\",\"data:image/png;base64,iVBORw0KGgoAAAANSUhEUgAAAEAAAABACAAAAACPAi4CAAAD0ElEQVR4nO2Wy28bVRTGzzn3ztgz9tjO041VQCWFpDQlKAJRVWyyoBtW/J2AhLphBxISqLRIKUKqogQUQUkDIXHGsTOv+zgsJs6r47FZgvJt7e8395w5890DcK1r/S+EE/wFiQjRsmHL/x5AsurX/apgncRRlKqrjDEAqjTanYVpT9o0iQZh2A0HqbmEKAWg23p9+facPAmP+rFmAhuHh91BaicEUO3m6nud9Letnb/7mUHhePWgagfdMNYTAURr6cE9fv5k89AIKcBabdCtt2q2H55oHg+Q06vriy++fnro1D2J1hprlEqNCJpu0ovUWICYXnv42rNHm2KqJrTSxloAYKtSU2n4qn9WhRzhx+Dux298/8XvrWmZxak2lhkAEami0q7yvRxYAvDeXF98/NnufMsO4sxYy8AACIQkUR2bqqsVlwHk3P3VX778o93KTmJlcjswoEUklCpixzGmBIC1Ox+mX23PTGX9WBlmgPxxDIxMIEwCJPKZpOIOtj/oPHnqzejcz8wAwLmsYSSdWcr7XwzwFlfDbwdzIsr9uRuGh7CMoDWUAKh5t/N8K6insbLMDMAXxp+ZmdEaRhwJkPPLsNGfwiSz9rwBFxAAcNrD4iY6nVvhtlPXWf7hvRICDABsS0qodOb39n1HacvMr/qHhJFvAb12/a8Tn7Qpog8Jp30pBLgtt6craJkLnn5FxU30ZWYljnePArBRBtkWVT8ZQA2yCmqeJLILAZx1k6ZMgMoDc/Rr5GS/P1ePjSQcgUDEIaGwhPTlfrsdZY4kRCwsBBmIRp4A1N5O87YZiIpAgFdjDxEBSJRMojnY1O82jmzVFXR+2DM/IDKIU2chwB5vvryzHA1czyFEhEsIBCRgksQlgZLu/FT7qHmga54j8BICEYiAwXVKRhnAHGzsrt1XBxjUXElnp0BEQCJi61TwNJaLARxtP8aH74RdGdSrjiDCoUhIYiN9x+jSVDYHP954/9PoV55pOFGm81xjRCQErUW9mik7bEmxMFj5ZGnj861g1tVJqrVlBgBCsJl2Al/1kzEXCw82K2LNf/TsxVRQ85Qy+eWgVcZe08uibHjFjx530VpZXzn85rs9rPkOsjVGK5VZp9GUce/kbMsou96Dtx6seds//PxnSoKAjWGqBC3P9MLofEEoXTC8zr21W7C7tbPXSzQI16v7ru53j+MLWVf+xTqNm28vLVTTXtiLlQGjBmE3PFGTrjgAQE4wu3BjtiZNlgz6YXh0HGWX97SxoYPS9XzflayTJE4yba/+Pg4AAEhICMwTpfS1rvUf1T+iMwoQ8s4HagAAAABJRU5ErkJggg==\",\"data:image/png;base64,iVBORw0KGgoAAAANSUhEUgAAAEAAAABACAAAAACPAi4CAAAE/ElEQVR4nO2W228TVxDGZ86evdjOxs7dgQBClABFpZFoVYFCVfHn9qXqQ1tUiT5SUVUIAQVxKwESIpI4ji9r755zZqYPtokvS1AlHjMPfll9v/Od8ZyZATiO4ziO4/hMgUd/RERAAREB+b8ARKU9X2sFQmSdI+H/A0Clw+JUHE9FPpJJ2q1Wp2udTNrIB6Dyi+WF5ZPLS5WpAFy3UXv/bvv9fitzEy5yAUoXZ1bOXVg9sxSHCpjJdPa3Xz1/8WanmZF8GuAFlZMX19ZWF3TaqDc7zoum4qLqvHv28PHGbmLlUwCvMH/+6rWvq277+dON7XqXvOJM9czZ0xWz+eDe462mGbmGntDrYvXy+voF79nfdx+9rackAKgLs6e+XLu0HM9O39+ojxAmAF6hunbzxqn9P2/f3WirMA48ZJelG68f3L167eKlMEA5GCaMA1S0+NXNHxaf3br1sBEulEuBhyDk0qTZuv/m5fffnmIiagzlYQyA/szq+vWZBz/99hKX5uIAmVhAhWFcadXqd3Zr60trna5tu48BvKnT33w398+Pv2wWq7MRm8w6FkStdegX9veepNmNxcsHiWHOB6hw4dLV5Vc///q2fKKi0jTNHDGAUtoPw2he7/wL3vXl1b22/VCTowBv6vSVswd//P42PlGRdqdrHLEAIHo6jaKgIjsbd+IrK2d2E8oFqGDui/P6r9svwuo0J+2uccwCgoDOWmsL4bTbfTFbqa682c84F1CsnlvYvvOIlsqStLrGkfSsIigmZg7j9ODpyanZ6laLeBKAeurEijy5V48r2G13s75eAAWERQRAx529pyvVuUoty3GAfnm5Un+4geXQJt3MMosA9DuJgABiISgdbL4ux+Uoob7rYUBQnve3njcKJUlT45il14tARESYnckMRN7BZsOPIw8nASqYnrabW1TUtq8fqAFEhJmsYR2Y3RpHYT6gFHa2DzBEayxxXwjQ+xURctaBL4268YMcAKIfea1aR2u2ric/7KQCACLsnChIGynqQR8YSaKnOW1aheSIRWCkEwsKCDMpRNtJGQcnjyQRwaUpI/BI/g89iDARIGWZk0ErGikkccYQ9PQyqPZ+JfVMCLMAUOZo8HnYATuTkeq94OGDBykAAREmQXHGDkp5GCCu02Xf4/HGO8wRZlFoU0uTDoRNkkgUkCFAwMGxY8EOPGXTLNeBaTWpVBRDiKrHGLOAIETgK9vJchwAm1bdlGI0VhRi/swRIhWqtGPyAGLbtSSajUwmqFSOHhHIiR9KNzGDu40AKKnV1ey0pBa9HA8IIOQw9KnTdXk5AErre9n0fJiljEohwtDkQkBAYBIdeVmSuTwHIKa5cxAsVDDNRHk9xGgmiTAMuXN4gzGAS/Z20unFkkstKIWII3IUZvBDlSWp+0hbF9PY8eO5lk3BV0qAe4+ofwMBBi/Uznbt4WwbA1C35ku4YPYy9hFRMYDgoJpEQAUasmx4SRibTGzbuzBTnKe6yXT/fxBA6del0hqNNe6I4UqmiRQX5qCZOsTB4f1UoOeBJUtHjnfKGmSLQUW1UuLBixjoFTgmOnrBEMrEpQWvpPzDJwcgCIggxDy27eXuSDqMQi02M5aYQXouEBHhsM8cBQDl6cD3UBw5IpYP8w1z9tXJHQkAWMh5WikRQAX8obflbbsf3VRRoULozcScBfWTAADAfls6Sv4Z4j+lqCixCflQvAAAAABJRU5ErkJggg==\",\"data:image/png;base64,iVBORw0KGgoAAAANSUhEUgAAAEAAAABACAAAAACPAi4CAAAE6klEQVR4nO2Wy28bVRSHz7l3Xh47dhI7OAm0TZWGsmhLAquqArrrX4pYdQtCQgKppaqEkKpUtCIljz4SUsfEce153cc5LPyIH2O1QixzNKuZud/9nXPveQBc2IVd2IX9T4bv+dz7zsD/AYAohJRSIJO1lohzITMBKKUfhMWw4Aqr0ihKUmUoBzEDgNINy9X6Sn2pUhA6ap00jk9OO4m2U4h8gPDCxY+vbmys1ecDiZR1mkcv9/ZfvW3Fxn4AAGVh8ZPrN29cqxdYZcoyStCdxsudnd2/z9IJETkAdEsrn219eb1mTw9fH//T0RCUq0tLFdE+eP5sr9HVYwRner03f3nrzhcr2fb29s5RK9GM0i8vXdrYuPTpUn3h2WFbjRKmFKC3sH777maw/+jh9mHMrusgG23Yr177fPMK7P7+5OBM02wF6FbWv7p3S/36/YO9NKjNhb4DrLO42z16u/vXna3rgQN77REvJgGydPn2va3op/uPmsHqQskXCMxeoVSJO2dvWiftO2uslemcR3ICIIL65t3N9MdvH8fVpbLLylrLjIiiFBRbZ09i/c2V5F1XxzMA6FY2bm/Rz989Uiv1AiWpNpYYAKXjukXPa/4JztdXbjS7aujEOEAEK7e2wt/uP1ardV/FcWYsMQOgkG4QuFXR2CnMba2tNyJr8wDolK/eXD744WF3edlPO1GmLTEAA4LQxoT+AjWeVyurl/eb6SAvxgFebX0tefzL2/m6n3a6ibaDFEQiIga/krWerhQqy6/fmTyACOtrxf0HL5xaqLvdRFk7LATIzADglOPG0+XVhUojpWkAOsX6Urq9HdXmKIpSZYjPawAxIIqCVzx99SIM5nyBnAMo1cLGH4dyTqZRqiwxj5Yi0oDoBm77YCUMA6n7qscOsVTmN7udIDBJqi0x9xUwADORNSrVwtWN48TxJOa5EBbU0bENhE5VDwA9BYzASMJqIdCBTrMMTj4gcKJGG1zWPf8H6wEYkIHAauEKTNsRS5EHkA4m7VRI0mYyAMCAzGStAGHjGIdpPBIDBBSQxQaRaDT+5whmtpaBVGaGb53RH2x86nQtmEEAGAC4f1wIANAPKxmkHACwTTueAbb9C8gAAKPrYfCS7bDCjx4jk7HoOUyAiMNNJz0hRsF2SBgDGKVkwWMLQuCwqY1sDAjARNJBM+wQYwCbJlAqgiYhRC/O5/v3CcgWHA+UGgRhXEESUakilQEhMLdjIJAF37OZylMANm6nYbVgsp6EPCNjZeCYOBfANjlry+o8JxrklATuCTDsFTBJcl0Ays6a2fxHQZZYyHUByFgRuCZKdN4xAut3jZZbX8QkYyEE4iSGybIbiCQ675DjABs3j5NyvWhTzYiICOcIBAAyJHzXRLHKvYkAlJ0de6VqSyl2EAVN3CMCRs/jJE4N5wPYRidO3a3Fp5pkP+MYgXsCGBili0ons1sb6Y7kir+oO5rFgDDIB2CUjjCklJ0JAMrarEK/wl1jBCIg9x4EBkAhhDXGjM4YkwC2KZuS75UgUTQaQQZAFEiW7NisNTVgsM1IFzxRQKks04DAAIgIRDwx7k1PKGyZtOcKF6UxRDCoywgABFOVKve+CeE4jgQmay0Pa1N+echPGUQhpRAARETENHvSnTmpIqIQiMA85fWHAXoM7Nfi2T+9Z1rPd3vM/gUsqgDCOjKBSwAAAABJRU5ErkJggg==\",\"data:image/png;base64,iVBORw0KGgoAAAANSUhEUgAAAEAAAABACAAAAACPAi4CAAAFIklEQVR4nO2Wz28bVRDHZ957u+u1YzuNcRNCSoEKIlCpKFCBoBwAcUHigAT/ZzkgDlDxQ0UFiR8BCqoq2tLQNE2aOPHPt2/fmxkObp21sykS4ti57n4//s54dmYAHsWjeBSP4n8KfPhDBAQBAfkPAKWU0VohMBER8xGMIwCoTJzW5ubSWIu3djC0mQ9SxigFoIqqzfbjTywvzlcNZd3drc27W52+8yWIMoCK0oWVZ194/unjtRgBxNvOxs1r127e7dpwiFAC0Mn8yguvvPrcAgDkPoiOYgXZnas//3Jts5fzvwFQV9vPnXvz5cdguLW+vrmXSaW5eOLkcj3c/unyT9d3LU2/b2b1prb84vm3VqPbV3747fr2ICfQSX3x1Jlzp08uPrl06fe7o2nCjAPUcytn335jee/Hr7//c59MFCkIIeeotXr+nZfnbnx1ce3ONGHGgaouv/TO6/W1ixevdE2jWasYJeTtsLe9dXXt/fdOvquYNi0fCVCV9vNvnjWXP/1qHR9rNVMNIgLQINvb3f78740PV89b6+45OQKAUfPUuTPmuwvf3KstLqQYbCARVCaqpo3drd/6g49WX+vsZ+SPAOjq8ukztV8vfNmZX2rozOU+kAAqEydpupTcufkJfLxydqNjiUsBGB079WJ7/fNLnfmlORplzgdmAVDaxFk1bamNW5/VP1g5/fd+npcCdLq0+uTg8rfb9eOptzYLQUQEAFHnPg/VJvkbX7Rff+qZ273AJQA0jRNPJ79/91fUSsNo5Dzx/d5HJgrM1Xp7449Li+2Ti1tuAlAFQLxw4nh37aqfr4kdWeeJWZiZmSl4N+wPod7or/0yai/WDZY4UGnr8fj6HzuVusps5oPwZI4IggAimsbgzpWn5tqNezkdcoAmbS2467f8XEwu88QsIgIyDibvrKVKam/cCo1GPHFQSEFX55O9Wx1TwdwFYhEQGHsYI0KeOUxhe72fzCUT3UEKqCs12NkcxZF4H1jgYBQiCABDyKMk0oO7XZVGCuVQCjqJQ2ePIhU83bf/oATjTCj4oIzf2ycTTXSFFJRRrjsADUQ0pQcAgXEdCDQP+l4pfFCEYh8A2WEOyDRpgAIBQYSZAMXZXA6mQAEg7DPHIHxfLxPpfRMgzCDAzhVGYwHAwXsGkGk5gAA+sCAMAhKco4nFIiC3XhkhLhiUKRMgLIRanPMlrSzkRt4kGAhwdtTKwUukDGSjckA2yKKq9gSIOB6Wh7YAB9aJ2FE+SaHwN1LWG5l6QjmjmvUgAACIQIHjhAaDvMwBZ90eNmucE6hDBAAABCGPaeL7Iy+HAcCutx/qxyKXg1IIiDNDHwHYB5Ma2yusuAJAfH+3n7Rq5Ai1UrNyRADyUEm538+4FEC2s8fHWlGeMWqlEA4Y+KCEphq7XqEERQCw6+70K+0muFyUUjibhISAaUWGfUtSCpAw3On45vEaZ15wloBCDHHFZP2hL6ymqb3Arhur6oIl6yKFChhAAGV8LIkImCQKfpjRUZtJaNTRragVdjJnFKJiOOhjBtBxJNbZcPRuZD9UMp8syJ4NqBCw+FGBjow476b0s9uZ876EetTErh1/EwdmEbUSHwJN3wezBwblA8prpoaRzafHCipkIaaZG2cWAOQ4uDSKwWQ+0MFcQwAGOXwulrS80lGcGJTgQyBmAREYd6KUnHmHHACwcMiN1gBKA4KMPR918JZfqqiUUgpAhJnLfvffAAA4HioCDA/VP/RaHz97qBzgHyDZKlJYDuHmAAAAAElFTkSuQmCC\",\"data:image/png;base64,iVBORw0KGgoAAAANSUhEUgAAAEAAAABACAAAAACPAi4CAAAFAUlEQVR4nO2W2W8cRRDGq7p7jr3Xdtbe2HESLGQTkaBAQKBECkHi7+WQkqcIXghCBEUQSJTbMbmM1961vTs7Mz3dXcXDeu297ASJR9fLPMx8v6mqrvmmAI7jOI7jOP6nwKPvIiAgAzPwfwcIlFIpKZCdc8YRTWQcChDKy+WLxWLoIemkG0VJahy9M0CosDxdr8/PTpUCtMluc2N9Y3M70uOIiQBUQaX+3vLyUr1akIKdTTtb68+frr7c7GSO3w4QXqn+/kcXzy3kXbfTTiz6+ZzPndeP7z38eyu29DaACKfOXvzi0mm1vfZ09U2ra0W+Ord4Zr6oX/x598HrthkiqDG9DE+sXL56obhx9/Yfq1uRIQDh5U+cPndhZbFSK99d28kGCWMZiHD2wy+/WtG//3jrUYu8wFdINtNWVJcufb4sn/16Z3VbD/RhNAPhz3xw7eulxg83bjdEuVIIlQAik0btnTtrT65+ehbZuR3DhwFQVZYuXzvz/Pr3f+lqrRxIIGIhVK481Wlt/bzZvFL/JE1Nxx4GELn5jy8vrn3z7UN5qpZHq40hBiGUygX5VvN+nF6dO78TZUSTAehPr3y21Ljx3YNgYcazidbGESMK5flBWPMaqyCvnFzeisx+EcMAmV84v5z9dP1hsDAj4zjOjCMGQBTKC3NeFTae3ypcPHWm0bUTAehVl1YKD27eg/o0dqNEW8vMAIBojTX5oGwbz25XFk69aOp+CkMAEdSW5lu/3OnOTWHcibV1TMAAgEDOOSK/lO48Olmszr3q9FMQQxUU64vqyW/rhWmVRnFqrHNEzMzEzhmdxFqW/OajlzhTDfrCwQxQleoz0f0nrhKaOE4NEfV9hJHQAiL6he3Xa9V8OYwmAbxSLfzn8VZQAJ1o62jQiBjBohBeqHZfLeaLoUQeK0H4pTK9ealzvku1ddzXMwAwM5HNMid9s9m0YShxvAfoFfN6fQtCNJl1RAwMzMzAzADMRNYYUNBupdJTEwDCC2TcjIRi0zv/wQoYGIisJYl6NwElxgGI0sO4Y6Qk6xzziBUzMJOzhGjjlLD/GQ8PElhOHQITMe8VP4hAZiJGylLcvzUEYHZkeV/ffzP0bIOxNxLAzqCbNMpMWcYCnesdPx/ogbH/CiIW7HjfGQebyDZNSClyxDisH7gyMQqrDY2PMnPWjSj0yRAiHvbHIMdKOr1v74MZkIk6Np8HbQFx1C77M00WlHKJngRgE7XSfFlqA0IMfWX9QATnMJBZot3EHkStKJgKrXYocHIJZEkFmMbZhB4A27i5zTMVTgwIMQGByGQhCChJ9i1tKFNKdzbT4okwS0mIXh9xUI5AlmSosm7iJh0jkGk3tr3aFKaahBQ41komB0HASTfrt2AYADZuNpLybNGltlfEgRx7elaBNPFBBSOuzNluwy9Ot7MUPCEYCIBxYKqZhe9RFg/85EcALm6q2aCmNzPy9hJg3J8BBvR80Dq1B9CRPxOZSGI1nHHbWSZFrwEMyNCbbVQKrckG9GM/V9JtcKXcNOxqe9CCvStKKayzlo4AAOk2ZQW/gh1tefgMUAiwbIfXtTEAO81W50RBxKk5eJQBAZGJid664qBQQRgoNjoz9sCaEBGQmUdsauLEC6l8TyE545yjvqi3s44+O74jAQAxWSUlAiAK6Ncxed09bFNFFAJxzwVH034XAPSKBjhq0X6XOHqbB4B/Ab95FalZZTOsAAAAAElFTkSuQmCC\",\"data:image/png;base64,iVBORw0KGgoAAAANSUhEUgAAAEAAAABACAAAAACPAi4CAAAEYUlEQVR4nO2Wy28cRRDGq6p7XvuKHduJI5xNjBMiAQkQiHIBBEgcAuQAR05cOMMfxAnlBEdOASEhpCAgBolEEMdJcGxsdpG9u/Y+59VVHPbhjd0Tg8SBg0sajebx/ear6u7qATiMwziM/0fg/jtIpAhB2Bjhfw0g7Qb5Qi7QaMJOq9ONzAGMRwHKyU8emz0+PZH3FcTNrY0/Nrba8WMRehzmFGbKp+aOBgQilC/mnbC6dGtpo5nIP3Kg/Onywlw+amzWmiGr3NG5M+fKfmXxxq1KN9vELkAXTizM55trq9VWIoAAoEunLr76Uv7uV9/ca6YHAnRp7uxs9PB+NdK+72lCScNuT5Vfe/fFnetf/FLPIgwBunhyYXJreTX0CoFLCIRKEYeNBl14/z3v+mc3swiDIlJu9qT3YGlTTQZaQmYBUtr1CsWZ6mKl8uFVSn5q2OvQB6B3dFavLDeCgsvd1LAIICrtBPnck8X1T8KP3mq1bnesY6EHCcx4f97bDgoUpgmLCAACkorCQmnWW7mW//idSn0lzgSQP5FrrOz4OYmSlEUG1WE2aZJOTMGDa+UP3r5fr9mS0AAAKleI1uvalzgxMtCDoAgzi+BU/PDT8xdfX26FFgABALo5rNXEgzhOmWUsmNOwtZ0cm/758/Dl8yXKAJDrhbXIpTQxPDIAICLCJo3aTXWCv7x5+tJxnQFQLrTaqLhf/r6yjwARTsN2tzD9+9fp86c8OwCVStoJQWpYAAbi/mlA6MhU+v3a6YWCJQcCQMIoFBJmARgb6wGBTdKLc7n7v5XmbUUgAECOEoS9+sGFgJg40sXGksxNKLsD5MQgsAjsmWsyTCKWXLzamyrZASBpIiD79UOMcMIubHby+SyA4bHSWwjMTNjuOY69BsKGBaxyGR4CYFJBSxPXAMAmy/1usDgYJ5avaABhHH7FFgiABAkUdbtr9j/WAMIgaFcjAAAiaQhx2qm37ADo7z/ZSZDW3AnKUNmxAAgAWPZOoXEPSMpxos7MfG+taWkIBDCa/9YMEEl7qpWcOVldaWcDsvQISNrzk3rhYmF5rWd5z9YjHtUrN1A7nXMvNG9XE8tbtEdi0/u9zYlXZu/8up3ZE0cSHBazP35AqN1cLt00ly5v//gwtGWqR2IQwXELCIik3SAwtdYzbxZ+yNjdRg4QhQURcOQBibTr+6bRnL+ycPfGqq0n7wIEkdAwEY6ApBzHVb3tcP7Kc+vf3mnZt7aRaVQKTSpERICAiEopjdxrq7NvXGh+t1iNrPqxwpPWZNJUSCkiIiQEE4cy+ezlcm3x1l9R9lobhtKuhiROGZGIANiwKpaffirYuL1ci7OWynjdleN6WtIkNiyCpPwjx8pPlLqr9zaatim0HwCkPd93FAgDaS9/5EjJjbbWK43QsgqtAEDleEHge67juq6jONqp11th+rh2tbfJodKO53muo5DTsNcLE/P4bpf1q0soYgzzgf+6+wG7dw9qtIfxX8XfV9NHq0Nec68AAAAASUVORK5CYII=\",\"data:image/png;base64,iVBORw0KGgoAAAANSUhEUgAAAEAAAABACAAAAACPAi4CAAAEZ0lEQVR4nO2WS28cRRDHq6q757GzDyd2HMdx4gBrGSEUhYcQgvBSEOICnPkAfALufBC+QsQFCRQOPCQQj6AEUEhiiImdKI6dzWbX3vV4Zqenuzh4NnbsHieROHBwHVbakerX/6quqi6Afdu3fft/GO7+giSICNgaa5gfF0DSC6OoEkg0WRLH8UCbxwGQig6MHx4fqfoKIU/77ZXl1lqaPyoAVXTo2ImjDWWyzJBXqUUyWb42t9hO91CxDUDBwenm8ShpL99dTTSqaPRYc3aSF87/er2bl+ZiCyAqEzPNRn/x+nJPAyIwg3dg5uXXn05+/urCSlpGuA8Q1cnZ4/bG3FIig0BJRLY6TXT15AfvHb742Tc3kxKCHOqvHJkZb839s+6NhgqZAQRFZDZWf5z/66M3xipfLpRoKBRgODFz6N7VW1yrCs6NsQAolB94vLaMZz5+68qnX9zM9lKgRiajpbkVVQ840cYwMyCR8qPq4frNcym++WEnbjnvQhYJHKu2/77j1eRAa8MWGACBcq2zRm1m4Tu//uL7S3HfFYQEAECvUdtYaMmIBjq3lgEYAJCttcZy48n5r498cvrSrUQ7AAQAQEGNb9/BEAeDLDeWmZkZ2Fqj0/Vuz5umz896r81GuxunAMiK6rW0R1mmC3cAYAZmawZxt1+Zunf24hOnRkUJgJRvOrGQRueWt/XfJiGL19KRkUvnsmem/BIAKrHRs5JzY4uzCxVDQg9G0+/nJ6YjKlEg7HqKaIxlhi0JQ0KexklYmf9dTtXdACTSiSGwlhl23BQDW5unCUa9K/F4QzoBgJBljNbaHf48zINO89Audur1MoDVOQLv9Aco8mCtziXd6wZVufsiCQDY5tblX4gAsMYIGfdVxXGPBABgcgaH91AGMzOSzoQnyhQUCXcCcPiLwlVIEgCsccq/T0AkApYBuaY8AbA1FksICACAJCSbSgMzR0NvD8Hpj4BIUhpzcEzHjgFfAPYIARGlL1M4NtpfcwxnCVBUb+nYRaF8Xg9nq61uiQKwe2UQSAZ+2j/6rLmx6sjBZnGWABAAkIQfQheee2r5et+WKCg7HQARhRf6cWfydHB50TXZaYfHA+IBEYUKQ93CV0/e+q3lmonb+wsBh+Fg8Z9IBSG0e6feFuev9BwRbAEQmPGBt7o4v4Kd9tF3T/z5022XgG0ABMtAWFQUAiCSVL7Pne7YOy8sfXvVlcLtISChtZaIYPNZQSIplcz6G4fOvLL2w4W2e8/ALX9JNjdIghABEVGQIJtu8NTpl+DiL2XP81bUKJTkXBsUQhAhIbLRA1trPt9ML/+xlDgDeHBDEb4io7OckQgB2DBFR5rNemfu2t2HLxgAQNILPDI6y41lIOnXRicm6oOVhdtr+hFWHABA4YVBoIgZUHhhVItk1llpdR9xyQIAENILKmHge0opgWbQX11dT8s3rN0AQJTK83xPCbQ6S9OBNnsvq44XG4k2q8Fas0ejlwPuf36o8779R/YvE35MZMuv2J8AAAAASUVORK5CYII=\",\"data:image/png;base64,iVBORw0KGgoAAAANSUhEUgAAAEAAAABACAAAAACPAi4CAAAEcklEQVR4nO2Wz29UVRTHzzn3x3tv2s70dwlDS1to0ESJkkBgA4rRFaxMXJj4F/inuHHv1o0bTIxxoQtJMIhKrBEilPKjOC2l00Jn2nkz837ce1y8aWnhvmljXLjo2bwfyf287znfe887AAdxEAfx/wh0vUNEZGBm/hcAEkp7nhJo4rgVJ2Yvxm4Aku4pDY4M9ff6ZJq1tZXV52Fs9g8Qujg6frQ8Ugy01lqa1tP7d+cWa5HdHwBl36GpY4eLJtxoRFb3jRw5Mqaqt36eXain+Ym8AJAenJwZ92qLlZV6O2UUwcDEybNvDz+59sPs03YuYRtA/uix48XagwfVCLWWBDaJElU+e/lCz82vry4089LA7fVjMxO4MLds/J7AE0REYNobtXTy0idvzn/17XyYo6EDQG/0eLl970HoF33JzIwolFYUrVXlhU/fX/ryynzLTZDZRfWXB5/N/W1LBZFGqWEGJCn9QjA+sPj9s/DDj8PW46gLQBRGBmrzi1jybJwYwwyAiKLVLPQVZyo3P/Muf1RtrDg3hAQAQN0/0F5Ywj4ZJ6np7GAEkyZxnJQmafbz0TOXHm82XEnITEAJnizZXpHEqWWGDoCttcZw/3h8/YuJ839W2okDQACAsserL0e+SKLEWMvMzAzM1po0Dmt1OaG++6Z08bWC6+QRAJAXJGubSpq4sx4AoMMwSbPeKJTXrtx749SQyAWIRo0lJ6nddYAzQtysR4PF338MTpW1G4BC2s22IGMsMwB3Utgi2KQZyuH61dUTU4EjBwJAQVHTEhvLDNsSmLcIadyMi/r23eHpPspJgdsRoLW2U/8diIzQjnTvyh05UXIUgQAQbJwiWwvwqtEMzCaJsCd8GI/mAABM0sn9ldXZxSTW5+VmqTcHwGnKwK7zumWosRLqTT/IqYFNrVPANoQtI8YJCYcLEoANWujewRGYCa3rNBEAW8MM3X4CSGCgoNqu7ioBwCKjwwDI2g0iksAIhryN0CGBAJgtA7sJGUYoaOqyqtYdAAmQGZDb8hCFUklYmjZLG24FXdMHRJJaNVtHp9cXNh01IOhCwEyADnhdvDX26FGYB8j7eCZABbqxPn7G3q642moXAGYOqCAwq3Tu9cd/PEv3ACAi7ngAQECh/AI9r594B3+by2+q2feYcddWzQzwC6JeHflg+q8by66eug1ABGAARM4czfQL5ftyc7Xw7tm1a3cbzt/jtgIgsBawAwJAIBJKe1irBecvmp9+XXVV4AWAEYmMsUS0pV8IKUXUaPWfe0/fuF6J8qzeuiEp2KSWBBEBIhIRmLhFh0+fDu788tC1iXYBAKWSaOLUoiCBBAAmTak0fXIquXer4i7ALgCg1J7kNE5SZgQAIF08NDnes37/YbWdOybtNA6F9n2FJk2NBZJ+b//wgN+qVlY2kv3MSFkdvCDwlCASUnu+4qi+9nwz6jbovdTlUEjte76npCQ2casRtmO7R7d7+QUJIYUkBGPSxJhuM6ITAACI2cbc16x8EP9B/ANlaU12OKr3lgAAAABJRU5ErkJggg==\",\"data:image/png;base64,iVBORw0KGgoAAAANSUhEUgAAAEAAAABACAAAAACPAi4CAAAEgElEQVR4nO2WS28bVRTHzzn3zsPjeFK7afpOS9u0BLWlAgmoEB8AIT4ACNasWSIh8SmQkNiwYlOQQGwqsYBdd0AqtaFp0jak6ct14jj2PO89h8XYchKPQ7tFuRqN5av5/3Re95wLsL/21/76nyws3SQkRBFhlpcHkHI83/c8hTZNoijL+aUAygnCeqN+IJwIPDSdZ2trTzYT+8IAcmtTR49M1XxHe9XJRqMGrbt//Ln0PB5vxXYA6ur0zMmDOt5sbyWsqgdn5q6c9zdu/vr7Yjt/AQC69ZmzR7G5utbqGQYAcg+ceff9t/3N367deJyOCecQgP6hs+fC1uK99Vy5rqMJJYsTOvXBJ2/C/HfXV5JyAg710xfO6Hu3Hlm/4moiUtpxIGs380uffRTe+/bnB+WEAQDdQxfO2oXbm96Eh2wZgLTjB4FOH62Fn35+aunrX1azMoDu/6pw5kR8ayGtVckYYxkASTndIKzNNpa+aX4593Gz1yxLZx9AweGj+cJCNlmRJDPMAABIWZrEUX3KW7wmX73x4cNet8SJPkBPHlHLi1nomyyzLCKAgEzW5FnaqM3e+Wnyi6s319ISJ6h4VxqVp0tR1TNJaiwzi7CwsDVpr/1swz8tP34P75wPSk5OYYGeqMUrG65n09yyFIYKgCCLiIgEx+//MHv64p3eaD0RAAA6ATWfgS9pZgp98QIRYZNsbUSTk7eud2ePuSVnDwCAXC9pJg7mOYtIIRcBEBBma9Nuh+vZjTuNk9VxAIe2NkVz3/5+rAuKiLVpL/aClXk+EqoxAG22UgXWsgjIjlwJiLBJIqhGf7cbYwBImEUWpdBvExfREGaT5h6sNf3QGfGhSCOnKSBb3qEfIADYGqP0xnMV6N36PsBmBoSH7m93AURArAUVb4qnRywokFYYQKTsuAkCiDCDsj07qi8AfeN3O7DTEmTLJT1YAwCIlb3EA1OKY14CELb9lJfoEAAQkcRqz6ajc4IKFyyUywGLRxEbv2oiM/IBFS4wQEkKBhAkpYwNJ+JuXm6B8EgFbDcASTmYwHS1szVqQZFGgbIa6HdMRHIcjirHdasz2tSKQpLxQxQRSbs6Tg+fSJ70RrNA44QDBxBJe57tuOcazaclnX0PAA70rq+6yYlXzcr6aAh2ARCHg2ZQANqrOHE7vDL9+J+tkr4+PF4IAoCAsm0HibRb8dKWvjzXXXxaNmG3AVBEgIYERCDluL6O1/nSW+7C/e4egwUAAEmsMCHJwB2lHMeFbhsvvle/u9AqHfFDACMpMsxEBAiIoEhpjWkvCi5enXow/zDec7gCAGpNkhshUgqJiAjFJglNv345ePDX/bII7gQAaUejyQwjERGiWGv1gVdeO2mWb6+WBmAXAEi7nhab5YYFAFH79WOnjrnry8vNaNwtaWeLQe36vqOEmZGcSq3RCHXv0erjTja+1Hf9JcfzKxXPdVzH811to/Vmq5Pucc8baXKotOP7vue6hDaLer04t3t1u5KBjUhaKUUg1pr+ZeOlAACAxf5/d9r9BQDwL5sVTlCJ5uFRAAAAAElFTkSuQmCC\",\"data:image/png;base64,iVBORw0KGgoAAAANSUhEUgAAAEAAAABACAAAAACPAi4CAAAESElEQVR4nO2Wy28cRRDGq/oxM/tevLZZ23GMgp0IoiRCIiQigkgRFzjxH3JA3HLgwCESEoccghCIGEeKUKIIxTgPr5+7szuv7q7isGt748yszQ0h12EOo/l+U193dVcBnMVZnMV/I/AUnyAiADAQ8L8HoJBaayWRrDXGEh1nTAag8sr1RqNW0mCSftjrRYk5hpgEQOk3Zs+dn5+uarBp3Nvf3tzc6kbWnRIgdH3u4uVLCxUXhf3YEFDa29p4sdmN3VgSqlAvg+mLH19fLu399Wy900tZlxuNWqvcrG9sDwyfDJDluY9u33x3+8Eva+v7qWNAHTRm52cayteb4RGhyIIoL9748qa3eu/+s77wPIlkjXGqPrc4w52/X/cPCQUZYDB/4+tPs3t3f94LZqu+ACJnsjja7W4tLtTaxpGdDPBa1776LPn+24fcbgVorXXEwtdBNOhE/XOl6dQSTQLI6sqdz+GHb1aDhabI4jRzxIBCiLIc9J/buaARm5GJXAD67eu3G/e+Wy0vNWx/kGSWmBGEUFJXIHkJM6Vq4lwxQNZWbl14cvdXf6lpemGSOSJgQBBGSRFQvClrgZ8OSzIPgHr66rXsx/vZhabrdWMz1AMAoVMKPRftCOErWwwonbvaXvvpZWsawjDOLBMwAAMyMpMSOg39qlKCigCy+t4K/bYmZrx+PzaOmIcJMDAygxDCDDRIRC4C1Jfmtn/v1OsuijNLzAxHNwFZicImsRYCAABEjgPVnK9sPDV1ncbGEY3rmZmIEGxqGbHAAupaS7x4JSqQGkuj5A+CAZwAJCNH73ItlKu2E2qPjCWGgxUABgAcLiewtVxYSCg9z4apFETER8mPnshACEAOuHAbAcFaBuAx/ZEHZGQAdlCYAZPNWAomLjjrDAzsYHiacnYBXNynamANCIFvMxiYAZhpaCEHwDbcc1MNm4CUmEsAABjpczOwvdfRbJv7TmuJB4hjIGYqBLDtbuxOvV8KE+lpiZh37x3q89cgXF8PPmxHXfZ9JREREABGqRw3lQegaONJdPGy2o1UyVdSjAiHXXK8MnMBnHUeP2/dOD/YsV55SMCj/yO84Sm3kOz+07WpKze3d1XTJ8iMI0Y+UB1W9AQAJS8eti/devVgi+o+SGHd8EwDADMDIpwAALP/pFVevBOtbmc1FQgzIjAzEaDEsQ6dD+Dk9R+lT1a+EI/2k4ovPOnIMRGRI5BSjE8aBY3FDdYVX1sWtUebO56nBBCTc86B0ArJ8RGgqDeiri9d+aCx8+fj9a5BRGQmQKk8xS4z7mQAoKrOLy/PUuf5RidMHAEKpbVElyXGEZwMAJSlqYXz7YoN9/Z6ceoYEdikcZqN6yeOOMKrvDMz3QzApkmaZVmWxHGcWPfGJTNxyEKpS9VqNdDINkuTOElSM76AJwIAUCjlaSWRyBpj3XH5aQZNFChw2BHeUp8+ci6ms/g/xT/cy2aMajxQjgAAAABJRU5ErkJggg==\",\"data:image/png;base64,iVBORw0KGgoAAAANSUhEUgAAAEAAAABACAAAAACPAi4CAAAEKklEQVR4nO2Wz28bVRDHZ+a93bUdO3Vs1U2atk7VBqVqpaoVUBAgIfXv5cAFoQLqgQMHkHqA0opSaN2E/GgSO/bau/t+zHCw49ip1w03Dpnj7nsffefHmxmAczu3c/t/GL7/BCIhArAIy38GICodhpHWwM4YY907jPkApQvlC0vVSjFAl8TdzlE3MX4aMQ+AQWlpefXKpWpRA/ss6e7vbu8e9o0/I0AVlq6sr1+tUhr3Ews60Jzsb7W2DxMnZwCgKi9v3N2oZduvWrtHiaOoXKvXi/Ztq7UX2xOCzgPoSvP+gxvy8slvrw8zBkGgqNK4srLQ1Gqnd0LIU6AXb3z6xbW9n3581pYoChSys5nF8kqzAXut3d7YixwFqrz22cOrL7953JJKpagQRNjbZNCL96+tLjSMG7i5ACysfPTw5vOvvn9brpUVO8sMiLocRvFB2l8t1FLLPA8QLN358tbrrx8d1C9GPs2M9wJIpKhIcb9ll6NK4kTyAVRqfnI/efTdQeOSzvqJ8cwAgKSUUiVId7BWKKV+DkDXbn+8+O2jf+orQT8eGMcMAghIpDRGPtmjUhRazgVQ4fK9mzs/PC8tF/pxP3MsAgIIwOi9otAP2kBhOkzETEDl+u3Ck5+zZsX0B5nzIiAAAoAgzAq1jcOCUpgL0NWba0e/vCnXMEmMZ5HjnAswAhChGRAQMQAAvXsfg/ra0ubTdKlgE+OZRUDGxt57IEkzQcQcBRjVLqtXm6pCmXGeAeCk8gWAARGcCY7lzgCE1brb6oQFsdYLjB0YBlIYUIAdST5Al0vmII20dxP+g4wRACDe5VciqlCbvlfkPU+JBwCQYezB05xKFGfICjDz8JBMhmFEkNG/WVkQnw28Jjeq1dNddPT1mD4L4OKuVEJrgQhndQyRISBXgensS30hS0XR+PYEZiRhjgumvZ01LrqYtT7RcErIeMjMAIA9fNO52NRdo4OARgV3iiDj/M6MQffVVnmj3u9BFGpCHDHw2KYCO0sBx29e2A/WoZ0GhVArRJwzPmYC0p3nW417y3HbhcVIK8Ipm3ZnZkdynT+vfXjnr6M2LUaCxnkZtgTAYQ4nnZgJ4GTr11rzwcGTA66EqKxl5tEVFgHCkxeS05Vd58VidPVz8/TQlINIacfMAiLMLKAI+D0uAKe7T6O7N3zwey8tRUoTe2ZmZi+kFUxO+JzJ5PubxLfW9OKz3SMVagJh9t4LBqESxxMu5OYnqKxurFd7f/+x2TaMACCAFIQBeZu5iQ1hznhfaKxdb6jO9vbbbmoZiIJAE9s0tZN7ztwF48Ly6qUKJb1unBgvAuzS5NT9uSsO6dJirV4tKrHGmCxLk0GSGMdTh+YuWUg6Ki2UigGxt1mappl1p3ass6x5WmsCYe/cVJM8GwBGj3D0gGcsmud2bgAA/wIk0GM5aJ67LQAAAABJRU5ErkJggg==\",\"data:image/png;base64,iVBORw0KGgoAAAANSUhEUgAAAEAAAABACAAAAACPAi4CAAAEN0lEQVR4nO2W328bRRDHZ2b37nyO4yS2EzepICpKSotaoYpCKwQqP1Re+Veh8AASqC9UQlWFyo+AQilC/ZG2+WEncXx3e7s7w8PZdRqdnRbxmHk53Wn2s9+Z2Z0bgBM7sRMDAMCXc0IAEAD5LwAkpRQRimfvmY8yjgEgqbBSjSuhRm9NmqbGeX4FAAVxvdGcq8chgs/Tg71udz8x/rCKSQDU8dzia0uNKrrcOhFg0+tsbnaT/JCICQAKZ5ZWVxYr6c7mzl7qMYhrtYr0N59u7mX+uZcev77SWnn73Gzv7z//edYzXpDCeKY1P7MQRbqbumMVUNy+ePW8vnf7l0cHTIpQ2DNGc4vtWra50UmHGsYpwKh96ZML5sfvf+2quBIQgLC3Jn/S3TrdmHWeM54IwLB58fp7yQ83/rD1WojMzECkozwzj/unW7W53OcyCaCmVz/6UL79Yk2fqqG11rEAEFJAKu24vDlVz72bAMBo6crHzW++XIvaUz5LjWMGACRSFGK6DzIdxznzeICeOX/t7M9f3w2Wpm2aZM6LwICgVJT1CMJKYscDMFy8/I69ecu+PmeTfuY8F9cImZiJAtMLZnVYnEgqA9DUmcvz6zefteYpTYzzLCwiIizeWcek3EGftcKxCvTsm+f87d+ChahXrJfRRWYQUt4kiDQWgEHz7PzWne1G3afGehmtFwARESDOAiRiKQ8Bw9ayerjuZ4M8sywvNBIRYRYEawZHsVRB2FyAB0/CGubWs8hoewCEQg47EoQxScSgPi0b+2HoiwM02Hr4EBYAGZa2FKDj0O3mgWI32n8URAHjQWcqPwfALmUU5mL5EUbxzcNYBcDOoyYRLL3sRRKG9DKA+NyHjdCKDhQhAOBREQIAgwZdCrC9Pp2ezq0KFJWoKEKQ8UmUvLsDy6dsH6NQEeJAxBEnmaAg334gy+do10aVYCjhsBIBkGFdy0PYvtdpvdvs9lQcacJCAxRPHLwOy1taBbe7fk9dvZA/M5VqFBCOIhjqGOW0vIz9+3d65z9d2N6RuBpqRYNEjPbHyQAxG7fvxtffp8e7VK1GWhEiEhEREg1IQ9/yluZ2124urnz+8KfH7TgWMm5QdAQQEUB8noIxAMke3mp/duVRf32jEUdIdngpRFiACEd/+TFt3e+vf1e5fO3gq/Wn01UdkPZcdALvQWk6NCWMAUi+dVebtz6A2u97/SgkRARh77xQEBDzsQpAsid38u7qpXh+7WmSECGIMIMKogDdsBcM0jLGKG6tXHwj7tz/61EnsQyASgdRqLzJMjcaEI6ZD84sN3B/e6vTM1ZQaUJvksTYlxswAHU8u9BuTSlr0ix3zjmTJv00d4enpONmpEqtXq9FGryzxiRpkhn3woh07JSGWkdRGBCKt7nNrWc+4jEZAABIqAhRRHjYI18NMHIqmVNP7MT+J/sXaApca2L07B8AAAAASUVORK5CYII=\",\"data:image/png;base64,iVBORw0KGgoAAAANSUhEUgAAAEAAAABACAAAAACPAi4CAAAEPElEQVR4nO2W328bRRDHZ2Z378527MRO4jQ/SihQoC0tICHUCkpFxf/KEw+88AhVKyFAFaX8kCgoVZqmbZKmju3avru93Rkezkmc1JcExGPm8XTz2ZnZme8swKmd2qn9L4Yn/kv+IwARiQgBmJnlVcoxAFQ6iEqR0eCzJE3SzB9mHAlAFVbq0zONakmLjbvt1k6nlzg+MUAFteZr5842J4z4LLNJr7X17Nl2N/GjQRQDUFeab156d6GUtl+0+1Z0GGrX3Xi8vt3P+AQANJPL7390vtxaebC62Uk8mcrUTHNSdZ882ujYfYIu8g/q569dW3r504+/Pek5RBQRVWosLjXmlcL2PqEgAjT1Czeuz6x8e2dlYMqRIWBnk9SHM8uLUXvtacfu1qEgAlV968bN+i9f33kenqkGJMzC7NJB/0mntTzRtI6dHAWg0tmrn83e/fLOYHq6DC51TgQQAxX0eg/j5YlGbNkfAUAzc/nT137/6na6MG1snFrnBYBIKVOl+CkvhbVBxlIMoMrrH1/Y+uZ2sjBLcT+2jhkEEUkrVZJ4k+bC8sD5YoCZvviB/v679pkm9XoD6zk/DdFpTaG3z00tCtP84zgARYuXl1ZurdaauvdyYB3LcACQ2WsKfNxSFGhXCFDV5Xfw3q8yW0ry+GV3lkVENOq0F1WUwqIUUE+eW2jd26xNcpz7C+zJAQMQUdbXSOQBAGhcCRpnJx7/7SaNja3P/fMcRITZs5AkiSfEogiC+hyuPdMVtNblldobPwEGIABnobiR0NQms42XQciZYxGRg2omDICc0REAXS7ZHRspdqMalt8k5PmIU1wMIK1cygp9nj6MZCGAAowA7KS4E0W8F8hj341gvwoIAgLCkocw5haEU6si5RkRx427gACwH8rrOIDr93U9zBwpwlcVQ/I7Hbb3WIDt7NBcLU3AaMIh4hXMbn3HAnY23OIZ3xNjNEHeLyOE3Z6CQoDbWevMvx12UxOa/Sz2CJj7FwPAdVfXq5fn+22JIqP2SolDgwN7chzA99YepBevmBd9HUVGEeJuHnA4mvEASTf+WG1eeyPetmG5FGhFtHs6DUdonzBWkVz7wf3GlU9ePKdGwECZZz7QUTiSw1gAJ+s/N9+7vn2r5acMKpvtiZKwCBCOzNd4Wc86f01FSzfTH9q2FhpSLpcFZmFBRcLHrTZJN++HV5e+MHc3k3KkSZNnZs+OQWklo+u5YDP5wTr5D+c+n7r3qNc3mkDEs2dQOqCDU164nfXEwoVL8/bRnw+3+lmuBaQCo9HZ1J1kvYMuzS6fX4wGG0+3dvrWCymtFbg0SYc6dxwAKKw1F+frJut3e3HqPHtnkzi22YE3zlFPHNRhtd6Yqhhw1qZpEseDOM38yd9IAKRNVC5FhsRnNklT69y/eqUBAJLSShEI87AZDv9wDAAAhtN4WN5P7dRG7B+mgGrIoRe1mgAAAABJRU5ErkJggg==\",\"data:image/png;base64,iVBORw0KGgoAAAANSUhEUgAAAEAAAABACAAAAACPAi4CAAAEJElEQVR4nO2WW28bRRTHz2V2Zi+245TWTpq0DaqKaFWIBCpFhYIqBAIh9QPAExLfkGteeEBtX5CgtFyiiEJpm7hpkzh2bG92vTOnDzaJs/amiEeU82DNevb85j//PWd2AY4CD51EBBQQkf8EQEQiQgSxzhYy1PMUsmJyNu1n7l8rQASRwRQistJGk43jxE4UMQZAQhAHezcjsg5LPvR2uv1JIvIAYgLnnAznEEAAVFitqt5WO5lAyHnASoEd5gMAAiKCZO3U1Y77qrk7TjgIYE9TP3MyWFhQUBAIVRavy6njHmwmYz4cAJAXqLRvgYYWCAA4BGbmdF2drUvWTPMAGvXDC3xM+0ADAQOEiLOO/CBrNHhuJuTDAGwiL02BR40dECyYIF3dqJx6QY+5PjLUkW93LdOwDvYJNrMY+O1Hu/XZiA4B+CW1mxLjwbIVEHGZ5ZCfrAfzx7xCAHpRaHdF0YTeEZc5HcSNtHYiyEnYvyRT0mlCakJxizhnMaSNVqWe38MIwI84sYphYuM5K9p0Nr1aOVd6+wD2Q0hA5U0aPFERJ+xn23CskpO4dz+yH0CGPL6DwT/iSEPHlgsVIPsGHE0A/CMDPUwkCosUAHmGBYhw2IVjMojRoa8LTURlNCIR5gjDERIhkNF5ifsAAR0oQSbEkTxAAEBERGYQv8TWFQDEOVXynTAT4iBr7wcAkT3OZGpK8ifbvgKXYrUilj0ebGJwqsNwwJ6mhGaOJd2sSEEW96s1TlHvE4bZAEjKGNeLzpZbrX6RAtvthKfLu1YbRYSwtzoAEikd6jieO8+PW0UKwPY23Zl51+PA92iAQEQEJCLWUShNXjzXetC2RQCJn7bqFys7iQl9j3EkiE1UNu3t01en7//dlUJAuvkIXn3ZNV1UCrQaPA0kIuX5pakofuxfu9S620gLAWDb9xszVxc6W1CqRL6nmJmZlafDynQ5XY0vX6/e+bWZs2D0VJZ4bXl+sf1FA2tl00tS6wSAWJmoZOKHzcVPF3+/dT/O9/pob9ntlfq71+zXDVuL/DTpZw6QPRP40H7YfuXzDza+u72Vs/AgQJLGT9W3Po6+udc7MR1GzgogKyW9jXW48tlHO0vfP3rOi8V1/zLmyvWTSz+ublUrgUcIrt/abiYz733y5sZX3650xl9tud5S1Zfeebu+euPmSku0UeT6SZ9PvPbh+3N/fLn023bewXEAqMrCpavn9YOf7/z5ZKcvZKbmLrxx+Uzvh6Ub93Ym5I+fHBzWz196/cWw+2R9s+PM1Oz8XKm7fOvmL414zMCJACCvcvLcxQsLtdBDYpLe03t3by+vtfMVVAgAYF06PntqbmY68myvuf7wwdpGJ524fAEAgJQJSlFgyCVxtxMnRV9YhQAARCIiFOecO+wz8SiO4iiO4v8UzwDl6rxq6pn03QAAAABJRU5ErkJggg==\",\"data:image/png;base64,iVBORw0KGgoAAAANSUhEUgAAAEAAAABACAAAAACPAi4CAAAEQElEQVR4nO2W228UdRTHz+U3v5md2dltt7S01XJJIUJARTEaQkiQEJU3/gA1wfiv+Uw0vhkQjQ8qxCDiLQRabtsLbdluu7tz+/2OD7u029mdSnzyoedlJzs5n5zrdw7AnuGuLxEBQEDkvwEIiQgRrLWmkKF2YyMiMTOKSdLMvjQAAQUEAMSKNaxQazJxO86GBjGQAiKiSC9iFARk7ZdL2Gm2EvMSAGRCsUZ6rxBABJU/UtOd1UY0hJBLgdhBm1kAFBDslgEkayZ2ap/vrLYHCTsBpDTb1FhEAABBQQAgUiZalMMTHi23B0q5A4DK0zbOLGK3BAIgiICsOFlSwRSZLM5XUu3096GVWup1oRsEWEDlqXbdHzmQRGtpDkD9ALfsmdhy/38CItYYcIPs0VPv8KRHxQB0gjJGKfGOzgiI2CzDkt+aWx8/UM0PTh+AvNBLI1AI0j+4AmKtySjQzx7zzISLRQBUQYXamWIcnDgxmXWC5FFzbCrI5dAH0KGfRejQsL0Rk0JJry6Wpir5ydl+ckMvSVgBQJ4gItYYx4uWzPiIg0WAUkVFVjG8GOOdCGupJGudsKoLAMhegKkowqEiIdaIQ5udoFIcgetRhirf5+0YQHGceEExQHssQNTdgyFBEJFF7RUWEZXrvhCxfkIvJSRiQEdzHrsdI7qBFlSEXS3tEno0RGIG0aGXb9E2wBpVDcCyYsSemCBuxUDsOJAFYzrNKdsWQGycVWqYkVYE2449ELLjOqmdmIZWWgAA04nL014s2mHCviL2xNn1uc2z01EjLgLYdkMdHIsT5TqMhL1KbPkHpWyjdmpsZbUwAtteiV6dpU3wPId7dez9EOugotejE+/h47yi9AGi5eXqG+Obbe17DhNSNwokItZBJWgv1T44tnivYYoAkK7OxSdOqbXUL/taKermQcRKByNVU4/OXnLu3G8VthHsxtyDyrlj0YotV8OS4yhmZmbleOHoKNaXjn9y8u+f60kO0DeYEi/dnXntw405mgzdTifJrAggKccPy1J/OH3l0vNvf13P63r/ZJvmvf37ziZfzpvp0E+iJDMCqLTnO8nThcnPP1XXrj/ZVdYhWb5dO/+R/9VfDyb3haHNjAVkpvTZwsbslc9q167+vjHwYdm5dVw5euH96i9f//Q8GBsJFIuYLGqurfvvfnw5+P6L7+px3j+/tqpy9PyFQws3btxtoFfSZJMoyoKjFy+/3bp+9cf6QAKDe6/CQ2cuvuU/vHnzz4WN2KLjj8+ePvNmcP/aN3eW8x0YBgD2J18/e+54af3p43ojomD8lZlxenLrh1vz60MvjEHlIac6c/Kd00dqDCCCEK/N/3H7t/nVYcfBUAAAu9X9B4/MzowGlLZWFubnHi02Oqbgyhp+pbFTKlcqYYlMtNlsbnbSIvfiMw+JmRjFGmPsLmfivxjueofu2Z7t2Z79z+wfQ8bH85DZaxkAAAAASUVORK5CYII=\",\"data:image/png;base64,iVBORw0KGgoAAAANSUhEUgAAAEAAAABACAAAAACPAi4CAAAEEUlEQVR4nO2Wy28cRRCH69HT89qJH7uOY4dIThRwIBATEYIgl4iDzyAu/LFRFJEgEyRQEhCPvC0/Fsf2rtfeh3emu4vD2snu7M4GcYxchznMVH/9q+qa6gJ45w3xbQ7jVyMCgIjI/wIgIRIhijjrXIGTGqdAAESYmcSkmR2tYoQCRBCQ469ESvs+ms5h6kYhhgCIiOKgzxfZjxPfNA86o0TkQ0BGdG8EIACIsZmpJKWg1jLDhByAmMENJAwRwWV7jmYi71UzewuAlEJjHWBPwpEOYjENp+bmwTXtWAAqzcbavsQICjgkpdKD9WDubJZ18kHQwHrfx8wC9WVWRMRZ4VA11g4m5055eQX9ANKBMgYYof8QRJwzwhHvbthKJaBiAKowlNTR0MmKc8apyP2zE55O8sfWByA/9jJDjDBU+s4a0X6raspTOsd/A0AVRZA6zmvsRWEtBrC7F5UjLgR4UWBTUgi5/QUAxFnxdLvOUzEVAUjHOrPMo/5PEbGOtWm4qcQbdOhTEMSUiSKAUb+YiAONLVs6VQhgHbKBkSnoPdCjriuVcpXw2h9Ja3RIvVMc2OXoDSm2EMfFISitAAiP+tiAISAQKwKdRLkk9dUF6oABqbcc5c3i3v6kUDiOigtJREW+ADMi4GAQiIikPHDBVIi5KnsNEGchjMAR85EGhOOWAoDE2nN24rTumiIFLrXJNBv0mI6WYU8LICCS53NX5ubsQVqgANxhx5+NUud5TAOJREBEpbVrBRfL+/UxgAOcmzGpCjQT4lEIiAiIyF6oO83Zj/1qLSsCSLfenr3gt1wYakWIvRAAEJFYh6GrwZVL+8/qhTmQrL4dXH6v2+Q48hVTryKQkJh1VPIae2e/nHj2/CB3RfUdq9nf+GDh2u5eOEFEqXEC0ssfe1EpbL/yb1zde7hxKIUAOay+OHu99sO2lyjV6RonAIBESgdx0Kl2v1ou3futlotgoCtn9Sfnri63f67KxKTfIyCx54cBNTebV755/+lPL9v5ZtUPkM76o9nF79T9jXQ6DtPMiDB72lfZbjVb+v6LrXu/18ffC7bxVyn5JJm6W90vJ0EEgMwsWX27Ft/49rOdO/er3aG7bQAg6fYDTZcq528/XgtKUeCxdWmr0VSLXy9fWL11d3UogKHeg+GZpZtL6vHKr6sNS4xgHSULn9/8lB/dWnnRGgpguHmRLi9ev3YuW//76UatYzmuLFxeuhiu/Xjn4WZ71JQy3DtUMv/h0kfzftZqpuhPlqdLZvPByi/Pa+nIKWdEDyZ/4szCxfPzlVNRoDjd23jyx58vd9v/fcQBJB1Nlmcqk0mA6f7u1tZO43DEaFEMAABiT/vaY7FZ9zA1I6ejsQA4HhIFxg2JJ3ZiJ3Zi75b9C3FVtRI/ovGaAAAAAElFTkSuQmCC\",\"data:image/png;base64,iVBORw0KGgoAAAANSUhEUgAAAEAAAABACAAAAACPAi4CAAAD2klEQVR4nO2Wy28URxDG66vumZ6ZXePFsBiDhSAJMgoIgaIoURQh5ZQ/O7nlkIdEApFCIpEEDNgBr727np1Hd1UOXsCzO2NLOeXguq126tdfVXc9iM4Mp/0NIlLS/wgAGABURbSDYU/2B5gNM6n3XloRrYAj2USkFITVmshSXZa1dHzbcq4eOw5sXZZaf3hYhmURywBmhsgcgCMdHPcHmUz2c79EWAqBraVwzB8gqBbeDwdp/Hq6RFgEmCjiOoiClIiUoAQwJBwEXFpnmviTAWydrX14H5lCSYHI1tMXduOy+DycBIBNXahqAt5duxKJEoypDrfT9fWiXrjNJsC4FHlFjOPPRokCsU10vN0b5LlvBsGNH1HmfCnMC49XVXwwKb/Z0QuDGN0Ak2Qoa2PQVKlHBJv4nf30fMKdANgs8QUZLBePigSN7fS1nOs1oz4OYNczVc0GukBQUpUQ4MLeYdq36AIYl6JUy61FoxLI8nTCWdzM27EITJpqTQbL1a+kKiJsqqkmcZcC2NSJZ9N2PhGpCFmZ+bg7BJs4EjZM7aZKTJVY2xkCxzEUDGCpSo+6A0Ci3HmNKr70RKIt3QtEBBDRnN8eAglbKBa+eOdPzEQ2QpN/HCDCzqiCFwEgAsAMQRKrdAE0eM6cqGEABGCeiHlKYCwCrySh7lQQSu33NbA1fBTvu1SCwCay6pO1uGr21oaCol5ZMzXiyLxNxNv7ALONbR0GQ86rbgVF7jZW6hC5yPIcAczHQ+RindnNtXLSDZBiLFc2kSNNImPwXgVgbJzYorz4Qbo/9p0ArfbHg1vDYmb7mTtKBAAQ2FiXuXrstq7Ndg+bTbHxDvxkt/7obu+gcOf6aWwN83y4RUmWhJH/8G6ysztrzqdGd5B85+XGZ/n3r+25yOVVHUSIiI11Sezf5Nc+33z252ihrzfbi997evXO1/TDSxmsuKKovQjI2Dg2xSi/+uD2wZMXCwIWADJ7/ni41et992J2IY2SuvaiMAYyGcuNB/fKX3/fP2Ww+PGT3srHwyvfPhuv9p01QVSkKvKqt/XFVvHzo91ysdCWnr1bv//V3fDTNw//CXFsoeJ9penGnXuX9355+HxxLrVMZ7jh7S8/vbD78MffXk1rVXDcv3T95qbZfvTk1WzJv2W8I169cf+Tm9n+30+330w9JytrF1d59Ncfz0Zly4bRtiPZdHj91tbVTGfTw9ILSTHaef5yr2U56AAQomxwaWP9fMbiy3x6sLc3msx824LTuaXBRmmWuRjqy6KYVXVodz9pzWNmZqiKiHZ5n26n7KFndmZndmb/K/sXAN3cC2iYmQ8AAAAASUVORK5CYII=\",\"data:image/png;base64,iVBORw0KGgoAAAANSUhEUgAAAEAAAABACAAAAACPAi4CAAAED0lEQVR4nO2WS28cRRSF762q7pnpeTv22BnbeQpLUYJIBAmgoEgskPibLGHNgkQgseG1ABQRLEgCiRISOx7P29M91VX3Xhbj9zwcWGXh08vu+nT69KnqC3CqU53qVG+K8ITbiAgIIiLy3wGIWgeBMQhEznmiSYzpAFQmky+WS4Ws4TTud3uDJCV+fYAyuUptZXWlVo4UDbvNzRcvN1s7dszFNIDOVOprV69cWog0kXcu7mw+efT4eXPgjpmYDEAdLa69e+vqou42ttoxBVGxYJKNhw8evuimdORRM3G9KSxfv3P7Ej5/8NujjY6VsLiwcvHcmRvVcu5Je8gnAnR+9dYnHy1u/PDtz0+7qSAIBqX62ttvLZtA/dWyfAJA5+rvfXqn+OuX99Z7JqqGWvwwaTf//uPG9aUr3vlOKjMBGM5f/fh27rvP7z03S9V8iCDk7U63/3tj6+bq5UGckp8JMMWLH36Q/+mzr7YrS9VQyJMAZsN8t/Xqx+T95XPtfso8A6AytWs3F9a/uLtdWy6BHVpHgloHumKa3fsKKvVGPz0o9jhAF869c6Fx9+vG/ErRD+LEeQbQOgjD3Bx31/PXyrVGTNMBGFQvr+lfvnlWrBfS/k6SEgkAKhNkw7Dstv8s1yvl9sGHGAOozPzF2tb361Arun4vTj2LACCSJwrDQnvzaSFTzA72LYwDcrUV8/h+u1yGuB9bzywAAMgsIkEmjF8uzkVZjdMAqKP5avzwqZRCO0hSTywgAIAoAAiYsZ3tyGT0/hYYc6Bz5VznSSuMxFrniXfzFkEApYxWSfsMGA3TAKgyEbZeDbOGbOpZZGQAAIDRK0TldwYG1b4DNZaBCajXI4Pejd5/b70IE3lRbBM3s8ooLrGCQsQMInsIHCEAwFmkGQAhZ52gEO653w0BBYQZBCRV7oAw9gri4iGE6MfOLhlZYBBvHU9totCwN9B549LMoaT277IIKuL0AD/mgJJ2V1Vy6ZCVwiMEGTlQ6O0MgHDSaspcmeMUtVbHCcyg0Q/TGRnQsLmZVJeCeMhaj5lgRo3ucAbjIdr2i1a0XHU7KRqjFB5CiLBoxdb6g4THAb638dKfXckMBl4dIwgLKvSpoxkAoGTrWTN/fkkNYkI9IuwhBJQSl/qZTRTX/SdaXbiQbA8oQKURhEdtEgBEID7SkQmHKiWNjJ6rJ9xOXICAihXD7v5HIGA+3LEJAHH9DeWKZ0m3U68RD48GIiJH1k/8sXDaRapFNQw7CQnC/o4UFIZjk8bEXxvZDg3nohJme7ElERhBRtcxTQQAWXZxKadLJpdYR3LkYHkdAJBQGueyBkLQznuio8mdDAAWdnEYGNzNbOqUNWPIQqWUVgjCzMz/Z0oDhFEJpydwqjdD/wKxpm7J4ch3ggAAAABJRU5ErkJggg==\",\"data:image/png;base64,iVBORw0KGgoAAAANSUhEUgAAAEAAAABACAAAAACPAi4CAAAECklEQVR4nO2W2VMbRxDGu2dmL3SDEJdlA1UcLsdxObjy5+clcR6SsiuxXT4CxoCriAEhKTr2mpnuPGwAwUoKSeUhD/TrTv/265mebxrgLu7iLu7iPwq83Qr+lwBEIVAAEhMx/WMASuV5vucIsGkcJ9rQGCGTAUK6hfJsvV4teJz0O2etdi/SecQkAAqvOHtvdb25NFd0UffaR5/2Dn7vhOZmIRMAqGZm728+3GzWAoEgHMHDk903b3477iV0GwA6paXNx4+ahaTTag9SVZhbbJT55O2LVwft2F5bqsbmu+XmV99slFo/73487sZGuOXG2vbW8rYfuHut64RxCtAprz7ZeWD2fnl91LNCCrAWgsbWzqPq2asXe+fXqhinQBZWHj9rdl8+/9CVhVLgKTDxoHd4vPt0Z2VtGOuO5qkA4TcePl1pPf/+o63Uyr4jEZnSQae93z79trnS6cfWTgOgU1n/erX/43cHcqEWCIoYUAhZcv1W92X8bGmp1UtHisgDRLC0vQG//nCg5qsq1doSoJCOUkXAP96JJ6X5s4GeAkCnsrpV/fDTPtYrGMWpsQyIQjqu61TMYDfYmKmdR5YnA7z6+oP09ftkviqjMDaWGS4Iqph2PxXrxUIvnQyQweJ66d3b1kxVxWGUWgIGBARhjHFV0Gsd+86MI2kSAGVpcRkPDm0loCRJDTEDMgAQEbF0nOhsdsZzBfIkgCou1sKjtltUYaotEQMwICMzA7iodK+rpCOu9vxmCao46/dO4iAAY7J0BiBmJrLGsMRkkKAUlx2cVxCUnH6XPMXGEgBzZmcMQIBGIdoopZELkAMIx8UoBIWWmDlLRgZAACYiRtIp8BUhVwJKhcQgLj4gIDAAMDAwEQNbPeoquWNkq60QQBetwleOzMDMDGzQTu5EtlE/kj6kOkdGYCBiAZZHADdLYDNsD72yjFNGzD0JTJYF2nTEXHMKdP+06875cSSEwJt2w0AghU01XwJyCuzg5BQbVTNIUUqB1z2LiVCCTsyVIeROwQ6/fI4ay84gJCVviGC2LCSkieHJAIrPDluF+7W0n4BSQuCoBGKUwiTaTgOknaPPdqXpDwcGpRrdCWZmIcGkelofgA2/7HuFtfbRkDyUbIAA/joLZhRoaVTAGAAl7UP/Xn0tOg2tgyiyP2PWjYis7Wj+OFe24YnLcwshn8daCUBkyO4zACIbJvobAOv+MSelBVLnSSIQsxuZJfHlDZsCAEq6rOcLNXa6oRl9xxg4N6yMf1ylU6xWA4j7vTA1lKXx+DlnwvMulF8sBJKSJEmMtUxMN6RPKwEASJMOfVchKpDGWKBJg9aUEUcopaQAIrLWEo0XMG3IQkSRHUJ+728FgMzPADJnvov/cfwJ+hZTZWMnHNMAAAAASUVORK5CYII=\",\"data:image/png;base64,iVBORw0KGgoAAAANSUhEUgAAAEAAAABACAAAAACPAi4CAAAEGElEQVR4nO2W22/UVRDHZ875XXb720vvFAqFQg0BLCb4oIkxGqM++IcajQ8affLBhBejD0RIRIgKtgJ1KV122/5uey4z48N229LtLukbD53k9/Q78znfmTMz5wCc2qmd2qm9KYav+48ICCAiICcHoNJBEASITN57Yj4ZAHVUTeqNWjUA18vSNC8tDSNGAlBHtZmz588vTCWh9NLOZuu/zU5m/NFARgFUmMwtX7vx1uJkBOSdybdb/z56/LSd2SMiRgBUPHXx5nvvLtdcd6uTWhVPVHXZevTgz2fbhl5ZGRzvX5m7+sHH7zTTu78/fLKVU5BMn1tabK5ONifWXpb0WoCqzK9+8vlVunv75wfPcw+CGNbPrFy/MrMaKGj36DUAjKavf/rFSvun73/ZcHEtDoBsr9v+58HbNxcve+87hscDgvqVDz+78uTbb+6V9cVGRaOQN8VO+nf7+a3lxSw35GQcQFXO3fpo5elXX/6hL8wliohYVDWeqHW69/Ly0sJ2aojGADCcXHn/2vYPX9+vXJiNfN6zxKC01nUd7PwFvDDfTi3LGEBlYXVV3/7ufrw0p/O8NJ4ElAqiMJqUnccVXZ3ZyjyNBuja0o35tR9/47OzmO4WxjEDgNI2jHXN5Wv15Vqz09uXMATAcPLSJXfn1+78rMp3sp4nEQFA5T1Fumq6TxtJUs38SAUYT1+Y2ryzHs1EvTTr2b4/ADOzhGEl33qxGFcCHKlAxVPzev1hOpVwURhLLAIggH2OClXeaaooUDwa0Gya9Q1JtC2NYxYRAEEBYA8YKu1380qg93voKABVmMR5a0fHYIwjlv7O/Y9IgXJlrkHhIAY1lIMgVnm3pwN2nmTgLwICwkSM4Hr20FA4phKp5JSUOE+yd1gC/SiEGQHIOhpTyuJ2WpALWxwEsLdYEIQZBYScP+imoRDEG8OhZj88/gSAmQHIOZKBhqMAYVcUMBGRFVSIR/xFmEGJswcxDCuw6a40amwI1RECCAgLKrH2QN8QgO1uxzZndGkx0Ar3EIM8MLPSYg9147ACt/siSxYSU5AOtBpI2CeAVmTcwTw4JonZZjs4NweZgeCQhr48ZtTgrBujAKjY2ihmLzZMZjHQSiEgQJ8iIqAVWzuuDkBM99nk7NJmmUMFg34N79UTCiAC+UMCjgP4rNUIm5ezjZwiVFqABykQAIVMROOnMpvOk+js/GX/ovQhihLFMEAgiJdDARw/1n2xqXn6jMO28UqhHF4vg/4cBxCXtqTXmOboZe4J4eAQUeBV91GXq4rq07M1ybrbuaH9jB37RBl1O4fVRiPRrsgL2+/Koa3HhAAAbNkVE5UAIgicI+qPxhMAQDy7MgoDFJZ+EZ38kYVKKa0QhJlZeISC8a806HfC6Efeqb0Z9j/ABnlX05ouGAAAAABJRU5ErkJggg==\",\"data:image/png;base64,iVBORw0KGgoAAAANSUhEUgAAAEAAAABACAAAAACPAi4CAAAEFklEQVR4nO2Wy28cRRCHq7pnZ2bf9q7tjR3bxIkVZBLLB0CKuBCE+G+RuJCIA4gLghNSUBQQwYRkHXvteB/ex7z6UcVh1hubnV2HWw6umctopr+qqar+VQNc27Vd27W9L4ZXvEZEQGAGAv7/ACFlLudIwWSMMYY4gzEHIBy/UKmWC66wKg5GozBShqYQMwGY86uN9c21elHaJBoNeu3T094gNvSOAOFV1u7u3rtVc9RoFCZKJ8P2UfPgdJBYfheAzC9tf/LZ3iq2D5qtXsy5UqXkxsf7f71qR+YSwcleX2jc//zhjnv426+/H3QjK7zK8ubWzTvLS+Xnx8ElQiZA5Bt7X3251f/xh1/+7mlGAEZ3YfOj3Y37+Ry0AnMFQHi1nS8erv753eMnPVmo5QRZncQn7Wbz051bpLWN7HyALN9+8KD25JtH+7hcLzpsrCGjwuHJoDPYXb07jC9WMwMg8zd2P1569vW3zdJa3WOllCGUxULp7OwPldxb+aAbGjMHgE719t764aPHzepGTagoSrQBdFy34DidfcStpUYvelvLDIC//OEd9fP3r0o3FygIokQbApSu5ztV6v5TcCqLlb62swGyuL5dffHTc6dRNkEQKmMtAwprjJ8rqcGLyrZf9qNJFqYAmKturCdPn0aNCo+GkTKWmAGJiMgT+WjwslT2PWlmAoS7eLPafnbsVWU0ChNDxAyMyExEOemNOi2Urpx08HQE3uKKc/QyruUpipWxzMzAAMzMTNIRYbcMjpxdBeFVq7Z1CgWplTKWGNILgADAAWmGQx/FzAhQuMV80hlKD422NHYPwMDIgADISSgY5/yCdGUy1I5kS8QMkN4AyEBWIIBOPAJAngEARDIJITKda0f6KSMzEwKw1nNbmYwCALbj9PFETBnTJyZjeSKPYnp9GFrXsamX8/jPQ2FmQLDm7Xb8L4BZDfu24NvEAE7LFRODAHthO05HkJy1ValMkQaBiKnojQNGACaUYLSdB+idjIp1J4pICETAVDbHiSTLQl7K4hSAVb/V8RrlJDQoJYpz1+McEEhB2syJgM2wdaRXlmUQsXQckfYcjtuJWEjUSs8tY/Tmdb603u4GICUxpFMx/Q9mEMKSsnMB6ux1qd5YiyLwpQSAyVxlZBACrLlCE234poD5jeAwJlcKCQCEPN4QiEjWXBxOGQBS/SPnRnXTniTWkQiIgiatD0REF+djlqxT3BVUXzTyNEyEQOAL/cgW+NJ8zQKwCYD1QgXczkgZwEkXAPLl3p4BADYh66jiLbn9UayJzquYdUjJHq6s2SZByfXRi+JUVznreDITAGzIxKO8K4SHUmtrbfbymQBgyyYJcjkBlAobzIhgzhkJUQghEZiIOPOAdQUAADDdizzL/bW9J/YvvQ59xrVlPCoAAAAASUVORK5CYII=\",\"data:image/png;base64,iVBORw0KGgoAAAANSUhEUgAAAEAAAABACAAAAACPAi4CAAADm0lEQVR4nO2WzW8bVRDAZ+a9/fI6aztucKO00LQpShQaQJGoUDggceHrhkAIiT+BP4B/qBeE1DMnOLaKWpVEaYHWSQiEEtL4K7bXu++94WAndpPdTdoLEvIcVzu/N98zAGP5Hwie7xd+WQCSIAIwxrBJhmQChHQcR6DRKlZK6USETFcn2w8mXIijXmQEAKI25kUA0i9XAjisNzuRNowAgIinbUgDoFW6NOM1dp8248GzCAnqqTFA+8LcFdx6vBeTIGA2zMyACdlIscC6sPh6tPawIX3BxujBO+cPoiwtLOl7P3d9l5XWmhn4SBtPcCjRgdzsm/n1B2Exj3EUK2OMYQbuKyLhmQD74tJM9X63lDNhFGtjGJj76giMJOgMAPnX5g/vPSv6uherkbePCFJgNkBOLRQfVb0C9yI94n0fgAxCjmglANC5NNfZCEsyirThk5FHNmTJoQlJAP/VV3Z3XF9HyjCcCDoSGrCsoVoCgILL7k4rL2PFCalHYiOzASKo8FOdQ5VgPwASGOkMw5gEyJd0Ax0wSe2LSMDCHgYhoRLRzeseycTCRUBEkCSOvyQByCJA4tN9hv06RDlSSgkA1pDzDEgxqNnjLkYAJAIQDmSm0YS9wqRRUhIiIhy3PAIgkgC2PcFZAN2qF65QVzqSsK+N2EchkhAMvgcmE9DYtd8ImpxzBCGOWItIwiIlS16sOANgmtXDt+aa3Zw/IAxCgYjCtkw8MUVhJoDbj6vX3rf2MPBtQYg4cAFJ2o7o4XS511ZZLkD0+6r55MY/tVzRd6SggTYKaXtO3J286tQ7wxgkjTS9f2flnS83t90AqH3UkUjS8uyoac/P/P0szMwCcOfhD7UvPocnncLU5IRnW5Zl2Y7nBzldMws34M/a0IPkoar2frr61Tet73+ZLTp+J4wNI0nbgva+XlzJr/0x4kHKVA5/u13+9Fv/u0eVip+LlWJAMmGt7rz9XnHj11ED0haLKL/79Yf1W7c2sFh0JbCOuq0mT99cdtbvbo0akLqdZXn5s48n7t7+cbNDFoFWxqksLr/Wur+63X5uxaaud1GY/+CjxXjjzoOtgy7bwcXZ69O6urr2V+f5FZ1+H5A3vbRyc9Y93D9oKeG51NxeW9+s9U6MiYwDA2W+Mrdw/XLJwbjb2Nt5Ut056OpTf6UDAFC6Qalc8i0TNmsHjXZPn55SZx1ZJKQUBForlXSfnFPwHLfcWMYylrH89/IvL+qDuCk3PfAAAAAASUVORK5CYII=\",\"data:image/png;base64,iVBORw0KGgoAAAANSUhEUgAAAEAAAABACAAAAACPAi4CAAADmElEQVR4nO2W308cVRTHz/f+mJmd2V3Kj5alQGsxLVaISJsaSZpoYkx88UFj4pv/mE8+++qrmpgmNgRbtbR9gGKwUAqFwsJsd3bm3nt8ANwFZqeNTz7s93m+n/mec889M0Q99USE1z4AAjEx8X8BCKGkArGz1jmXiygCCB2EoYYzmcmMMSYXobraoaL+oYpIGo00Nc5BkqUcQleA8AfGL5biza160zgmAMTAWUC3EkQ4MjnuVpefNx1ATMwEEL9xAhFemnmrvvh4D1oSO8fMnOPuCkAwduvq1t1HaeiztdYdm9+4ifr8+1Mv7zzAoDJpZhxz23u6kFyAqFyfpbuLckC2Wql1hwYmIgITCe48DJEH8Mdmhx7co0EvTVLjmKmjAUyQnaY8gKi+M/liPh4spUlqmE9MMYhJdhLyAHp4urq4WimbJLWn/AQwCy0LAQguXYsfZudku/7OeHDQqm3LA5Sv1NafliKT2nb3OiM47RUCRPVytHZQ1sa4s8MDCGLlq38nOAcgqyNi00TCnr06IIIglh2AnDkQUT8O4JPLXSIAWKligBeKDBJ0ODcnAgBCgHRxCcxCSYYAjkJ3IoQQJDyvfY45CTizlT5yUgEnIoAIBEkkS7INzUngGvuVi0iklsBR2cd+CCnBQaTa/c0B2P0Nda0Uk6/FcQHAEUQo5agSOVMEcPUnjanRvSQIFIB2CwAIpZHpoVKaFQLipdW3b2S7KvKVBOjw7QAgpOfZtK+GuBBAycq94JPaZjMs+0oKccgAIJUfoCkvDTUOTFETKdv4dfXDj7IN9FUDLYWAAASE1EHoJc3hq3I7toUA3v/9l9JX721v6f5zka+VFFJKpYOoErTq1ZmRnc1m+3RzV1r69OeJ2W/2/uLaQBAnmWEmIbXvI97xb07Fq7vtCvIBfPDHD/2fJd+utEYqYTPJrINUWmZ7L8MP5tzSWkeALlvZbN0pf/1l5bv7+xf6w5Kzjshl9d1keO4WLyzVOwJ0+zIhuPLpFxOL3/+0LsqRJ9mkzUZWuT43ebCw8Czh1wMIwfjtz2+05n/8bS22RCT8gYmZd6O/5//cOOHv/nmHd2H649vj6crjJ89j6/XVxmrBi4f3l3bS01e8q1R5dOrm9GhgXzUzhm1sLT9a3ozNqaeKfjCgy+fHLo8ORco297efrW/sNLK8LVeEUF4pigLFWfKqkbRs3oorBBAdLTF2nP+L1FNPPfX0P9I/r2WWJwOf0poAAAAASUVORK5CYII=\",\"data:image/png;base64,iVBORw0KGgoAAAANSUhEUgAAAEAAAABACAAAAACPAi4CAAADlElEQVR4nO2Wz28bRRTH33szs7vezdrOD6dK2tAkakqhVQAJiIr4oUpcEBJC3PkXuHPgT+q1EoIrSICgQdQCmlTBLUkxtZ3ajr3Z3Zl5HJwfTrzrRByrvMPuYd/3M9/39GZmAS7iBQg8RwYCA/8/ABIJImBrrbXZjHEAFI7nKcFWa51qbTIRMl8v3bA0IU0Sx8AgANCYDEKuA3SKlZlC0m5391PLAAjMWWXkOSCvslDhZzvNvgEAAMactXIckD937VJ3s9ZhSQhsmZkZMKOEbAfozb86/+y3WuooPOw/Ap+/ic7szeV/729hKKzW1vJgEJAHlvlMgChdf3nv/pYIKU20ZWYYUhGcaCVlFrBwq1DdEGWlE22sZeBD9wgAQuAZADF5Y2G7qssqjVPDfKJ2ZCA1TMgCOHPXudoICzrWlk9tA0TLUg2pMgAULM7XH4mQUzOiB0CwwhmykAUoLfp/tQJHpxmjiwgWHDUWIKcu220dkDajuxiRiEE54jg7A1CeiRrCs8aOTA4CIFqrzPG6ow5QFotJTyq2AAAjHogAlHvchAwHouDrRAgcaE/NPyIBqKF1syZROA4CIeBpOQIiMZADdPQho4msacK1KMVgB+NJ/UEFQ5M9qu+bSllbJQkPdHD0RhKAhcKQsQwHut29dMUkyhGEiABw9EAiJSyFnjVjAc16+abqCt8RdHAOHYJIStCFaTU0YhkA09qEtfndxPcV4UB6ACHpKm2mZ0w01oFt/7mzejttqWJBCcKjIJKOC5H3UtjrjQVwtPFL6ZOl+l5QCpQgpEO98nwZ6StLtrlvxwEgffr91vufuY/j0mToKUlEREJK1w+c/e7U6lSjmcBYAHfWv7WffxTXkuJ0KfAcR0mlXD8M3Wg3eHOl+6RzXEH2mZj+/c3Vj7+Ivn60ELpRlGjLKJSSpt3yb78dbz6N+QwA96t3ix98OXHv4exMUDDaACDqfqtfeWdNr292hwzkHOtm90eH3/vq2t2NRjH0pLQ67XUjb/XdV3q/Pmikw6l5d6OqvPXpHfene9/V+kDE1lK4+PprU9s/rP+zz+cBgCzfuPPhSvJwvfr4eQze5OXlpWKn+vMfjeTU/s4DAPlzt9beuOrFu52+la7UzY0Hv+909cghmxsog9mlleW5SQdM/3n9yVat3knsSFY+AACFF5TLxYI00d7gRyEjZxwAAIiEEMjWGJN5OV/ERVzERbxI8R9CconhbqyytQAAAABJRU5ErkJggg==\",\"data:image/png;base64,iVBORw0KGgoAAAANSUhEUgAAAEAAAABACAAAAACPAi4CAAADeklEQVR4nO2WTW8bVRSGzzn3Y2Zsj2PHCSQ4uKorNYFWqASEUEW7yxYJiTV/jC3/gBU7JCQEEkK0EQlpQkOhifth12n9OXPn3sPCbuIk47FgWfndzGLmffSeo3PPXIC53gDhzPeIAMzA/weAREoQsbPWOpeOyAAg6SDwBXJijDEmsZyGkFP9wsuXCp4zw6Ex1qEAsGl1TAOgzC8t5+yrdndgHAMgIOB/SIC6VF0VreNm3wEijMKnljulB97StWry8PAlC4nA7BxzagemJdCVjfpwZ3+gNTnn3DhAKiEVIIrXb5idvbig2FjLPDEGp/W8FqWVFdRuFvZ2zUKOY2OstY75rAQinAWQlY3Vf+4PS4GNzWiAXpsRGUgIzAagv1Yf3H+xkLdRcs4OAIDMUs4AUPFK6fChDjlOHDOcmx5EZlSThBSAXKzGD3qhjI11F/wAiA6kmnClAPRSuXkkci62LqU+YieUyAKgV1JPT3xhEguXhwcJLHkTbbwMIK8IrVhj4i7ZERAQzzchJYH2uesk29ECuABBmgkAEQgLAjH1nCAiCJVZAoigqIHEeOAmKAiIRABKZwOsCwrIUtIoBJ75AYkIhKcy54DjKHhLGqEkIZ5lQARAJEGsCmqiMymA4Ut1pTBEX40jAJ4+SSpw+aK0mYComayv9Y0fnBLg1K9lQpUwMS4T8ORZbRNPVMEftWFcCCJJrSHKv+MPTFYCMM/29d1aq58PvXEbEBEBSWhfDdxa1XRMVhPBtX8/2tyihg1DXwkiIiIkEtILvLi7uJFvd5JMAA8OfqYvPjlpYKmY85QURCSE1H7ON23v5tVuozdxytJ2YvL0x+t3vmr+AW+XdH+YOMeAJLQWUYtvbOKj5zFkA7i/993yZ52vd6OVQhDHNmFAIch12vjBneK9w66bAQD74qfCl1veN7/8WVnMh8yOnY17J/3CrU+LuztNM/lt+o8FvbW7n9cffPv9EYWhpyCJet2hrn30Pu3++nffzQYAeqsfb92Cez/89rjrABjlQnV9vdze3j4+75/6e0dVXr99u86N/cMnHaPCysqy397fPmhGF/bc9PuByK289+FmvSySyBg3fHW0t3PQ6CaXt9RUocwv1a5dfbfsc791/Oivx8875vKazb7iCC9XDPOaon6n04uSlC09+5JFRATsLKe555prrrneLP0LCkWIYsefiqsAAAAASUVORK5CYII=\"],\"index\":[0,1,2,3,4,5,6,7,8,9,10,11,12,13,14,15,16,17,18,19,20,21,22,23,24,25,26,27,28,29,30,31,32,33,34,35,36,37,38,39],\"phiCR\":[\"-2.4138646\",\"-2.4138646\",\"-2.4138646\",\"-2.4138646\",\"-2.4138646\",\"-2.4138646\",\"-2.4138646\",\"-2.4138646\",\"-2.4138646\",\"-2.4138646\",\"-2.4138646\",\"-2.4138646\",\"-2.4138646\",\"-2.4138646\",\"-2.4138646\",\"-2.4138646\",\"-2.4138646\",\"-2.4138646\",\"-2.4138646\",\"-2.4138646\",\"-2.4138646\",\"-2.4138646\",\"-2.4138646\",\"-2.4138646\",\"-2.4138646\",\"-2.4138646\",\"-2.4138646\",\"-2.4138646\",\"-2.4138646\",\"-2.4138646\",\"-2.4138646\",\"-2.4138646\",\"-2.4138646\",\"-2.4138646\",\"-2.4138646\",\"-2.4138646\",\"-2.4138646\",\"-2.4138646\",\"-2.4138646\",\"-2.4138646\"],\"principal component 1 2D\":{\"__ndarray__\":\"67yHQGbogUBbPE9AtEGIQBecWMDtBljAleNCwHLoXMAxvwfAYgbhv6oBAsCG4x3ATHT1P+Y5Jz/REgxAQUy+P2rFt7+qmKS/KUrMvxsGsr+dWjLADkYuwBw/PMBgjjjAatFAQJ9tQEBCdHVAdB9JQCmPtT9UnLo/s3qkP8WmzD85gp2/6pisv3Snmr/314i/E4NfP/r3jj6BbV0/UCM3Pw==\",\"dtype\":\"float32\",\"order\":\"little\",\"shape\":[40]},\"principal component 1 3D\":{\"__ndarray__\":\"67yHQGbogUBbPE9AtEGIQBecWMDtBljAleNCwHLoXMAxvwfAYgbhv6oBAsCG4x3ATHT1P+Y5Jz/REgxAQUy+P2rFt7+qmKS/KUrMvxsGsr+dWjLADkYuwBw/PMBgjjjAatFAQJ9tQEBCdHVAdB9JQCmPtT9UnLo/s3qkP8WmzD85gp2/6pisv3Snmr/314i/E4NfP/r3jj6BbV0/UCM3Pw==\",\"dtype\":\"float32\",\"order\":\"little\",\"shape\":[40]},\"principal component 2 2D\":{\"__ndarray__\":\"+DnXvxRn0b9bBLm/jEHYv+ys0b7I99G+5EzUvt1u0L4Gfdy+/9zfvsku3b6c1Ni+C8CoPqN0CEC+Xn49pMJYP+JnSr+HT0+/C8BGvw3gS79Jste+eK7ZviBE1r7JitS+QPCxv5f2sL9uKsy/UZi1v+K3zT+6ots/en7JP57b0T9uH1S/ZmVVv3VNVb/8FlW/OJJdQH7ybUBap1hAAflTQA==\",\"dtype\":\"float32\",\"order\":\"little\",\"shape\":[40]},\"principal component 2 3D\":{\"__ndarray__\":\"+DnXvxRn0b9bBLm/jEHYv+ys0b7I99G+5EzUvt1u0L4Gfdy+/9zfvsku3b6c1Ni+C8CoPqN0CEC+Xn49pMJYP+JnSr+HT0+/C8BGvw3gS79Jste+eK7ZviBE1r7JitS+QPCxv5f2sL9uKsy/UZi1v+K3zT+6ots/en7JP57b0T9uH1S/ZmVVv3VNVb/8FlW/OJJdQH7ybUBap1hAAflTQA==\",\"dtype\":\"float32\",\"order\":\"little\",\"shape\":[40]},\"principal component 3 3D\":{\"__ndarray__\":\"dUMdvWUVwzp2XC0+N8Ivvb/oBL5lFAC+J01uPbuAKr6GdQg/vCo6P00CFT+lF7M+Wdhgvv7A3b6Vk/O9O4i7vtfsub4cP6y+5YLKvsBHtr4F6Eg+wzxpPr5E8z0lrwU+ErddPphgYD4XRkA9jrFCPi/foT1YkRs+Mp3VPddrOT2AP5++xCC6vge4nb5tVIe+cnkqPfToabunADs9ya/bPQ==\",\"dtype\":\"float32\",\"order\":\"little\",\"shape\":[40]},\"umap_1 2D\":{\"__ndarray__\":\"GWHJP2DNFUDWh0dANTRuQBRse0DQDQJABo+FPxOSVj85jyJA7khTQIPxvj9ZGjFAO5CJP+7onT8y4T9AAAsZQJoAxz+1qSFAPRlrQOieU0AbBTlAsepiQO+sDEAHh1w/+YXnPz9PAUBKjjlAhULlP+kR/T+tEMM/zvCVP6FITkDA0E5Ai+YuQFZ1IEAM3g5A8anqP7WpIUAely1ASeAAQA==\",\"dtype\":\"float32\",\"order\":\"little\",\"shape\":[40]},\"umap_2 2D\":{\"__ndarray__\":\"C909Qc5vJEGumy9BKN9FQTz0NEGRZVFBenAxQbupOEE0ex9BJIdMQXPeNEEFNFNBJI4pQad9TkHzfEdBQZc2QfkxKEEPH0ZBZdE7QW/LNUEY0CdBSmQsQQa4K0FHzkNBExkiQffaO0EFsTlB7jNMQdrZM0GvCUVB8es7QTZzI0GpjD9BunI/QfLgS0GOuT9BOWcuQWm2LkFoGjRBYlpEQQ==\",\"dtype\":\"float32\",\"order\":\"little\",\"shape\":[40]},\"y\":{\"__ndarray__\":\"wnwawMJ8GsDCfBrAwnwawMJ8GsDCfBrAwnwawMJ8GsDCfBrAwnwawMJ8GsDCfBrAwnwawMJ8GsDCfBrAwnwawMJ8GsDCfBrAwnwawMJ8GsDCfBrAwnwawMJ8GsDCfBrAwnwawMJ8GsDCfBrAwnwawMJ8GsDCfBrAwnwawMJ8GsDCfBrAwnwawMJ8GsDCfBrAwnwawMJ8GsDCfBrAwnwawA==\",\"dtype\":\"float32\",\"order\":\"little\",\"shape\":[40]}},\"selected\":{\"id\":\"1370\"},\"selection_policy\":{\"id\":\"1369\"}},\"id\":\"1300\",\"type\":\"ColumnDataSource\"},{\"attributes\":{},\"id\":\"1366\",\"type\":\"AllLabels\"},{\"attributes\":{},\"id\":\"1309\",\"type\":\"LinearScale\"},{\"attributes\":{\"active_multi\":null,\"tools\":[{\"id\":\"1321\"},{\"id\":\"1322\"},{\"id\":\"1323\"},{\"id\":\"1328\"}]},\"id\":\"1324\",\"type\":\"Toolbar\"},{\"attributes\":{},\"id\":\"1363\",\"type\":\"AllLabels\"},{\"attributes\":{},\"id\":\"1314\",\"type\":\"BasicTicker\"},{\"attributes\":{},\"id\":\"1307\",\"type\":\"DataRange1d\"},{\"attributes\":{\"source\":{\"id\":\"1300\"}},\"id\":\"1334\",\"type\":\"CDSView\"},{\"attributes\":{},\"id\":\"1368\",\"type\":\"BasicTickFormatter\"},{\"attributes\":{},\"id\":\"1323\",\"type\":\"ResetTool\"},{\"attributes\":{\"fill_alpha\":{\"value\":0.1},\"fill_color\":{\"field\":\"phiCR\",\"transform\":{\"id\":\"1301\"}},\"line_alpha\":{\"value\":0.1},\"line_color\":{\"field\":\"phiCR\",\"transform\":{\"id\":\"1301\"}},\"size\":{\"value\":7},\"x\":{\"field\":\"umap_1 2D\"},\"y\":{\"field\":\"umap_2 2D\"}},\"id\":\"1332\",\"type\":\"Circle\"},{\"attributes\":{},\"id\":\"1305\",\"type\":\"DataRange1d\"},{\"attributes\":{},\"id\":\"1322\",\"type\":\"WheelZoomTool\"},{\"attributes\":{},\"id\":\"1318\",\"type\":\"BasicTicker\"},{\"attributes\":{\"data_source\":{\"id\":\"1300\"},\"glyph\":{\"id\":\"1331\"},\"hover_glyph\":null,\"muted_glyph\":null,\"nonselection_glyph\":{\"id\":\"1332\"},\"view\":{\"id\":\"1334\"}},\"id\":\"1333\",\"type\":\"GlyphRenderer\"},{\"attributes\":{},\"id\":\"1370\",\"type\":\"Selection\"},{\"attributes\":{\"formatter\":{\"id\":\"1365\"},\"major_label_policy\":{\"id\":\"1363\"},\"ticker\":{\"id\":\"1318\"}},\"id\":\"1317\",\"type\":\"LinearAxis\"},{\"attributes\":{\"text\":\"UMAP projection of the CR dataset\"},\"id\":\"1303\",\"type\":\"Title\"},{\"attributes\":{\"fill_alpha\":{\"value\":0.6},\"fill_color\":{\"field\":\"phiCR\",\"transform\":{\"id\":\"1301\"}},\"line_alpha\":{\"value\":0.6},\"line_color\":{\"field\":\"phiCR\",\"transform\":{\"id\":\"1301\"}},\"size\":{\"value\":7},\"x\":{\"field\":\"umap_1 2D\"},\"y\":{\"field\":\"umap_2 2D\"}},\"id\":\"1331\",\"type\":\"Circle\"}],\"root_ids\":[\"1302\"]},\"title\":\"Bokeh Application\",\"version\":\"2.3.1\"}};\n",
       "  var render_items = [{\"docid\":\"b8d6e88a-e3fb-4667-8361-26eb2d6c46cc\",\"root_ids\":[\"1302\"],\"roots\":{\"1302\":\"ebc1b365-6ade-4a91-8960-a673b06f680c\"}}];\n",
       "  root.Bokeh.embed.embed_items_notebook(docs_json, render_items);\n",
       "\n",
       "  }\n",
       "  if (root.Bokeh !== undefined) {\n",
       "    embed_document(root);\n",
       "  } else {\n",
       "    var attempts = 0;\n",
       "    var timer = setInterval(function(root) {\n",
       "      if (root.Bokeh !== undefined) {\n",
       "        clearInterval(timer);\n",
       "        embed_document(root);\n",
       "      } else {\n",
       "        attempts++;\n",
       "        if (attempts > 100) {\n",
       "          clearInterval(timer);\n",
       "          console.log(\"Bokeh: ERROR: Unable to run BokehJS code because BokehJS library is missing\");\n",
       "        }\n",
       "      }\n",
       "    }, 10, root)\n",
       "  }\n",
       "})(window);"
      ],
      "application/vnd.bokehjs_exec.v0+json": ""
     },
     "metadata": {
      "application/vnd.bokehjs_exec.v0+json": {
       "id": "1302"
      }
     },
     "output_type": "display_data"
    }
   ],
   "source": [
    "from io import BytesIO\n",
    "from PIL import Image\n",
    "import base64\n",
    "from bokeh.plotting import figure, show, output_notebook\n",
    "from bokeh.models import HoverTool, ColumnDataSource, LinearColorMapper\n",
    "from bokeh.palettes import Spectral10\n",
    "\n",
    "output_notebook()\n",
    "\n",
    "def embeddable_image(data):\n",
    "    img_data = data.values.reshape(X21,X21)\n",
    "    image = Image.fromarray(img_data, mode='L').resize((64, 64), Image.BICUBIC)\n",
    "    buffer = BytesIO()\n",
    "    image.save(buffer, format='png')\n",
    "    for_encoding = buffer.getvalue()\n",
    "    return 'data:image/png;base64,' + base64.b64encode(for_encoding).decode()\n",
    "\n",
    "df['image'] = pd.DataFrame(data=x, columns=list(range(x.shape[1]))).apply(embeddable_image, axis=1)\n",
    "\n",
    "\n",
    "datasource = ColumnDataSource(df)\n",
    "color_mapping = LinearColorMapper(\n",
    "    palette='Magma256',\n",
    "    low=y.min(),\n",
    "    high=y.max()\n",
    ")\n",
    "\n",
    "plot_figure = figure(\n",
    "    title='UMAP projection of the CR dataset',\n",
    "    plot_width=800,\n",
    "    plot_height=800,\n",
    "    tools=('pan, wheel_zoom, reset')\n",
    ")\n",
    "\n",
    "plot_figure.add_tools(HoverTool(tooltips=\"\"\"\n",
    "<div>\n",
    "    <div>\n",
    "        <img src='@image' style='float: left; margin: 5px 5px 5px 5px'/>\n",
    "    </div>\n",
    "    <div>\n",
    "        <span style='font-size: 16px; color: #224499'>phiCR:</span>\n",
    "        <span style='font-size: 18px'>@phiCR</span>\n",
    "    </div>\n",
    "</div>\n",
    "\"\"\"))\n",
    "\n",
    "plot_figure.circle(\n",
    "    'umap_1 2D',\n",
    "    'umap_2 2D',\n",
    "    source=datasource,\n",
    "    color=dict(field='phiCR', transform=color_mapping),\n",
    "    line_alpha=0.6,\n",
    "    fill_alpha=0.6,\n",
    "    size=7\n",
    ")\n",
    "show(plot_figure)"
   ]
  },
  {
   "cell_type": "markdown",
   "metadata": {},
   "source": [
    "## UMAP to 3D"
   ]
  },
  {
   "cell_type": "code",
   "execution_count": 47,
   "metadata": {},
   "outputs": [
    {
     "name": "stderr",
     "output_type": "stream",
     "text": [
      "/home/oiangu/anaconda3/lib/python3.8/site-packages/umap/umap_.py:1802: UserWarning:\n",
      "\n",
      "gradient function is not yet implemented for hamming distance metric; inverse_transform will be unavailable\n",
      "\n",
      "/home/oiangu/anaconda3/lib/python3.8/site-packages/umap/umap_.py:2344: UserWarning:\n",
      "\n",
      "n_neighbors is larger than the dataset size; truncating to X.shape[0] - 1\n",
      "\n"
     ]
    }
   ],
   "source": [
    "from umap import UMAP\n",
    "\n",
    "umap_reducer = UMAP(n_components=3, min_dist=0.1, n_neighbors=400, metric='hamming') #euclidean, canberra, cosine, manhattan, braycurtis, mahalanobis, hamming\n",
    "principalComponents = umap_reducer.fit_transform(embeddings)\n",
    "principalDf = pd.DataFrame(data = principalComponents\n",
    "             , columns = ['umap_1', 'umap_2', 'umap_3'])\n",
    "df['umap_1 3D'] = principalDf['umap_1']\n",
    "df['umap_2 3D'] = principalDf['umap_2']\n",
    "df['umap_3 3D'] = principalDf['umap_3']"
   ]
  },
  {
   "cell_type": "code",
   "execution_count": 48,
   "metadata": {},
   "outputs": [
    {
     "data": {
      "application/vnd.plotly.v1+json": {
       "config": {
        "plotlyServerURL": "https://plot.ly"
       },
       "data": [
        {
         "hovertemplate": "umap_1 3D=%{x}<br>umap_2 3D=%{y}<br>umap_3 3D=%{z}<br>y=%{marker.color}<extra></extra>",
         "legendgroup": "",
         "marker": {
          "color": [
           -2.4138646125793457,
           -2.4138646125793457,
           -2.4138646125793457,
           -2.4138646125793457,
           -2.4138646125793457,
           -2.4138646125793457,
           -2.4138646125793457,
           -2.4138646125793457,
           -2.4138646125793457,
           -2.4138646125793457,
           -2.4138646125793457,
           -2.4138646125793457,
           -2.4138646125793457,
           -2.4138646125793457,
           -2.4138646125793457,
           -2.4138646125793457,
           -2.4138646125793457,
           -2.4138646125793457,
           -2.4138646125793457,
           -2.4138646125793457,
           -2.4138646125793457,
           -2.4138646125793457,
           -2.4138646125793457,
           -2.4138646125793457,
           -2.4138646125793457,
           -2.4138646125793457,
           -2.4138646125793457,
           -2.4138646125793457,
           -2.4138646125793457,
           -2.4138646125793457,
           -2.4138646125793457,
           -2.4138646125793457,
           -2.4138646125793457,
           -2.4138646125793457,
           -2.4138646125793457,
           -2.4138646125793457,
           -2.4138646125793457,
           -2.4138646125793457,
           -2.4138646125793457,
           -2.4138646125793457
          ],
          "coloraxis": "coloraxis",
          "size": 3,
          "symbol": "circle"
         },
         "mode": "markers",
         "name": "",
         "scene": "scene",
         "showlegend": false,
         "type": "scatter3d",
         "x": [
          3.4972000122070312,
          2.4720847606658936,
          1.9670562744140625,
          2.039452075958252,
          3.9709715843200684,
          3.59318470954895,
          3.7674996852874756,
          2.9872889518737793,
          3.041480779647827,
          1.8164043426513672,
          3.190819025039673,
          2.8387601375579834,
          3.3888676166534424,
          3.120417594909668,
          1.6002808809280396,
          3.287071943283081,
          2.3630495071411133,
          3.6269500255584717,
          3.0330774784088135,
          2.070880174636841,
          2.6727750301361084,
          2.9008774757385254,
          1.9523913860321045,
          2.241046667098999,
          3.3448846340179443,
          2.1876091957092285,
          1.9606387615203857,
          3.6685547828674316,
          2.4109482765197754,
          2.680187463760376,
          2.5624020099639893,
          3.6313750743865967,
          2.4361562728881836,
          2.145585536956787,
          2.786986827850342,
          3.1331560611724854,
          2.6244349479675293,
          2.7211382389068604,
          3.0364842414855957,
          2.6493771076202393
         ],
         "y": [
          5.161313056945801,
          5.20462703704834,
          5.649924278259277,
          5.995604038238525,
          6.428136825561523,
          5.010288715362549,
          5.662436008453369,
          5.616925239562988,
          4.890285968780518,
          5.560934066772461,
          4.933724403381348,
          5.830173015594482,
          6.351000785827637,
          7.026376247406006,
          6.245862007141113,
          5.6179375648498535,
          6.823731422424316,
          6.207993030548096,
          6.793124675750732,
          6.33328104019165,
          4.555568218231201,
          6.379651069641113,
          5.740418910980225,
          6.2931671142578125,
          6.588589191436768,
          5.040800094604492,
          5.216987609863281,
          5.605741500854492,
          5.289916038513184,
          5.20754337310791,
          6.739261150360107,
          5.980379104614258,
          5.583433151245117,
          6.539570331573486,
          6.446910858154297,
          6.085574626922607,
          6.021456241607666,
          5.697046756744385,
          5.502469539642334,
          6.094289779663086
         ],
         "z": [
          1.747977375984192,
          1.8589515686035156,
          0.07397539913654327,
          1.7886137962341309,
          0.9321467280387878,
          0.8072893619537354,
          0.30865341424942017,
          1.5546537637710571,
          1.2650202512741089,
          1.3178246021270752,
          0.22221973538398743,
          2.0721793174743652,
          0.40605467557907104,
          0.38763895630836487,
          1.0013468265533447,
          -0.15532463788986206,
          0.998668909072876,
          -0.059407636523246765,
          0.9608544111251831,
          0.5939702391624451,
          0.6376004219055176,
          -0.314352810382843,
          0.706493079662323,
          -0.07232924550771713,
          1.5005298852920532,
          1.2675198316574097,
          0.5591708421707153,
          0.8827866315841675,
          -0.014909965917468071,
          0.6088106632232666,
          0.25156527757644653,
          1.5140032768249512,
          1.0485175848007202,
          1.4862555265426636,
          1.563190221786499,
          0.8383058309555054,
          0.46885862946510315,
          0.05243492126464844,
          0.9598633646965027,
          1.047476887702942
         ]
        }
       ],
       "layout": {
        "coloraxis": {
         "colorbar": {
          "title": {
           "text": "y"
          }
         },
         "colorscale": [
          [
           0,
           "#0d0887"
          ],
          [
           0.1111111111111111,
           "#46039f"
          ],
          [
           0.2222222222222222,
           "#7201a8"
          ],
          [
           0.3333333333333333,
           "#9c179e"
          ],
          [
           0.4444444444444444,
           "#bd3786"
          ],
          [
           0.5555555555555556,
           "#d8576b"
          ],
          [
           0.6666666666666666,
           "#ed7953"
          ],
          [
           0.7777777777777778,
           "#fb9f3a"
          ],
          [
           0.8888888888888888,
           "#fdca26"
          ],
          [
           1,
           "#f0f921"
          ]
         ]
        },
        "legend": {
         "tracegroupgap": 0
        },
        "margin": {
         "t": 60
        },
        "scene": {
         "domain": {
          "x": [
           0,
           1
          ],
          "y": [
           0,
           1
          ]
         },
         "xaxis": {
          "title": {
           "text": "umap_1 3D"
          }
         },
         "yaxis": {
          "title": {
           "text": "umap_2 3D"
          }
         },
         "zaxis": {
          "title": {
           "text": "umap_3 3D"
          }
         }
        },
        "template": {
         "data": {
          "bar": [
           {
            "error_x": {
             "color": "#2a3f5f"
            },
            "error_y": {
             "color": "#2a3f5f"
            },
            "marker": {
             "line": {
              "color": "#E5ECF6",
              "width": 0.5
             },
             "pattern": {
              "fillmode": "overlay",
              "size": 10,
              "solidity": 0.2
             }
            },
            "type": "bar"
           }
          ],
          "barpolar": [
           {
            "marker": {
             "line": {
              "color": "#E5ECF6",
              "width": 0.5
             },
             "pattern": {
              "fillmode": "overlay",
              "size": 10,
              "solidity": 0.2
             }
            },
            "type": "barpolar"
           }
          ],
          "carpet": [
           {
            "aaxis": {
             "endlinecolor": "#2a3f5f",
             "gridcolor": "white",
             "linecolor": "white",
             "minorgridcolor": "white",
             "startlinecolor": "#2a3f5f"
            },
            "baxis": {
             "endlinecolor": "#2a3f5f",
             "gridcolor": "white",
             "linecolor": "white",
             "minorgridcolor": "white",
             "startlinecolor": "#2a3f5f"
            },
            "type": "carpet"
           }
          ],
          "choropleth": [
           {
            "colorbar": {
             "outlinewidth": 0,
             "ticks": ""
            },
            "type": "choropleth"
           }
          ],
          "contour": [
           {
            "colorbar": {
             "outlinewidth": 0,
             "ticks": ""
            },
            "colorscale": [
             [
              0,
              "#0d0887"
             ],
             [
              0.1111111111111111,
              "#46039f"
             ],
             [
              0.2222222222222222,
              "#7201a8"
             ],
             [
              0.3333333333333333,
              "#9c179e"
             ],
             [
              0.4444444444444444,
              "#bd3786"
             ],
             [
              0.5555555555555556,
              "#d8576b"
             ],
             [
              0.6666666666666666,
              "#ed7953"
             ],
             [
              0.7777777777777778,
              "#fb9f3a"
             ],
             [
              0.8888888888888888,
              "#fdca26"
             ],
             [
              1,
              "#f0f921"
             ]
            ],
            "type": "contour"
           }
          ],
          "contourcarpet": [
           {
            "colorbar": {
             "outlinewidth": 0,
             "ticks": ""
            },
            "type": "contourcarpet"
           }
          ],
          "heatmap": [
           {
            "colorbar": {
             "outlinewidth": 0,
             "ticks": ""
            },
            "colorscale": [
             [
              0,
              "#0d0887"
             ],
             [
              0.1111111111111111,
              "#46039f"
             ],
             [
              0.2222222222222222,
              "#7201a8"
             ],
             [
              0.3333333333333333,
              "#9c179e"
             ],
             [
              0.4444444444444444,
              "#bd3786"
             ],
             [
              0.5555555555555556,
              "#d8576b"
             ],
             [
              0.6666666666666666,
              "#ed7953"
             ],
             [
              0.7777777777777778,
              "#fb9f3a"
             ],
             [
              0.8888888888888888,
              "#fdca26"
             ],
             [
              1,
              "#f0f921"
             ]
            ],
            "type": "heatmap"
           }
          ],
          "heatmapgl": [
           {
            "colorbar": {
             "outlinewidth": 0,
             "ticks": ""
            },
            "colorscale": [
             [
              0,
              "#0d0887"
             ],
             [
              0.1111111111111111,
              "#46039f"
             ],
             [
              0.2222222222222222,
              "#7201a8"
             ],
             [
              0.3333333333333333,
              "#9c179e"
             ],
             [
              0.4444444444444444,
              "#bd3786"
             ],
             [
              0.5555555555555556,
              "#d8576b"
             ],
             [
              0.6666666666666666,
              "#ed7953"
             ],
             [
              0.7777777777777778,
              "#fb9f3a"
             ],
             [
              0.8888888888888888,
              "#fdca26"
             ],
             [
              1,
              "#f0f921"
             ]
            ],
            "type": "heatmapgl"
           }
          ],
          "histogram": [
           {
            "marker": {
             "pattern": {
              "fillmode": "overlay",
              "size": 10,
              "solidity": 0.2
             }
            },
            "type": "histogram"
           }
          ],
          "histogram2d": [
           {
            "colorbar": {
             "outlinewidth": 0,
             "ticks": ""
            },
            "colorscale": [
             [
              0,
              "#0d0887"
             ],
             [
              0.1111111111111111,
              "#46039f"
             ],
             [
              0.2222222222222222,
              "#7201a8"
             ],
             [
              0.3333333333333333,
              "#9c179e"
             ],
             [
              0.4444444444444444,
              "#bd3786"
             ],
             [
              0.5555555555555556,
              "#d8576b"
             ],
             [
              0.6666666666666666,
              "#ed7953"
             ],
             [
              0.7777777777777778,
              "#fb9f3a"
             ],
             [
              0.8888888888888888,
              "#fdca26"
             ],
             [
              1,
              "#f0f921"
             ]
            ],
            "type": "histogram2d"
           }
          ],
          "histogram2dcontour": [
           {
            "colorbar": {
             "outlinewidth": 0,
             "ticks": ""
            },
            "colorscale": [
             [
              0,
              "#0d0887"
             ],
             [
              0.1111111111111111,
              "#46039f"
             ],
             [
              0.2222222222222222,
              "#7201a8"
             ],
             [
              0.3333333333333333,
              "#9c179e"
             ],
             [
              0.4444444444444444,
              "#bd3786"
             ],
             [
              0.5555555555555556,
              "#d8576b"
             ],
             [
              0.6666666666666666,
              "#ed7953"
             ],
             [
              0.7777777777777778,
              "#fb9f3a"
             ],
             [
              0.8888888888888888,
              "#fdca26"
             ],
             [
              1,
              "#f0f921"
             ]
            ],
            "type": "histogram2dcontour"
           }
          ],
          "mesh3d": [
           {
            "colorbar": {
             "outlinewidth": 0,
             "ticks": ""
            },
            "type": "mesh3d"
           }
          ],
          "parcoords": [
           {
            "line": {
             "colorbar": {
              "outlinewidth": 0,
              "ticks": ""
             }
            },
            "type": "parcoords"
           }
          ],
          "pie": [
           {
            "automargin": true,
            "type": "pie"
           }
          ],
          "scatter": [
           {
            "marker": {
             "colorbar": {
              "outlinewidth": 0,
              "ticks": ""
             }
            },
            "type": "scatter"
           }
          ],
          "scatter3d": [
           {
            "line": {
             "colorbar": {
              "outlinewidth": 0,
              "ticks": ""
             }
            },
            "marker": {
             "colorbar": {
              "outlinewidth": 0,
              "ticks": ""
             }
            },
            "type": "scatter3d"
           }
          ],
          "scattercarpet": [
           {
            "marker": {
             "colorbar": {
              "outlinewidth": 0,
              "ticks": ""
             }
            },
            "type": "scattercarpet"
           }
          ],
          "scattergeo": [
           {
            "marker": {
             "colorbar": {
              "outlinewidth": 0,
              "ticks": ""
             }
            },
            "type": "scattergeo"
           }
          ],
          "scattergl": [
           {
            "marker": {
             "colorbar": {
              "outlinewidth": 0,
              "ticks": ""
             }
            },
            "type": "scattergl"
           }
          ],
          "scattermapbox": [
           {
            "marker": {
             "colorbar": {
              "outlinewidth": 0,
              "ticks": ""
             }
            },
            "type": "scattermapbox"
           }
          ],
          "scatterpolar": [
           {
            "marker": {
             "colorbar": {
              "outlinewidth": 0,
              "ticks": ""
             }
            },
            "type": "scatterpolar"
           }
          ],
          "scatterpolargl": [
           {
            "marker": {
             "colorbar": {
              "outlinewidth": 0,
              "ticks": ""
             }
            },
            "type": "scatterpolargl"
           }
          ],
          "scatterternary": [
           {
            "marker": {
             "colorbar": {
              "outlinewidth": 0,
              "ticks": ""
             }
            },
            "type": "scatterternary"
           }
          ],
          "surface": [
           {
            "colorbar": {
             "outlinewidth": 0,
             "ticks": ""
            },
            "colorscale": [
             [
              0,
              "#0d0887"
             ],
             [
              0.1111111111111111,
              "#46039f"
             ],
             [
              0.2222222222222222,
              "#7201a8"
             ],
             [
              0.3333333333333333,
              "#9c179e"
             ],
             [
              0.4444444444444444,
              "#bd3786"
             ],
             [
              0.5555555555555556,
              "#d8576b"
             ],
             [
              0.6666666666666666,
              "#ed7953"
             ],
             [
              0.7777777777777778,
              "#fb9f3a"
             ],
             [
              0.8888888888888888,
              "#fdca26"
             ],
             [
              1,
              "#f0f921"
             ]
            ],
            "type": "surface"
           }
          ],
          "table": [
           {
            "cells": {
             "fill": {
              "color": "#EBF0F8"
             },
             "line": {
              "color": "white"
             }
            },
            "header": {
             "fill": {
              "color": "#C8D4E3"
             },
             "line": {
              "color": "white"
             }
            },
            "type": "table"
           }
          ]
         },
         "layout": {
          "annotationdefaults": {
           "arrowcolor": "#2a3f5f",
           "arrowhead": 0,
           "arrowwidth": 1
          },
          "autotypenumbers": "strict",
          "coloraxis": {
           "colorbar": {
            "outlinewidth": 0,
            "ticks": ""
           }
          },
          "colorscale": {
           "diverging": [
            [
             0,
             "#8e0152"
            ],
            [
             0.1,
             "#c51b7d"
            ],
            [
             0.2,
             "#de77ae"
            ],
            [
             0.3,
             "#f1b6da"
            ],
            [
             0.4,
             "#fde0ef"
            ],
            [
             0.5,
             "#f7f7f7"
            ],
            [
             0.6,
             "#e6f5d0"
            ],
            [
             0.7,
             "#b8e186"
            ],
            [
             0.8,
             "#7fbc41"
            ],
            [
             0.9,
             "#4d9221"
            ],
            [
             1,
             "#276419"
            ]
           ],
           "sequential": [
            [
             0,
             "#0d0887"
            ],
            [
             0.1111111111111111,
             "#46039f"
            ],
            [
             0.2222222222222222,
             "#7201a8"
            ],
            [
             0.3333333333333333,
             "#9c179e"
            ],
            [
             0.4444444444444444,
             "#bd3786"
            ],
            [
             0.5555555555555556,
             "#d8576b"
            ],
            [
             0.6666666666666666,
             "#ed7953"
            ],
            [
             0.7777777777777778,
             "#fb9f3a"
            ],
            [
             0.8888888888888888,
             "#fdca26"
            ],
            [
             1,
             "#f0f921"
            ]
           ],
           "sequentialminus": [
            [
             0,
             "#0d0887"
            ],
            [
             0.1111111111111111,
             "#46039f"
            ],
            [
             0.2222222222222222,
             "#7201a8"
            ],
            [
             0.3333333333333333,
             "#9c179e"
            ],
            [
             0.4444444444444444,
             "#bd3786"
            ],
            [
             0.5555555555555556,
             "#d8576b"
            ],
            [
             0.6666666666666666,
             "#ed7953"
            ],
            [
             0.7777777777777778,
             "#fb9f3a"
            ],
            [
             0.8888888888888888,
             "#fdca26"
            ],
            [
             1,
             "#f0f921"
            ]
           ]
          },
          "colorway": [
           "#636efa",
           "#EF553B",
           "#00cc96",
           "#ab63fa",
           "#FFA15A",
           "#19d3f3",
           "#FF6692",
           "#B6E880",
           "#FF97FF",
           "#FECB52"
          ],
          "font": {
           "color": "#2a3f5f"
          },
          "geo": {
           "bgcolor": "white",
           "lakecolor": "white",
           "landcolor": "#E5ECF6",
           "showlakes": true,
           "showland": true,
           "subunitcolor": "white"
          },
          "hoverlabel": {
           "align": "left"
          },
          "hovermode": "closest",
          "mapbox": {
           "style": "light"
          },
          "paper_bgcolor": "white",
          "plot_bgcolor": "#E5ECF6",
          "polar": {
           "angularaxis": {
            "gridcolor": "white",
            "linecolor": "white",
            "ticks": ""
           },
           "bgcolor": "#E5ECF6",
           "radialaxis": {
            "gridcolor": "white",
            "linecolor": "white",
            "ticks": ""
           }
          },
          "scene": {
           "xaxis": {
            "backgroundcolor": "#E5ECF6",
            "gridcolor": "white",
            "gridwidth": 2,
            "linecolor": "white",
            "showbackground": true,
            "ticks": "",
            "zerolinecolor": "white"
           },
           "yaxis": {
            "backgroundcolor": "#E5ECF6",
            "gridcolor": "white",
            "gridwidth": 2,
            "linecolor": "white",
            "showbackground": true,
            "ticks": "",
            "zerolinecolor": "white"
           },
           "zaxis": {
            "backgroundcolor": "#E5ECF6",
            "gridcolor": "white",
            "gridwidth": 2,
            "linecolor": "white",
            "showbackground": true,
            "ticks": "",
            "zerolinecolor": "white"
           }
          },
          "shapedefaults": {
           "line": {
            "color": "#2a3f5f"
           }
          },
          "ternary": {
           "aaxis": {
            "gridcolor": "white",
            "linecolor": "white",
            "ticks": ""
           },
           "baxis": {
            "gridcolor": "white",
            "linecolor": "white",
            "ticks": ""
           },
           "bgcolor": "#E5ECF6",
           "caxis": {
            "gridcolor": "white",
            "linecolor": "white",
            "ticks": ""
           }
          },
          "title": {
           "x": 0.05
          },
          "xaxis": {
           "automargin": true,
           "gridcolor": "white",
           "linecolor": "white",
           "ticks": "",
           "title": {
            "standoff": 15
           },
           "zerolinecolor": "white",
           "zerolinewidth": 2
          },
          "yaxis": {
           "automargin": true,
           "gridcolor": "white",
           "linecolor": "white",
           "ticks": "",
           "title": {
            "standoff": 15
           },
           "zerolinecolor": "white",
           "zerolinewidth": 2
          }
         }
        },
        "yaxis": {
         "scaleanchor": "x",
         "scaleratio": 1
        }
       }
      },
      "text/html": [
       "<div>                            <div id=\"bd1ed276-eae5-4245-964f-4f291df1aa2f\" class=\"plotly-graph-div\" style=\"height:525px; width:100%;\"></div>            <script type=\"text/javascript\">                require([\"plotly\"], function(Plotly) {                    window.PLOTLYENV=window.PLOTLYENV || {};                                    if (document.getElementById(\"bd1ed276-eae5-4245-964f-4f291df1aa2f\")) {                    Plotly.newPlot(                        \"bd1ed276-eae5-4245-964f-4f291df1aa2f\",                        [{\"hovertemplate\":\"umap_1 3D=%{x}<br>umap_2 3D=%{y}<br>umap_3 3D=%{z}<br>y=%{marker.color}<extra></extra>\",\"legendgroup\":\"\",\"marker\":{\"color\":[-2.4138646125793457,-2.4138646125793457,-2.4138646125793457,-2.4138646125793457,-2.4138646125793457,-2.4138646125793457,-2.4138646125793457,-2.4138646125793457,-2.4138646125793457,-2.4138646125793457,-2.4138646125793457,-2.4138646125793457,-2.4138646125793457,-2.4138646125793457,-2.4138646125793457,-2.4138646125793457,-2.4138646125793457,-2.4138646125793457,-2.4138646125793457,-2.4138646125793457,-2.4138646125793457,-2.4138646125793457,-2.4138646125793457,-2.4138646125793457,-2.4138646125793457,-2.4138646125793457,-2.4138646125793457,-2.4138646125793457,-2.4138646125793457,-2.4138646125793457,-2.4138646125793457,-2.4138646125793457,-2.4138646125793457,-2.4138646125793457,-2.4138646125793457,-2.4138646125793457,-2.4138646125793457,-2.4138646125793457,-2.4138646125793457,-2.4138646125793457],\"coloraxis\":\"coloraxis\",\"symbol\":\"circle\",\"size\":3},\"mode\":\"markers\",\"name\":\"\",\"scene\":\"scene\",\"showlegend\":false,\"x\":[3.4972000122070312,2.4720847606658936,1.9670562744140625,2.039452075958252,3.9709715843200684,3.59318470954895,3.7674996852874756,2.9872889518737793,3.041480779647827,1.8164043426513672,3.190819025039673,2.8387601375579834,3.3888676166534424,3.120417594909668,1.6002808809280396,3.287071943283081,2.3630495071411133,3.6269500255584717,3.0330774784088135,2.070880174636841,2.6727750301361084,2.9008774757385254,1.9523913860321045,2.241046667098999,3.3448846340179443,2.1876091957092285,1.9606387615203857,3.6685547828674316,2.4109482765197754,2.680187463760376,2.5624020099639893,3.6313750743865967,2.4361562728881836,2.145585536956787,2.786986827850342,3.1331560611724854,2.6244349479675293,2.7211382389068604,3.0364842414855957,2.6493771076202393],\"y\":[5.161313056945801,5.20462703704834,5.649924278259277,5.995604038238525,6.428136825561523,5.010288715362549,5.662436008453369,5.616925239562988,4.890285968780518,5.560934066772461,4.933724403381348,5.830173015594482,6.351000785827637,7.026376247406006,6.245862007141113,5.6179375648498535,6.823731422424316,6.207993030548096,6.793124675750732,6.33328104019165,4.555568218231201,6.379651069641113,5.740418910980225,6.2931671142578125,6.588589191436768,5.040800094604492,5.216987609863281,5.605741500854492,5.289916038513184,5.20754337310791,6.739261150360107,5.980379104614258,5.583433151245117,6.539570331573486,6.446910858154297,6.085574626922607,6.021456241607666,5.697046756744385,5.502469539642334,6.094289779663086],\"z\":[1.747977375984192,1.8589515686035156,0.07397539913654327,1.7886137962341309,0.9321467280387878,0.8072893619537354,0.30865341424942017,1.5546537637710571,1.2650202512741089,1.3178246021270752,0.22221973538398743,2.0721793174743652,0.40605467557907104,0.38763895630836487,1.0013468265533447,-0.15532463788986206,0.998668909072876,-0.059407636523246765,0.9608544111251831,0.5939702391624451,0.6376004219055176,-0.314352810382843,0.706493079662323,-0.07232924550771713,1.5005298852920532,1.2675198316574097,0.5591708421707153,0.8827866315841675,-0.014909965917468071,0.6088106632232666,0.25156527757644653,1.5140032768249512,1.0485175848007202,1.4862555265426636,1.563190221786499,0.8383058309555054,0.46885862946510315,0.05243492126464844,0.9598633646965027,1.047476887702942],\"type\":\"scatter3d\"}],                        {\"template\":{\"data\":{\"bar\":[{\"error_x\":{\"color\":\"#2a3f5f\"},\"error_y\":{\"color\":\"#2a3f5f\"},\"marker\":{\"line\":{\"color\":\"#E5ECF6\",\"width\":0.5},\"pattern\":{\"fillmode\":\"overlay\",\"size\":10,\"solidity\":0.2}},\"type\":\"bar\"}],\"barpolar\":[{\"marker\":{\"line\":{\"color\":\"#E5ECF6\",\"width\":0.5},\"pattern\":{\"fillmode\":\"overlay\",\"size\":10,\"solidity\":0.2}},\"type\":\"barpolar\"}],\"carpet\":[{\"aaxis\":{\"endlinecolor\":\"#2a3f5f\",\"gridcolor\":\"white\",\"linecolor\":\"white\",\"minorgridcolor\":\"white\",\"startlinecolor\":\"#2a3f5f\"},\"baxis\":{\"endlinecolor\":\"#2a3f5f\",\"gridcolor\":\"white\",\"linecolor\":\"white\",\"minorgridcolor\":\"white\",\"startlinecolor\":\"#2a3f5f\"},\"type\":\"carpet\"}],\"choropleth\":[{\"colorbar\":{\"outlinewidth\":0,\"ticks\":\"\"},\"type\":\"choropleth\"}],\"contour\":[{\"colorbar\":{\"outlinewidth\":0,\"ticks\":\"\"},\"colorscale\":[[0.0,\"#0d0887\"],[0.1111111111111111,\"#46039f\"],[0.2222222222222222,\"#7201a8\"],[0.3333333333333333,\"#9c179e\"],[0.4444444444444444,\"#bd3786\"],[0.5555555555555556,\"#d8576b\"],[0.6666666666666666,\"#ed7953\"],[0.7777777777777778,\"#fb9f3a\"],[0.8888888888888888,\"#fdca26\"],[1.0,\"#f0f921\"]],\"type\":\"contour\"}],\"contourcarpet\":[{\"colorbar\":{\"outlinewidth\":0,\"ticks\":\"\"},\"type\":\"contourcarpet\"}],\"heatmap\":[{\"colorbar\":{\"outlinewidth\":0,\"ticks\":\"\"},\"colorscale\":[[0.0,\"#0d0887\"],[0.1111111111111111,\"#46039f\"],[0.2222222222222222,\"#7201a8\"],[0.3333333333333333,\"#9c179e\"],[0.4444444444444444,\"#bd3786\"],[0.5555555555555556,\"#d8576b\"],[0.6666666666666666,\"#ed7953\"],[0.7777777777777778,\"#fb9f3a\"],[0.8888888888888888,\"#fdca26\"],[1.0,\"#f0f921\"]],\"type\":\"heatmap\"}],\"heatmapgl\":[{\"colorbar\":{\"outlinewidth\":0,\"ticks\":\"\"},\"colorscale\":[[0.0,\"#0d0887\"],[0.1111111111111111,\"#46039f\"],[0.2222222222222222,\"#7201a8\"],[0.3333333333333333,\"#9c179e\"],[0.4444444444444444,\"#bd3786\"],[0.5555555555555556,\"#d8576b\"],[0.6666666666666666,\"#ed7953\"],[0.7777777777777778,\"#fb9f3a\"],[0.8888888888888888,\"#fdca26\"],[1.0,\"#f0f921\"]],\"type\":\"heatmapgl\"}],\"histogram\":[{\"marker\":{\"pattern\":{\"fillmode\":\"overlay\",\"size\":10,\"solidity\":0.2}},\"type\":\"histogram\"}],\"histogram2d\":[{\"colorbar\":{\"outlinewidth\":0,\"ticks\":\"\"},\"colorscale\":[[0.0,\"#0d0887\"],[0.1111111111111111,\"#46039f\"],[0.2222222222222222,\"#7201a8\"],[0.3333333333333333,\"#9c179e\"],[0.4444444444444444,\"#bd3786\"],[0.5555555555555556,\"#d8576b\"],[0.6666666666666666,\"#ed7953\"],[0.7777777777777778,\"#fb9f3a\"],[0.8888888888888888,\"#fdca26\"],[1.0,\"#f0f921\"]],\"type\":\"histogram2d\"}],\"histogram2dcontour\":[{\"colorbar\":{\"outlinewidth\":0,\"ticks\":\"\"},\"colorscale\":[[0.0,\"#0d0887\"],[0.1111111111111111,\"#46039f\"],[0.2222222222222222,\"#7201a8\"],[0.3333333333333333,\"#9c179e\"],[0.4444444444444444,\"#bd3786\"],[0.5555555555555556,\"#d8576b\"],[0.6666666666666666,\"#ed7953\"],[0.7777777777777778,\"#fb9f3a\"],[0.8888888888888888,\"#fdca26\"],[1.0,\"#f0f921\"]],\"type\":\"histogram2dcontour\"}],\"mesh3d\":[{\"colorbar\":{\"outlinewidth\":0,\"ticks\":\"\"},\"type\":\"mesh3d\"}],\"parcoords\":[{\"line\":{\"colorbar\":{\"outlinewidth\":0,\"ticks\":\"\"}},\"type\":\"parcoords\"}],\"pie\":[{\"automargin\":true,\"type\":\"pie\"}],\"scatter\":[{\"marker\":{\"colorbar\":{\"outlinewidth\":0,\"ticks\":\"\"}},\"type\":\"scatter\"}],\"scatter3d\":[{\"line\":{\"colorbar\":{\"outlinewidth\":0,\"ticks\":\"\"}},\"marker\":{\"colorbar\":{\"outlinewidth\":0,\"ticks\":\"\"}},\"type\":\"scatter3d\"}],\"scattercarpet\":[{\"marker\":{\"colorbar\":{\"outlinewidth\":0,\"ticks\":\"\"}},\"type\":\"scattercarpet\"}],\"scattergeo\":[{\"marker\":{\"colorbar\":{\"outlinewidth\":0,\"ticks\":\"\"}},\"type\":\"scattergeo\"}],\"scattergl\":[{\"marker\":{\"colorbar\":{\"outlinewidth\":0,\"ticks\":\"\"}},\"type\":\"scattergl\"}],\"scattermapbox\":[{\"marker\":{\"colorbar\":{\"outlinewidth\":0,\"ticks\":\"\"}},\"type\":\"scattermapbox\"}],\"scatterpolar\":[{\"marker\":{\"colorbar\":{\"outlinewidth\":0,\"ticks\":\"\"}},\"type\":\"scatterpolar\"}],\"scatterpolargl\":[{\"marker\":{\"colorbar\":{\"outlinewidth\":0,\"ticks\":\"\"}},\"type\":\"scatterpolargl\"}],\"scatterternary\":[{\"marker\":{\"colorbar\":{\"outlinewidth\":0,\"ticks\":\"\"}},\"type\":\"scatterternary\"}],\"surface\":[{\"colorbar\":{\"outlinewidth\":0,\"ticks\":\"\"},\"colorscale\":[[0.0,\"#0d0887\"],[0.1111111111111111,\"#46039f\"],[0.2222222222222222,\"#7201a8\"],[0.3333333333333333,\"#9c179e\"],[0.4444444444444444,\"#bd3786\"],[0.5555555555555556,\"#d8576b\"],[0.6666666666666666,\"#ed7953\"],[0.7777777777777778,\"#fb9f3a\"],[0.8888888888888888,\"#fdca26\"],[1.0,\"#f0f921\"]],\"type\":\"surface\"}],\"table\":[{\"cells\":{\"fill\":{\"color\":\"#EBF0F8\"},\"line\":{\"color\":\"white\"}},\"header\":{\"fill\":{\"color\":\"#C8D4E3\"},\"line\":{\"color\":\"white\"}},\"type\":\"table\"}]},\"layout\":{\"annotationdefaults\":{\"arrowcolor\":\"#2a3f5f\",\"arrowhead\":0,\"arrowwidth\":1},\"autotypenumbers\":\"strict\",\"coloraxis\":{\"colorbar\":{\"outlinewidth\":0,\"ticks\":\"\"}},\"colorscale\":{\"diverging\":[[0,\"#8e0152\"],[0.1,\"#c51b7d\"],[0.2,\"#de77ae\"],[0.3,\"#f1b6da\"],[0.4,\"#fde0ef\"],[0.5,\"#f7f7f7\"],[0.6,\"#e6f5d0\"],[0.7,\"#b8e186\"],[0.8,\"#7fbc41\"],[0.9,\"#4d9221\"],[1,\"#276419\"]],\"sequential\":[[0.0,\"#0d0887\"],[0.1111111111111111,\"#46039f\"],[0.2222222222222222,\"#7201a8\"],[0.3333333333333333,\"#9c179e\"],[0.4444444444444444,\"#bd3786\"],[0.5555555555555556,\"#d8576b\"],[0.6666666666666666,\"#ed7953\"],[0.7777777777777778,\"#fb9f3a\"],[0.8888888888888888,\"#fdca26\"],[1.0,\"#f0f921\"]],\"sequentialminus\":[[0.0,\"#0d0887\"],[0.1111111111111111,\"#46039f\"],[0.2222222222222222,\"#7201a8\"],[0.3333333333333333,\"#9c179e\"],[0.4444444444444444,\"#bd3786\"],[0.5555555555555556,\"#d8576b\"],[0.6666666666666666,\"#ed7953\"],[0.7777777777777778,\"#fb9f3a\"],[0.8888888888888888,\"#fdca26\"],[1.0,\"#f0f921\"]]},\"colorway\":[\"#636efa\",\"#EF553B\",\"#00cc96\",\"#ab63fa\",\"#FFA15A\",\"#19d3f3\",\"#FF6692\",\"#B6E880\",\"#FF97FF\",\"#FECB52\"],\"font\":{\"color\":\"#2a3f5f\"},\"geo\":{\"bgcolor\":\"white\",\"lakecolor\":\"white\",\"landcolor\":\"#E5ECF6\",\"showlakes\":true,\"showland\":true,\"subunitcolor\":\"white\"},\"hoverlabel\":{\"align\":\"left\"},\"hovermode\":\"closest\",\"mapbox\":{\"style\":\"light\"},\"paper_bgcolor\":\"white\",\"plot_bgcolor\":\"#E5ECF6\",\"polar\":{\"angularaxis\":{\"gridcolor\":\"white\",\"linecolor\":\"white\",\"ticks\":\"\"},\"bgcolor\":\"#E5ECF6\",\"radialaxis\":{\"gridcolor\":\"white\",\"linecolor\":\"white\",\"ticks\":\"\"}},\"scene\":{\"xaxis\":{\"backgroundcolor\":\"#E5ECF6\",\"gridcolor\":\"white\",\"gridwidth\":2,\"linecolor\":\"white\",\"showbackground\":true,\"ticks\":\"\",\"zerolinecolor\":\"white\"},\"yaxis\":{\"backgroundcolor\":\"#E5ECF6\",\"gridcolor\":\"white\",\"gridwidth\":2,\"linecolor\":\"white\",\"showbackground\":true,\"ticks\":\"\",\"zerolinecolor\":\"white\"},\"zaxis\":{\"backgroundcolor\":\"#E5ECF6\",\"gridcolor\":\"white\",\"gridwidth\":2,\"linecolor\":\"white\",\"showbackground\":true,\"ticks\":\"\",\"zerolinecolor\":\"white\"}},\"shapedefaults\":{\"line\":{\"color\":\"#2a3f5f\"}},\"ternary\":{\"aaxis\":{\"gridcolor\":\"white\",\"linecolor\":\"white\",\"ticks\":\"\"},\"baxis\":{\"gridcolor\":\"white\",\"linecolor\":\"white\",\"ticks\":\"\"},\"bgcolor\":\"#E5ECF6\",\"caxis\":{\"gridcolor\":\"white\",\"linecolor\":\"white\",\"ticks\":\"\"}},\"title\":{\"x\":0.05},\"xaxis\":{\"automargin\":true,\"gridcolor\":\"white\",\"linecolor\":\"white\",\"ticks\":\"\",\"title\":{\"standoff\":15},\"zerolinecolor\":\"white\",\"zerolinewidth\":2},\"yaxis\":{\"automargin\":true,\"gridcolor\":\"white\",\"linecolor\":\"white\",\"ticks\":\"\",\"title\":{\"standoff\":15},\"zerolinecolor\":\"white\",\"zerolinewidth\":2}}},\"scene\":{\"domain\":{\"x\":[0.0,1.0],\"y\":[0.0,1.0]},\"xaxis\":{\"title\":{\"text\":\"umap_1 3D\"}},\"yaxis\":{\"title\":{\"text\":\"umap_2 3D\"}},\"zaxis\":{\"title\":{\"text\":\"umap_3 3D\"}}},\"coloraxis\":{\"colorbar\":{\"title\":{\"text\":\"y\"}},\"colorscale\":[[0.0,\"#0d0887\"],[0.1111111111111111,\"#46039f\"],[0.2222222222222222,\"#7201a8\"],[0.3333333333333333,\"#9c179e\"],[0.4444444444444444,\"#bd3786\"],[0.5555555555555556,\"#d8576b\"],[0.6666666666666666,\"#ed7953\"],[0.7777777777777778,\"#fb9f3a\"],[0.8888888888888888,\"#fdca26\"],[1.0,\"#f0f921\"]]},\"legend\":{\"tracegroupgap\":0},\"margin\":{\"t\":60},\"yaxis\":{\"scaleanchor\":\"x\",\"scaleratio\":1}},                        {\"responsive\": true}                    ).then(function(){\n",
       "                            \n",
       "var gd = document.getElementById('bd1ed276-eae5-4245-964f-4f291df1aa2f');\n",
       "var x = new MutationObserver(function (mutations, observer) {{\n",
       "        var display = window.getComputedStyle(gd).display;\n",
       "        if (!display || display === 'none') {{\n",
       "            console.log([gd, 'removed!']);\n",
       "            Plotly.purge(gd);\n",
       "            observer.disconnect();\n",
       "        }}\n",
       "}});\n",
       "\n",
       "// Listen for the removal of the full notebook cells\n",
       "var notebookContainer = gd.closest('#notebook-container');\n",
       "if (notebookContainer) {{\n",
       "    x.observe(notebookContainer, {childList: true});\n",
       "}}\n",
       "\n",
       "// Listen for the clearing of the current output cell\n",
       "var outputEl = gd.closest('.output');\n",
       "if (outputEl) {{\n",
       "    x.observe(outputEl, {childList: true});\n",
       "}}\n",
       "\n",
       "                        })                };                });            </script>        </div>"
      ]
     },
     "metadata": {},
     "output_type": "display_data"
    }
   ],
   "source": [
    "fig=px.scatter_3d(df, x=\"umap_1 3D\", y=\"umap_2 3D\", z=\"umap_3 3D\", color=\"y\")\n",
    "fig.update_traces(marker={\"size\":3})\n",
    "fig.update_yaxes(scaleanchor=\"x\", scaleratio=1)\n",
    "fig.show()"
   ]
  },
  {
   "cell_type": "markdown",
   "metadata": {},
   "source": [
    "Save the embedding visualizations."
   ]
  },
  {
   "cell_type": "code",
   "execution_count": null,
   "metadata": {},
   "outputs": [],
   "source": [
    "df.to_pickle(save_stuff_path+f\"/Test_Visualization_df_{datetime.now()}_{exp_name}.pkl\") "
   ]
  },
  {
   "cell_type": "code",
   "execution_count": null,
   "metadata": {},
   "outputs": [],
   "source": []
  },
  {
   "cell_type": "code",
   "execution_count": null,
   "metadata": {},
   "outputs": [],
   "source": []
  },
  {
   "cell_type": "code",
   "execution_count": null,
   "metadata": {},
   "outputs": [],
   "source": []
  },
  {
   "cell_type": "code",
   "execution_count": null,
   "metadata": {},
   "outputs": [],
   "source": []
  },
  {
   "cell_type": "code",
   "execution_count": null,
   "metadata": {},
   "outputs": [],
   "source": []
  },
  {
   "cell_type": "code",
   "execution_count": null,
   "metadata": {},
   "outputs": [],
   "source": []
  },
  {
   "cell_type": "code",
   "execution_count": null,
   "metadata": {},
   "outputs": [],
   "source": []
  },
  {
   "cell_type": "code",
   "execution_count": null,
   "metadata": {},
   "outputs": [],
   "source": []
  },
  {
   "cell_type": "markdown",
   "metadata": {},
   "source": [
    "## Test Jungle"
   ]
  },
  {
   "cell_type": "code",
   "execution_count": null,
   "metadata": {},
   "outputs": [],
   "source": [
    "a=torch.ones((2, 5))\n",
    "b=3*a\n",
    "c=6*a\n",
    "d = torch.stack((a,b,c), axis=0)\n",
    "print(d.shape)"
   ]
  },
  {
   "cell_type": "code",
   "execution_count": null,
   "metadata": {
    "scrolled": false
   },
   "outputs": [],
   "source": [
    "d"
   ]
  },
  {
   "cell_type": "code",
   "execution_count": null,
   "metadata": {},
   "outputs": [],
   "source": [
    "e = d.reshape(3*2, 5)\n",
    "print(e)"
   ]
  },
  {
   "cell_type": "code",
   "execution_count": null,
   "metadata": {},
   "outputs": [],
   "source": [
    "distances = torch.pdist(e, p=2)\n",
    "D = torch.zeros((3*2, 3*2))\n",
    "\n",
    "triu_indices = torch.triu_indices(row=3*2, col=3*2, offset=1)\n",
    "D[triu_indices[0], triu_indices[1]] = distances\n",
    "D.T[triu_indices[0], triu_indices[1]]= distances\n",
    "\n",
    "print(D)"
   ]
  },
  {
   "cell_type": "code",
   "execution_count": null,
   "metadata": {},
   "outputs": [],
   "source": [
    "b=np.array([1,2,3])\n",
    "c=np.array([3,4,7])\n",
    "np.linalg.norm(c-2*b)"
   ]
  },
  {
   "cell_type": "code",
   "execution_count": null,
   "metadata": {},
   "outputs": [],
   "source": [
    "a = torch.tensor([[1,2,3],[3,8,3],[3,4,7], [2,4,6]], dtype=torch.float32)\n",
    "d = torch.pdist(a, p=2)"
   ]
  },
  {
   "cell_type": "code",
   "execution_count": null,
   "metadata": {},
   "outputs": [],
   "source": [
    "d"
   ]
  },
  {
   "cell_type": "code",
   "execution_count": null,
   "metadata": {},
   "outputs": [],
   "source": [
    "m = torch.zeros((4, 4), device=device)\n",
    "\n",
    "triu_indices = torch.triu_indices(row=4, col=4, offset=1)\n",
    "print(triu_indices)\n",
    "m[triu_indices[0], triu_indices[1]] = d.to(device)"
   ]
  },
  {
   "cell_type": "code",
   "execution_count": null,
   "metadata": {},
   "outputs": [],
   "source": [
    "m.T[triu_indices[0], triu_indices[1]]=d.to(device)\n",
    "#m.diagonal=torch.Tensor([1,1,1,1]).to(device)"
   ]
  },
  {
   "cell_type": "code",
   "execution_count": null,
   "metadata": {},
   "outputs": [],
   "source": [
    "m"
   ]
  },
  {
   "cell_type": "code",
   "execution_count": null,
   "metadata": {},
   "outputs": [],
   "source": [
    "b = m+torch.diag(torch.tensor([float('inf')]*4, device=device))\n",
    "print(b)"
   ]
  },
  {
   "cell_type": "code",
   "execution_count": null,
   "metadata": {},
   "outputs": [],
   "source": [
    "print(torch.min(m))\n",
    "print(torch.min(b))"
   ]
  },
  {
   "cell_type": "code",
   "execution_count": null,
   "metadata": {},
   "outputs": [],
   "source": [
    "K=2\n",
    "\n",
    "a=torch.ones((K,K), dtype=torch.bool, device=device)\n",
    "\n",
    "P=2\n",
    "diag_1s = torch.kron(torch.eye(P, dtype=torch.bool, device=device),a)\n",
    "diag_0s = torch.logical_not(diag_1s)\n",
    "print(diag_0s)"
   ]
  },
  {
   "cell_type": "code",
   "execution_count": null,
   "metadata": {},
   "outputs": [],
   "source": [
    "m.dtype"
   ]
  },
  {
   "cell_type": "code",
   "execution_count": null,
   "metadata": {},
   "outputs": [],
   "source": [
    "positives = torch.where(diag_1s, m, torch.tensor([0.0], device=device))\n",
    "negatives = torch.where(diag_1s, torch.tensor([torch.inf], device=device), m)"
   ]
  },
  {
   "cell_type": "code",
   "execution_count": null,
   "metadata": {},
   "outputs": [],
   "source": [
    "negatives"
   ]
  },
  {
   "cell_type": "code",
   "execution_count": null,
   "metadata": {},
   "outputs": [],
   "source": [
    "hard_positives = torch.max(positives, axis=0)[0]"
   ]
  },
  {
   "cell_type": "code",
   "execution_count": null,
   "metadata": {},
   "outputs": [],
   "source": [
    "hard_negatives = torch.min(negatives, axis=0)[0]"
   ]
  },
  {
   "cell_type": "code",
   "execution_count": null,
   "metadata": {},
   "outputs": [],
   "source": [
    "marg=1.0\n",
    "r=nn.ReLU()\n",
    "torch.sum(r(marg+hard_positives-hard_negatives))"
   ]
  },
  {
   "cell_type": "code",
   "execution_count": null,
   "metadata": {},
   "outputs": [],
   "source": [
    "marg+hard_positives-hard_negatives"
   ]
  },
  {
   "cell_type": "code",
   "execution_count": null,
   "metadata": {},
   "outputs": [],
   "source": [
    "m[diag_1s] = 989"
   ]
  },
  {
   "cell_type": "code",
   "execution_count": null,
   "metadata": {
    "scrolled": true
   },
   "outputs": [],
   "source": [
    "m"
   ]
  }
 ],
 "metadata": {
  "kernelspec": {
   "display_name": "Python 3 (ipykernel)",
   "language": "python",
   "name": "python3"
  },
  "language_info": {
   "codemirror_mode": {
    "name": "ipython",
    "version": 3
   },
   "file_extension": ".py",
   "mimetype": "text/x-python",
   "name": "python",
   "nbconvert_exporter": "python",
   "pygments_lexer": "ipython3",
   "version": "3.8.8"
  }
 },
 "nbformat": 4,
 "nbformat_minor": 2
}
