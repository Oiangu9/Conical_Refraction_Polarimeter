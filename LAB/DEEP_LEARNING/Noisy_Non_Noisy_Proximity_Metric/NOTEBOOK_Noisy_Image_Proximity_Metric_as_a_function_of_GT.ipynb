{
 "cells": [
  {
   "cell_type": "markdown",
   "metadata": {},
   "source": [
    "# Proximity Metric for Images Belonging to a same phi_{CR} \n",
    "# in their Noisy and Non-Noisy Version\n",
    "---\n",
    "\n",
    "---\n",
    "\n",
    "Perhaps in the future it could be interesting to force this in a strictly $phi_{CR}$ basis (with mixed $R_0$ and $w_0$-s)."
   ]
  },
  {
   "cell_type": "code",
   "execution_count": 1,
   "metadata": {},
   "outputs": [
    {
     "data": {
      "text/html": [
       "\n",
       "        <script>\n",
       "            function code_toggle_7406779594105719112() {\n",
       "                $('div.cell.code_cell.rendered.selected').find('div.input').toggle();\n",
       "            }\n",
       "\n",
       "            \n",
       "        </script>\n",
       "\n",
       "        <a href=\"javascript:code_toggle_7406779594105719112()\">Toggle show/hide</a>\n",
       "    "
      ],
      "text/plain": [
       "<IPython.core.display.HTML object>"
      ]
     },
     "execution_count": 1,
     "metadata": {},
     "output_type": "execute_result"
    }
   ],
   "source": [
    "# This is just a function to allow toggleing code cells that are too long for good\n",
    "from IPython.display import HTML\n",
    "import random\n",
    "\n",
    "def hide_toggle(for_next=False):\n",
    "    this_cell = \"\"\"$('div.cell.code_cell.rendered.selected')\"\"\"\n",
    "    next_cell = this_cell + '.next()'\n",
    "\n",
    "    toggle_text = 'Toggle show/hide'  # text shown on toggle link\n",
    "    target_cell = this_cell  # target cell to control with toggle\n",
    "    js_hide_current = ''  # bit of JS to permanently hide code in current cell (only when toggling next cell)\n",
    "\n",
    "    if for_next:\n",
    "        target_cell = next_cell\n",
    "        toggle_text += ' next cell'\n",
    "        js_hide_current = this_cell + '.find(\"div.input\").hide();'\n",
    "\n",
    "    js_f_name = 'code_toggle_{}'.format(str(random.randint(1,2**64)))\n",
    "\n",
    "    html = \"\"\"\n",
    "        <script>\n",
    "            function {f_name}() {{\n",
    "                {cell_selector}.find('div.input').toggle();\n",
    "            }}\n",
    "\n",
    "            {js_hide_current}\n",
    "        </script>\n",
    "\n",
    "        <a href=\"javascript:{f_name}()\">{toggle_text}</a>\n",
    "    \"\"\".format(\n",
    "        f_name=js_f_name,\n",
    "        cell_selector=target_cell,\n",
    "        js_hide_current=js_hide_current, \n",
    "        toggle_text=toggle_text\n",
    "    )\n",
    "\n",
    "    return HTML(html)\n",
    "\n",
    "hide_toggle()"
   ]
  },
  {
   "cell_type": "code",
   "execution_count": 2,
   "metadata": {},
   "outputs": [
    {
     "name": "stdout",
     "output_type": "stream",
     "text": [
      "cuda:0\n"
     ]
    }
   ],
   "source": [
    "import torch #should be installed by default in any colab notebook\n",
    "import torch.nn as nn\n",
    "import numpy as np\n",
    "import matplotlib.pyplot as plt\n",
    "import matplotlib.pyplot as plt\n",
    "import json\n",
    "import os\n",
    "import pandas as pd\n",
    "import h5py\n",
    "from time import time\n",
    "from datetime import datetime\n",
    "from IPython import display as display_IPython\n",
    "\n",
    "assert torch.cuda.is_available(), \"GPU is not enabled\"\n",
    "\n",
    "# use gpu if available\n",
    "device = torch.device(\"cuda:0\" if torch.cuda.is_available() else \"cpu\")\n",
    "print(device)"
   ]
  },
  {
   "cell_type": "markdown",
   "metadata": {},
   "source": [
    "# Define the functions and routines for the DL\n",
    "### Define the model and its constructor"
   ]
  },
  {
   "cell_type": "code",
   "execution_count": 3,
   "metadata": {},
   "outputs": [],
   "source": [
    "class Proximity_Metric_Based_On_Simple_Encoder(nn.Module):\n",
    "    def __init__(self, X=302, feats_1=15, feats_2=20, feats_3=20, feats_4=20,\n",
    "                 prop1=3, prop2=2, prop3=1, av_pool1_div=4, conv4_feat_size=15, av_pool2_div=10, \n",
    "                 out_fc_1=10, out_fc_2=10,\n",
    "                 dropout_p1=0.2, dropout_p2=0.1\n",
    "                ): \n",
    "        # propj is such that the_ image getting out from stage j is propj/prop_{j-1}-ths of the previous (with j=0 being 5)\n",
    "        # clearly, prop_{j-1}>prop_{j}>...\n",
    "        # 2X+1 will be assumed to be divisible by 5\n",
    "        assert((2*X+1)%5==0)\n",
    "        assert(prop1>prop2)\n",
    "        assert(prop2>prop3)\n",
    "        assert((int((prop3*(2*X+1)/5)/av_pool1_div)-conv4_feat_size)>0)\n",
    "        \n",
    "        \n",
    "        super(Proximity_Metric_Based_On_Simple_Encoder, self).__init__()\n",
    "        # in is [epoch_size, 1, 2X+1, 2X+1]\n",
    "        self.conv1 = nn.Conv2d(in_channels=1, out_channels=feats_1, \n",
    "                               kernel_size = int((2*X+1)/5*(5-prop1)+1), bias=True) \n",
    "        # out conv1 [epoch_size, feats_1, prop1*(2X+1)/5, prop1*(2X+1)/5]\n",
    "        self.conv2 = nn.Conv2d(in_channels=feats_1, out_channels=feats_2, \n",
    "                               kernel_size = int((2*X+1)/5*(prop1-prop2)+1), bias=True) \n",
    "        # out conv1 [epoch_size, feats_2, prop2*(prop1*(2X+1)/5)/prop1, prop2*(prop1*(2X+1)/5)/prop1]\n",
    "        # that is [epoch_size, feats_2, prop2*(2X+1)/5), prop2*(2X+1)/5)]\n",
    "        self.conv3 = nn.Conv2d(in_channels=feats_2, out_channels=feats_3, \n",
    "                               kernel_size = int((2*X+1)/5*(prop2-prop3)+1), bias=True)\n",
    "        # out conv3 is [epoch_size, feats_3, prop3*(2X+1)/5), prop3*(2X+1)/5)]\n",
    "\n",
    "        self.avPool1 = nn.AvgPool2d(kernel_size= int((prop3*(2*X+1)/5)*(1-1/av_pool1_div)) +1, stride=1)\n",
    "        # out avpool1 is [epoch_size, feats_3, prop3*(2X+1)/5)/av_pool1_div, prop3*(2X+1)/5)/av_pool1_div]\n",
    "        \n",
    "        self.conv4 = nn.Conv2d(in_channels=feats_3, out_channels=feats_4, \n",
    "                              kernel_size= int((prop3*(2*X+1)/5)/av_pool1_div+1)-conv4_feat_size+1, bias=True)\n",
    "        # [epoch_size, feats_4, conv4_feat_size, conv4_feat_size]\n",
    "        \n",
    "        self.avPool2 = nn.AvgPool2d(kernel_size= int(conv4_feat_size*(1-1/av_pool2_div)) +1, stride=1)\n",
    "        # out avpool1 is [epoch_size, feats_4, conv4_feat_size/av_pool2_div+1, conv4_feat_size/av_pool2_div+1]\n",
    "        \n",
    "        #self.in_fc = int(feats_4*(conv4_feat_size/av_pool2_div+1)**2)\n",
    "        self.in_fc = feats_4*((((((2*X+1-int((2*X+1)/5*(5-prop1)+1)+1)\n",
    "                                  -int((2*X+1)/5*(prop1-prop2)+1)+1)\n",
    "                                 -int((2*X+1)/5*(prop2-prop3)+1)+1)\n",
    "                                -int((prop3*(2*X+1)/5)*(1-1/av_pool1_div)) -1+1)\n",
    "                               -int((prop3*(2*X+1)/5)/av_pool1_div+1)+conv4_feat_size-1+1)\n",
    "                              -int(conv4_feat_size*(1-1/av_pool2_div)) -1+1)**2\n",
    "        \n",
    "        self.fc1 = nn.Linear(in_features=self.in_fc, out_features=out_fc_1, bias=True)\n",
    "        self.fc2 = nn.Linear(in_features=out_fc_1, out_features=out_fc_2, bias=True)\n",
    "        \n",
    "        self.dropout1 = nn.Dropout(p=dropout_p1, inplace=False)\n",
    "        self.dropout2 = nn.Dropout(p=dropout_p2, inplace=False)\n",
    "        self.relu = torch.nn.functional.leaky_relu\n",
    "\n",
    "        self.batchNorm2 = nn.BatchNorm2d(num_features=feats_2)\n",
    "        self.batchNorm4 = nn.BatchNorm2d(num_features=feats_4)\n",
    "\n",
    "    def forward(self, x): # [batch_size, 2X+1, 2X+1] or [batch_size, 1, 2X+1, 2X+1]\n",
    "        x = x.view(x.shape[0], 1, x.shape[-2], x.shape[-1]).float() # [batch_size, 1, 2X+1, 2X+1]\n",
    "        # Normalize to unity the float image\n",
    "        x = x/x.amax(dim=(2,3), keepdim=True)[0] # [batch_size, 1, 2X+1, 2X+1]\n",
    "        \n",
    "        x = self.relu( self.conv1(x) ) # [batch_size, feats_1, prop1*(2X+1)/5, prop1*(2X+1)/5]\n",
    "        \n",
    "        x = self.batchNorm2( self.relu( self.conv2(self.dropout1(x)) )) # [batch_size, feats_2, prop2*(2X+1)/5, prop2*(2X+1)/5]\n",
    "\n",
    "        \n",
    "        x = self.relu( self.conv3(self.dropout2(x)) ) # [batch_size, feats_3, prop3*(2X+1)/5, prop3*(2X+1)/5]\n",
    "\n",
    "        \n",
    "        x = self.avPool1(x) # [batch_size, feats_3, prop3*(2X+1)/5)/av_pool1_div, prop3*(2X+1)/5)/av_pool1_div]\n",
    "\n",
    "        \n",
    "        x = self.batchNorm4(self.conv4(self.dropout2(x))) # [batch_size, feats_4, conv4_feat_size, conv4_feat_size]\n",
    "\n",
    "        \n",
    "        x = self.relu( self.avPool2(x) ) # [batch_size, feats_4, conv4_feat_size/av_pool2_div, conv4_feat_size/av_pool2_div]\n",
    "\n",
    "        \n",
    "        x = x.view(x.shape[0], self.in_fc) #[batch_size, feats_4*int(conv4_feat_size/av_pool2_div)**2]\n",
    "\n",
    "        \n",
    "        x = self.fc2( self.relu( self.fc1(x) ) ) #[batch_size, out_fc_2]\n",
    "        \n",
    "        return x\n",
    "    \n",
    "    def print_shapes(self, batch_size=10, X=302):\n",
    "        x = torch.ones((batch_size, 1, 2*X+1, 2*X+1)).to(device)\n",
    "        print(f\"Initial shape {x.shape}\")\n",
    "        x = self.relu( self.conv1(x) ) # [batch_size, feats_1, prop1*(2X+1)/5, prop1*(2X+1)/5]\n",
    "        print(f\"Post Conv1+relu shape {x.shape}\")\n",
    "        x = self.batchNorm2( self.relu( self.conv2(self.dropout1(x)) )) # [batch_size, feats_2, prop2*(2X+1)/5, prop2*(2X+1)/5]\n",
    "        print(f\"Post drop1+Conv2+relu+batchnorm shape {x.shape}\")\n",
    "        \n",
    "        x = self.relu( self.conv3(self.dropout2(x)) ) # [batch_size, feats_3, prop3*(2X+1)/5, prop3*(2X+1)/5]\n",
    "        print(f\"Post drop2+Conv3+relu shape {x.shape}\")\n",
    "        \n",
    "        x = self.avPool1(x) # [batch_size, feats_3, prop3*(2X+1)/5)/av_pool1_div, prop3*(2X+1)/5)/av_pool1_div]\n",
    "        print(f\"Post Av Pool1 shape {x.shape}\")\n",
    "        \n",
    "        x = self.batchNorm4(self.conv4(self.dropout2(x))) # [batch_size, feats_4, conv4_feat_size, conv4_feat_size]\n",
    "        print(f\"Post drop2+Conv4+batchnorm shape {x.shape}\")\n",
    "        \n",
    "        x = self.relu( self.avPool2(x) ) # [batch_size, feats_4, conv4_feat_size/av_pool2_div, conv4_feat_size/av_pool2_div]\n",
    "        print(f\"Post Av. Pool2 shape {x.shape}\")\n",
    "        \n",
    "        x = x.view(x.shape[0], self.in_fc) #[batch_size, feats_4*int(conv4_feat_size/av_pool2_div)**2]\n",
    "        print(f\"Post Pre-fc shape {x.shape}\")\n",
    "        \n",
    "        x = self.fc2( self.relu( self.fc1(x) ) ) #[batch_size, out_fc2]\n",
    "        print(f\"Post fc1+relu+fc2 shape {x.shape}\")\n",
    "\n",
    "    \n",
    "\n",
    "\n",
    "\n",
    "\n",
    "class Proximity_Metric_Based_On_Corrector(nn.Module):\n",
    "    def __init__(self, S0=2*302+1, S1=2*290+1, S2=2*250+1, S3=2*200+1, S4 = 2*10+1,\n",
    "                 S5 = 2*1+1, S6 =2,\n",
    "                 feats_S1=10, feats_S2=10, feats_S3=20, feats_S4=20, feats_S5 = 20,\n",
    "                 out_fc1=100, out_fc2=10,\n",
    "                 feats_S6 = 25,\n",
    "                 dropout_p=0.1\n",
    "                ): \n",
    "       \n",
    "        super(Proximity_Metric_Based_On_Corrector, self).__init__()\n",
    "        self.Ss = [S0, S1, S2, S3, S4, S5, S6]\n",
    "        self.feats = [1, feats_S1, feats_S2, feats_S3, feats_S4, feats_S5, feats_S6]\n",
    "        self.out_fc1 = out_fc1\n",
    "        self.out_fc2 = out_fc2\n",
    "        # in is [batch_size, 1, S0, S0]\n",
    "        self.conv_S01 = nn.Conv2d(in_channels=1, out_channels=feats_S1, \n",
    "                               kernel_size = S0-S1+1, bias=True) \n",
    "        # out conv_S01 [batch_size, feats_S1, S1, S1]\n",
    "        self.conv_S12 = nn.Conv2d(in_channels=feats_S1, out_channels=feats_S2, \n",
    "                               kernel_size = S1-S2+1, bias=True) \n",
    "        # out conv_S12 [batch_size, feats_S2, S2, S2]\n",
    "        self.conv_S23 = nn.Conv2d(in_channels=feats_S2, out_channels=feats_S3, \n",
    "                               kernel_size = S2-S3+1, bias=True) \n",
    "        # out conv_S23 [batch_size, feats_S3, S3, S3]\n",
    "        \n",
    "        self.conv_S33 = nn.Conv2d(in_channels=feats_S3, out_channels=feats_S3, \n",
    "                               kernel_size = 1, bias=True) \n",
    "        # out conv_S33 [batch_size, feats_S3, S3, S3]\n",
    "        \n",
    "        self.conv_S34 = nn.Conv2d(in_channels=feats_S3, out_channels=feats_S4, \n",
    "                               kernel_size = S3-S4+1, bias=True) \n",
    "        # out conv_S34 [batch_size, feats_S4, S4, S4]\n",
    "        \n",
    "        self.conv_S45 = nn.Conv2d(in_channels=feats_S4, out_channels=feats_S5, \n",
    "                               kernel_size = S4-S5+1, bias=True) \n",
    "        # out conv_S45 [batch_size, feats_S5, S5, S5]\n",
    "        self.conv_S56 = nn.Conv2d(in_channels=feats_S5, out_channels=feats_S6, \n",
    "                               kernel_size = S5-S6+1, bias=True) \n",
    "        # out conv_S56 [batch_size, feats_S6, S6, S6]\n",
    "        \n",
    "        self.in_fc1 = S6*S6*feats_S6\n",
    "        self.fc1 = nn.Linear(in_features=self.in_fc1, out_features=out_fc1, bias=True)\n",
    "        self.fc2 = nn.Linear(in_features=out_fc1, out_features=out_fc2, bias=True)\n",
    "        \n",
    "        self.dropout = nn.Dropout(p=dropout_p, inplace=False)\n",
    "        self.relu = torch.nn.functional.leaky_relu\n",
    "\n",
    "        self.batchNorm1 = nn.BatchNorm2d(num_features=feats_S3)\n",
    "        self.batchNorm2 = nn.BatchNorm1d(num_features=out_fc1)\n",
    "        \n",
    "\n",
    "    def forward(self, x): # [batch_size, 2X+1, 2X+1] or [batch_size, 1, 2X+1, 2X+1]\n",
    "        x = x.view(x.shape[0], 1, x.shape[-2], x.shape[-1]).float() # [batch_size, 1, 2X+1, 2X+1]\n",
    "        # Normalize to unity the float image\n",
    "        x = x/x.amax(dim=(2,3), keepdim=True)[0] # [batch_size, 1, 2X+1, 2X+1]\n",
    "        \n",
    "        # Conv layers\n",
    "        x = self.relu(self.conv_S01(x)) # [batch_size, feats_S1, S1, S1]\n",
    "        x = self.dropout( self.relu(self.conv_S12(x)) ) # [batch_size, feats_S2, S2, S2]\n",
    "        x = self.relu(self.conv_S23(x)) # [batch_size, feats_S3, S3, S3]\n",
    "        x = self.batchNorm1(self.relu(self.conv_S33(x)))\n",
    "        x = self.relu(self.conv_S34(x))\n",
    "        x = self.relu(self.conv_S45(x))\n",
    "        x = self.relu(self.conv_S56(x))\n",
    "        \n",
    "        x = x.view(x.shape[0], self.in_fc1)\n",
    "        x = self.dropout( self.relu(self.batchNorm2(self.fc1(self.dropout(x)))) )\n",
    "        return self.fc2(x)\n",
    "\n",
    "        \n",
    "    def print_shapes(self, batch_size=10):\n",
    "        x = torch.ones((batch_size, 1, self.Ss[0], self.Ss[0])).to(device)\n",
    "        print(f\"Initial shape {x.shape}\")\n",
    "        x = self.relu(self.conv_S01(x)) # [batch_size, feats_S1, S1, S1]\n",
    "        print(f\"Conv01 shape {x.shape} should be [{batch_size},{self.feats[1]},{self.Ss[1]}, {self.Ss[1]}]\")\n",
    "        x = self.dropout( self.relu(self.conv_S12(x)) ) # [batch_size, feats_S2, S2, S2]\n",
    "        print(f\"Conv12 shape {x.shape} should be [{batch_size},{self.feats[2]},{self.Ss[2]}, {self.Ss[2]}]\")\n",
    "        x = self.batchNorm1( self.relu(self.conv_S23(x)) ) # [batch_size, feats_S3, S3, S3]\n",
    "        print(f\"Conv23 shape {x.shape} should be [{batch_size},{self.feats[3]},{self.Ss[3]}, {self.Ss[3]}]\")\n",
    "        x = self.relu(self.conv_S34(x))  # [batch_size, feats_S3, S3, S3]\n",
    "        print(f\"Conv34 shape {x.shape} should be [{batch_size},{self.feats[4]},{self.Ss[4]}, {self.Ss[4]}]\")\n",
    "        x = self.relu(self.conv_S45(x))  # [batch_size, feats_S3, S3, S3]\n",
    "        print(f\"Conv45 shape {x.shape} should be [{batch_size},{self.feats[5]},{self.Ss[5]}, {self.Ss[5]}]\")\n",
    "        x = self.relu(self.conv_S56(x))  # [batch_size, feats_S3, S3, S3]\n",
    "        print(f\"Conv56 shape {x.shape} should be [{batch_size},{self.feats[6]},{self.Ss[6]}, {self.Ss[6]}]\")\n",
    "        x = x.view(x.shape[0], self.in_fc1)\n",
    "        print(f\"Input to fc1 is {x.shape} should be [{batch_size}, {self.in_fc1}]\")\n",
    "        x = self.dropout( self.relu(self.batchNorm2(self.fc1(self.dropout(x)))) )\n",
    "        print(f\"Output of fc1 is {x.shape} should be [{batch_size}, {self.out_fc1}]\")\n",
    "        x= self.fc2(x)\n",
    "        print(f\"Output of fc2 is {x.shape} should be [{batch_size}, {self.out_fc2}]\")\n",
    "        "
   ]
  },
  {
   "cell_type": "code",
   "execution_count": 4,
   "metadata": {},
   "outputs": [
    {
     "data": {
      "text/html": [
       "\n",
       "        <script>\n",
       "            function code_toggle_10019646990005703993() {\n",
       "                $('div.cell.code_cell.rendered.selected').next().find('div.input').toggle();\n",
       "            }\n",
       "\n",
       "            $('div.cell.code_cell.rendered.selected').find(\"div.input\").hide();\n",
       "        </script>\n",
       "\n",
       "        <a href=\"javascript:code_toggle_10019646990005703993()\">Toggle show/hide next cell</a>\n",
       "    "
      ],
      "text/plain": [
       "<IPython.core.display.HTML object>"
      ]
     },
     "execution_count": 4,
     "metadata": {},
     "output_type": "execute_result"
    }
   ],
   "source": [
    "hide_toggle(for_next=True)\n"
   ]
  },
  {
   "cell_type": "code",
   "execution_count": 4,
   "metadata": {},
   "outputs": [],
   "source": [
    "# subroutine to count number of parameters in the model\n",
    "def get_n_params(model):\n",
    "    np=0\n",
    "    for p in list(model.parameters()):\n",
    "        np += p.numel()\n",
    "    return np"
   ]
  },
  {
   "cell_type": "markdown",
   "metadata": {},
   "source": [
    "### The routines to validate and train"
   ]
  },
  {
   "cell_type": "code",
   "execution_count": 6,
   "metadata": {},
   "outputs": [
    {
     "data": {
      "text/html": [
       "\n",
       "        <script>\n",
       "            function code_toggle_2270304874043253691() {\n",
       "                $('div.cell.code_cell.rendered.selected').next().find('div.input').toggle();\n",
       "            }\n",
       "\n",
       "            $('div.cell.code_cell.rendered.selected').find(\"div.input\").hide();\n",
       "        </script>\n",
       "\n",
       "        <a href=\"javascript:code_toggle_2270304874043253691()\">Toggle show/hide next cell</a>\n",
       "    "
      ],
      "text/plain": [
       "<IPython.core.display.HTML object>"
      ]
     },
     "execution_count": 6,
     "metadata": {},
     "output_type": "execute_result"
    }
   ],
   "source": [
    "hide_toggle(for_next=True)\n"
   ]
  },
  {
   "cell_type": "code",
   "execution_count": 5,
   "metadata": {},
   "outputs": [],
   "source": [
    "def train_epoch(epoch, triplet_losses, model, optimizer, dataloader, print_loss_every_batches=20,\n",
    "                optimizer_step_every_batches=1, per_epoch_use_max_batches=None):\n",
    "    if per_epoch_use_max_batches is None:\n",
    "        per_epoch_use_max_batches = len(dataloader)\n",
    "        \n",
    "    total_loss = 0.0\n",
    "\n",
    "    model.train()\n",
    "\n",
    "    optimizer.zero_grad()\n",
    "\n",
    "    for batch_id in range(per_epoch_use_max_batches):  \n",
    "        data = dataloader[batch_id] # [PK, 2X+1, 2X+1] dataloader sends them to device already\n",
    "        embeddings = model(data) # embeddings is [PK, embedding_dim]\n",
    "        loss = torch.sum( triplet_losses(embeddings) )\n",
    "        loss.backward()\n",
    "        \n",
    "        if batch_id % optimizer_step_every_batches==optimizer_step_every_batches-1:\n",
    "            optimizer.step()\n",
    "            optimizer.zero_grad()\n",
    "        # print loss every N batches\n",
    "        if batch_id % print_loss_every_batches == print_loss_every_batches-1:\n",
    "            print('Train Epoch: {} [{}/{} ({:.0f}%)]\\tLoss: {:.6f}'.format(\n",
    "                epoch, (batch_id+1) * len(data), len(data)*dataloader.batch_size,\n",
    "                100*(batch_id+1)*len(data) / (len(data)*dataloader.batch_size), loss.item()))\n",
    "\n",
    "        #if batch_id % per_epoch_use_max_batches == per_epoch_use_max_batches-1:\n",
    "        #    break\n",
    "\n",
    "        total_loss += loss.item()  #.item() is very important here\n",
    "\n",
    "    return total_loss / min(len(dataloader), per_epoch_use_max_batches)\n",
    "\n",
    "\n",
    "def train_epoch_monitor_everything(epoch, triplet_losses, model, optimizer, dataloader,\n",
    "                print_loss_every_batches, optimizer_step_every_batches,\n",
    "                epoch_av_loss, epoch_av_non_zero_loss,\n",
    "                epoch_q_loss, epoch_q_dist_embs, epoch_q_norm_embs,\n",
    "                percentiles,\n",
    "                tolerance_zero_loss = 0, per_epoch_use_max_batches=None):\n",
    "    if per_epoch_use_max_batches is None:\n",
    "        per_epoch_use_max_batches = len(dataloader)\n",
    "    \n",
    "    # initialize batch metrics\n",
    "    epoch_av_loss.append(  0.0  )\n",
    "    epoch_av_non_zero_loss.append( 0.0 )\n",
    "    epoch_q_loss.append(  np.zeros((len(percentiles)))  )\n",
    "    epoch_q_dist_embs.append(  np.zeros((len(percentiles)))  )\n",
    "    epoch_q_norm_embs.append(  np.zeros((len(percentiles)))  )\n",
    "\n",
    "        \n",
    "    model.train()\n",
    "\n",
    "    optimizer.zero_grad()\n",
    "\n",
    "    for batch_id in range(per_epoch_use_max_batches):  \n",
    "        data = dataloader[batch_id] # [PK, 2X+1, 2X+1] dataloader sends them to device already\n",
    "        embeddings = model(data) # embeddings is [PK, embedding_dim]\n",
    "        losses = triplet_losses(embeddings) \n",
    "        loss = torch.sum(losses)\n",
    "        loss.backward()\n",
    "        \n",
    "        epoch_av_loss[-1] += loss/per_epoch_use_max_batches # we divide it here to avoid overflowing it\n",
    "        epoch_q_loss[-1] += torch.quantile(losses, percentiles, dim=0)\n",
    "        epoch_q_dist_embs[-1] += torch.quantile( triplet_losses.D[triplet_losses.triu_indices[0], \n",
    "                                                               triplet_losses.triu_indices[1]],\n",
    "                                            percentiles, dim=0)\n",
    "        epoch_q_norm_embs[-1] += torch.quantile(torch.norm(embeddings, dim=1), percentiles, dim=0)\n",
    "        epoch_av_non_zero_loss[-1] += torch.sum(losses>tolerance_zero_loss)/losses.shape[0]\n",
    "        \n",
    "        if batch_id % optimizer_step_every_batches==optimizer_step_every_batches-1:\n",
    "            optimizer.step()\n",
    "            optimizer.zero_grad()\n",
    "        # print loss every N batches\n",
    "        if batch_id % print_loss_every_batches == print_loss_every_batches-1:\n",
    "            print('Train Epoch: {} [{}/{} ({:.0f}%)]\\tLoss: {:.6f}'.format(\n",
    "                epoch, (batch_id+1) * len(data), len(data)*dataloader.batch_size,\n",
    "                100*(batch_id+1)*len(data) / (len(data)*dataloader.batch_size), loss.item()))\n",
    "\n",
    "\n",
    "    # make them average values among the batches\n",
    "    epoch_q_loss[-1] /= per_epoch_use_max_batches\n",
    "    epoch_q_dist_embs[-1] /= per_epoch_use_max_batches\n",
    "    epoch_q_norm_embs[-1] /= per_epoch_use_max_batches\n",
    "    epoch_av_non_zero_loss[-1] /= per_epoch_use_max_batches"
   ]
  },
  {
   "cell_type": "markdown",
   "metadata": {},
   "source": [
    "### The full training loop"
   ]
  },
  {
   "cell_type": "code",
   "execution_count": 8,
   "metadata": {},
   "outputs": [
    {
     "data": {
      "text/html": [
       "\n",
       "        <script>\n",
       "            function code_toggle_7050259015841627516() {\n",
       "                $('div.cell.code_cell.rendered.selected').next().find('div.input').toggle();\n",
       "            }\n",
       "\n",
       "            $('div.cell.code_cell.rendered.selected').find(\"div.input\").hide();\n",
       "        </script>\n",
       "\n",
       "        <a href=\"javascript:code_toggle_7050259015841627516()\">Toggle show/hide next cell</a>\n",
       "    "
      ],
      "text/plain": [
       "<IPython.core.display.HTML object>"
      ]
     },
     "execution_count": 8,
     "metadata": {},
     "output_type": "execute_result"
    }
   ],
   "source": [
    "hide_toggle(for_next=True)\n"
   ]
  },
  {
   "cell_type": "code",
   "execution_count": 40,
   "metadata": {},
   "outputs": [],
   "source": [
    "def full_training_loop(model, criterion, optimizer, train_loader, epochs=10,\n",
    "                       print_loss_every_batches=20, optimizer_step_every_batches=1,\n",
    "                      per_epoch_use_max_train_batches=None,\n",
    "                      image_path=None, save_model_every_epochs=1, model_path=None, best_model_path=None):\n",
    "    losses = {\"train\": []}\n",
    "    %matplotlib inline\n",
    "    for epoch in range(epochs):\n",
    "\n",
    "        train_loss = train_epoch(epoch, criterion, model, optimizer, train_loader,\n",
    "                                 print_loss_every_batches=print_loss_every_batches,\n",
    "                                optimizer_step_every_batches=optimizer_step_every_batches,\n",
    "                                per_epoch_use_max_batches=per_epoch_use_max_train_batches)\n",
    "        \n",
    "        if epoch and train_loss<=min(losses[\"train\"]) and best_model_path:\n",
    "            torch.save({\n",
    "            'model': model.state_dict(),\n",
    "            'optimizer': optimizer.state_dict(),\n",
    "            }, best_model_path)\n",
    "        \n",
    "        losses[\"train\"].append(train_loss)\n",
    "        plt.plot(losses[\"train\"], label=\"training loss\")\n",
    "        #plt.yscale('log')\n",
    "        plt.legend()\n",
    "        if image_path is not None:\n",
    "            plt.savefig(image_path)\n",
    "            plt.clf()\n",
    "        else:\n",
    "            display_IPython.clear_output(wait=True)\n",
    "            plt.pause(0.001)\n",
    "            plt.show()\n",
    "        if epoch % save_model_every_epochs==save_model_every_epochs-1 and model_path:\n",
    "            torch.save({\n",
    "            'model': model.state_dict(),\n",
    "            'optimizer': optimizer.state_dict(),\n",
    "            }, model_path)\n",
    "\n",
    "    return losses\n",
    "\n",
    "\n",
    "from cycler import cycler\n",
    "def full_training_loop_monitor_everything(model, criterion, optimizer, train_loader, epochs=10,\n",
    "                       print_loss_every_batches=20, plot_metrics_every_epochs=1, optimizer_step_every_batches=1,\n",
    "                      per_epoch_use_max_train_batches=None,\n",
    "                      image_path=None, save_model_every_epochs=1, model_path=None, best_model_path=None,\n",
    "                                         quantiles=[0.1, 0.5, 0.9]):\n",
    "\n",
    "    # prepare the metric monitorers\n",
    "    epoch_av_loss=[]\n",
    "    epoch_av_non_zero_loss=[]\n",
    "    epoch_q_loss=[]\n",
    "    epoch_q_dist_embs=[]\n",
    "    epoch_q_norm_embs=[]\n",
    "    min_loss = float('inf')\n",
    "    \n",
    "    # prepare the metric plot figure\n",
    "    %matplotlib inline\n",
    "    fig, ax_array = plt.subplots(2, 2, figsize=(10,10))\n",
    "    for i in range(2):\n",
    "        for j in range(2):\n",
    "            ax_array[i,j].set_xlabel(\"Epoch\")\n",
    "    ax_array[0,0].set_title(\"Triplet Loss Percentiles averaged\\n over batches in epoch\")\n",
    "    ax_array[0,0].set_ylabel(\"Loss\")\n",
    "    ax_array[0,1].set_title(\"Average non-zero loss in Batch (over epoch)\")\n",
    "    ax_array[0,1].set_ylabel(\"Ratio of non-zero losses\")\n",
    "    ax_array[1,0].set_title(\"Distance Between Embedding Percentiles\\n averaged over batches in epoch\")\n",
    "    ax_array[1,0].set_ylabel(\"Distance\")\n",
    "    ax_array[1,1].set_title(\"Magnitude of Embeddings Percentiles\\n averaged over batches in epoch\")\n",
    "    ax_array[1,1].set_title(\"Norm\")\n",
    "    artists=[]\n",
    "    met_epochs=np.arange( 0, epoch, 1)\n",
    "    \n",
    "    for epoch in range(epochs):\n",
    "\n",
    "        train_epoch_monitor_everything(epoch, criterion, model, optimizer, train_loader,\n",
    "                                print_loss_every_batches=print_loss_every_batches,\n",
    "                                optimizer_step_every_batches=optimizer_step_every_batches,\n",
    "                                epoch_av_loss=epoch_av_loss, \n",
    "                                epoch_av_non_zero_loss=epoch_av_non_zero_loss,\n",
    "                                epoch_q_loss=epoch_q_loss,\n",
    "                                epoch_q_dist_embs=epoch_q_dist_embs,\n",
    "                                epoch_q_norm_embs=epoch_q_norm_embs,\n",
    "                                percentiles=percentiles,\n",
    "                                per_epoch_use_max_batches=per_epoch_use_max_train_batches)\n",
    "        \n",
    "        \n",
    "        if epoch and epoch_av_loss[-1] <= min_loss and best_model_path:\n",
    "            min_loss = epoch_av_loss[-1]\n",
    "            torch.save({\n",
    "                'model': model.state_dict(),\n",
    "                'optimizer': optimizer.state_dict(),\n",
    "                }, best_model_path)\n",
    "        \n",
    "        if epoch % plot_metrics_every_epochs==plot_metrics_every_epochs-1:\n",
    "\n",
    "            artists += ax_array[0,0].plot(met_epochs, np.array(epoch_q_loss), label=q)\n",
    "            artists += ax_array[0,0].plot(met_epochs, epoch_av_loss, label=\"Average\")\n",
    "            artists += ax_array[0,1].plot(met_epochs, epoch_av_non_zero_loss  )\n",
    "            artists += ax_array[1,0].plot(met_epochs, np.array(epoch_q_dist_embs), label=q)\n",
    "            artists += ax_array[1,1].plot(met_epochs, np.array(epoch_q_norm_embs), label=q)\n",
    "\n",
    "            for ax in ax_array.flatten():\n",
    "                ax.set_prop_cycle(cycler('color', [\"#1f77b4\", \"#ff7f0e\", \"#2ca02c\"]))\n",
    "                ax.legend()\n",
    "\n",
    "            if image_path is not None:\n",
    "                plt.savefig(image_path)\n",
    "                for artist in artists:\n",
    "                    artist.remove()\n",
    "                artists=[]\n",
    "            else:\n",
    "                display_IPython.clear_output(wait=True)\n",
    "                plt.pause(0.001)\n",
    "                plt.show()\n",
    "                artists=[]\n",
    "                \n",
    "        if epoch % save_model_every_epochs==save_model_every_epochs-1 and model_path:\n",
    "            torch.save({\n",
    "            'model': model.state_dict(),\n",
    "            'optimizer': optimizer.state_dict(),\n",
    "            }, model_path)\n",
    "\n",
    "    return losses\n",
    "\n",
    "def full_training_loop_monitor_partially(model, criterion, optimizer, train_loader, epochs=10,\n",
    "                       print_loss_every_batches=20, compute_metrics_every_epochs=2, plot_metrics_every_epochs=5, \n",
    "                    optimizer_step_every_batches=1,\n",
    "                      per_epoch_use_max_train_batches=None,\n",
    "                      image_path=None, save_model_every_epochs=1, model_path=None, best_model_path=None,\n",
    "                                         quantiles=[0.1, 0.5, 0.9]):\n",
    "    assert plot_metrics_every_epochs>=compute_metrics_every_epochs, \"Do not need to plot so frequently!\"\n",
    "    # prepare the metric monitorers\n",
    "    epoch_av_loss=[]\n",
    "    epoch_av_non_zero_loss=[]\n",
    "    epoch_q_loss=[]\n",
    "    epoch_q_dist_embs=[]\n",
    "    epoch_q_norm_embs=[]\n",
    "    min_loss = float('inf')\n",
    "    \n",
    "    # prepare the metric plot figure\n",
    "    %matplotlib inline\n",
    "    fig, ax_array = plt.subplots(2, 2, figsize=(10,10))\n",
    "    for i in range(2):\n",
    "        for j in range(2):\n",
    "            ax_array[i,j].set_xlabel(\"Epoch\")\n",
    "    ax_array[0,0].set_title(\"Triplet Loss Percentiles averaged\\n over batches in epoch\")\n",
    "    ax_array[0,0].set_ylabel(\"Loss\")\n",
    "    ax_array[0,1].set_title(\"Average non-zero loss in Batch (over epoch)\")\n",
    "    ax_array[0,1].set_ylabel(\"Ratio of non-zero losses\")\n",
    "    ax_array[1,0].set_title(\"Distance Between Embedding Percentiles\\n averaged over batches in epoch\")\n",
    "    ax_array[1,0].set_ylabel(\"Distance\")\n",
    "    ax_array[1,1].set_title(\"Magnitude of Embeddings Percentiles\\n averaged over batches in epoch\")\n",
    "    ax_array[1,1].set_title(\"Norm\")\n",
    "    artists=[]\n",
    "    met_epochs=np.arange(compute_metrics_every_epochs-1, epochs, compute_metrics_every_epochs)\n",
    "\n",
    "    \n",
    "    for epoch in range(epochs):\n",
    "        if epoch % compute_metrics_every_epochs==compute_metrics_every_epochs-1:\n",
    "            \n",
    "            train_epoch_monitor_everything(epoch, criterion, model, optimizer, train_loader,\n",
    "                                print_loss_every_batches=print_loss_every_batches,\n",
    "                                optimizer_step_every_batches=optimizer_step_every_batches,\n",
    "                                epoch_av_loss=epoch_av_loss, \n",
    "                                epoch_av_non_zero_loss=epoch_av_non_zero_loss,\n",
    "                                epoch_q_loss=epoch_q_loss,\n",
    "                                epoch_q_dist_embs=epoch_q_dist_embs,\n",
    "                                epoch_q_norm_embs=epoch_q_norm_embs,\n",
    "                                percentiles=percentiles,\n",
    "                                per_epoch_use_max_batches=per_epoch_use_max_train_batches)\n",
    "           \n",
    "            if epoch % plot_metrics_every_epochs==plot_metrics_every_epochs-1:\n",
    "\n",
    "                artists += ax_array[0,0].plot(met_epochs, np.array(epoch_q_loss), label=q)\n",
    "                artists += ax_array[0,0].plot(met_epochs, epoch_av_loss, label=\"Average\")\n",
    "                artists += ax_array[0,1].plot(met_epochs, epoch_av_non_zero_loss  )\n",
    "                artists += ax_array[1,0].plot(met_epochs, np.array(epoch_q_dist_embs), label=q)\n",
    "                artists += ax_array[1,1].plot(met_epochs, np.array(epoch_q_norm_embs), label=q)\n",
    "\n",
    "                for ax in ax_array.flatten():\n",
    "                    ax.set_prop_cycle(cycler('color', [\"#1f77b4\", \"#ff7f0e\", \"#2ca02c\"]))\n",
    "                    ax.legend()\n",
    "\n",
    "                if image_path is not None:\n",
    "                    plt.savefig(image_path)\n",
    "                    for artist in artists:\n",
    "                        artist.remove()\n",
    "                    artists=[]\n",
    "                else:\n",
    "                    display_IPython.clear_output(wait=True)\n",
    "                    plt.pause(0.001)\n",
    "                    plt.show()\n",
    "                    artists=[]\n",
    "        else:\n",
    "            train_epoch(epoch, criterion, model, optimizer, train_loader, print_loss_every_batches,\n",
    "                optimizer_step_every_batches, per_epoch_use_max_batches)\n",
    "        \n",
    "        \n",
    "        if epoch and epoch_av_loss[-1] <= min_loss and best_model_path:\n",
    "            min_loss = epoch_av_loss[-1]\n",
    "            torch.save({\n",
    "                'model': model.state_dict(),\n",
    "                'optimizer': optimizer.state_dict(),\n",
    "                }, best_model_path)\n",
    "        \n",
    "                \n",
    "        if epoch % save_model_every_epochs==save_model_every_epochs-1 and model_path:\n",
    "            torch.save({\n",
    "            'model': model.state_dict(),\n",
    "            'optimizer': optimizer.state_dict(),\n",
    "            }, model_path)\n",
    "\n",
    "    return epoch_av_loss, epoch_av_non_zero_loss, epoch_q_loss, epoch_q_dist_embs, epoch_q_norm_embs, min_loss"
   ]
  },
  {
   "cell_type": "markdown",
   "metadata": {},
   "source": [
    "### The Dataset class and Data Sampler"
   ]
  },
  {
   "cell_type": "code",
   "execution_count": 10,
   "metadata": {},
   "outputs": [
    {
     "data": {
      "text/html": [
       "\n",
       "        <script>\n",
       "            function code_toggle_4651728356175680525() {\n",
       "                $('div.cell.code_cell.rendered.selected').next().find('div.input').toggle();\n",
       "            }\n",
       "\n",
       "            $('div.cell.code_cell.rendered.selected').find(\"div.input\").hide();\n",
       "        </script>\n",
       "\n",
       "        <a href=\"javascript:code_toggle_4651728356175680525()\">Toggle show/hide next cell</a>\n",
       "    "
      ],
      "text/plain": [
       "<IPython.core.display.HTML object>"
      ]
     },
     "execution_count": 10,
     "metadata": {},
     "output_type": "execute_result"
    }
   ],
   "source": [
    "hide_toggle(for_next=True)"
   ]
  },
  {
   "cell_type": "code",
   "execution_count": 70,
   "metadata": {},
   "outputs": [],
   "source": [
    "from torch.utils.data import Dataset\n",
    "from torchvision.io import read_image\n",
    "from torch.utils.data import DataLoader\n",
    "\n",
    "class ImageDataloader(Dataset):\n",
    "    def __init__(self, GT_file_path, h5f_full_path, P, K, produce_batches_per_epoch):\n",
    "        self.df_GTs = pd.DataFrame.from_dict(json.load(open(GT_file_path))) \n",
    "        # Que te linkee el nombre de la entrada del h5f (un index del batch) con los ground truth phis\n",
    "\n",
    "        self.h5f = h5py.File(f\"{h5f_full_path}\", 'r')\n",
    "        self.num_diff_perfects = len(self.h5f)\n",
    "        shape = self.h5f[ self.df_GTs[0]['ID'] ].shape\n",
    "        self.max_K = shape[0]\n",
    "        self.image_size = shape[1:]\n",
    "        print(f\"There are {self.num_diff_perfs} total different classes (w0,R0,phiCR) triplets.\")\n",
    "        print(f\"For each of them, there are the denoised and {self.max_K-1} noisy versions\")\n",
    "        print(f\"Each image is of shape {self.image_size}\")\n",
    "        print(f\"A total of {self.num_diff_perfs*self.max_K} different images in the dataset, with their GT phiCRs\")\n",
    "        self.K = min(K, self.max_K) # number of versions of each class to employ per batch\n",
    "        self.P = P # number of different \"classes\" to employ per batch\n",
    "        self.PK = self.K*self.P\n",
    "        self.produce_batches_per_epoch = produce_batches_per_epoch\n",
    "        \n",
    "    def __len__(self):\n",
    "        return self.produce_batches_per_epoch\n",
    "\n",
    "    def __getitem__(self, idx):\n",
    "        # sudar olimplicamente del idx y simplemente devolver una combinación que tenga que ser aleatoria\n",
    "        random_indices = np.random.choice(range(self.num_diff_perfs), self.P, replace=False)\n",
    "        data = torch.zeros((self.P, self.K, self.image_size[0], self.image_size[1]), \n",
    "                          device=device, dtype=torch.float32) # [P,K,2X+1,2X+1]\n",
    "        #gt_phiCR = torch.zeros((self.P, 1), device=device, dtype=torch.float32) #[P,1]\n",
    "        for ind in random_indices:\n",
    "            data[i,:,:,:] = torch.tensor( np.array(self.h5f[str(ind)]), sevice=device, dtype=torch.float32 ) \n",
    "            #gt_phiCR[i] = self.df_GTs['ID'==str(i)]['phiCR']\n",
    "        return data.reshape((self.PK, self.image_size[0], self.image_size[1])) #, gt_phiCR\n",
    "    # we return the data as [PK, 2X+1, 2X+1] where the first K in axis 0 belong to a same anchor P, next\n",
    "    # K to a different same anchor etc.\n",
    "    # solo devuelve las imagenes ya subidas a la gpu, luego fuera hay que hacer el cómputo de la métrica\n",
    "    # y hacer el pairwise todo!\n",
    "    \n"
   ]
  },
  {
   "cell_type": "markdown",
   "metadata": {},
   "source": [
    "## The Triplet Losses"
   ]
  },
  {
   "cell_type": "code",
   "execution_count": null,
   "metadata": {},
   "outputs": [],
   "source": [
    "class batch_hard_losses_hard_margin(torch.autograd.Function):\n",
    "    def __init__(self, m, P, K):\n",
    "        super(batch_hard_losses_hard_margin, self).__init__()\n",
    "        self.margin = m\n",
    "        self.P=P\n",
    "        self.K=K\n",
    "        self.PK=P*K\n",
    "        self.relu = nn.ReLU()\n",
    "        \n",
    "        # we will reuse the table of distances matrix\n",
    "        self.D = torch.zeros((self.PK, self.PK), device=device) #[PK, PK]\n",
    "        # also the indices for upper triangular access\n",
    "        triu_indices = torch.triu_indices(row=self.PK, col=self.PK, offset=1) # indices for upper triangular\n",
    "\n",
    "        # Let us now build the indices for negative and positive selection\n",
    "        ones_block=torch.ones((K,K), dtype=torch.bool, device=device)\n",
    "        self.diagonal_KxK_blocks_are_one = torch.kron(torch.eye(P, dtype=torch.bool, device=device), ones_block)\n",
    "        #diagonal_KxK_blocks_are_zero = torch.logical_not(diagonal_KxK_blocks_are_one)\n",
    "\n",
    "        \n",
    "    def forward(embeddings):\n",
    "        # Embeddings are expected to be in the format [PK,embedding_dim]\n",
    "        # where the K first belong to a same P, the next K to a different P etc.\n",
    "        # we can achieve this by reshaping [P,K,embedding_dim] to [PK, embedding_dim]\n",
    "        # We first need to get the [0.5*PK*(PK-1)] relative distances Only strictly necessary distances computed\n",
    "        distances = torch.pdist(embeddings, p=2)\n",
    "        \n",
    "        # We will build here the relative distances table\n",
    "        self.D[self.triu_indices[0], self.triu_indices[1]] = distances\n",
    "        self.D.T[self.triu_indices[0], self.triu_indices[1]] = distances\n",
    "        # Now D is the relative distances matrix (with zeros in diagonal)\n",
    "\n",
    "        \n",
    "        positives = torch.where(self.diagonal_KxK_blocks_are_one, \n",
    "                                self.D, torch.tensor([0.0], device=device))\n",
    "        negatives = torch.where(self.diagonal_KxK_blocks_are_one, \n",
    "                                torch.tensor([torch.inf], device=device), self.D)\n",
    "\n",
    "        hard_positives = torch.max(positives, axis=0)[0]\n",
    "        hard_negatives = torch.min(negatives, axis=0)[0]\n",
    "\n",
    "        return self.relu(self.margin+hard_positives-hard_negatives) #[PK] losses returned. Overall loss will be the sum\n",
    "\n",
    "    \n",
    "class batch_hard_losses_soft_margin(torch.autograd.Function):\n",
    "    def __init__(self, P, K):\n",
    "        super(batch_hard_losses_soft_margin, self).__init__()\n",
    "        self.P=P\n",
    "        self.K=K\n",
    "        self.PK=P*K\n",
    "        self.softplus = nn.Softplus()\n",
    "        \n",
    "        # we will reuse the table of distances matrix\n",
    "        self.D = torch.zeros((self.PK, self.PK), device=device) #[PK, PK]\n",
    "        # also the indices for upper triangular access\n",
    "        triu_indices = torch.triu_indices(row=self.PK, col=self.PK, offset=1) # indices for upper triangular\n",
    "\n",
    "        # Let us now build the indices for negative and positive selection\n",
    "        ones_block=torch.ones((K,K), dtype=torch.bool, device=device)\n",
    "        self.diagonal_KxK_blocks_are_one = torch.kron(torch.eye(P, dtype=torch.bool, device=device), ones_block)\n",
    "        #diagonal_KxK_blocks_are_zero = torch.logical_not(diagonal_KxK_blocks_are_one)\n",
    "\n",
    "        \n",
    "    def forward(embeddings):\n",
    "        # Embeddings are expected to be in the format [PK,embedding_dim]\n",
    "        # where the K first belong to a same P, the next K to a different P etc.\n",
    "        # we can achieve this by reshaping [P,K,embedding_dim] to [PK, embedding_dim]\n",
    "        # We first need to get the [0.5*PK*(PK-1)] relative distances Only strictly necessary distances computed\n",
    "        distances = torch.pdist(embeddings, p=2)\n",
    "        \n",
    "        # We will build here the relative distances table\n",
    "        self.D[self.triu_indices[0], self.triu_indices[1]] = distances\n",
    "        self.D.T[self.triu_indices[0], self.triu_indices[1]] = distances\n",
    "        # Now D is the relative distances matrix (with zeros in diagonal)\n",
    "\n",
    "        \n",
    "        positives = torch.where(self.diagonal_KxK_blocks_are_one, \n",
    "                                self.D, torch.tensor([0.0], device=device))\n",
    "        negatives = torch.where(self.diagonal_KxK_blocks_are_one, \n",
    "                                torch.tensor([torch.inf], device=device), self.D)\n",
    "\n",
    "        hard_positives = torch.max(positives, axis=0)[0]\n",
    "        hard_negatives = torch.min(negatives, axis=0)[0]\n",
    "\n",
    "        return self.softplus(hard_positives-hard_negatives) #[PK] losses returned (the overall loss will be the sum)\n"
   ]
  },
  {
   "cell_type": "markdown",
   "metadata": {},
   "source": [
    "---\n",
    "# Initialize the dataset and sampler (choose the number of batches per epoch, and their length) and fix the artificial noise hyperparameters\n",
    "\n",
    "Note that since in each epoch the dataset shown to the model will be random, we can use the same dataset as a validation set."
   ]
  },
  {
   "cell_type": "code",
   "execution_count": 8,
   "metadata": {},
   "outputs": [],
   "source": [
    "dataset_path = \"/home/oiangu/Hippocampus/Conical_Refraction_Polarimeter/OUTPUT/LIBRARIES_OF_THEORETICAL_D/Basler_like_R0_300x_w0_300x_Z_50x_64bit/Noisy_Non_Noisy_same_angle/TRAIN/\"\n",
    "GT_file_path_train = f\"{dataset_path}/TRAIN/GROUND_TRUTHS_K=4_Noisy_Non_Noisy_same_angle.json\"\n",
    "images_h5_path_train = f\"{dataset_path}/TRAIN/Dataset_K=4_Noisy_Non_Noisy_same_angle.h5\" \n",
    "GT_file_path_test = f\"{dataset_path}/TRAIN/GROUND_TRUTHS_K=4_Noisy_Non_Noisy_same_angle.json\"\n",
    "images_h5_path_test = f\"{dataset_path}/TRAIN/Dataset_K=4_Noisy_Non_Noisy_same_angle.h5\" \n",
    "\n",
    "save_stuff_path = f\"/home/oiangu/Hippocampus/Conical_Refraction_Polarimeter/OUTPUT/LIBRARIES_OF_THEORETICAL_D/Basler_like_R0_300x_w0_300x_Z_50x_64bit/SIMULATIONS/Proximity_Metric/\"\n",
    "\n",
    "total_epochs = 10000\n",
    "optimizer_step_every_batches = 3\n",
    "per_epoch_use_max_train_batches= 100\n",
    "save_model_every_epochs = 1\n",
    "torch.manual_seed(678)\n",
    "compute_metrics_every_epochs=2\n",
    "plot_metrics_every_epochs=4\n",
    "\n",
    "quantiles=[0.1,0.5,0.9]\n",
    "\n",
    "K=4\n",
    "P=10\n",
    "margin=10\n",
    "\n",
    "#exp_name='Proximity_Metric_from_Image_Corrector'+'_Batch_Hard_Margin'\n",
    "exp_name='Proximity_Metric_from_Simple_Encoder'+'_Batch_Hard_Margin'\n",
    "#exp_name='Proximity_Metric_from_Image_Corrector'+'_Batch_Hard_Soft_Margin'\n",
    "#exp_name='Proximity_Metric_from_Simple_Encoder'+'_Batch_Hard_Soft_Margin'\n"
   ]
  },
  {
   "cell_type": "code",
   "execution_count": 16,
   "metadata": {},
   "outputs": [
    {
     "ename": "FileNotFoundError",
     "evalue": "[Errno 2] No such file or directory: '/home/oiangu/Hippocampus/Conical_Refraction_Polarimeter/OUTPUT/LIBRARIES_OF_THEORETICAL_D/Basler_like_R0_300x_w0_300x_Z_50x_64bit/Noisy_Non_Noisy_same_angle/TRAIN//TRAIN/GROUND_TRUTHS_K=4_Noisy_Non_Noisy_same_angle.json'",
     "output_type": "error",
     "traceback": [
      "\u001b[0;31m---------------------------------------------------------------------------\u001b[0m",
      "\u001b[0;31mFileNotFoundError\u001b[0m                         Traceback (most recent call last)",
      "\u001b[0;32m/tmp/ipykernel_7646/2853127103.py\u001b[0m in \u001b[0;36m<module>\u001b[0;34m\u001b[0m\n\u001b[0;32m----> 1\u001b[0;31m \u001b[0mtraining_data\u001b[0m \u001b[0;34m=\u001b[0m \u001b[0mImageDataloader\u001b[0m\u001b[0;34m(\u001b[0m\u001b[0mGT_file_path_train\u001b[0m\u001b[0;34m,\u001b[0m \u001b[0mimages_h5_path_train\u001b[0m\u001b[0;34m,\u001b[0m \u001b[0mP\u001b[0m\u001b[0;34m,\u001b[0m \u001b[0mK\u001b[0m\u001b[0;34m,\u001b[0m \u001b[0mper_epoch_use_max_train_batches\u001b[0m\u001b[0;34m)\u001b[0m\u001b[0;34m\u001b[0m\u001b[0;34m\u001b[0m\u001b[0m\n\u001b[0m\u001b[1;32m      2\u001b[0m \u001b[0mtest_data\u001b[0m \u001b[0;34m=\u001b[0m \u001b[0mImageDataloader\u001b[0m\u001b[0;34m(\u001b[0m\u001b[0mGT_file_path_test\u001b[0m\u001b[0;34m,\u001b[0m \u001b[0mimages_h5_path_test\u001b[0m\u001b[0;34m,\u001b[0m \u001b[0mP\u001b[0m\u001b[0;34m,\u001b[0m \u001b[0mK\u001b[0m\u001b[0;34m,\u001b[0m \u001b[0mper_epoch_use_max_test_batches\u001b[0m\u001b[0;34m)\u001b[0m\u001b[0;34m\u001b[0m\u001b[0;34m\u001b[0m\u001b[0m\n",
      "\u001b[0;32m/tmp/ipykernel_7646/1130023049.py\u001b[0m in \u001b[0;36m__init__\u001b[0;34m(self, GT_file_path, h5f_full_path, P, K, produce_batches_per_epoch)\u001b[0m\n\u001b[1;32m      5\u001b[0m \u001b[0;32mclass\u001b[0m \u001b[0mImageDataloader\u001b[0m\u001b[0;34m(\u001b[0m\u001b[0mDataset\u001b[0m\u001b[0;34m)\u001b[0m\u001b[0;34m:\u001b[0m\u001b[0;34m\u001b[0m\u001b[0;34m\u001b[0m\u001b[0m\n\u001b[1;32m      6\u001b[0m     \u001b[0;32mdef\u001b[0m \u001b[0m__init__\u001b[0m\u001b[0;34m(\u001b[0m\u001b[0mself\u001b[0m\u001b[0;34m,\u001b[0m \u001b[0mGT_file_path\u001b[0m\u001b[0;34m,\u001b[0m \u001b[0mh5f_full_path\u001b[0m\u001b[0;34m,\u001b[0m \u001b[0mP\u001b[0m\u001b[0;34m,\u001b[0m \u001b[0mK\u001b[0m\u001b[0;34m,\u001b[0m \u001b[0mproduce_batches_per_epoch\u001b[0m\u001b[0;34m)\u001b[0m\u001b[0;34m:\u001b[0m\u001b[0;34m\u001b[0m\u001b[0;34m\u001b[0m\u001b[0m\n\u001b[0;32m----> 7\u001b[0;31m         \u001b[0mself\u001b[0m\u001b[0;34m.\u001b[0m\u001b[0mdf_GTs\u001b[0m \u001b[0;34m=\u001b[0m \u001b[0mpd\u001b[0m\u001b[0;34m.\u001b[0m\u001b[0mDataFrame\u001b[0m\u001b[0;34m.\u001b[0m\u001b[0mfrom_dict\u001b[0m\u001b[0;34m(\u001b[0m\u001b[0mjson\u001b[0m\u001b[0;34m.\u001b[0m\u001b[0mload\u001b[0m\u001b[0;34m(\u001b[0m\u001b[0mopen\u001b[0m\u001b[0;34m(\u001b[0m\u001b[0mGT_file_path\u001b[0m\u001b[0;34m)\u001b[0m\u001b[0;34m)\u001b[0m\u001b[0;34m)\u001b[0m\u001b[0;34m\u001b[0m\u001b[0;34m\u001b[0m\u001b[0m\n\u001b[0m\u001b[1;32m      8\u001b[0m         \u001b[0;31m# Que te linkee el nombre de la entrada del h5f (un index del batch) con los ground truth phis\u001b[0m\u001b[0;34m\u001b[0m\u001b[0;34m\u001b[0m\u001b[0;34m\u001b[0m\u001b[0m\n\u001b[1;32m      9\u001b[0m \u001b[0;34m\u001b[0m\u001b[0m\n",
      "\u001b[0;31mFileNotFoundError\u001b[0m: [Errno 2] No such file or directory: '/home/oiangu/Hippocampus/Conical_Refraction_Polarimeter/OUTPUT/LIBRARIES_OF_THEORETICAL_D/Basler_like_R0_300x_w0_300x_Z_50x_64bit/Noisy_Non_Noisy_same_angle/TRAIN//TRAIN/GROUND_TRUTHS_K=4_Noisy_Non_Noisy_same_angle.json'"
     ]
    }
   ],
   "source": [
    "training_data = ImageDataloader(GT_file_path_train, images_h5_path_train, P, K, per_epoch_use_max_train_batches)"
   ]
  },
  {
   "cell_type": "markdown",
   "metadata": {},
   "source": [
    "# Fix the Hyperparameters and Initialize the Model and the Optimizer"
   ]
  },
  {
   "cell_type": "code",
   "execution_count": 15,
   "metadata": {},
   "outputs": [],
   "source": [
    "# DENOISER BASED METRIC ############\n",
    "X=302\n",
    "S0=2*X+1\n",
    "S1=2*250+1\n",
    "S2=2*200+1\n",
    "S3=2*150+1\n",
    "S4=2*10+1\n",
    "S5=2*1+1\n",
    "S6=2\n",
    "feats_S1=5\n",
    "feats_S2=5\n",
    "feats_S3=10\n",
    "feats_S4=20\n",
    "feats_S5=20\n",
    "feats_S6=25\n",
    "out_fc1=100\n",
    "dropout_p=0.1\n",
    "\n",
    "# SIMPLE ENCODER TO phiCR BASED METRIC ###########\n",
    "X=302\n",
    "feats_1=20\n",
    "feats_2=20\n",
    "feats_3=20\n",
    "feats_4=5\n",
    "prop1=2.5\n",
    "prop2=1.5\n",
    "prop3=0.6\n",
    "av_pool1_div=2\n",
    "conv4_feat_size=8\n",
    "av_pool2_div=10\n",
    "out_fc_1=5\n",
    "dropout_p1=0.2\n",
    "dropout_p2=0.1\n",
    "\n",
    "\n",
    "# FOR BOTH, THE EMBEDDING SPACE DIMENSION WILL BE CHOSEN BY\n",
    "out_fc2=10"
   ]
  },
  {
   "cell_type": "code",
   "execution_count": 16,
   "metadata": {
    "scrolled": false
   },
   "outputs": [
    {
     "name": "stdout",
     "output_type": "stream",
     "text": [
      "Number of parameters 16779415\n",
      "Initial shape torch.Size([3, 1, 605, 605])\n",
      "Conv01 shape torch.Size([3, 5, 501, 501]) should be [3,5,501, 501]\n",
      "Conv12 shape torch.Size([3, 5, 401, 401]) should be [3,5,401, 401]\n",
      "Conv23 shape torch.Size([3, 10, 301, 301]) should be [3,10,301, 301]\n",
      "Conv34 shape torch.Size([3, 20, 21, 21]) should be [3,20,21, 21]\n",
      "Conv45 shape torch.Size([3, 20, 3, 3]) should be [3,20,3, 3]\n",
      "Conv56 shape torch.Size([3, 25, 2, 2]) should be [3,25,2, 2]\n",
      "Input to fc1 is torch.Size([3, 100]) should be [3, 100]\n",
      "Output of fc1 is torch.Size([3, 100]) should be [3, 100]\n",
      "Output of fc2 is torch.Size([3, 100]) should be [3, 100]\n"
     ]
    }
   ],
   "source": [
    "model = Proximity_Metric_Based_On_Corrector(S0=S0, S1=S1, S2=S2, S3=S3, S4=S4, S5=S5, S6=S6,\n",
    "                 feats_S1=feats_S1, feats_S2=feats_S2, feats_S3=feats_S3, feats_S4=feats_S4,\n",
    "                 feats_S5=feats_S5, feats_S6=feats_S6,\n",
    "                 out_fc1=out_fc1, out_fc2=out_fc2,\n",
    "                 dropout_p=dropout_p ) \n",
    "\n",
    "'''\n",
    "model = Proximity_Metric_Based_On_Simple_Encoder( X=X, feats_1=feats_1, feats_2=feats_2, feats_3=feats_3, feats_4=feats_4,\n",
    "                 prop1=prop1, prop2=prop2, prop3=prop3, av_pool1_div=av_pool1_div, conv4_feat_size=conv4_feat_size, \n",
    "                av_pool2_div=av_pool2_div, \n",
    "                 out_fc_1=out_fc_1, out_fc_2=out_fc2,\n",
    "                 dropout_p1=dropout_p1, dropout_p2=dropout_p2 ) \n",
    "'''\n",
    "\n",
    "print(f\"Number of parameters {get_n_params(model)}\")\n",
    "\n",
    "# In case we wish to transfer the learned parameters of another run\n",
    "#check_file=\"Noisy_Model_and_Optimizer_2022-01-18 11:37:26.485463.pt\"\n",
    "#checkpoint = torch.load(save_stuff_path+f\"/NNs/{check_file}\")\n",
    "\n",
    "# move model to gpu if available\n",
    "model.to(device)\n",
    "model.print_shapes(batch_size=3)\n",
    "\n",
    "#model.load_state_dict(checkpoint['model'])\n",
    "\n",
    "\n",
    "# Initialize the weights of the model! Default initialization might already be fine!\n",
    "\n",
    "# Triplet loss initialization\n",
    "loss = batch_hard_losses_hard_margin(margin, P, K)\n",
    "#loss = batch_hard_losses_soft_margin( P, K)\n",
    "\n",
    "# we will choose as optimizer the \n",
    "#optimizer = torch.optim.Adagrad(model.parameters(), lr=0.1, lr_decay=0.01, weight_decay=0.3,\n",
    "#                                initial_accumulator_value=0, eps=1e-10)\n",
    "\n",
    "optimizer = torch.optim.Adam(model.parameters(), lr=0.001, betas=(0.9, 0.999), eps=1e-08, weight_decay=0, amsgrad=False)\n",
    "#optimizer.load_state_dict(checkpoint['optimizer'])"
   ]
  },
  {
   "cell_type": "markdown",
   "metadata": {},
   "source": [
    "# Run the Training"
   ]
  },
  {
   "cell_type": "code",
   "execution_count": null,
   "metadata": {
    "scrolled": false
   },
   "outputs": [],
   "source": [
    "%%time\n",
    "losses = full_training_loop_monitor_partially(model, loss, optimizer, training_data, \n",
    "                    epochs=total_epochs, print_loss_every_batches=1,\n",
    "                            compute_metrics_every_epochs=compute_metrics_every_epochs,\n",
    "                            plot_metrics_every_epochs=plot_metrics_every_epochs,\n",
    "                           optimizer_step_every_batches=optimizer_step_every_batches,\n",
    "                           per_epoch_use_max_train_batches=per_epoch_use_max_train_batches, \n",
    "                           image_path=save_stuff_path+ f\"/Training_Loss_{datetime.now()}_{exp_name}.png\",\n",
    "                           save_model_every_epochs=save_model_every_epochs, \n",
    "                            model_path=save_stuff_path+f\"/Model_and_Optimizer_{datetime.now()}_{exp_name}.pt\",\n",
    "                            best_model_path=save_stuff_path+f\"/BEST_Model_and_Optimizer_{datetime.now()}_{exp_name}.pt\",\n",
    "                            quantiles=quantiles\n",
    "                           )\n",
    "# Execute the training and validation"
   ]
  },
  {
   "cell_type": "markdown",
   "metadata": {},
   "source": [
    "# Save the resulting model weights"
   ]
  },
  {
   "cell_type": "code",
   "execution_count": null,
   "metadata": {},
   "outputs": [],
   "source": [
    "torch.save({\n",
    "            'model': model.state_dict(),\n",
    "            'optimizer': optimizer.state_dict(),\n",
    "            }, save_stuff_path+f\"/FINAL_Model_and_Optimizer_{datetime.now()}_{exp_name}.pt\")"
   ]
  },
  {
   "cell_type": "markdown",
   "metadata": {},
   "source": [
    "# Final Validation\n",
    "For the validation of the Embedding, we could check the following ones:\n",
    "    \n",
    "$\\quad$   **(a)** Embedd some random samples and project them to 3D and 2D space using PCA and UMAP, to check the performance visually.\n",
    "   \n",
    "$\\quad$   **(b)** Use it in a simulation fit algorithm as a metric for the image fit.\n",
    "   \n",
    "$\\quad$   **(c)** Use it as a KNN distance metric on a huge library of GT angle images."
   ]
  },
  {
   "cell_type": "markdown",
   "metadata": {},
   "source": [
    "# (a)"
   ]
  },
  {
   "cell_type": "code",
   "execution_count": null,
   "metadata": {},
   "outputs": [],
   "source": [
    "P_to_embedd = 100\n",
    "K_to_embedd = K\n",
    "\n",
    "test_data = ImageDataloader(GT_file_path_test, images_h5_path_test, 1, K_to_embedd, 1, return_labels= True)"
   ]
  },
  {
   "cell_type": "code",
   "execution_count": null,
   "metadata": {},
   "outputs": [],
   "source": [
    "images = np.array(training_data[i].to('cpu')) # [KP, 2X+1, 2X+1] uint8 in device\n",
    "\n",
    "fig, ax_array = plt.subplots(P, K)\n",
    "for p in range(P):\n",
    "    ax_array[p][0].set_xlabel(f\"p={p}\")\n",
    "    for k in range(K):\n",
    "        ax_array[p][k].imshow(images[K*p+k])\n",
    "plt.setp(axes, xticks=[], yticks=[], frame_on=False)\n",
    "plt.tight_layout(h_pad=0.4, w_pad=0.0001)"
   ]
  },
  {
   "cell_type": "code",
   "execution_count": null,
   "metadata": {},
   "outputs": [],
   "source": [
    "from sklearn.decomposition import PCA\n",
    "import plotly.express as px\n",
    "from umap import UMAP\n",
    "\n",
    "# Get the Embeddings and the Images to plot\n",
    "model.eval()\n",
    "embeddings = np.zeros(( P_to_embedd*K_to_embedd, out_fc2), dtype=mp.float32)\n",
    "\n",
    "# x,y are only required for the plotting within the 2D PCA and UMAP\n",
    "x = np.zeros( ( P_to_embedd*K_to_embedd, (2*X+1)**2), dtype=np.uint8)\n",
    "y = np.zeros(( P_to_embedd*K_to_embedd), dtype=np.float32)\n",
    "\n",
    "\n",
    "for p in range(P):\n",
    "    images, label = test_data[p] # [ K_to_embedd, 2X+1, 2X+1]\n",
    "    embeddings[ K*p:(K*(p+1)), :] = np.array(model(images).to('cpu')) # [ K_to_embedd, embedding_dim]\n",
    "    \n",
    "    x[K*p:(K*(p+1)), :] = np.array(images.to('cpu'))\n",
    "    y[K*p:(K*(p+1)), :] = label[0]    \n",
    "\n",
    "df = pd.DataFrame({'y':y})\n",
    "df['phiCR'] = df[\"y\"].astype(str)\n"
   ]
  },
  {
   "cell_type": "code",
   "execution_count": null,
   "metadata": {},
   "outputs": [],
   "source": [
    "# If willing to use an already generated test visualization\n",
    "df = pd.read_pickle(save_stuff_path+f\"/Test_Visualization_df_TalTal_{exp_name}.pkl\")"
   ]
  },
  {
   "cell_type": "markdown",
   "metadata": {},
   "source": [
    "## PCA to 2D"
   ]
  },
  {
   "cell_type": "code",
   "execution_count": null,
   "metadata": {},
   "outputs": [],
   "source": [
    "pca = PCA(n_components=2)\n",
    "\n",
    "principalComponents = pca.fit_transform(embeddings)\n",
    "# step optimizable!\n",
    "principalDf = pd.DataFrame(data = principalComponents\n",
    "             , columns = ['principal component 1', 'principal component 2'])\n",
    "df['principal component 1 2D'] = principalDf['principal component 1']\n",
    "df['principal component 2 2D'] = principalDf['principal component 2']"
   ]
  },
  {
   "cell_type": "code",
   "execution_count": null,
   "metadata": {},
   "outputs": [],
   "source": [
    "from io import BytesIO\n",
    "from PIL import Image\n",
    "import base64\n",
    "from bokeh.plotting import figure, show, output_notebook\n",
    "from bokeh.models import HoverTool, ColumnDataSource, LinearColorMapper\n",
    "from bokeh.palettes import Spectral10\n",
    "\n",
    "output_notebook()\n",
    "\n",
    "def embeddable_image(data):\n",
    "    img_data = data.values.reshape(X21,X21)\n",
    "    image = Image.fromarray(img_data, mode='L').resize((64, 64), Image.BICUBIC)\n",
    "    buffer = BytesIO()\n",
    "    image.save(buffer, format='png')\n",
    "    for_encoding = buffer.getvalue()\n",
    "    return 'data:image/png;base64,' + base64.b64encode(for_encoding).decode()\n",
    "\n",
    "df['image'] = pd.DataFrame(data=x, columns=list(range(x.shape[1]))).apply(embeddable_image, axis=1)\n",
    "\n",
    "datasource = ColumnDataSource(df)\n",
    "color_mapping = LinearColorMapper(\n",
    "    palette='Magma256',\n",
    "    low=y.min(),\n",
    "    high=y.max()\n",
    ")\n",
    "\n",
    "plot_figure = figure(\n",
    "    title='PCA projection of the CR dataset',\n",
    "    plot_width=800,\n",
    "    plot_height=800,\n",
    "    tools=('pan, wheel_zoom, reset')\n",
    ")\n",
    "\n",
    "plot_figure.add_tools(HoverTool(tooltips=\"\"\"\n",
    "<div>\n",
    "    <div>\n",
    "        <img src='@image' style='float: left; margin: 5px 5px 5px 5px'/>\n",
    "    </div>\n",
    "    <div>\n",
    "        <span style='font-size: 16px; color: #224499'>phiCR:</span>\n",
    "        <span style='font-size: 18px'>@phiCR</span>\n",
    "    </div>\n",
    "</div>\n",
    "\"\"\"))\n",
    "\n",
    "plot_figure.circle(\n",
    "    'principal component 1 2D',\n",
    "    'principal component 2 2D',\n",
    "    source=datasource,\n",
    "    color=dict(field='phiCR', transform=color_mapping),\n",
    "    line_alpha=0.6,\n",
    "    fill_alpha=0.6,\n",
    "    size=7\n",
    ")\n",
    "show(plot_figure)"
   ]
  },
  {
   "cell_type": "markdown",
   "metadata": {},
   "source": [
    "## PCA to 3D"
   ]
  },
  {
   "cell_type": "code",
   "execution_count": null,
   "metadata": {},
   "outputs": [],
   "source": [
    "pca = PCA(n_components=3)\n",
    "\n",
    "principalComponents = pca.fit_transform(embeddings)\n",
    "principalDf = pd.DataFrame(data = principalComponents\n",
    "             , columns = ['principal component 1', 'principal component 2', 'principal component 3'])\n",
    "df['principal component 1 3D'] = principalDf['principal component 1']\n",
    "df['principal component 2 3D'] = principalDf['principal component 2']\n",
    "df['principal component 3 3D'] = principalDf['principal component 3']"
   ]
  },
  {
   "cell_type": "code",
   "execution_count": null,
   "metadata": {},
   "outputs": [],
   "source": [
    "fig=px.scatter_3d(df, x=\"principal component 1 3D\", y=\"principal component 2 3D\", z=\"principal component 3 3D\", color=\"y\")\n",
    "fig.update_traces(marker={\"size\":3})\n",
    "fig.update_yaxes(scaleanchor=\"x\", scaleratio=1)\n",
    "fig.show()"
   ]
  },
  {
   "cell_type": "markdown",
   "metadata": {},
   "source": [
    "## UMAP to 2D"
   ]
  },
  {
   "cell_type": "code",
   "execution_count": null,
   "metadata": {},
   "outputs": [],
   "source": [
    "umap_reducer = UMAP(n_components=2, min_dist=0.1, n_neighbors=500, metric='hamming')\n",
    "principalComponents = umap_reducer.fit_transform(embeddings)\n",
    "principalDf = pd.DataFrame(data = principalComponents\n",
    "             , columns = ['umap_1', 'umap_2'])\n",
    "df['umap_1 2D'] = principalDf['umap_1']\n",
    "df['umap_2 2D'] = principalDf['umap_2']"
   ]
  },
  {
   "cell_type": "code",
   "execution_count": null,
   "metadata": {},
   "outputs": [],
   "source": [
    "from io import BytesIO\n",
    "from PIL import Image\n",
    "import base64\n",
    "from bokeh.plotting import figure, show, output_notebook\n",
    "from bokeh.models import HoverTool, ColumnDataSource, LinearColorMapper\n",
    "from bokeh.palettes import Spectral10\n",
    "\n",
    "output_notebook()\n",
    "\n",
    "def embeddable_image(data):\n",
    "    img_data = data.values.reshape(X21,X21)\n",
    "    image = Image.fromarray(img_data, mode='L').resize((64, 64), Image.BICUBIC)\n",
    "    buffer = BytesIO()\n",
    "    image.save(buffer, format='png')\n",
    "    for_encoding = buffer.getvalue()\n",
    "    return 'data:image/png;base64,' + base64.b64encode(for_encoding).decode()\n",
    "\n",
    "df['image'] = pd.DataFrame(data=x, columns=list(range(x.shape[1]))).apply(embeddable_image, axis=1)\n",
    "\n",
    "\n",
    "datasource = ColumnDataSource(df)\n",
    "color_mapping = LinearColorMapper(\n",
    "    palette='Magma256',\n",
    "    low=y.min(),\n",
    "    high=y.max()\n",
    ")\n",
    "\n",
    "plot_figure = figure(\n",
    "    title='UMAP projection of the CR dataset',\n",
    "    plot_width=800,\n",
    "    plot_height=800,\n",
    "    tools=('pan, wheel_zoom, reset')\n",
    ")\n",
    "\n",
    "plot_figure.add_tools(HoverTool(tooltips=\"\"\"\n",
    "<div>\n",
    "    <div>\n",
    "        <img src='@image' style='float: left; margin: 5px 5px 5px 5px'/>\n",
    "    </div>\n",
    "    <div>\n",
    "        <span style='font-size: 16px; color: #224499'>phiCR:</span>\n",
    "        <span style='font-size: 18px'>@phiCR</span>\n",
    "    </div>\n",
    "</div>\n",
    "\"\"\"))\n",
    "\n",
    "plot_figure.circle(\n",
    "    'umap_1 2D',\n",
    "    'umap_2 2D',\n",
    "    source=datasource,\n",
    "    color=dict(field='phiCR', transform=color_mapping),\n",
    "    line_alpha=0.6,\n",
    "    fill_alpha=0.6,\n",
    "    size=7\n",
    ")\n",
    "show(plot_figure)"
   ]
  },
  {
   "cell_type": "markdown",
   "metadata": {},
   "source": [
    "## UMAP to 3D"
   ]
  },
  {
   "cell_type": "code",
   "execution_count": null,
   "metadata": {},
   "outputs": [],
   "source": [
    "from umap import UMAP\n",
    "\n",
    "umap_reducer = UMAP(n_components=3, min_dist=0.1, n_neighbors=400, metric='hamming') #euclidean, canberra, cosine, manhattan, braycurtis, mahalanobis, hamming\n",
    "principalComponents = umap_reducer.fit_transform(embeddings)\n",
    "principalDf = pd.DataFrame(data = principalComponents\n",
    "             , columns = ['umap_1', 'umap_2', 'umap_3'])\n",
    "df['umap_1 3D'] = principalDf['umap_1']\n",
    "df['umap_2 3D'] = principalDf['umap_2']\n",
    "df['umap_3 3D'] = principalDf['umap_3']"
   ]
  },
  {
   "cell_type": "code",
   "execution_count": null,
   "metadata": {},
   "outputs": [],
   "source": [
    "fig=px.scatter_3d(df, x=\"umap_1 3D\", y=\"umap_2 3D\", z=\"umap_3 3D\", color=\"y\")\n",
    "fig.update_traces(marker={\"size\":3})\n",
    "fig.update_yaxes(scaleanchor=\"x\", scaleratio=1)\n",
    "fig.show()"
   ]
  },
  {
   "cell_type": "markdown",
   "metadata": {},
   "source": [
    "Save the embedding visualizations."
   ]
  },
  {
   "cell_type": "code",
   "execution_count": null,
   "metadata": {},
   "outputs": [],
   "source": [
    "df.to_pickle(save_stuff_path+f\"/Test_Visualization_df_{datetime.now()}_{exp_name}.pkl\") "
   ]
  },
  {
   "cell_type": "code",
   "execution_count": null,
   "metadata": {},
   "outputs": [],
   "source": []
  },
  {
   "cell_type": "code",
   "execution_count": null,
   "metadata": {},
   "outputs": [],
   "source": []
  },
  {
   "cell_type": "code",
   "execution_count": null,
   "metadata": {},
   "outputs": [],
   "source": []
  },
  {
   "cell_type": "code",
   "execution_count": null,
   "metadata": {},
   "outputs": [],
   "source": []
  },
  {
   "cell_type": "code",
   "execution_count": null,
   "metadata": {},
   "outputs": [],
   "source": []
  },
  {
   "cell_type": "code",
   "execution_count": null,
   "metadata": {},
   "outputs": [],
   "source": []
  },
  {
   "cell_type": "code",
   "execution_count": null,
   "metadata": {},
   "outputs": [],
   "source": []
  },
  {
   "cell_type": "code",
   "execution_count": null,
   "metadata": {},
   "outputs": [],
   "source": []
  },
  {
   "cell_type": "markdown",
   "metadata": {},
   "source": [
    "## Test Jungle"
   ]
  },
  {
   "cell_type": "code",
   "execution_count": 14,
   "metadata": {},
   "outputs": [
    {
     "name": "stdout",
     "output_type": "stream",
     "text": [
      "torch.Size([3, 2, 5])\n"
     ]
    }
   ],
   "source": [
    "a=torch.ones((2, 5))\n",
    "b=3*a\n",
    "c=6*a\n",
    "d = torch.stack((a,b,c), axis=0)\n",
    "print(d.shape)"
   ]
  },
  {
   "cell_type": "code",
   "execution_count": 15,
   "metadata": {
    "scrolled": false
   },
   "outputs": [
    {
     "data": {
      "text/plain": [
       "tensor([[[1., 1., 1., 1., 1.],\n",
       "         [1., 1., 1., 1., 1.]],\n",
       "\n",
       "        [[3., 3., 3., 3., 3.],\n",
       "         [3., 3., 3., 3., 3.]],\n",
       "\n",
       "        [[6., 6., 6., 6., 6.],\n",
       "         [6., 6., 6., 6., 6.]]])"
      ]
     },
     "execution_count": 15,
     "metadata": {},
     "output_type": "execute_result"
    }
   ],
   "source": [
    "d"
   ]
  },
  {
   "cell_type": "code",
   "execution_count": 16,
   "metadata": {},
   "outputs": [
    {
     "name": "stdout",
     "output_type": "stream",
     "text": [
      "tensor([[1., 1., 1., 1., 1.],\n",
      "        [1., 1., 1., 1., 1.],\n",
      "        [3., 3., 3., 3., 3.],\n",
      "        [3., 3., 3., 3., 3.],\n",
      "        [6., 6., 6., 6., 6.],\n",
      "        [6., 6., 6., 6., 6.]])\n"
     ]
    }
   ],
   "source": [
    "e = d.reshape(3*2, 5)\n",
    "print(e)"
   ]
  },
  {
   "cell_type": "code",
   "execution_count": 19,
   "metadata": {},
   "outputs": [
    {
     "name": "stdout",
     "output_type": "stream",
     "text": [
      "tensor([[ 0.0000,  0.0000,  4.4721,  4.4721, 11.1803, 11.1803],\n",
      "        [ 0.0000,  0.0000,  4.4721,  4.4721, 11.1803, 11.1803],\n",
      "        [ 4.4721,  4.4721,  0.0000,  0.0000,  6.7082,  6.7082],\n",
      "        [ 4.4721,  4.4721,  0.0000,  0.0000,  6.7082,  6.7082],\n",
      "        [11.1803, 11.1803,  6.7082,  6.7082,  0.0000,  0.0000],\n",
      "        [11.1803, 11.1803,  6.7082,  6.7082,  0.0000,  0.0000]])\n"
     ]
    }
   ],
   "source": [
    "distances = torch.pdist(e, p=2)\n",
    "D = torch.zeros((3*2, 3*2))\n",
    "\n",
    "triu_indices = torch.triu_indices(row=3*2, col=3*2, offset=1)\n",
    "D[triu_indices[0], triu_indices[1]] = distances\n",
    "D.T[triu_indices[0], triu_indices[1]]= distances\n",
    "\n",
    "print(D)"
   ]
  },
  {
   "cell_type": "code",
   "execution_count": 27,
   "metadata": {},
   "outputs": [
    {
     "data": {
      "text/plain": [
       "1.4142135623730951"
      ]
     },
     "execution_count": 27,
     "metadata": {},
     "output_type": "execute_result"
    }
   ],
   "source": [
    "b=np.array([1,2,3])\n",
    "c=np.array([3,4,7])\n",
    "np.linalg.norm(c-2*b)"
   ]
  },
  {
   "cell_type": "code",
   "execution_count": 28,
   "metadata": {},
   "outputs": [],
   "source": [
    "a = torch.tensor([[1,2,3],[3,8,3],[3,4,7], [2,4,6]], dtype=torch.float32)\n",
    "d = torch.pdist(a, p=2)"
   ]
  },
  {
   "cell_type": "code",
   "execution_count": 29,
   "metadata": {},
   "outputs": [
    {
     "data": {
      "text/plain": [
       "tensor([6.3246, 4.8990, 3.7417, 5.6569, 5.0990, 1.4142])"
      ]
     },
     "execution_count": 29,
     "metadata": {},
     "output_type": "execute_result"
    }
   ],
   "source": [
    "d"
   ]
  },
  {
   "cell_type": "code",
   "execution_count": 38,
   "metadata": {},
   "outputs": [
    {
     "name": "stdout",
     "output_type": "stream",
     "text": [
      "tensor([[0, 0, 0, 1, 1, 2],\n",
      "        [1, 2, 3, 2, 3, 3]])\n"
     ]
    }
   ],
   "source": [
    "m = torch.zeros((4, 4), device=device)\n",
    "\n",
    "triu_indices = torch.triu_indices(row=4, col=4, offset=1)\n",
    "print(triu_indices)\n",
    "m[triu_indices[0], triu_indices[1]] = d.to(device)"
   ]
  },
  {
   "cell_type": "code",
   "execution_count": 39,
   "metadata": {},
   "outputs": [],
   "source": [
    "m.T[triu_indices[0], triu_indices[1]]=d.to(device)\n",
    "#m.diagonal=torch.Tensor([1,1,1,1]).to(device)"
   ]
  },
  {
   "cell_type": "code",
   "execution_count": 40,
   "metadata": {},
   "outputs": [
    {
     "data": {
      "text/plain": [
       "tensor([[0.0000, 6.3246, 4.8990, 3.7417],\n",
       "        [6.3246, 0.0000, 5.6569, 5.0990],\n",
       "        [4.8990, 5.6569, 0.0000, 1.4142],\n",
       "        [3.7417, 5.0990, 1.4142, 0.0000]], device='cuda:0')"
      ]
     },
     "execution_count": 40,
     "metadata": {},
     "output_type": "execute_result"
    }
   ],
   "source": [
    "m"
   ]
  },
  {
   "cell_type": "code",
   "execution_count": 30,
   "metadata": {},
   "outputs": [
    {
     "name": "stdout",
     "output_type": "stream",
     "text": [
      "tensor([[   inf, 6.3246, 4.8990, 3.7417],\n",
      "        [6.3246,    inf, 5.6569, 5.0990],\n",
      "        [4.8990, 5.6569,    inf, 1.4142],\n",
      "        [3.7417, 5.0990, 1.4142,    inf]], device='cuda:0')\n"
     ]
    }
   ],
   "source": [
    "b = m+torch.diag(torch.tensor([float('inf')]*4, device=device))\n",
    "print(b)"
   ]
  },
  {
   "cell_type": "code",
   "execution_count": 31,
   "metadata": {},
   "outputs": [
    {
     "name": "stdout",
     "output_type": "stream",
     "text": [
      "tensor(0., device='cuda:0')\n",
      "tensor(1.4142, device='cuda:0')\n"
     ]
    }
   ],
   "source": [
    "print(torch.min(m))\n",
    "print(torch.min(b))"
   ]
  },
  {
   "cell_type": "code",
   "execution_count": 35,
   "metadata": {},
   "outputs": [
    {
     "name": "stdout",
     "output_type": "stream",
     "text": [
      "tensor([[False, False,  True,  True],\n",
      "        [False, False,  True,  True],\n",
      "        [ True,  True, False, False],\n",
      "        [ True,  True, False, False]], device='cuda:0')\n"
     ]
    }
   ],
   "source": [
    "K=2\n",
    "\n",
    "a=torch.ones((K,K), dtype=torch.bool, device=device)\n",
    "\n",
    "P=2\n",
    "diag_1s = torch.kron(torch.eye(P, dtype=torch.bool, device=device),a)\n",
    "diag_0s = torch.logical_not(diag_1s)\n",
    "print(diag_0s)"
   ]
  },
  {
   "cell_type": "code",
   "execution_count": 46,
   "metadata": {},
   "outputs": [
    {
     "data": {
      "text/plain": [
       "torch.float32"
      ]
     },
     "execution_count": 46,
     "metadata": {},
     "output_type": "execute_result"
    }
   ],
   "source": [
    "m.dtype"
   ]
  },
  {
   "cell_type": "code",
   "execution_count": 68,
   "metadata": {},
   "outputs": [],
   "source": [
    "positives = torch.where(diag_1s, m, torch.tensor([0.0], device=device))\n",
    "negatives = torch.where(diag_1s, torch.tensor([torch.inf], device=device), m)"
   ]
  },
  {
   "cell_type": "code",
   "execution_count": 69,
   "metadata": {},
   "outputs": [
    {
     "data": {
      "text/plain": [
       "tensor([[   inf,    inf, 4.8990, 3.7417],\n",
       "        [   inf,    inf, 5.6569, 5.0990],\n",
       "        [4.8990, 5.6569,    inf,    inf],\n",
       "        [3.7417, 5.0990,    inf,    inf]], device='cuda:0')"
      ]
     },
     "execution_count": 69,
     "metadata": {},
     "output_type": "execute_result"
    }
   ],
   "source": [
    "negatives"
   ]
  },
  {
   "cell_type": "code",
   "execution_count": 60,
   "metadata": {},
   "outputs": [],
   "source": [
    "hard_positives = torch.max(positives, axis=0)[0]"
   ]
  },
  {
   "cell_type": "code",
   "execution_count": 61,
   "metadata": {},
   "outputs": [],
   "source": [
    "hard_negatives = torch.min(negatives, axis=0)[0]"
   ]
  },
  {
   "cell_type": "code",
   "execution_count": 66,
   "metadata": {},
   "outputs": [
    {
     "data": {
      "text/plain": [
       "tensor(5.8084, device='cuda:0')"
      ]
     },
     "execution_count": 66,
     "metadata": {},
     "output_type": "execute_result"
    }
   ],
   "source": [
    "marg=1.0\n",
    "r=nn.ReLU()\n",
    "torch.sum(r(marg+hard_positives-hard_negatives))"
   ]
  },
  {
   "cell_type": "code",
   "execution_count": 65,
   "metadata": {},
   "outputs": [
    {
     "data": {
      "text/plain": [
       "tensor([ 3.5829,  2.2255, -2.4848, -1.3274], device='cuda:0')"
      ]
     },
     "execution_count": 65,
     "metadata": {},
     "output_type": "execute_result"
    }
   ],
   "source": [
    "marg+hard_positives-hard_negatives"
   ]
  },
  {
   "cell_type": "code",
   "execution_count": 36,
   "metadata": {},
   "outputs": [],
   "source": [
    "m[diag_1s] = 989"
   ]
  },
  {
   "cell_type": "code",
   "execution_count": 37,
   "metadata": {
    "scrolled": true
   },
   "outputs": [
    {
     "data": {
      "text/plain": [
       "tensor([[989.0000, 989.0000,   4.8990,   3.7417],\n",
       "        [989.0000, 989.0000,   5.6569,   5.0990],\n",
       "        [  4.8990,   5.6569, 989.0000, 989.0000],\n",
       "        [  3.7417,   5.0990, 989.0000, 989.0000]], device='cuda:0')"
      ]
     },
     "execution_count": 37,
     "metadata": {},
     "output_type": "execute_result"
    }
   ],
   "source": [
    "m"
   ]
  }
 ],
 "metadata": {
  "kernelspec": {
   "display_name": "Python 3",
   "language": "python",
   "name": "python3"
  },
  "language_info": {
   "codemirror_mode": {
    "name": "ipython",
    "version": 3
   },
   "file_extension": ".py",
   "mimetype": "text/x-python",
   "name": "python",
   "nbconvert_exporter": "python",
   "pygments_lexer": "ipython3",
   "version": "3.7.3"
  }
 },
 "nbformat": 4,
 "nbformat_minor": 2
}
