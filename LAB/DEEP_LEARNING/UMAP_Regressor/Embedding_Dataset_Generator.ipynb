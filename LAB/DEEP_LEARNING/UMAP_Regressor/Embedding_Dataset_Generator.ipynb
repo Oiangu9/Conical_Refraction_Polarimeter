{
 "cells": [
  {
   "cell_type": "code",
   "execution_count": 1,
   "id": "424c0dbb",
   "metadata": {},
   "outputs": [
    {
     "name": "stderr",
     "output_type": "stream",
     "text": [
      "2022-01-28 20:47:01.884192: I tensorflow/stream_executor/platform/default/dso_loader.cc:49] Successfully opened dynamic library libcudart.so.10.1\n"
     ]
    }
   ],
   "source": [
    "from umap import UMAP\n",
    "import h5py\n",
    "import numpy as np\n",
    "import torch\n",
    "import pickle\n",
    "from IPython import display\n",
    "from time import time\n",
    "import pandas as pd\n",
    "import json"
   ]
  },
  {
   "cell_type": "code",
   "execution_count": 2,
   "id": "b92b9c87",
   "metadata": {},
   "outputs": [],
   "source": [
    "save_stuff_path = f\"/home/oiangu/Hippocampus/Conical_Refraction_Polarimeter/OUTPUT/LIBRARIES_OF_THEORETICAL_D/Basler_like_R0_300x_w0_300x_Z_50x_64bit/SIMULATIONS/UMAP_Regressor/\"\n",
    "\n",
    "# Image directories\n",
    "GT_file_path_train = f\"/home/oiangu/Desktop/Conical_Refraction_Polarimeter/OUTPUT/NOISY/TRAIN/GROUND_TRUTHS.json\"\n",
    "images_dir_path_train =f\"/home/oiangu/Desktop/Conical_Refraction_Polarimeter/OUTPUT/NOISY/TRAIN/\" \n",
    "GT_file_path_test = f\"/home/oiangu/Desktop/Conical_Refraction_Polarimeter/OUTPUT/NOISY/TEST/GROUND_TRUTHS.json\"\n",
    "images_dir_path_test =f\"/home/oiangu/Desktop/Conical_Refraction_Polarimeter/OUTPUT/NOISY/TEST/\" \n",
    "\n",
    "# Embedder parameters\n",
    "num_images=3200\n",
    "umap_dims=10\n",
    "min_dist=0.1\n",
    "n_neighbours=700\n",
    "metric='hamming'\n",
    "embedder_path = save_stuff_path + \\\n",
    "        f'UMAP_EMBEDDER_num_images_{num_images}_umap_dims_{umap_dims}_min_dist_{min_dist}_n_neighbours_{n_neighbours}_metric_{metric}.sav'\n"
   ]
  },
  {
   "cell_type": "code",
   "execution_count": 3,
   "id": "caed62d4",
   "metadata": {},
   "outputs": [],
   "source": [
    "from torch.utils.data import Dataset\n",
    "from torchvision.io import read_image\n",
    "from torch.utils.data import DataLoader\n",
    "\n",
    "class EmbeddingImageDataset(Dataset):\n",
    "    def __init__(self, GT_file_path, images_dir_path, embedder):\n",
    "        self.df_GTs = pd.DataFrame.from_dict(json.load(open(GT_file_path)))\n",
    "        self.images_dir_path = images_dir_path\n",
    "        self.len_data = len(self.df_GTs)\n",
    "        self.embedder = embedder\n",
    "        #self.embdding_dims = embedder.embedding_.shape[-1]\n",
    "\n",
    "    def __len__(self):\n",
    "        return self.len_data\n",
    "\n",
    "    def __getitem__(self, idx):\n",
    "        img_path = f\"{self.images_dir_path}/IM_{self.df_GTs.iloc[idx,0]}_phiCR_{self.df_GTs.iloc[idx,1]}.png\"\n",
    "        image = read_image(img_path) #[1, 2X+1, 2X+1] torch tensor\n",
    "        label = float(self.df_GTs.iloc[idx, 1])\n",
    "        return image, label"
   ]
  },
  {
   "cell_type": "code",
   "execution_count": 4,
   "id": "ebad25c6",
   "metadata": {},
   "outputs": [],
   "source": [
    "umap_embedder = UMAP(n_components=umap_dims, min_dist=min_dist, n_neighbors=n_neighbours, metric=metric) #euclidean, canberra, cosine, manhattan, braycurtis, mahalanobis, hamming\n",
    "umap_embedder = pickle.load((open(embedder_path, 'rb')))"
   ]
  },
  {
   "cell_type": "code",
   "execution_count": 5,
   "id": "38501985",
   "metadata": {},
   "outputs": [],
   "source": [
    "training_data = EmbeddingImageDataset(GT_file_path_train, images_dir_path_train, umap_embedder)"
   ]
  },
  {
   "cell_type": "code",
   "execution_count": null,
   "id": "79a6415b",
   "metadata": {},
   "outputs": [
    {
     "name": "stdout",
     "output_type": "stream",
     "text": [
      "[################################################################                                    ] 64.71% \n",
      "\n",
      "Simulated: 3203/4950\n",
      "Elapsed time: 46.0 h 13.0 min -2.703e+03 s\n"
     ]
    }
   ],
   "source": [
    "X=302\n",
    "nims_per_batch=40\n",
    "number_of_batches=1650*3\n",
    "np.random.seed(666)\n",
    "output_info_every=1\n",
    "\n",
    "beg=time()\n",
    "\n",
    "# Initialize the hdf5 dataset saver\n",
    "h5f = h5py.File(f\"{save_stuff_path}/Dataset_Embedding.h5\", 'a') # append if exists, create if not\n",
    "prev_batches = len(h5f)\n",
    "\n",
    "images = np.zeros((nims_per_batch, (2*X+1)**2), dtype=np.float32)\n",
    "embedding_and_labels = np.zeros((nims_per_batch, umap_embedder.embedding_.shape[-1]+1), dtype=np.float32)\n",
    "\n",
    "for batch in range(0,number_of_batches):\n",
    "    random_indices = np.random.choice(range(len(training_data)), nims_per_batch, replace=False)\n",
    "    for i, idx in enumerate(random_indices):\n",
    "        image, label = training_data[idx]\n",
    "        images[i] = image.flatten()\n",
    "        embedding_and_labels[i, -1] = label\n",
    "    embedding_and_labels[:,:-1] = umap_embedder.transform(images)\n",
    "    ID=f\"{batch+prev_batches}\"\n",
    "    h5f.create_dataset(ID, data=embedding_and_labels, compression=\"lzf\", shuffle=True)\n",
    "    if batch%output_info_every==0:\n",
    "        h5f.flush()\n",
    "        display.clear_output(wait=True)\n",
    "        elapsed=time()-beg\n",
    "        print(f\"[\"+'#'*(int(100*batch/number_of_batches))+' '*(100-int(100*batch/number_of_batches))+f\"] {100*batch/number_of_batches:3.4}% \\n\\nSimulated: {batch}/{number_of_batches}\\nElapsed time: {elapsed//3600} h {elapsed//60-(elapsed//3600)*60} min {elapsed-(elapsed//60)*60-(elapsed//3600)*60:2.4} s\")\n",
    "\n",
    "h5f.flush()"
   ]
  }
 ],
 "metadata": {
  "kernelspec": {
   "display_name": "Python 3 (ipykernel)",
   "language": "python",
   "name": "python3"
  },
  "language_info": {
   "codemirror_mode": {
    "name": "ipython",
    "version": 3
   },
   "file_extension": ".py",
   "mimetype": "text/x-python",
   "name": "python",
   "nbconvert_exporter": "python",
   "pygments_lexer": "ipython3",
   "version": "3.8.8"
  }
 },
 "nbformat": 4,
 "nbformat_minor": 5
}
